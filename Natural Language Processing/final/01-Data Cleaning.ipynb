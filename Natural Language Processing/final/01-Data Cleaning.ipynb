{
 "cells": [
  {
   "cell_type": "markdown",
   "metadata": {},
   "source": [
    "## 1. Import packages and data"
   ]
  },
  {
   "cell_type": "code",
   "execution_count": 1,
   "metadata": {
    "id": "jrU3G6KY3SpM"
   },
   "outputs": [],
   "source": [
    "###Loading Packages###\n",
    "import pandas as pd  # data frame operations  \n",
    "import numpy as np  # arrays and math functions\n",
    "\n",
    "import re # regular expressions\n",
    "import os # Operation System\n",
    "from datetime import datetime\n",
    "\n",
    "import nltk as nltk\n",
    "import nltk.corpus  \n",
    "from nltk.text import Text\n",
    "import sys\n",
    "\n",
    "import time\n",
    "import math\n",
    "from pprint import pprint\n",
    "\n",
    "import matplotlib.pyplot as plt\n",
    "\n",
    "import nltk as nltk\n",
    "from nltk.corpus import stopwords\n",
    "# from nltk.stem.wordnet import WordNetLemmatizer\n",
    "import spacy\n",
    "import multiprocessing\n",
    "import string\n",
    "\n",
    "import warnings\n",
    "warnings.filterwarnings(\"ignore\")\n",
    "\n",
    "from textblob import TextBlob\n",
    "from nltk.corpus import stopwords\n",
    "from nltk.stem.wordnet import WordNetLemmatizer\n",
    "\n",
    "import matplotlib.cm as cm"
   ]
  },
  {
   "cell_type": "code",
   "execution_count": 2,
   "metadata": {
    "id": "gUExCxjh9WSp"
   },
   "outputs": [],
   "source": [
    "from sklearn.model_selection import train_test_split\n",
    "from sklearn.feature_extraction.text import CountVectorizer, HashingVectorizer, TfidfTransformer, TfidfVectorizer\n",
    "from sklearn import metrics\n",
    "\n",
    "from sklearn.cluster import MiniBatchKMeans\n",
    "from sklearn.feature_extraction.text import TfidfVectorizer\n",
    "from sklearn.decomposition import PCA\n",
    "from sklearn.manifold import TSNE"
   ]
  },
  {
   "cell_type": "code",
   "execution_count": 3,
   "metadata": {},
   "outputs": [],
   "source": [
    "from sklearn.cluster import DBSCAN\n",
    "import time\n",
    "from timeit import default_timer as timer\n",
    "from datetime import timedelta"
   ]
  },
  {
   "cell_type": "code",
   "execution_count": 4,
   "metadata": {
    "id": "rRExQ7mm3Ugb"
   },
   "outputs": [],
   "source": [
    "%%time\n",
    "df = pd.read_json('https://storage.googleapis.com/msca-bdp-data-open/news/news_final_project.json', \n",
    "                  orient='records', lines=True) "
   ]
  },
  {
   "cell_type": "code",
   "execution_count": 4,
   "metadata": {},
   "outputs": [],
   "source": [
    "df = pd.read_json('news_final_project.json', orient='records', lines=True) "
   ]
  },
  {
   "cell_type": "code",
   "execution_count": 5,
   "metadata": {
    "colab": {
     "base_uri": "https://localhost:8080/",
     "height": 424
    },
    "id": "ggfZIf6O3ZJ3",
    "outputId": "93dd113b-88eb-43e0-a70c-69e04a7372ea"
   },
   "outputs": [
    {
     "data": {
      "text/html": [
       "<div>\n",
       "<style scoped>\n",
       "    .dataframe tbody tr th:only-of-type {\n",
       "        vertical-align: middle;\n",
       "    }\n",
       "\n",
       "    .dataframe tbody tr th {\n",
       "        vertical-align: top;\n",
       "    }\n",
       "\n",
       "    .dataframe thead th {\n",
       "        text-align: right;\n",
       "    }\n",
       "</style>\n",
       "<table border=\"1\" class=\"dataframe\">\n",
       "  <thead>\n",
       "    <tr style=\"text-align: right;\">\n",
       "      <th></th>\n",
       "      <th>date</th>\n",
       "      <th>language</th>\n",
       "      <th>title</th>\n",
       "      <th>text</th>\n",
       "    </tr>\n",
       "  </thead>\n",
       "  <tbody>\n",
       "    <tr>\n",
       "      <th>0</th>\n",
       "      <td>2022-01-06</td>\n",
       "      <td>english</td>\n",
       "      <td>No deal, no school: Chicago cancels classes fo...</td>\n",
       "      <td>CHICAGO (AP) — Chicago school leaders canceled...</td>\n",
       "    </tr>\n",
       "    <tr>\n",
       "      <th>1</th>\n",
       "      <td>2022-01-06</td>\n",
       "      <td>english</td>\n",
       "      <td>No deal, no school: Chicago cancels classes fo...</td>\n",
       "      <td>CHICAGO (AP) — Chicago school leaders canceled...</td>\n",
       "    </tr>\n",
       "    <tr>\n",
       "      <th>2</th>\n",
       "      <td>2022-01-06</td>\n",
       "      <td>english</td>\n",
       "      <td>Watch ‘Chicago P.D.’ Preview Wednesday</td>\n",
       "      <td>Chicago PD 9×11 “Lies” Season 9 Episode 11 Pro...</td>\n",
       "    </tr>\n",
       "    <tr>\n",
       "      <th>3</th>\n",
       "      <td>2022-01-06</td>\n",
       "      <td>english</td>\n",
       "      <td>Trump’s Solution for Chicago Public Schools? K...</td>\n",
       "      <td>Wise of Foolish?\\nThe Chicago Tribune article ...</td>\n",
       "    </tr>\n",
       "    <tr>\n",
       "      <th>4</th>\n",
       "      <td>2022-01-06</td>\n",
       "      <td>english</td>\n",
       "      <td>Family, friends, colleagues gathering today at...</td>\n",
       "      <td>The neighbors near Mashawn Plummer’s Portage P...</td>\n",
       "    </tr>\n",
       "    <tr>\n",
       "      <th>...</th>\n",
       "      <td>...</td>\n",
       "      <td>...</td>\n",
       "      <td>...</td>\n",
       "      <td>...</td>\n",
       "    </tr>\n",
       "    <tr>\n",
       "      <th>200114</th>\n",
       "      <td>2022-03-05</td>\n",
       "      <td>english</td>\n",
       "      <td>Chicago girl shot after celebrating 12th birth...</td>\n",
       "      <td>Authorities say a girl who was shot in the hea...</td>\n",
       "    </tr>\n",
       "    <tr>\n",
       "      <th>200115</th>\n",
       "      <td>2022-03-05</td>\n",
       "      <td>english</td>\n",
       "      <td>Loyola Chicago vs. Northern Iowa – MVC Tournam...</td>\n",
       "      <td>The No. 4 seed Loyola Chicago Ramblers (23-7, ...</td>\n",
       "    </tr>\n",
       "    <tr>\n",
       "      <th>200116</th>\n",
       "      <td>2022-03-05</td>\n",
       "      <td>english</td>\n",
       "      <td>DraftKings Illinois Promo Code: $1,050 Bonus a...</td>\n",
       "      <td>Remember to check out the DraftKings Illinois ...</td>\n",
       "    </tr>\n",
       "    <tr>\n",
       "      <th>200117</th>\n",
       "      <td>2022-03-05</td>\n",
       "      <td>english</td>\n",
       "      <td>Sidney, Illinois had a median home valuation o...</td>\n",
       "      <td>[BlockShopper.com] .\\n|Buyer||Address||Valuati...</td>\n",
       "    </tr>\n",
       "    <tr>\n",
       "      <th>200118</th>\n",
       "      <td>2022-03-06</td>\n",
       "      <td>english</td>\n",
       "      <td>Ukrainian woman weds Chicago fiancé ahead of r...</td>\n",
       "      <td>CHICAGO (AP) — When Russia invaded her home co...</td>\n",
       "    </tr>\n",
       "  </tbody>\n",
       "</table>\n",
       "<p>200119 rows × 4 columns</p>\n",
       "</div>"
      ],
      "text/plain": [
       "             date language                                              title  \\\n",
       "0      2022-01-06  english  No deal, no school: Chicago cancels classes fo...   \n",
       "1      2022-01-06  english  No deal, no school: Chicago cancels classes fo...   \n",
       "2      2022-01-06  english             Watch ‘Chicago P.D.’ Preview Wednesday   \n",
       "3      2022-01-06  english  Trump’s Solution for Chicago Public Schools? K...   \n",
       "4      2022-01-06  english  Family, friends, colleagues gathering today at...   \n",
       "...           ...      ...                                                ...   \n",
       "200114 2022-03-05  english  Chicago girl shot after celebrating 12th birth...   \n",
       "200115 2022-03-05  english  Loyola Chicago vs. Northern Iowa – MVC Tournam...   \n",
       "200116 2022-03-05  english  DraftKings Illinois Promo Code: $1,050 Bonus a...   \n",
       "200117 2022-03-05  english  Sidney, Illinois had a median home valuation o...   \n",
       "200118 2022-03-06  english  Ukrainian woman weds Chicago fiancé ahead of r...   \n",
       "\n",
       "                                                     text  \n",
       "0       CHICAGO (AP) — Chicago school leaders canceled...  \n",
       "1       CHICAGO (AP) — Chicago school leaders canceled...  \n",
       "2       Chicago PD 9×11 “Lies” Season 9 Episode 11 Pro...  \n",
       "3       Wise of Foolish?\\nThe Chicago Tribune article ...  \n",
       "4       The neighbors near Mashawn Plummer’s Portage P...  \n",
       "...                                                   ...  \n",
       "200114  Authorities say a girl who was shot in the hea...  \n",
       "200115  The No. 4 seed Loyola Chicago Ramblers (23-7, ...  \n",
       "200116  Remember to check out the DraftKings Illinois ...  \n",
       "200117  [BlockShopper.com] .\\n|Buyer||Address||Valuati...  \n",
       "200118  CHICAGO (AP) — When Russia invaded her home co...  \n",
       "\n",
       "[200119 rows x 4 columns]"
      ]
     },
     "execution_count": 5,
     "metadata": {},
     "output_type": "execute_result"
    }
   ],
   "source": [
    "df"
   ]
  },
  {
   "cell_type": "code",
   "execution_count": 6,
   "metadata": {
    "colab": {
     "base_uri": "https://localhost:8080/",
     "height": 49
    },
    "id": "41HNfcQX30nE",
    "outputId": "55787d53-a38e-44a0-b40a-648816b3ba87"
   },
   "outputs": [
    {
     "data": {
      "text/html": [
       "<div>\n",
       "<style scoped>\n",
       "    .dataframe tbody tr th:only-of-type {\n",
       "        vertical-align: middle;\n",
       "    }\n",
       "\n",
       "    .dataframe tbody tr th {\n",
       "        vertical-align: top;\n",
       "    }\n",
       "\n",
       "    .dataframe thead th {\n",
       "        text-align: right;\n",
       "    }\n",
       "</style>\n",
       "<table border=\"1\" class=\"dataframe\">\n",
       "  <thead>\n",
       "    <tr style=\"text-align: right;\">\n",
       "      <th></th>\n",
       "      <th>date</th>\n",
       "      <th>language</th>\n",
       "      <th>title</th>\n",
       "      <th>text</th>\n",
       "    </tr>\n",
       "  </thead>\n",
       "  <tbody>\n",
       "  </tbody>\n",
       "</table>\n",
       "</div>"
      ],
      "text/plain": [
       "Empty DataFrame\n",
       "Columns: [date, language, title, text]\n",
       "Index: []"
      ]
     },
     "execution_count": 6,
     "metadata": {},
     "output_type": "execute_result"
    }
   ],
   "source": [
    "df[df['language'] != 'english']"
   ]
  },
  {
   "cell_type": "markdown",
   "metadata": {},
   "source": [
    "## 2. Find outliers"
   ]
  },
  {
   "cell_type": "markdown",
   "metadata": {
    "id": "A6m7Rwjp-1lc"
   },
   "source": [
    "### 2.1 Clean the text"
   ]
  },
  {
   "cell_type": "code",
   "execution_count": 6,
   "metadata": {
    "id": "aO4m8bwL9yGW"
   },
   "outputs": [],
   "source": [
    "df['cleaned_text'] = df['text'].apply(lambda x: re.sub(\"\\n\", \" \", x))\n",
    "\n",
    "# remove urls\n",
    "#pattern = \"^http[s]?:\\/\\/(www\\.)?(.*)?\\/?(.)*\"\n",
    "pattern = 'http[s]?://(?:[a-zA-Z]|[0-9]|[$-_@.&+]|[!*\\(\\),]|(?:%[0-9a-fA-F][0-9a-fA-F]))'\n",
    "df['cleaned_text'] = df['cleaned_text'].apply(lambda x: re.sub(pattern, ' ', x))\n",
    "\n",
    "# pattern2 = \"^(www\\.)?(.*)?\\/?(.)*\"\n",
    "# df['cleaned_text'] = df['cleaned_text'].apply(lambda x: re.sub(pattern2, '', x))\n",
    "\n",
    "# remove punctuations\n",
    "# df['cleaned_text'] = df['cleaned_text'].apply(lambda x: re.sub(r'[^\\w\\s]', ' ', x))\n",
    "\n",
    "# remove numbers\n",
    "# df['cleaned_text'] = df['cleaned_text'].apply(lambda x: re.sub(r'[0-9]', '', x))\n",
    "\n",
    "# keep only alphabetic words\n",
    "df['cleaned_text'] = df['cleaned_text'].apply(lambda x: re.sub('[^a-zA-Z]', ' ', x))\n",
    "\n",
    "# to lower case\n",
    "df['cleaned_text'] = df['cleaned_text'].apply(lambda x: x.lower())"
   ]
  },
  {
   "cell_type": "code",
   "execution_count": 21,
   "metadata": {},
   "outputs": [
    {
     "data": {
      "text/plain": [
       "'california has no shortage of golden retriever breeders  but how did you know which one particular to pick  dependable breeders are reliable to get a reason  doing all your investigation on golden retriever breeders in your town will make certain that you re obtaining a healthful pup and forestall heartache  these  dwardi   vyw  blog gold com profile'"
      ]
     },
     "execution_count": 21,
     "metadata": {},
     "output_type": "execute_result"
    }
   ],
   "source": [
    "df['cleaned_text'][16]"
   ]
  },
  {
   "cell_type": "code",
   "execution_count": 20,
   "metadata": {
    "colab": {
     "base_uri": "https://localhost:8080/"
    },
    "id": "TM-rXzokAM3G",
    "outputId": "233d6480-9888-41a8-bbfe-987f61c69f54"
   },
   "outputs": [
    {
     "data": {
      "text/plain": [
       "\"California has no shortage of Golden Retriever breeders, but how Did you know which one particular to pick? Dependable breeders are reliable to get a reason. Doing all your investigation on Golden Retriever breeders in your town will make certain that you're obtaining a healthful Pup and forestall heartache. These http://edwardi689vyw0.blog-gold.com/profile\""
      ]
     },
     "execution_count": 20,
     "metadata": {},
     "output_type": "execute_result"
    }
   ],
   "source": [
    "df['text'][16]"
   ]
  },
  {
   "cell_type": "code",
   "execution_count": 7,
   "metadata": {
    "id": "sVD_OlHyAe3z"
   },
   "outputs": [],
   "source": [
    "X = df['cleaned_text']\n",
    "#X_train, X_test, y_train, y_test = train_test_split(X, y, test_size=0.2, random_state = 1123)"
   ]
  },
  {
   "cell_type": "markdown",
   "metadata": {},
   "source": [
    "### 2.2 Tf-idf Vectorizer"
   ]
  },
  {
   "cell_type": "code",
   "execution_count": 8,
   "metadata": {},
   "outputs": [],
   "source": [
    "tfidf = TfidfVectorizer(\n",
    "    min_df = 5,\n",
    "    max_df = 0.95,\n",
    "    max_features = 8000,\n",
    "    stop_words = 'english'\n",
    ")\n",
    "tfidf.fit(X)\n",
    "text_new = tfidf.transform(X)"
   ]
  },
  {
   "cell_type": "markdown",
   "metadata": {},
   "source": [
    "### DBSCAN"
   ]
  },
  {
   "cell_type": "code",
   "execution_count": 9,
   "metadata": {},
   "outputs": [
    {
     "name": "stdout",
     "output_type": "stream",
     "text": [
      "Time elapsed:  0:45:55.562289\n"
     ]
    }
   ],
   "source": [
    "# === Fit the DBSCAN model and get the classify labels === #\n",
    "start = timer()\n",
    "DBS_clf = DBSCAN(eps=1, min_samples=100).fit(text_new)\n",
    "end = timer()\n",
    "elapsed_time = timedelta(seconds=end-start)\n",
    "print(\"Time elapsed: \", elapsed_time)"
   ]
  },
  {
   "cell_type": "code",
   "execution_count": 10,
   "metadata": {},
   "outputs": [
    {
     "name": "stdout",
     "output_type": "stream",
     "text": [
      "[0 0 0 ... 0 0 0]\n"
     ]
    }
   ],
   "source": [
    "print(DBS_clf.labels_)"
   ]
  },
  {
   "cell_type": "code",
   "execution_count": 11,
   "metadata": {},
   "outputs": [
    {
     "data": {
      "text/plain": [
       "2"
      ]
     },
     "execution_count": 11,
     "metadata": {},
     "output_type": "execute_result"
    }
   ],
   "source": [
    "max(DBS_clf.labels_)"
   ]
  },
  {
   "cell_type": "code",
   "execution_count": 12,
   "metadata": {},
   "outputs": [],
   "source": [
    "cluster_result_dbscan = pd.DataFrame({\n",
    "    \"text\": list(X),\n",
    "    \"cluster\": list(DBS_clf.labels_)\n",
    "})"
   ]
  },
  {
   "cell_type": "code",
   "execution_count": 90,
   "metadata": {},
   "outputs": [
    {
     "data": {
      "text/plain": [
       "'california has no shortage of golden retriever breeders  but how did you know which one particular to pick  dependable breeders are reliable to get a reason  doing all your investigation on golden retriever breeders in your town will make certain that you re obtaining a healthful pup and forestall heartache  these http   edwardi   vyw  blog gold com profile'"
      ]
     },
     "execution_count": 90,
     "metadata": {},
     "output_type": "execute_result"
    }
   ],
   "source": [
    "cluster_result_dbscan[cluster_result_dbscan['cluster'] == -1]['text'][16]"
   ]
  },
  {
   "cell_type": "code",
   "execution_count": 18,
   "metadata": {},
   "outputs": [
    {
     "data": {
      "text/plain": [
       "\"California has no shortage of Golden Retriever breeders, but how Did you know which one particular to pick? Dependable breeders are reliable to get a reason. Doing all your investigation on Golden Retriever breeders in your town will make certain that you're obtaining a healthful Pup and forestall heartache. These http://edwardi689vyw0.blog-gold.com/profile\""
      ]
     },
     "execution_count": 18,
     "metadata": {},
     "output_type": "execute_result"
    }
   ],
   "source": [
    "df['text'][16]"
   ]
  },
  {
   "cell_type": "code",
   "execution_count": 13,
   "metadata": {},
   "outputs": [],
   "source": [
    "clusters_dbscan = np.array(DBS_clf.labels_)"
   ]
  },
  {
   "cell_type": "code",
   "execution_count": 17,
   "metadata": {},
   "outputs": [
    {
     "data": {
      "text/html": [
       "<div>\n",
       "<style scoped>\n",
       "    .dataframe tbody tr th:only-of-type {\n",
       "        vertical-align: middle;\n",
       "    }\n",
       "\n",
       "    .dataframe tbody tr th {\n",
       "        vertical-align: top;\n",
       "    }\n",
       "\n",
       "    .dataframe thead th {\n",
       "        text-align: right;\n",
       "    }\n",
       "</style>\n",
       "<table border=\"1\" class=\"dataframe\">\n",
       "  <thead>\n",
       "    <tr style=\"text-align: right;\">\n",
       "      <th></th>\n",
       "      <th>text</th>\n",
       "      <th>cluster</th>\n",
       "    </tr>\n",
       "  </thead>\n",
       "  <tbody>\n",
       "    <tr>\n",
       "      <th>16</th>\n",
       "      <td>california has no shortage of golden retriever...</td>\n",
       "      <td>-1</td>\n",
       "    </tr>\n",
       "    <tr>\n",
       "      <th>31</th>\n",
       "      <td>get each of the tales you would like to know f...</td>\n",
       "      <td>-1</td>\n",
       "    </tr>\n",
       "    <tr>\n",
       "      <th>33</th>\n",
       "      <td>before getting demolished by the kansas city r...</td>\n",
       "      <td>-1</td>\n",
       "    </tr>\n",
       "    <tr>\n",
       "      <th>38</th>\n",
       "      <td>illinois central college police department one...</td>\n",
       "      <td>-1</td>\n",
       "    </tr>\n",
       "    <tr>\n",
       "      <th>69</th>\n",
       "      <td>chicago  cbs    a police chase that ended on c...</td>\n",
       "      <td>-1</td>\n",
       "    </tr>\n",
       "    <tr>\n",
       "      <th>...</th>\n",
       "      <td>...</td>\n",
       "      <td>...</td>\n",
       "    </tr>\n",
       "    <tr>\n",
       "      <th>200043</th>\n",
       "      <td>champaign   champaign urbana nonprofits are us...</td>\n",
       "      <td>-1</td>\n",
       "    </tr>\n",
       "    <tr>\n",
       "      <th>200045</th>\n",
       "      <td>on april           the seventh circuit affirme...</td>\n",
       "      <td>-1</td>\n",
       "    </tr>\n",
       "    <tr>\n",
       "      <th>200052</th>\n",
       "      <td>top  varsity   tarso set  t shirt   shoulder s...</td>\n",
       "      <td>-1</td>\n",
       "    </tr>\n",
       "    <tr>\n",
       "      <th>200059</th>\n",
       "      <td>chef mario carbone introduced his nyc energy e...</td>\n",
       "      <td>-1</td>\n",
       "    </tr>\n",
       "    <tr>\n",
       "      <th>200069</th>\n",
       "      <td>naturals from max ourada     years old  illino...</td>\n",
       "      <td>-1</td>\n",
       "    </tr>\n",
       "  </tbody>\n",
       "</table>\n",
       "<p>14974 rows × 2 columns</p>\n",
       "</div>"
      ],
      "text/plain": [
       "                                                     text  cluster\n",
       "16      california has no shortage of golden retriever...       -1\n",
       "31      get each of the tales you would like to know f...       -1\n",
       "33      before getting demolished by the kansas city r...       -1\n",
       "38      illinois central college police department one...       -1\n",
       "69      chicago  cbs    a police chase that ended on c...       -1\n",
       "...                                                   ...      ...\n",
       "200043  champaign   champaign urbana nonprofits are us...       -1\n",
       "200045  on april           the seventh circuit affirme...       -1\n",
       "200052  top  varsity   tarso set  t shirt   shoulder s...       -1\n",
       "200059  chef mario carbone introduced his nyc energy e...       -1\n",
       "200069  naturals from max ourada     years old  illino...       -1\n",
       "\n",
       "[14974 rows x 2 columns]"
      ]
     },
     "execution_count": 17,
     "metadata": {},
     "output_type": "execute_result"
    }
   ],
   "source": [
    "cluster_result_dbscan[cluster_result_dbscan['cluster'] == -1]"
   ]
  },
  {
   "cell_type": "code",
   "execution_count": 15,
   "metadata": {},
   "outputs": [],
   "source": [
    "cluster_result_dbscan.to_pickle('dbscan_cluster.pkl')"
   ]
  },
  {
   "cell_type": "code",
   "execution_count": 9,
   "metadata": {},
   "outputs": [],
   "source": [
    "cluster_result_dbscan = pd.read_pickle('dbscan_cluster.pkl')"
   ]
  },
  {
   "cell_type": "code",
   "execution_count": null,
   "metadata": {},
   "outputs": [],
   "source": []
  },
  {
   "cell_type": "markdown",
   "metadata": {},
   "source": [
    "### 2.3 MiniBatchKmeans"
   ]
  },
  {
   "cell_type": "code",
   "execution_count": 54,
   "metadata": {},
   "outputs": [
    {
     "name": "stdout",
     "output_type": "stream",
     "text": [
      "Fit 2 clusters\n",
      "Fit 4 clusters\n",
      "Fit 6 clusters\n",
      "Fit 8 clusters\n",
      "Fit 10 clusters\n",
      "Fit 12 clusters\n",
      "Fit 14 clusters\n",
      "Fit 16 clusters\n",
      "Fit 18 clusters\n",
      "Fit 20 clusters\n",
      "Fit 22 clusters\n",
      "Fit 24 clusters\n",
      "Fit 26 clusters\n",
      "Fit 28 clusters\n",
      "Fit 30 clusters\n",
      "Fit 32 clusters\n",
      "Fit 34 clusters\n",
      "Fit 36 clusters\n",
      "Fit 38 clusters\n",
      "Fit 40 clusters\n"
     ]
    },
    {
     "data": {
      "image/png": "[encoded data removed]",
      "text/plain": [
       "<Figure size 432x288 with 1 Axes>"
      ]
     },
     "metadata": {
      "needs_background": "light"
     },
     "output_type": "display_data"
    }
   ],
   "source": [
    "def find_optimal_clusters(data, max_k):\n",
    "    iters = range(2, max_k+1, 2)\n",
    "    \n",
    "    sse = []\n",
    "    for k in iters:\n",
    "        sse.append(MiniBatchKMeans(n_clusters=k, init_size=1024, batch_size=2048, random_state=20).fit(data).inertia_)\n",
    "        print('Fit {} clusters'.format(k))\n",
    "        \n",
    "    f, ax = plt.subplots(1, 1)\n",
    "    ax.plot(iters, sse, marker='o')\n",
    "    ax.set_xlabel('Cluster Centers')\n",
    "    ax.set_xticks(iters)\n",
    "    ax.set_xticklabels(iters)\n",
    "    ax.set_ylabel('SSE')\n",
    "    ax.set_title('SSE by Cluster Center Plot')\n",
    "    \n",
    "find_optimal_clusters(text_new, 40)"
   ]
  },
  {
   "cell_type": "code",
   "execution_count": 10,
   "metadata": {},
   "outputs": [],
   "source": [
    "clusters = MiniBatchKMeans(n_clusters=22, init_size=1024, batch_size=2048, random_state=20).fit_predict(text_new)"
   ]
  },
  {
   "cell_type": "code",
   "execution_count": 24,
   "metadata": {},
   "outputs": [],
   "source": [
    "cluster_result = pd.DataFrame({\n",
    "    \"text\": list(X),\n",
    "    \"cluster\": list(clusters)\n",
    "})"
   ]
  },
  {
   "cell_type": "code",
   "execution_count": 124,
   "metadata": {},
   "outputs": [
    {
     "data": {
      "text/plain": [
       "'CHICAGO (CBS) — They’re a local nonprofit that recently landed a major donation from a celebrity, and we wondered what they’re all about and how they help low-income families live a better life.\\nMorning Insider Tim McNicholas introduces us to Community Organizing and Family Issues – or COFI.\\nIt’s not your average conference call, it’s a pep rally of sorts for COFI – a nonprofit that works to improve the lives of low-income families and their families – and at this meeting, there were at least 2 million reasons why the energy is so high.\\n“The greatest donation in our over 20 year history, of $2 million from Mackenzie Scott.”\\nScott — the philanthropist and ex-wife of Amazon founder Jeff Bezos —made the donation earlier this month.\\nThe parent-based nonprofit says it will help them fund college savings accounts for local kids and fight for change – including increased mental health services in schools.\\nIt’s great news for Dexter Leggin – a volunteer and single parent who says COFI helped him raise his son.\\n“I’m in a community that is deprived of a lot of things, a lot of resources, and we have a lot of kids that’s in trauma. So that’s probably why it’s so important to me,” he said.\\nThe group held a rally before a meeting with lawmakers in Springfield, via Zoom, to discuss the changes they’re fighting for.\\n“We’re working on mental health within our communities. We are working on helping with early learning,” said Rosalia Salgado, a parent leader and co-president of COFI. “It’s important to me, because I know COFI has helped my family succeed, and I want to give that to other families.”\\nFor Salgado, that’s something worth cheering for.\\nShare this news on your Fb,Twitter and Whatsapp\\nTimes News Express – Breaking News Updates – Latest News Headlines\\nTimes News Express || USA NEWS || WORLD NEWS || CELEBRITY NEWS || POLITICS || TOP STORIES'"
      ]
     },
     "execution_count": 124,
     "metadata": {},
     "output_type": "execute_result"
    }
   ],
   "source": [
    "df['text'][200055]"
   ]
  },
  {
   "cell_type": "code",
   "execution_count": 120,
   "metadata": {
    "scrolled": false
   },
   "outputs": [
    {
     "data": {
      "text/html": [
       "<div>\n",
       "<style scoped>\n",
       "    .dataframe tbody tr th:only-of-type {\n",
       "        vertical-align: middle;\n",
       "    }\n",
       "\n",
       "    .dataframe tbody tr th {\n",
       "        vertical-align: top;\n",
       "    }\n",
       "\n",
       "    .dataframe thead th {\n",
       "        text-align: right;\n",
       "    }\n",
       "</style>\n",
       "<table border=\"1\" class=\"dataframe\">\n",
       "  <thead>\n",
       "    <tr style=\"text-align: right;\">\n",
       "      <th></th>\n",
       "      <th>text</th>\n",
       "      <th>cluster</th>\n",
       "    </tr>\n",
       "  </thead>\n",
       "  <tbody>\n",
       "    <tr>\n",
       "      <th>49</th>\n",
       "      <td>chicago   may is picking up pretty much where ...</td>\n",
       "      <td>19</td>\n",
       "    </tr>\n",
       "    <tr>\n",
       "      <th>54</th>\n",
       "      <td>chicago  cbs    rainy and chilly day with show...</td>\n",
       "      <td>19</td>\n",
       "    </tr>\n",
       "    <tr>\n",
       "      <th>80</th>\n",
       "      <td>visitation held for firefighter mashawn plumme...</td>\n",
       "      <td>19</td>\n",
       "    </tr>\n",
       "    <tr>\n",
       "      <th>106</th>\n",
       "      <td>chicago first alert weather  wet and chilly w...</td>\n",
       "      <td>19</td>\n",
       "    </tr>\n",
       "    <tr>\n",
       "      <th>260</th>\n",
       "      <td>this evening s outlook for carbondale  partly ...</td>\n",
       "      <td>19</td>\n",
       "    </tr>\n",
       "    <tr>\n",
       "      <th>...</th>\n",
       "      <td>...</td>\n",
       "      <td>...</td>\n",
       "    </tr>\n",
       "    <tr>\n",
       "      <th>200047</th>\n",
       "      <td>after knicks loss  what can be expected from t...</td>\n",
       "      <td>19</td>\n",
       "    </tr>\n",
       "    <tr>\n",
       "      <th>200055</th>\n",
       "      <td>chicago  cbs    they re a local nonprofit that...</td>\n",
       "      <td>19</td>\n",
       "    </tr>\n",
       "    <tr>\n",
       "      <th>200068</th>\n",
       "      <td>chicago  cbs    an active weekend with ups and...</td>\n",
       "      <td>19</td>\n",
       "    </tr>\n",
       "    <tr>\n",
       "      <th>200075</th>\n",
       "      <td>shots fired       e   rd st    get and explore...</td>\n",
       "      <td>19</td>\n",
       "    </tr>\n",
       "    <tr>\n",
       "      <th>200076</th>\n",
       "      <td>shots fired    rounds heard at      s throop  ...</td>\n",
       "      <td>19</td>\n",
       "    </tr>\n",
       "  </tbody>\n",
       "</table>\n",
       "<p>5026 rows × 2 columns</p>\n",
       "</div>"
      ],
      "text/plain": [
       "                                                     text  cluster\n",
       "49      chicago   may is picking up pretty much where ...       19\n",
       "54      chicago  cbs    rainy and chilly day with show...       19\n",
       "80      visitation held for firefighter mashawn plumme...       19\n",
       "106      chicago first alert weather  wet and chilly w...       19\n",
       "260     this evening s outlook for carbondale  partly ...       19\n",
       "...                                                   ...      ...\n",
       "200047  after knicks loss  what can be expected from t...       19\n",
       "200055  chicago  cbs    they re a local nonprofit that...       19\n",
       "200068  chicago  cbs    an active weekend with ups and...       19\n",
       "200075  shots fired       e   rd st    get and explore...       19\n",
       "200076  shots fired    rounds heard at      s throop  ...       19\n",
       "\n",
       "[5026 rows x 2 columns]"
      ]
     },
     "execution_count": 120,
     "metadata": {},
     "output_type": "execute_result"
    }
   ],
   "source": [
    "cluster_result[cluster_result['cluster'] == 19]"
   ]
  },
  {
   "cell_type": "code",
   "execution_count": 186,
   "metadata": {},
   "outputs": [],
   "source": [
    "cluster_result.to_pickle('kmeans_22cluster.pkl')"
   ]
  },
  {
   "cell_type": "code",
   "execution_count": 11,
   "metadata": {},
   "outputs": [],
   "source": [
    "cluster_result = pd.read_pickle('kmeans_22cluster.pkl')"
   ]
  },
  {
   "cell_type": "markdown",
   "metadata": {},
   "source": [
    "### 2.4 Plot clusters"
   ]
  },
  {
   "cell_type": "markdown",
   "metadata": {},
   "source": [
    "Here we plot the clusters generated by our KMeans operation. One plot uses PCA which is better at capturing global structure of the data. The other uses TSNE which is better at capturing relations between neighbors. In order to speed up the process with TSNE, I sample from 3,000 documents and perform a PCA 50 dimension reduction on the data first. Next I show a scatterplot further sampling the sample down to 300 points."
   ]
  },
  {
   "cell_type": "code",
   "execution_count": 48,
   "metadata": {},
   "outputs": [],
   "source": [
    "def plot_tsne_pca(data, labels):\n",
    "    max_label = max(labels)\n",
    "    max_items = np.random.choice(range(data.shape[0]), size=3000, replace=False)\n",
    "    \n",
    "    pca = PCA(n_components=2).fit_transform(data[max_items,:].todense())\n",
    "    tsne = TSNE().fit_transform(PCA(n_components=50).fit_transform(data[max_items,:].todense()))\n",
    "    \n",
    "    \n",
    "    idx = np.random.choice(range(pca.shape[0]), size=300, replace=False)\n",
    "    label_subset = labels[max_items]\n",
    "    label_subset = [cm.hsv(i/max_label) for i in label_subset[idx]]\n",
    "    \n",
    "    f, ax = plt.subplots(1, 2, figsize=(14, 6))\n",
    "    \n",
    "    ax[0].scatter(pca[idx, 0], pca[idx, 1], c=label_subset)\n",
    "    ax[0].set_title('PCA Cluster Plot')\n",
    "    \n",
    "    ax[1].scatter(tsne[idx, 0], tsne[idx, 1], c=label_subset)\n",
    "    ax[1].set_title('TSNE Cluster Plot')"
   ]
  },
  {
   "cell_type": "code",
   "execution_count": 54,
   "metadata": {},
   "outputs": [
    {
     "data": {
      "image/png": "[encoded data removed]",
      "text/plain": [
       "<Figure size 1008x432 with 2 Axes>"
      ]
     },
     "metadata": {
      "needs_background": "light"
     },
     "output_type": "display_data"
    }
   ],
   "source": [
    "plot_tsne_pca(text_new, clusters)"
   ]
  },
  {
   "cell_type": "code",
   "execution_count": 62,
   "metadata": {},
   "outputs": [],
   "source": [
    "data = text_new\n",
    "labels = clusters\n",
    "max_label = max(labels)\n",
    "max_items = np.random.choice(range(data.shape[0]), size=10000, replace=False)\n",
    "    \n",
    "pca = PCA(n_components=4).fit_transform(data[max_items,:].todense())\n",
    "#tsne = TSNE().fit_transform(PCA(n_components=50).fit_transform(data[max_items,:].todense()))\n",
    "    \n",
    "idx = np.random.choice(range(pca.shape[0]), size=10000, replace=False)\n",
    "label_subset = labels[max_items]\n",
    "#label_subset = [cm.hsv(i/max_label) for i in label_subset[idx]]"
   ]
  },
  {
   "cell_type": "code",
   "execution_count": 63,
   "metadata": {},
   "outputs": [
    {
     "data": {
      "text/html": [
       "<div>\n",
       "<style scoped>\n",
       "    .dataframe tbody tr th:only-of-type {\n",
       "        vertical-align: middle;\n",
       "    }\n",
       "\n",
       "    .dataframe tbody tr th {\n",
       "        vertical-align: top;\n",
       "    }\n",
       "\n",
       "    .dataframe thead th {\n",
       "        text-align: right;\n",
       "    }\n",
       "</style>\n",
       "<table border=\"1\" class=\"dataframe\">\n",
       "  <thead>\n",
       "    <tr style=\"text-align: right;\">\n",
       "      <th></th>\n",
       "      <th>first</th>\n",
       "      <th>second</th>\n",
       "      <th>third</th>\n",
       "      <th>fourth</th>\n",
       "      <th>label</th>\n",
       "    </tr>\n",
       "  </thead>\n",
       "  <tbody>\n",
       "    <tr>\n",
       "      <th>0</th>\n",
       "      <td>0.114722</td>\n",
       "      <td>-0.043223</td>\n",
       "      <td>-0.052523</td>\n",
       "      <td>0.015981</td>\n",
       "      <td>6</td>\n",
       "    </tr>\n",
       "    <tr>\n",
       "      <th>1</th>\n",
       "      <td>-0.011980</td>\n",
       "      <td>0.006319</td>\n",
       "      <td>-0.037436</td>\n",
       "      <td>0.002307</td>\n",
       "      <td>4</td>\n",
       "    </tr>\n",
       "    <tr>\n",
       "      <th>2</th>\n",
       "      <td>0.015489</td>\n",
       "      <td>-0.020897</td>\n",
       "      <td>-0.043412</td>\n",
       "      <td>0.029073</td>\n",
       "      <td>6</td>\n",
       "    </tr>\n",
       "    <tr>\n",
       "      <th>3</th>\n",
       "      <td>-0.023242</td>\n",
       "      <td>-0.031936</td>\n",
       "      <td>-0.013227</td>\n",
       "      <td>-0.023212</td>\n",
       "      <td>4</td>\n",
       "    </tr>\n",
       "    <tr>\n",
       "      <th>4</th>\n",
       "      <td>-0.021213</td>\n",
       "      <td>0.010960</td>\n",
       "      <td>-0.028177</td>\n",
       "      <td>-0.026773</td>\n",
       "      <td>4</td>\n",
       "    </tr>\n",
       "    <tr>\n",
       "      <th>...</th>\n",
       "      <td>...</td>\n",
       "      <td>...</td>\n",
       "      <td>...</td>\n",
       "      <td>...</td>\n",
       "      <td>...</td>\n",
       "    </tr>\n",
       "    <tr>\n",
       "      <th>9995</th>\n",
       "      <td>-0.036262</td>\n",
       "      <td>-0.047434</td>\n",
       "      <td>-0.000168</td>\n",
       "      <td>0.007217</td>\n",
       "      <td>15</td>\n",
       "    </tr>\n",
       "    <tr>\n",
       "      <th>9996</th>\n",
       "      <td>-0.048767</td>\n",
       "      <td>0.168399</td>\n",
       "      <td>0.076167</td>\n",
       "      <td>0.011726</td>\n",
       "      <td>20</td>\n",
       "    </tr>\n",
       "    <tr>\n",
       "      <th>9997</th>\n",
       "      <td>0.017990</td>\n",
       "      <td>-0.036512</td>\n",
       "      <td>-0.076192</td>\n",
       "      <td>0.044642</td>\n",
       "      <td>6</td>\n",
       "    </tr>\n",
       "    <tr>\n",
       "      <th>9998</th>\n",
       "      <td>-0.006311</td>\n",
       "      <td>0.028154</td>\n",
       "      <td>-0.008718</td>\n",
       "      <td>-0.024535</td>\n",
       "      <td>4</td>\n",
       "    </tr>\n",
       "    <tr>\n",
       "      <th>9999</th>\n",
       "      <td>-0.051139</td>\n",
       "      <td>-0.071355</td>\n",
       "      <td>0.026423</td>\n",
       "      <td>-0.137696</td>\n",
       "      <td>5</td>\n",
       "    </tr>\n",
       "  </tbody>\n",
       "</table>\n",
       "<p>10000 rows × 5 columns</p>\n",
       "</div>"
      ],
      "text/plain": [
       "         first    second     third    fourth  label\n",
       "0     0.114722 -0.043223 -0.052523  0.015981      6\n",
       "1    -0.011980  0.006319 -0.037436  0.002307      4\n",
       "2     0.015489 -0.020897 -0.043412  0.029073      6\n",
       "3    -0.023242 -0.031936 -0.013227 -0.023212      4\n",
       "4    -0.021213  0.010960 -0.028177 -0.026773      4\n",
       "...        ...       ...       ...       ...    ...\n",
       "9995 -0.036262 -0.047434 -0.000168  0.007217     15\n",
       "9996 -0.048767  0.168399  0.076167  0.011726     20\n",
       "9997  0.017990 -0.036512 -0.076192  0.044642      6\n",
       "9998 -0.006311  0.028154 -0.008718 -0.024535      4\n",
       "9999 -0.051139 -0.071355  0.026423 -0.137696      5\n",
       "\n",
       "[10000 rows x 5 columns]"
      ]
     },
     "execution_count": 63,
     "metadata": {},
     "output_type": "execute_result"
    }
   ],
   "source": [
    "result = pd.DataFrame(pca[idx]).rename(columns={0: \"first\", 1: \"second\", 2: \"third\", 3: \"fourth\"})\n",
    "result['label'] = label_subset[idx]\n",
    "result"
   ]
  },
  {
   "cell_type": "code",
   "execution_count": 60,
   "metadata": {},
   "outputs": [
    {
     "data": {
      "text/plain": [
       "<matplotlib.collections.PathCollection at 0x1fd199297c0>"
      ]
     },
     "execution_count": 60,
     "metadata": {},
     "output_type": "execute_result"
    },
    {
     "data": {
      "image/png": "[encoded data removed]",
      "text/plain": [
       "<Figure size 1008x432 with 1 Axes>"
      ]
     },
     "metadata": {
      "needs_background": "light"
     },
     "output_type": "display_data"
    }
   ],
   "source": [
    "plt.figure(figsize=(14, 6))\n",
    "plt.scatter(pca[idx, 1], pca[idx, 2], c=label_subset[idx])"
   ]
  },
  {
   "cell_type": "code",
   "execution_count": 126,
   "metadata": {},
   "outputs": [
    {
     "data": {
      "text/plain": [
       "2     6265\n",
       "7      889\n",
       "1      537\n",
       "6      345\n",
       "9      326\n",
       "5      312\n",
       "8      296\n",
       "3      292\n",
       "12     206\n",
       "13     158\n",
       "10     155\n",
       "4       94\n",
       "11      87\n",
       "0       38\n",
       "Name: label, dtype: int64"
      ]
     },
     "execution_count": 126,
     "metadata": {},
     "output_type": "execute_result"
    }
   ],
   "source": [
    "result['label'].value_counts()"
   ]
  },
  {
   "cell_type": "code",
   "execution_count": 127,
   "metadata": {},
   "outputs": [
    {
     "data": {
      "text/plain": [
       "<matplotlib.collections.PathCollection at 0x1e8e3ad4820>"
      ]
     },
     "execution_count": 127,
     "metadata": {},
     "output_type": "execute_result"
    },
    {
     "data": {
      "image/png": "[encoded data removed]",
      "text/plain": [
       "<Figure size 1008x432 with 1 Axes>"
      ]
     },
     "metadata": {
      "needs_background": "light"
     },
     "output_type": "display_data"
    }
   ],
   "source": [
    "plt.figure(figsize=(14, 6))\n",
    "plt.scatter(pca[idx, 0], pca[idx, 1], c=label_subset[idx])"
   ]
  },
  {
   "cell_type": "markdown",
   "metadata": {},
   "source": [
    "### 2.5 Find top keywords in each cluster"
   ]
  },
  {
   "cell_type": "code",
   "execution_count": 119,
   "metadata": {
    "scrolled": false
   },
   "outputs": [
    {
     "name": "stdout",
     "output_type": "stream",
     "text": [
      "\n",
      "Cluster 0\n",
      "near,parent,insurance,legal,content,attorneys,bankruptcy,law,attorney,injury,section,moms,court,truck,family,chicago,lawyer,accident,divorce,lawyers\n",
      "\n",
      "Cluster 1\n",
      "valued,holdings,average,products,additional,llc,research,owns,th,dividend,price,ratio,illinois,company,rating,works,tool,quarter,stock,shares\n",
      "\n",
      "Cluster 2\n",
      "masks,new,governor,chicago,mandate,county,people,students,cases,schools,tax,public,mask,health,school,pritzker,covid,said,state,illinois\n",
      "\n",
      "Cluster 3\n",
      "guilty,convicted,illinois,police,speaker,charges,said,chicago,judge,sentence,heard,mcdonald,rounds,prison,federal,van,shots,dyke,madigan,fired\n",
      "\n",
      "Cluster 4\n",
      "day,read,years,people,home,ago,www,team,just,like,time,state,year,news,new,https,said,com,chicago,illinois\n",
      "\n",
      "Cluster 5\n",
      "charged,county,according,woman,department,hospital,vehicle,car,news,block,officer,shooting,year,officers,shot,old,man,chicago,said,police\n",
      "\n",
      "Cluster 6\n",
      "time,marketing,online,information,use,service,new,loan,market,mdjobsite,work,experience,services,dumpster,job,chicago,illinois,com,company,business\n",
      "\n",
      "Cluster 7\n",
      "documentary,photography,greek,walter,university,mary,metro,cross,red,photo,views,warren,special,illinois,chicago,olympics,explore,uploaded,photos,flickr\n",
      "\n",
      "Cluster 8\n",
      "hawks,scored,win,assists,play,hockey,said,league,team,vs,goal,nhl,season,white,games,goals,chicago,game,sox,blackhawks\n",
      "\n",
      "Cluster 9\n",
      "prices,military,world,sanctions,country,chicago,biden,kyiv,people,maria,president,wheat,invasion,putin,war,said,ukrainian,russian,russia,ukraine\n",
      "\n",
      "Cluster 10\n",
      "mayor,instruction,public,testing,safety,ctu,cps,lightfoot,classes,said,chicago,covid,learning,remote,students,district,school,schools,teachers,union\n",
      "\n",
      "Cluster 11\n",
      "section,job,near,asphalt,new,work,certainly,tiles,contractors,companies,roofers,company,contractor,il,shingles,covering,chicago,repair,roof,roofing\n",
      "\n",
      "Cluster 12\n",
      "reading,deliver,nationwide,fan,driven,scores,users,conversation,stats,game,brief,collect,convenient,powered,basketball,chicago,downloading,results,app,scorestream\n",
      "\n",
      "Cluster 13\n",
      "added,shooting,big,loyola,assists,com,scored,cockburn,season,college,averaging,games,state,illini,basketball,ap,rebounds,illinois,game,points\n",
      "\n",
      "Cluster 14\n",
      "eastern,rebounds,team,demar,donovan,averaging,vs,ball,caruso,milwaukee,season,games,chicago,lavine,nba,derozan,points,bucks,game,bulls\n",
      "\n",
      "Cluster 15\n",
      "like,day,redd,music,il,church,people,mayor,news,lightfoot,com,new,style,https,crust,park,said,pizza,city,chicago\n",
      "\n",
      "Cluster 16\n",
      "voight,brett,tv,new,burgess,kidd,dr,severide,drama,casey,fans,episodes,character,series,pd,nbc,season,chicago,med,episode\n",
      "\n",
      "Cluster 17\n",
      "src,pl,body,search,owl,javascript,php,gettime,videos,news,innerwidth,blocker,ad,documentelement,carousel,offsetwidth,cript,winw,ads,document\n",
      "\n",
      "Cluster 18\n",
      "individuals,individual,program,content,chicago,section,rehabilitation,programs,dependency,new,addiction,step,treatment,therapy,center,detox,beginnings,drug,rehab,alcohol\n",
      "\n",
      "Cluster 19\n",
      "video,youtube,media,storm,chicago,weather,illinois,today,website,local,live,alerts,application,map,breaking,explore,headlines,snow,geolocated,news\n",
      "\n",
      "Cluster 20\n",
      "defensive,head,quarterback,gm,offensive,coordinator,manager,team,matt,chicago,fields,nagy,ryan,season,eberflus,draft,nfl,coach,poles,bears\n",
      "\n",
      "Cluster 21\n",
      "team,stroman,games,ricketts,field,pirates,wrigley,ross,innings,runs,chelsea,baseball,league,mlb,chicago,suzuki,game,season,brewers,cubs\n"
     ]
    }
   ],
   "source": [
    "def get_top_keywords(data, clusters, labels, n_terms):\n",
    "    df = pd.DataFrame(data.todense()).groupby(clusters).mean()\n",
    "    \n",
    "    for i,r in df.iterrows():\n",
    "        print('\\nCluster {}'.format(i))\n",
    "        print(','.join([labels[t] for t in np.argsort(r)[-n_terms:]]))\n",
    "            \n",
    "get_top_keywords(text_new, clusters, tfidf.get_feature_names(), 20)"
   ]
  },
  {
   "cell_type": "code",
   "execution_count": 126,
   "metadata": {},
   "outputs": [
    {
     "name": "stdout",
     "output_type": "stream",
     "text": [
      "\n",
      "Cluster -1\n",
      "day,work,home,news,com,school,business,years,police,city,state,year,people,time,just,like,new,illinois,said,chicago\n",
      "\n",
      "Cluster 0\n",
      "team,just,https,company,bears,city,bulls,time,season,game,year,new,police,points,com,state,news,said,illinois,chicago\n",
      "\n",
      "Cluster 1\n",
      "fannounce,fans,farmer,fantasy,far,fantastic,fare,fargo,zoom,way,did,price,list,expected,food,quality,quantity,expensive,drinks,menu\n",
      "\n",
      "Cluster 2\n",
      "fatal,fantasy,family,famous,fantastic,fans,fannounce,fanduel,far,fan,going,center,united,list,fun,definitely,enjoyed,menu,tower,presentation\n"
     ]
    }
   ],
   "source": [
    "get_top_keywords(text_new, clusters_dbscan, tfidf.get_feature_names(), 20)"
   ]
  },
  {
   "cell_type": "markdown",
   "metadata": {},
   "source": [
    "### 2.6 Remove outliers"
   ]
  },
  {
   "cell_type": "markdown",
   "metadata": {},
   "source": [
    "Remove cluster -1, 1, 2 from dbscan result.\\\n",
    "Remove cluster 12, 7 from kmeans result."
   ]
  },
  {
   "cell_type": "code",
   "execution_count": 12,
   "metadata": {},
   "outputs": [],
   "source": [
    "dbscan_neg1 = list(cluster_result_dbscan[cluster_result_dbscan['cluster'] == -1].index)\n",
    "dbscan_1 = list(cluster_result_dbscan[cluster_result_dbscan['cluster'] == 1].index)\n",
    "dbscan_2 = list(cluster_result_dbscan[cluster_result_dbscan['cluster'] == 2].index)\n",
    "kmeans_12 = list(cluster_result[cluster_result['cluster'] == 12].index)\n",
    "kmeans_7 = list(cluster_result[cluster_result['cluster'] == 7].index)"
   ]
  },
  {
   "cell_type": "code",
   "execution_count": 13,
   "metadata": {},
   "outputs": [],
   "source": [
    "idx_outlier = dbscan_neg1 + dbscan_1 + dbscan_2 + kmeans_12 + kmeans_7"
   ]
  },
  {
   "cell_type": "code",
   "execution_count": 14,
   "metadata": {},
   "outputs": [
    {
     "data": {
      "text/plain": [
       "16799"
      ]
     },
     "execution_count": 14,
     "metadata": {},
     "output_type": "execute_result"
    }
   ],
   "source": [
    "len(idx_outlier)"
   ]
  },
  {
   "cell_type": "code",
   "execution_count": 17,
   "metadata": {},
   "outputs": [],
   "source": [
    "final = list(set(idx_outlier))"
   ]
  },
  {
   "cell_type": "code",
   "execution_count": 18,
   "metadata": {},
   "outputs": [
    {
     "data": {
      "text/plain": [
       "16799"
      ]
     },
     "execution_count": 18,
     "metadata": {},
     "output_type": "execute_result"
    }
   ],
   "source": [
    "len(final)"
   ]
  },
  {
   "cell_type": "code",
   "execution_count": 19,
   "metadata": {},
   "outputs": [
    {
     "data": {
      "text/plain": [
       "array([False, False, False, ..., False, False, False])"
      ]
     },
     "execution_count": 19,
     "metadata": {},
     "output_type": "execute_result"
    }
   ],
   "source": [
    "outliers = df.index.isin(final)\n",
    "outliers"
   ]
  },
  {
   "cell_type": "code",
   "execution_count": 20,
   "metadata": {},
   "outputs": [],
   "source": [
    "cleaned_df = df[~outliers]"
   ]
  },
  {
   "cell_type": "code",
   "execution_count": 25,
   "metadata": {},
   "outputs": [],
   "source": [
    "cleaned_df.to_pickle('cleaned_data.pkl')"
   ]
  },
  {
   "cell_type": "code",
   "execution_count": 6,
   "metadata": {},
   "outputs": [],
   "source": [
    "cleaned_df = pd.read_pickle('cleaned_data.pkl')"
   ]
  },
  {
   "cell_type": "code",
   "execution_count": null,
   "metadata": {},
   "outputs": [],
   "source": []
  },
  {
   "cell_type": "markdown",
   "metadata": {},
   "source": [
    "## Reference:\n",
    "https://www.kaggle.com/code/jbencina/clustering-documents-with-tfidf-and-kmeans/notebook"
   ]
  }
 ],
 "metadata": {
  "kernelspec": {
   "display_name": "Python 3",
   "language": "python",
   "name": "python3"
  },
  "language_info": {
   "codemirror_mode": {
    "name": "ipython",
    "version": 3
   },
   "file_extension": ".py",
   "mimetype": "text/x-python",
   "name": "python",
   "nbconvert_exporter": "python",
   "pygments_lexer": "ipython3",
   "version": "3.8.5"
  }
 },
 "nbformat": 4,
 "nbformat_minor": 4
}
