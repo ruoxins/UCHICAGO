{
 "cells": [
  {
   "cell_type": "markdown",
   "metadata": {},
   "source": [
    "## 1. Import packages and data"
   ]
  },
  {
   "cell_type": "code",
   "execution_count": 2,
   "metadata": {
    "id": "jrU3G6KY3SpM"
   },
   "outputs": [],
   "source": [
    "###Loading Packages###\n",
    "import pandas as pd  # data frame operations  \n",
    "import numpy as np  # arrays and math functions\n",
    "\n",
    "import re # regular expressions\n",
    "import os # Operation System\n",
    "from datetime import datetime\n",
    "\n",
    "import nltk as nltk\n",
    "import nltk.corpus  \n",
    "from nltk.text import Text\n",
    "import sys\n",
    "\n",
    "import time\n",
    "import math\n",
    "from pprint import pprint\n",
    "\n",
    "import matplotlib.pyplot as plt\n",
    "\n",
    "import nltk as nltk\n",
    "from nltk.corpus import stopwords\n",
    "# from nltk.stem.wordnet import WordNetLemmatizer\n",
    "import spacy\n",
    "import multiprocessing\n",
    "import string\n",
    "\n",
    "import warnings\n",
    "warnings.filterwarnings(\"ignore\")\n",
    "\n",
    "from textblob import TextBlob\n",
    "from nltk.corpus import stopwords\n",
    "from nltk.stem.wordnet import WordNetLemmatizer\n",
    "\n",
    "import matplotlib.cm as cm"
   ]
  },
  {
   "cell_type": "code",
   "execution_count": 3,
   "metadata": {},
   "outputs": [],
   "source": [
    "import time\n",
    "from timeit import default_timer as timer\n",
    "from datetime import timedelta"
   ]
  },
  {
   "cell_type": "code",
   "execution_count": null,
   "metadata": {},
   "outputs": [],
   "source": []
  },
  {
   "cell_type": "code",
   "execution_count": 6,
   "metadata": {},
   "outputs": [],
   "source": [
    "cleaned_df = pd.read_pickle('cleaned_data.pkl')"
   ]
  },
  {
   "cell_type": "markdown",
   "metadata": {},
   "source": [
    "## 3. Extract Topic - LDA"
   ]
  },
  {
   "cell_type": "markdown",
   "metadata": {},
   "source": [
    "### 3.1 Text cleaning & preprocessing"
   ]
  },
  {
   "cell_type": "code",
   "execution_count": 1,
   "metadata": {},
   "outputs": [],
   "source": [
    "import gensim\n",
    "from gensim import corpora, models\n",
    "from gensim.models.ldamulticore import LdaMulticore\n",
    "\n",
    "from gensim.utils import simple_preprocess\n",
    "from gensim.models import CoherenceModel\n",
    "import pickle"
   ]
  },
  {
   "cell_type": "code",
   "execution_count": 8,
   "metadata": {},
   "outputs": [
    {
     "name": "stdout",
     "output_type": "stream",
     "text": [
      "Using 7 workers\n"
     ]
    }
   ],
   "source": [
    "import multiprocessing\n",
    "\n",
    "num_processors = multiprocessing.cpu_count()\n",
    "num_processors\n",
    "\n",
    "workers = num_processors-1\n",
    "\n",
    "print(f'Using {workers} workers')"
   ]
  },
  {
   "cell_type": "code",
   "execution_count": 9,
   "metadata": {},
   "outputs": [],
   "source": [
    "# helper method to record the time\n",
    "start_time = time.time()\n",
    "\n",
    "def tic():\n",
    "    global start_time \n",
    "    start_time = time.time()\n",
    "\n",
    "def tac():\n",
    "    t_sec = round(time.time() - start_time)\n",
    "    (t_min, t_sec) = divmod(t_sec,60)\n",
    "    (t_hour,t_min) = divmod(t_min,60) \n",
    "    print(f'Execution time to calculate for topic {k}: {t_hour}hour:{t_min}min:{t_sec}sec'.format(t_hour,t_min,t_sec))"
   ]
  },
  {
   "cell_type": "markdown",
   "metadata": {},
   "source": [
    "#### Tokenize text into words and remove punctuation"
   ]
  },
  {
   "cell_type": "code",
   "execution_count": 10,
   "metadata": {
    "scrolled": true
   },
   "outputs": [],
   "source": [
    "#%%time\n",
    "def sent_to_words(sentences):\n",
    "    for sentence in sentences:\n",
    "        yield(gensim.utils.simple_preprocess(str(sentence), deacc=True))  # deacc=True removes punctuations"
   ]
  },
  {
   "cell_type": "code",
   "execution_count": 26,
   "metadata": {},
   "outputs": [
    {
     "name": "stdout",
     "output_type": "stream",
     "text": [
      "Wall time: 14min 3s\n"
     ]
    }
   ],
   "source": [
    "%%time\n",
    "data_list = cleaned_df['text'].tolist()        \n",
    "data_tokens = list(sent_to_words(data_list))"
   ]
  },
  {
   "cell_type": "code",
   "execution_count": 28,
   "metadata": {},
   "outputs": [],
   "source": [
    "pickle.dump(data_tokens, open('tokenized_text.pkl', 'wb'))"
   ]
  },
  {
   "cell_type": "code",
   "execution_count": null,
   "metadata": {},
   "outputs": [],
   "source": [
    "data_tokens = pickle.load(open('tokenized_text.pkl', 'rb'))"
   ]
  },
  {
   "cell_type": "markdown",
   "metadata": {},
   "source": [
    "#### Remove Stopwords, Make n-grams and Lemmatize"
   ]
  },
  {
   "cell_type": "code",
   "execution_count": 29,
   "metadata": {
    "scrolled": false
   },
   "outputs": [
    {
     "name": "stdout",
     "output_type": "stream",
     "text": [
      "Wall time: 23min 46s\n"
     ]
    }
   ],
   "source": [
    "%%time\n",
    "\n",
    "bigram = gensim.models.Phrases(data_tokens, min_count=1, threshold=1)\n",
    "trigram = gensim.models.Phrases(bigram[data_tokens], threshold=1)\n",
    "\n",
    "bigram_mod = gensim.models.phrases.Phraser(bigram)\n",
    "trigram_mod = gensim.models.phrases.Phraser(trigram)"
   ]
  },
  {
   "cell_type": "code",
   "execution_count": 30,
   "metadata": {},
   "outputs": [],
   "source": [
    "#%%time\n",
    "stop_words = stopwords.words('english')\n",
    "\n",
    "# Define functions for stopwords, bigrams, trigrams and lemmatization\n",
    "def remove_stopwords(texts):\n",
    "    return [[word for word in simple_preprocess(str(doc)) if word not in stop_words] for doc in texts]\n",
    "\n",
    "def make_bigrams(texts):\n",
    "    return [bigram_mod[doc] for doc in texts]\n",
    "\n",
    "def make_trigrams(texts):\n",
    "    return [trigram_mod[bigram_mod[doc]] for doc in texts]\n",
    "\n",
    "def lemmatization(texts, allowed_postags=['NOUN', 'ADJ', 'VERB', 'ADV']):\n",
    "    \"\"\"https://spacy.io/api/annotation\"\"\"\n",
    "    texts_out = []\n",
    "    for sent in texts:\n",
    "        doc = nlp(\" \".join(sent)) \n",
    "        texts_out.append([token.lemma_ for token in doc if token.pos_ in allowed_postags])\n",
    "    return texts_out"
   ]
  },
  {
   "cell_type": "code",
   "execution_count": 31,
   "metadata": {},
   "outputs": [
    {
     "name": "stdout",
     "output_type": "stream",
     "text": [
      "Wall time: 1h 40min 35s\n"
     ]
    }
   ],
   "source": [
    "%%time\n",
    "\n",
    "# Remove Stop Words\n",
    "data_tokens_nostops = remove_stopwords(data_tokens)\n",
    "\n",
    "# Create n-grams\n",
    "data_words_bigrams = make_bigrams(data_tokens_nostops)\n",
    "data_words_trigrams = make_trigrams(data_tokens_nostops)\n",
    "\n",
    "# Combine tokens and n-grams\n",
    "# data_tokens_cobnined = data_tokens_nostops + data_words_bigrams + data_words_trigrams\n",
    "data_tokens_cobnined = data_words_trigrams\n",
    "\n",
    "# Initialize spacy 'en' model, keeping only tagger component (for efficiency)\n",
    "nlp = spacy.load(\"en_core_web_sm\", disable=['parser', 'ner'])\n",
    "\n",
    "# Lemmatize text keeping only noun, adj, vb, adv\n",
    "data_lemmatized = lemmatization(data_tokens_cobnined, allowed_postags=['NOUN', 'ADJ', 'VERB', 'ADV'])\n",
    "\n",
    "#print(*data_lemmatized[:1])"
   ]
  },
  {
   "cell_type": "code",
   "execution_count": 32,
   "metadata": {},
   "outputs": [],
   "source": [
    "pickle.dump(data_lemmatized, open('lemmatized_text.pkl', 'wb'))"
   ]
  },
  {
   "cell_type": "code",
   "execution_count": 5,
   "metadata": {},
   "outputs": [],
   "source": [
    "data_lemmatized = pickle.load(open('lemmatized_text.pkl', 'rb'))"
   ]
  },
  {
   "cell_type": "code",
   "execution_count": 6,
   "metadata": {},
   "outputs": [
    {
     "name": "stdout",
     "output_type": "stream",
     "text": [
      "Wall time: 2min 20s\n"
     ]
    }
   ],
   "source": [
    "%%time\n",
    "\n",
    "# Creating the term dictionary of our courpus, where every unique term is assigned an index. \n",
    "dictionary = corpora.Dictionary(data_lemmatized)\n",
    "\n",
    "# Converting list of documents (corpus) into Document Term Matrix using dictionary prepared above.\n",
    "doc_term_matrix = [dictionary.doc2bow(doc) for doc in data_lemmatized]"
   ]
  },
  {
   "cell_type": "markdown",
   "metadata": {},
   "source": [
    "### 3.2 Build and tune LDA models"
   ]
  },
  {
   "cell_type": "markdown",
   "metadata": {},
   "source": [
    "#### Tune LDA model"
   ]
  },
  {
   "cell_type": "code",
   "execution_count": 13,
   "metadata": {},
   "outputs": [],
   "source": [
    "# supporting function\n",
    "def compute_coherence_values(corpus, dictionary, k, a, b):\n",
    "    \n",
    "    lda_model = LdaMulticore(corpus=doc_term_matrix,\n",
    "                       id2word=dictionary,\n",
    "                       num_topics=k,\n",
    "                       random_state=100,                  \n",
    "                       passes=10,\n",
    "                       alpha=a,\n",
    "                       eta=b,\n",
    "                       workers=workers)\n",
    "    \n",
    "    coherence_model_lda = CoherenceModel(model=lda_model, texts=data_lemmatized, \n",
    "                                         dictionary=dictionary, coherence='c_v')\n",
    "    \n",
    "    return coherence_model_lda.get_coherence()"
   ]
  },
  {
   "cell_type": "code",
   "execution_count": 24,
   "metadata": {},
   "outputs": [
    {
     "name": "stdout",
     "output_type": "stream",
     "text": [
      "Wall time: 12min 47s\n"
     ]
    }
   ],
   "source": [
    "%%time\n",
    "\n",
    "lda_model = LdaMulticore(corpus=doc_term_matrix,\n",
    "                   id2word=dictionary,\n",
    "                   num_topics=3,\n",
    "                   random_state=100,\n",
    "                   passes=10,\n",
    "                   eta='auto',\n",
    "                   workers=workers)"
   ]
  },
  {
   "cell_type": "code",
   "execution_count": 25,
   "metadata": {
    "scrolled": false
   },
   "outputs": [
    {
     "name": "stdout",
     "output_type": "stream",
     "text": [
      "[(0,\n",
      "  '0.009*\"also\" + 0.008*\"well\" + 0.004*\"company\" + 0.004*\"work\" + 0.003*\"mom\" '\n",
      "  '+ 0.003*\"need\" + 0.003*\"get\" + 0.003*\"state\" + 0.003*\"tdi\" + 0.003*\"make\"'),\n",
      " (1,\n",
      "  '0.011*\"say\" + 0.006*\"go\" + 0.005*\"get\" + 0.004*\"make\" + 0.004*\"game\" + '\n",
      "  '0.004*\"see\" + 0.004*\"year\" + 0.004*\"time\" + 0.003*\"team\" + 0.003*\"state\"'),\n",
      " (2,\n",
      "  '0.007*\"also\" + 0.007*\"well\" + 0.006*\"use\" + 0.005*\"get\" + 0.005*\"time\" + '\n",
      "  '0.005*\"need\" + 0.003*\"make\" + 0.003*\"go\" + 0.003*\"work\" + '\n",
      "  '0.003*\"sweepstake\"')]\n"
     ]
    }
   ],
   "source": [
    "# Print the Keyword in the 3 topics\n",
    "pprint(lda_model.print_topics())\n",
    "doc_lda = lda_model[doc_term_matrix]"
   ]
  },
  {
   "cell_type": "markdown",
   "metadata": {},
   "source": [
    "#### Compute Coherence Score"
   ]
  },
  {
   "cell_type": "code",
   "execution_count": 26,
   "metadata": {},
   "outputs": [
    {
     "name": "stdout",
     "output_type": "stream",
     "text": [
      "\n",
      "Coherence Score:  0.3299187712581748\n",
      "Wall time: 2min 10s\n"
     ]
    }
   ],
   "source": [
    "%%time\n",
    "\n",
    "coherence_model_lda = CoherenceModel(model=lda_model, texts=data_lemmatized, dictionary=dictionary, coherence='c_v')\n",
    "coherence_lda = coherence_model_lda.get_coherence()\n",
    "print('\\nCoherence Score: ', coherence_lda)"
   ]
  },
  {
   "cell_type": "markdown",
   "metadata": {},
   "source": [
    "#### Hyperparameter Tuning:\n",
    "- Number of Topics (K)\n",
    "- Dirichlet hyperparameter alpha: Document-Topic Density\n",
    "- Dirichlet hyperparameter beta: Word-Topic Density"
   ]
  },
  {
   "cell_type": "markdown",
   "metadata": {},
   "source": [
    "### 10-15 topics"
   ]
  },
  {
   "cell_type": "code",
   "execution_count": 27,
   "metadata": {
    "scrolled": false
   },
   "outputs": [
    {
     "name": "stdout",
     "output_type": "stream",
     "text": [
      "LDA will execute 6 iterations\n",
      "Completed model based on 10 LDA topics. Finished 16.7% of LDA runs\n",
      "Execution time to calculate for topic 10: 0hour:20min:43sec\n",
      "Completed model based on 11 LDA topics. Finished 33.3% of LDA runs\n",
      "Execution time to calculate for topic 11: 0hour:21min:20sec\n",
      "Completed model based on 12 LDA topics. Finished 50.0% of LDA runs\n",
      "Execution time to calculate for topic 12: 0hour:21min:56sec\n",
      "Completed model based on 13 LDA topics. Finished 66.7% of LDA runs\n",
      "Execution time to calculate for topic 13: 0hour:22min:46sec\n",
      "Completed model based on 14 LDA topics. Finished 83.3% of LDA runs\n",
      "Execution time to calculate for topic 14: 0hour:31min:3sec\n",
      "Completed model based on 15 LDA topics. Finished 100.0% of LDA runs\n",
      "Execution time to calculate for topic 15: 0hour:27min:16sec\n",
      "Wall time: 2h 25min 3s\n"
     ]
    }
   ],
   "source": [
    "%%time\n",
    "\n",
    "grid = {}\n",
    "grid['Validation_Set'] = {}\n",
    "\n",
    "# Topics range\n",
    "min_topics = 10\n",
    "max_topics = 15\n",
    "step_size = 1\n",
    "topics_range = range(min_topics, max_topics+1, step_size)\n",
    "\n",
    "# Alpha parameter\n",
    "# alpha = list(np.arange(0.01, 1, 0.3))\n",
    "# alpha.append('symmetric')\n",
    "# alpha.append('asymmetric')\n",
    "alpha = ['asymmetric'] # Run for number of topics only\n",
    "\n",
    "# Beta parameter\n",
    "# beta = list(np.arange(0.01, 1, 0.3))\n",
    "# beta.append('symmetric')\n",
    "beta = ['auto'] # Run for number of topics only\n",
    "\n",
    "\n",
    "# Validation sets\n",
    "num_of_docs = len(doc_term_matrix)\n",
    "corpus_sets = [# gensim.utils.ClippedCorpus(doc_term_matrix, num_of_docs*0.25), \n",
    "               # gensim.utils.ClippedCorpus(doc_term_matrix, num_of_docs*0.5), \n",
    "#                gensim.utils.ClippedCorpus(doc_term_matrix, num_of_docs*0.75), \n",
    "               doc_term_matrix]\n",
    "# corpus_title = ['75% Corpus', '100% Corpus']\n",
    "corpus_title = ['100% Corpus']\n",
    "model_results = {\n",
    "                 'Topics': [],\n",
    "                 'Alpha': [],\n",
    "                 'Beta': [],\n",
    "                 'Coherence': []\n",
    "                }\n",
    "\n",
    "itr = 0\n",
    "itr_total = len(beta)*len(alpha)*len(topics_range)*len(corpus_title)\n",
    "print(f'LDA will execute {itr_total} iterations')\n",
    "\n",
    "    \n",
    "# iterate through hyperparameters\n",
    "for i in range(len(corpus_sets)):\n",
    "    # iterate through number of topics\n",
    "    for k in topics_range:\n",
    "        # iterate through alpha values\n",
    "        tic()\n",
    "        for a in alpha:\n",
    "            # iterare through beta values\n",
    "            for b in beta:\n",
    "                # get the coherence score for the given parameters\n",
    "                itr += 1\n",
    "                cv = compute_coherence_values(corpus=corpus_sets[i], dictionary=dictionary, \n",
    "                                              k=k, a=a, b=b)\n",
    "                # Save the model results\n",
    "                model_results['Topics'].append(k)\n",
    "                model_results['Alpha'].append(a)\n",
    "                model_results['Beta'].append(b)\n",
    "                model_results['Coherence'].append(cv)\n",
    "                pct_completed = round((itr / itr_total * 100),1)\n",
    "#                 print(f'Completed Percent: {pct_completed}%, Corpus: {corpus_title[i]}, Topics: {k}, Alpha: {a}, Beta: {b}, Coherence: {cv}')\n",
    "        print(f'Completed model based on {k} LDA topics. Finished {pct_completed}% of LDA runs')\n",
    "        tac()"
   ]
  },
  {
   "cell_type": "code",
   "execution_count": 28,
   "metadata": {},
   "outputs": [],
   "source": [
    "lda_tuning = pd.DataFrame(model_results)"
   ]
  },
  {
   "cell_type": "code",
   "execution_count": 29,
   "metadata": {},
   "outputs": [
    {
     "data": {
      "text/html": [
       "<div>\n",
       "<style scoped>\n",
       "    .dataframe tbody tr th:only-of-type {\n",
       "        vertical-align: middle;\n",
       "    }\n",
       "\n",
       "    .dataframe tbody tr th {\n",
       "        vertical-align: top;\n",
       "    }\n",
       "\n",
       "    .dataframe thead th {\n",
       "        text-align: right;\n",
       "    }\n",
       "</style>\n",
       "<table border=\"1\" class=\"dataframe\">\n",
       "  <thead>\n",
       "    <tr style=\"text-align: right;\">\n",
       "      <th></th>\n",
       "      <th>Topics</th>\n",
       "      <th>Alpha</th>\n",
       "      <th>Beta</th>\n",
       "      <th>Coherence</th>\n",
       "    </tr>\n",
       "  </thead>\n",
       "  <tbody>\n",
       "    <tr>\n",
       "      <th>3</th>\n",
       "      <td>13</td>\n",
       "      <td>asymmetric</td>\n",
       "      <td>auto</td>\n",
       "      <td>0.511738</td>\n",
       "    </tr>\n",
       "    <tr>\n",
       "      <th>4</th>\n",
       "      <td>14</td>\n",
       "      <td>asymmetric</td>\n",
       "      <td>auto</td>\n",
       "      <td>0.504834</td>\n",
       "    </tr>\n",
       "    <tr>\n",
       "      <th>1</th>\n",
       "      <td>11</td>\n",
       "      <td>asymmetric</td>\n",
       "      <td>auto</td>\n",
       "      <td>0.502225</td>\n",
       "    </tr>\n",
       "    <tr>\n",
       "      <th>2</th>\n",
       "      <td>12</td>\n",
       "      <td>asymmetric</td>\n",
       "      <td>auto</td>\n",
       "      <td>0.501802</td>\n",
       "    </tr>\n",
       "    <tr>\n",
       "      <th>5</th>\n",
       "      <td>15</td>\n",
       "      <td>asymmetric</td>\n",
       "      <td>auto</td>\n",
       "      <td>0.501142</td>\n",
       "    </tr>\n",
       "    <tr>\n",
       "      <th>0</th>\n",
       "      <td>10</td>\n",
       "      <td>asymmetric</td>\n",
       "      <td>auto</td>\n",
       "      <td>0.491126</td>\n",
       "    </tr>\n",
       "  </tbody>\n",
       "</table>\n",
       "</div>"
      ],
      "text/plain": [
       "   Topics       Alpha  Beta  Coherence\n",
       "3      13  asymmetric  auto   0.511738\n",
       "4      14  asymmetric  auto   0.504834\n",
       "1      11  asymmetric  auto   0.502225\n",
       "2      12  asymmetric  auto   0.501802\n",
       "5      15  asymmetric  auto   0.501142\n",
       "0      10  asymmetric  auto   0.491126"
      ]
     },
     "execution_count": 29,
     "metadata": {},
     "output_type": "execute_result"
    }
   ],
   "source": [
    "# Best LDA parameters\n",
    "lda_tuning.sort_values(by=['Coherence'], ascending=False).head(10)"
   ]
  },
  {
   "cell_type": "code",
   "execution_count": 34,
   "metadata": {},
   "outputs": [
    {
     "data": {
      "text/plain": [
       "<AxesSubplot:xlabel='Topics'>"
      ]
     },
     "execution_count": 34,
     "metadata": {},
     "output_type": "execute_result"
    },
    {
     "data": {
      "image/png": "[encoded data removed]",
      "text/plain": [
       "<Figure size 432x288 with 1 Axes>"
      ]
     },
     "metadata": {
      "needs_background": "light"
     },
     "output_type": "display_data"
    }
   ],
   "source": [
    "lda_tuning.plot(x ='Topics', y='Coherence', kind = 'line', xticks=range(10,15))"
   ]
  },
  {
   "cell_type": "code",
   "execution_count": 35,
   "metadata": {},
   "outputs": [],
   "source": [
    "lda_tuning.to_csv(os.path.join('lda_tuning_results.csv'), index=False)"
   ]
  },
  {
   "cell_type": "code",
   "execution_count": 36,
   "metadata": {},
   "outputs": [],
   "source": [
    "lda_tuning.to_pickle(\"./lda_tuning.pkl\")"
   ]
  },
  {
   "cell_type": "code",
   "execution_count": 14,
   "metadata": {},
   "outputs": [],
   "source": [
    "lda_tuning = pd.read_pickle('lda_tuning.pkl')"
   ]
  },
  {
   "cell_type": "markdown",
   "metadata": {},
   "source": [
    "### 16-19 topics"
   ]
  },
  {
   "cell_type": "code",
   "execution_count": 37,
   "metadata": {
    "scrolled": true
   },
   "outputs": [
    {
     "name": "stdout",
     "output_type": "stream",
     "text": [
      "LDA will execute 5 iterations\n",
      "Completed model based on 16 LDA topics. Finished 20.0% of LDA runs\n",
      "Execution time to calculate for topic 16: 0hour:25min:39sec\n",
      "Completed model based on 17 LDA topics. Finished 40.0% of LDA runs\n",
      "Execution time to calculate for topic 17: 0hour:27min:33sec\n",
      "Completed model based on 18 LDA topics. Finished 60.0% of LDA runs\n",
      "Execution time to calculate for topic 18: 0hour:27min:57sec\n",
      "Completed model based on 19 LDA topics. Finished 80.0% of LDA runs\n",
      "Execution time to calculate for topic 19: 0hour:29min:40sec\n"
     ]
    },
    {
     "ename": "OSError",
     "evalue": "[Errno 22] Invalid argument",
     "output_type": "error",
     "traceback": [
      "\u001b[1;31m---------------------------------------------------------------------------\u001b[0m",
      "\u001b[1;31mOSError\u001b[0m                                   Traceback (most recent call last)",
      "\u001b[1;32m<timed exec>\u001b[0m in \u001b[0;36m<module>\u001b[1;34m\u001b[0m\n",
      "\u001b[1;32m<ipython-input-23-ddb8eacc1d4d>\u001b[0m in \u001b[0;36mcompute_coherence_values\u001b[1;34m(corpus, dictionary, k, a, b)\u001b[0m\n\u001b[0;32m      2\u001b[0m \u001b[1;32mdef\u001b[0m \u001b[0mcompute_coherence_values\u001b[0m\u001b[1;33m(\u001b[0m\u001b[0mcorpus\u001b[0m\u001b[1;33m,\u001b[0m \u001b[0mdictionary\u001b[0m\u001b[1;33m,\u001b[0m \u001b[0mk\u001b[0m\u001b[1;33m,\u001b[0m \u001b[0ma\u001b[0m\u001b[1;33m,\u001b[0m \u001b[0mb\u001b[0m\u001b[1;33m)\u001b[0m\u001b[1;33m:\u001b[0m\u001b[1;33m\u001b[0m\u001b[1;33m\u001b[0m\u001b[0m\n\u001b[0;32m      3\u001b[0m \u001b[1;33m\u001b[0m\u001b[0m\n\u001b[1;32m----> 4\u001b[1;33m     lda_model = LdaMulticore(corpus=doc_term_matrix,\n\u001b[0m\u001b[0;32m      5\u001b[0m                        \u001b[0mid2word\u001b[0m\u001b[1;33m=\u001b[0m\u001b[0mdictionary\u001b[0m\u001b[1;33m,\u001b[0m\u001b[1;33m\u001b[0m\u001b[1;33m\u001b[0m\u001b[0m\n\u001b[0;32m      6\u001b[0m                        \u001b[0mnum_topics\u001b[0m\u001b[1;33m=\u001b[0m\u001b[0mk\u001b[0m\u001b[1;33m,\u001b[0m\u001b[1;33m\u001b[0m\u001b[1;33m\u001b[0m\u001b[0m\n",
      "\u001b[1;32m~\\anaconda3\\lib\\site-packages\\gensim\\models\\ldamulticore.py\u001b[0m in \u001b[0;36m__init__\u001b[1;34m(self, corpus, num_topics, id2word, workers, chunksize, passes, batch, alpha, eta, decay, offset, eval_every, iterations, gamma_threshold, random_state, minimum_probability, minimum_phi_value, per_word_topics, dtype)\u001b[0m\n\u001b[0;32m    184\u001b[0m             \u001b[1;32mraise\u001b[0m \u001b[0mNotImplementedError\u001b[0m\u001b[1;33m(\u001b[0m\u001b[1;34m\"auto-tuning alpha not implemented in LdaMulticore; use plain LdaModel.\"\u001b[0m\u001b[1;33m)\u001b[0m\u001b[1;33m\u001b[0m\u001b[1;33m\u001b[0m\u001b[0m\n\u001b[0;32m    185\u001b[0m \u001b[1;33m\u001b[0m\u001b[0m\n\u001b[1;32m--> 186\u001b[1;33m         super(LdaMulticore, self).__init__(\n\u001b[0m\u001b[0;32m    187\u001b[0m             \u001b[0mcorpus\u001b[0m\u001b[1;33m=\u001b[0m\u001b[0mcorpus\u001b[0m\u001b[1;33m,\u001b[0m \u001b[0mnum_topics\u001b[0m\u001b[1;33m=\u001b[0m\u001b[0mnum_topics\u001b[0m\u001b[1;33m,\u001b[0m\u001b[1;33m\u001b[0m\u001b[1;33m\u001b[0m\u001b[0m\n\u001b[0;32m    188\u001b[0m             \u001b[0mid2word\u001b[0m\u001b[1;33m=\u001b[0m\u001b[0mid2word\u001b[0m\u001b[1;33m,\u001b[0m \u001b[0mchunksize\u001b[0m\u001b[1;33m=\u001b[0m\u001b[0mchunksize\u001b[0m\u001b[1;33m,\u001b[0m \u001b[0mpasses\u001b[0m\u001b[1;33m=\u001b[0m\u001b[0mpasses\u001b[0m\u001b[1;33m,\u001b[0m \u001b[0malpha\u001b[0m\u001b[1;33m=\u001b[0m\u001b[0malpha\u001b[0m\u001b[1;33m,\u001b[0m \u001b[0meta\u001b[0m\u001b[1;33m=\u001b[0m\u001b[0meta\u001b[0m\u001b[1;33m,\u001b[0m\u001b[1;33m\u001b[0m\u001b[1;33m\u001b[0m\u001b[0m\n",
      "\u001b[1;32m~\\anaconda3\\lib\\site-packages\\gensim\\models\\ldamodel.py\u001b[0m in \u001b[0;36m__init__\u001b[1;34m(self, corpus, num_topics, id2word, distributed, chunksize, passes, update_every, alpha, eta, decay, offset, eval_every, iterations, gamma_threshold, minimum_probability, random_state, ns_conf, minimum_phi_value, per_word_topics, callbacks, dtype)\u001b[0m\n\u001b[0;32m    518\u001b[0m             \u001b[0muse_numpy\u001b[0m \u001b[1;33m=\u001b[0m \u001b[0mself\u001b[0m\u001b[1;33m.\u001b[0m\u001b[0mdispatcher\u001b[0m \u001b[1;32mis\u001b[0m \u001b[1;32mnot\u001b[0m \u001b[1;32mNone\u001b[0m\u001b[1;33m\u001b[0m\u001b[1;33m\u001b[0m\u001b[0m\n\u001b[0;32m    519\u001b[0m             \u001b[0mstart\u001b[0m \u001b[1;33m=\u001b[0m \u001b[0mtime\u001b[0m\u001b[1;33m.\u001b[0m\u001b[0mtime\u001b[0m\u001b[1;33m(\u001b[0m\u001b[1;33m)\u001b[0m\u001b[1;33m\u001b[0m\u001b[1;33m\u001b[0m\u001b[0m\n\u001b[1;32m--> 520\u001b[1;33m             \u001b[0mself\u001b[0m\u001b[1;33m.\u001b[0m\u001b[0mupdate\u001b[0m\u001b[1;33m(\u001b[0m\u001b[0mcorpus\u001b[0m\u001b[1;33m,\u001b[0m \u001b[0mchunks_as_numpy\u001b[0m\u001b[1;33m=\u001b[0m\u001b[0muse_numpy\u001b[0m\u001b[1;33m)\u001b[0m\u001b[1;33m\u001b[0m\u001b[1;33m\u001b[0m\u001b[0m\n\u001b[0m\u001b[0;32m    521\u001b[0m             self.add_lifecycle_event(\n\u001b[0;32m    522\u001b[0m                 \u001b[1;34m\"created\"\u001b[0m\u001b[1;33m,\u001b[0m\u001b[1;33m\u001b[0m\u001b[1;33m\u001b[0m\u001b[0m\n",
      "\u001b[1;32m~\\anaconda3\\lib\\site-packages\\gensim\\models\\ldamulticore.py\u001b[0m in \u001b[0;36mupdate\u001b[1;34m(self, corpus, chunks_as_numpy)\u001b[0m\n\u001b[0;32m    284\u001b[0m \u001b[1;33m\u001b[0m\u001b[0m\n\u001b[0;32m    285\u001b[0m         \u001b[0mlogger\u001b[0m\u001b[1;33m.\u001b[0m\u001b[0minfo\u001b[0m\u001b[1;33m(\u001b[0m\u001b[1;34m\"training LDA model using %i processes\"\u001b[0m\u001b[1;33m,\u001b[0m \u001b[0mself\u001b[0m\u001b[1;33m.\u001b[0m\u001b[0mworkers\u001b[0m\u001b[1;33m)\u001b[0m\u001b[1;33m\u001b[0m\u001b[1;33m\u001b[0m\u001b[0m\n\u001b[1;32m--> 286\u001b[1;33m         \u001b[0mpool\u001b[0m \u001b[1;33m=\u001b[0m \u001b[0mPool\u001b[0m\u001b[1;33m(\u001b[0m\u001b[0mself\u001b[0m\u001b[1;33m.\u001b[0m\u001b[0mworkers\u001b[0m\u001b[1;33m,\u001b[0m \u001b[0mworker_e_step\u001b[0m\u001b[1;33m,\u001b[0m \u001b[1;33m(\u001b[0m\u001b[0mjob_queue\u001b[0m\u001b[1;33m,\u001b[0m \u001b[0mresult_queue\u001b[0m\u001b[1;33m,\u001b[0m \u001b[0mself\u001b[0m\u001b[1;33m)\u001b[0m\u001b[1;33m)\u001b[0m\u001b[1;33m\u001b[0m\u001b[1;33m\u001b[0m\u001b[0m\n\u001b[0m\u001b[0;32m    287\u001b[0m         \u001b[1;32mfor\u001b[0m \u001b[0mpass_\u001b[0m \u001b[1;32min\u001b[0m \u001b[0mrange\u001b[0m\u001b[1;33m(\u001b[0m\u001b[0mself\u001b[0m\u001b[1;33m.\u001b[0m\u001b[0mpasses\u001b[0m\u001b[1;33m)\u001b[0m\u001b[1;33m:\u001b[0m\u001b[1;33m\u001b[0m\u001b[1;33m\u001b[0m\u001b[0m\n\u001b[0;32m    288\u001b[0m             \u001b[0mqueue_size\u001b[0m\u001b[1;33m,\u001b[0m \u001b[0mreallen\u001b[0m \u001b[1;33m=\u001b[0m \u001b[1;33m[\u001b[0m\u001b[1;36m0\u001b[0m\u001b[1;33m]\u001b[0m\u001b[1;33m,\u001b[0m \u001b[1;36m0\u001b[0m\u001b[1;33m\u001b[0m\u001b[1;33m\u001b[0m\u001b[0m\n",
      "\u001b[1;32m~\\anaconda3\\lib\\multiprocessing\\context.py\u001b[0m in \u001b[0;36mPool\u001b[1;34m(self, processes, initializer, initargs, maxtasksperchild)\u001b[0m\n\u001b[0;32m    117\u001b[0m         \u001b[1;34m'''Returns a process pool object'''\u001b[0m\u001b[1;33m\u001b[0m\u001b[1;33m\u001b[0m\u001b[0m\n\u001b[0;32m    118\u001b[0m         \u001b[1;32mfrom\u001b[0m \u001b[1;33m.\u001b[0m\u001b[0mpool\u001b[0m \u001b[1;32mimport\u001b[0m \u001b[0mPool\u001b[0m\u001b[1;33m\u001b[0m\u001b[1;33m\u001b[0m\u001b[0m\n\u001b[1;32m--> 119\u001b[1;33m         return Pool(processes, initializer, initargs, maxtasksperchild,\n\u001b[0m\u001b[0;32m    120\u001b[0m                     context=self.get_context())\n\u001b[0;32m    121\u001b[0m \u001b[1;33m\u001b[0m\u001b[0m\n",
      "\u001b[1;32m~\\anaconda3\\lib\\multiprocessing\\pool.py\u001b[0m in \u001b[0;36m__init__\u001b[1;34m(self, processes, initializer, initargs, maxtasksperchild, context)\u001b[0m\n\u001b[0;32m    210\u001b[0m         \u001b[0mself\u001b[0m\u001b[1;33m.\u001b[0m\u001b[0m_processes\u001b[0m \u001b[1;33m=\u001b[0m \u001b[0mprocesses\u001b[0m\u001b[1;33m\u001b[0m\u001b[1;33m\u001b[0m\u001b[0m\n\u001b[0;32m    211\u001b[0m         \u001b[1;32mtry\u001b[0m\u001b[1;33m:\u001b[0m\u001b[1;33m\u001b[0m\u001b[1;33m\u001b[0m\u001b[0m\n\u001b[1;32m--> 212\u001b[1;33m             \u001b[0mself\u001b[0m\u001b[1;33m.\u001b[0m\u001b[0m_repopulate_pool\u001b[0m\u001b[1;33m(\u001b[0m\u001b[1;33m)\u001b[0m\u001b[1;33m\u001b[0m\u001b[1;33m\u001b[0m\u001b[0m\n\u001b[0m\u001b[0;32m    213\u001b[0m         \u001b[1;32mexcept\u001b[0m \u001b[0mException\u001b[0m\u001b[1;33m:\u001b[0m\u001b[1;33m\u001b[0m\u001b[1;33m\u001b[0m\u001b[0m\n\u001b[0;32m    214\u001b[0m             \u001b[1;32mfor\u001b[0m \u001b[0mp\u001b[0m \u001b[1;32min\u001b[0m \u001b[0mself\u001b[0m\u001b[1;33m.\u001b[0m\u001b[0m_pool\u001b[0m\u001b[1;33m:\u001b[0m\u001b[1;33m\u001b[0m\u001b[1;33m\u001b[0m\u001b[0m\n",
      "\u001b[1;32m~\\anaconda3\\lib\\multiprocessing\\pool.py\u001b[0m in \u001b[0;36m_repopulate_pool\u001b[1;34m(self)\u001b[0m\n\u001b[0;32m    301\u001b[0m \u001b[1;33m\u001b[0m\u001b[0m\n\u001b[0;32m    302\u001b[0m     \u001b[1;32mdef\u001b[0m \u001b[0m_repopulate_pool\u001b[0m\u001b[1;33m(\u001b[0m\u001b[0mself\u001b[0m\u001b[1;33m)\u001b[0m\u001b[1;33m:\u001b[0m\u001b[1;33m\u001b[0m\u001b[1;33m\u001b[0m\u001b[0m\n\u001b[1;32m--> 303\u001b[1;33m         return self._repopulate_pool_static(self._ctx, self.Process,\n\u001b[0m\u001b[0;32m    304\u001b[0m                                             \u001b[0mself\u001b[0m\u001b[1;33m.\u001b[0m\u001b[0m_processes\u001b[0m\u001b[1;33m,\u001b[0m\u001b[1;33m\u001b[0m\u001b[1;33m\u001b[0m\u001b[0m\n\u001b[0;32m    305\u001b[0m                                             \u001b[0mself\u001b[0m\u001b[1;33m.\u001b[0m\u001b[0m_pool\u001b[0m\u001b[1;33m,\u001b[0m \u001b[0mself\u001b[0m\u001b[1;33m.\u001b[0m\u001b[0m_inqueue\u001b[0m\u001b[1;33m,\u001b[0m\u001b[1;33m\u001b[0m\u001b[1;33m\u001b[0m\u001b[0m\n",
      "\u001b[1;32m~\\anaconda3\\lib\\multiprocessing\\pool.py\u001b[0m in \u001b[0;36m_repopulate_pool_static\u001b[1;34m(ctx, Process, processes, pool, inqueue, outqueue, initializer, initargs, maxtasksperchild, wrap_exception)\u001b[0m\n\u001b[0;32m    324\u001b[0m             \u001b[0mw\u001b[0m\u001b[1;33m.\u001b[0m\u001b[0mname\u001b[0m \u001b[1;33m=\u001b[0m \u001b[0mw\u001b[0m\u001b[1;33m.\u001b[0m\u001b[0mname\u001b[0m\u001b[1;33m.\u001b[0m\u001b[0mreplace\u001b[0m\u001b[1;33m(\u001b[0m\u001b[1;34m'Process'\u001b[0m\u001b[1;33m,\u001b[0m \u001b[1;34m'PoolWorker'\u001b[0m\u001b[1;33m)\u001b[0m\u001b[1;33m\u001b[0m\u001b[1;33m\u001b[0m\u001b[0m\n\u001b[0;32m    325\u001b[0m             \u001b[0mw\u001b[0m\u001b[1;33m.\u001b[0m\u001b[0mdaemon\u001b[0m \u001b[1;33m=\u001b[0m \u001b[1;32mTrue\u001b[0m\u001b[1;33m\u001b[0m\u001b[1;33m\u001b[0m\u001b[0m\n\u001b[1;32m--> 326\u001b[1;33m             \u001b[0mw\u001b[0m\u001b[1;33m.\u001b[0m\u001b[0mstart\u001b[0m\u001b[1;33m(\u001b[0m\u001b[1;33m)\u001b[0m\u001b[1;33m\u001b[0m\u001b[1;33m\u001b[0m\u001b[0m\n\u001b[0m\u001b[0;32m    327\u001b[0m             \u001b[0mpool\u001b[0m\u001b[1;33m.\u001b[0m\u001b[0mappend\u001b[0m\u001b[1;33m(\u001b[0m\u001b[0mw\u001b[0m\u001b[1;33m)\u001b[0m\u001b[1;33m\u001b[0m\u001b[1;33m\u001b[0m\u001b[0m\n\u001b[0;32m    328\u001b[0m             \u001b[0mutil\u001b[0m\u001b[1;33m.\u001b[0m\u001b[0mdebug\u001b[0m\u001b[1;33m(\u001b[0m\u001b[1;34m'added worker'\u001b[0m\u001b[1;33m)\u001b[0m\u001b[1;33m\u001b[0m\u001b[1;33m\u001b[0m\u001b[0m\n",
      "\u001b[1;32m~\\anaconda3\\lib\\multiprocessing\\process.py\u001b[0m in \u001b[0;36mstart\u001b[1;34m(self)\u001b[0m\n\u001b[0;32m    119\u001b[0m                \u001b[1;34m'daemonic processes are not allowed to have children'\u001b[0m\u001b[1;33m\u001b[0m\u001b[1;33m\u001b[0m\u001b[0m\n\u001b[0;32m    120\u001b[0m         \u001b[0m_cleanup\u001b[0m\u001b[1;33m(\u001b[0m\u001b[1;33m)\u001b[0m\u001b[1;33m\u001b[0m\u001b[1;33m\u001b[0m\u001b[0m\n\u001b[1;32m--> 121\u001b[1;33m         \u001b[0mself\u001b[0m\u001b[1;33m.\u001b[0m\u001b[0m_popen\u001b[0m \u001b[1;33m=\u001b[0m \u001b[0mself\u001b[0m\u001b[1;33m.\u001b[0m\u001b[0m_Popen\u001b[0m\u001b[1;33m(\u001b[0m\u001b[0mself\u001b[0m\u001b[1;33m)\u001b[0m\u001b[1;33m\u001b[0m\u001b[1;33m\u001b[0m\u001b[0m\n\u001b[0m\u001b[0;32m    122\u001b[0m         \u001b[0mself\u001b[0m\u001b[1;33m.\u001b[0m\u001b[0m_sentinel\u001b[0m \u001b[1;33m=\u001b[0m \u001b[0mself\u001b[0m\u001b[1;33m.\u001b[0m\u001b[0m_popen\u001b[0m\u001b[1;33m.\u001b[0m\u001b[0msentinel\u001b[0m\u001b[1;33m\u001b[0m\u001b[1;33m\u001b[0m\u001b[0m\n\u001b[0;32m    123\u001b[0m         \u001b[1;31m# Avoid a refcycle if the target function holds an indirect\u001b[0m\u001b[1;33m\u001b[0m\u001b[1;33m\u001b[0m\u001b[1;33m\u001b[0m\u001b[0m\n",
      "\u001b[1;32m~\\anaconda3\\lib\\multiprocessing\\context.py\u001b[0m in \u001b[0;36m_Popen\u001b[1;34m(process_obj)\u001b[0m\n\u001b[0;32m    325\u001b[0m         \u001b[1;32mdef\u001b[0m \u001b[0m_Popen\u001b[0m\u001b[1;33m(\u001b[0m\u001b[0mprocess_obj\u001b[0m\u001b[1;33m)\u001b[0m\u001b[1;33m:\u001b[0m\u001b[1;33m\u001b[0m\u001b[1;33m\u001b[0m\u001b[0m\n\u001b[0;32m    326\u001b[0m             \u001b[1;32mfrom\u001b[0m \u001b[1;33m.\u001b[0m\u001b[0mpopen_spawn_win32\u001b[0m \u001b[1;32mimport\u001b[0m \u001b[0mPopen\u001b[0m\u001b[1;33m\u001b[0m\u001b[1;33m\u001b[0m\u001b[0m\n\u001b[1;32m--> 327\u001b[1;33m             \u001b[1;32mreturn\u001b[0m \u001b[0mPopen\u001b[0m\u001b[1;33m(\u001b[0m\u001b[0mprocess_obj\u001b[0m\u001b[1;33m)\u001b[0m\u001b[1;33m\u001b[0m\u001b[1;33m\u001b[0m\u001b[0m\n\u001b[0m\u001b[0;32m    328\u001b[0m \u001b[1;33m\u001b[0m\u001b[0m\n\u001b[0;32m    329\u001b[0m     \u001b[1;32mclass\u001b[0m \u001b[0mSpawnContext\u001b[0m\u001b[1;33m(\u001b[0m\u001b[0mBaseContext\u001b[0m\u001b[1;33m)\u001b[0m\u001b[1;33m:\u001b[0m\u001b[1;33m\u001b[0m\u001b[1;33m\u001b[0m\u001b[0m\n",
      "\u001b[1;32m~\\anaconda3\\lib\\multiprocessing\\popen_spawn_win32.py\u001b[0m in \u001b[0;36m__init__\u001b[1;34m(self, process_obj)\u001b[0m\n\u001b[0;32m     91\u001b[0m             \u001b[1;32mtry\u001b[0m\u001b[1;33m:\u001b[0m\u001b[1;33m\u001b[0m\u001b[1;33m\u001b[0m\u001b[0m\n\u001b[0;32m     92\u001b[0m                 \u001b[0mreduction\u001b[0m\u001b[1;33m.\u001b[0m\u001b[0mdump\u001b[0m\u001b[1;33m(\u001b[0m\u001b[0mprep_data\u001b[0m\u001b[1;33m,\u001b[0m \u001b[0mto_child\u001b[0m\u001b[1;33m)\u001b[0m\u001b[1;33m\u001b[0m\u001b[1;33m\u001b[0m\u001b[0m\n\u001b[1;32m---> 93\u001b[1;33m                 \u001b[0mreduction\u001b[0m\u001b[1;33m.\u001b[0m\u001b[0mdump\u001b[0m\u001b[1;33m(\u001b[0m\u001b[0mprocess_obj\u001b[0m\u001b[1;33m,\u001b[0m \u001b[0mto_child\u001b[0m\u001b[1;33m)\u001b[0m\u001b[1;33m\u001b[0m\u001b[1;33m\u001b[0m\u001b[0m\n\u001b[0m\u001b[0;32m     94\u001b[0m             \u001b[1;32mfinally\u001b[0m\u001b[1;33m:\u001b[0m\u001b[1;33m\u001b[0m\u001b[1;33m\u001b[0m\u001b[0m\n\u001b[0;32m     95\u001b[0m                 \u001b[0mset_spawning_popen\u001b[0m\u001b[1;33m(\u001b[0m\u001b[1;32mNone\u001b[0m\u001b[1;33m)\u001b[0m\u001b[1;33m\u001b[0m\u001b[1;33m\u001b[0m\u001b[0m\n",
      "\u001b[1;32m~\\anaconda3\\lib\\multiprocessing\\reduction.py\u001b[0m in \u001b[0;36mdump\u001b[1;34m(obj, file, protocol)\u001b[0m\n\u001b[0;32m     58\u001b[0m \u001b[1;32mdef\u001b[0m \u001b[0mdump\u001b[0m\u001b[1;33m(\u001b[0m\u001b[0mobj\u001b[0m\u001b[1;33m,\u001b[0m \u001b[0mfile\u001b[0m\u001b[1;33m,\u001b[0m \u001b[0mprotocol\u001b[0m\u001b[1;33m=\u001b[0m\u001b[1;32mNone\u001b[0m\u001b[1;33m)\u001b[0m\u001b[1;33m:\u001b[0m\u001b[1;33m\u001b[0m\u001b[1;33m\u001b[0m\u001b[0m\n\u001b[0;32m     59\u001b[0m     \u001b[1;34m'''Replacement for pickle.dump() using ForkingPickler.'''\u001b[0m\u001b[1;33m\u001b[0m\u001b[1;33m\u001b[0m\u001b[0m\n\u001b[1;32m---> 60\u001b[1;33m     \u001b[0mForkingPickler\u001b[0m\u001b[1;33m(\u001b[0m\u001b[0mfile\u001b[0m\u001b[1;33m,\u001b[0m \u001b[0mprotocol\u001b[0m\u001b[1;33m)\u001b[0m\u001b[1;33m.\u001b[0m\u001b[0mdump\u001b[0m\u001b[1;33m(\u001b[0m\u001b[0mobj\u001b[0m\u001b[1;33m)\u001b[0m\u001b[1;33m\u001b[0m\u001b[1;33m\u001b[0m\u001b[0m\n\u001b[0m\u001b[0;32m     61\u001b[0m \u001b[1;33m\u001b[0m\u001b[0m\n\u001b[0;32m     62\u001b[0m \u001b[1;31m#\u001b[0m\u001b[1;33m\u001b[0m\u001b[1;33m\u001b[0m\u001b[1;33m\u001b[0m\u001b[0m\n",
      "\u001b[1;31mOSError\u001b[0m: [Errno 22] Invalid argument"
     ]
    }
   ],
   "source": [
    "%%time\n",
    "\n",
    "grid = {}\n",
    "grid['Validation_Set'] = {}\n",
    "# Topics range\n",
    "min_topics = 16\n",
    "max_topics = 20\n",
    "step_size = 1\n",
    "topics_range = range(min_topics, max_topics+1, step_size)\n",
    "\n",
    "# Alpha parameter\n",
    "alpha = ['asymmetric'] # Run for number of topics only\n",
    "\n",
    "# Beta parameter\n",
    "beta = ['auto'] # Run for number of topics only\n",
    "\n",
    "# Validation sets\n",
    "num_of_docs = len(doc_term_matrix)\n",
    "corpus_sets = [doc_term_matrix]\n",
    "corpus_title = ['100% Corpus']\n",
    "model_results = {\n",
    "                 'Topics': [],\n",
    "                 'Alpha': [],\n",
    "                 'Beta': [],\n",
    "                 'Coherence': []\n",
    "                }\n",
    "\n",
    "itr = 0\n",
    "itr_total = len(beta)*len(alpha)*len(topics_range)*len(corpus_title)\n",
    "print(f'LDA will execute {itr_total} iterations')\n",
    "\n",
    "# iterate through hyperparameters\n",
    "for i in range(len(corpus_sets)):\n",
    "    # iterate through number of topics\n",
    "    for k in topics_range:\n",
    "        # iterate through alpha values\n",
    "        tic()\n",
    "        for a in alpha:\n",
    "            # iterare through beta values\n",
    "            for b in beta:\n",
    "                # get the coherence score for the given parameters\n",
    "                itr += 1\n",
    "                cv = compute_coherence_values(corpus=corpus_sets[i], dictionary=dictionary, \n",
    "                                              k=k, a=a, b=b)\n",
    "                # Save the model results\n",
    "                model_results['Topics'].append(k)\n",
    "                model_results['Alpha'].append(a)\n",
    "                model_results['Beta'].append(b)\n",
    "                model_results['Coherence'].append(cv)\n",
    "                pct_completed = round((itr / itr_total * 100),1)\n",
    "#                 print(f'Completed Percent: {pct_completed}%, Corpus: {corpus_title[i]}, Topics: {k}, Alpha: {a}, Beta: {b}, Coherence: {cv}')\n",
    "        print(f'Completed model based on {k} LDA topics. Finished {pct_completed}% of LDA runs')\n",
    "        tac()"
   ]
  },
  {
   "cell_type": "code",
   "execution_count": 42,
   "metadata": {},
   "outputs": [],
   "source": [
    "lda_tuning_16_19 = pd.DataFrame(model_results)"
   ]
  },
  {
   "cell_type": "code",
   "execution_count": 43,
   "metadata": {},
   "outputs": [
    {
     "data": {
      "text/html": [
       "<div>\n",
       "<style scoped>\n",
       "    .dataframe tbody tr th:only-of-type {\n",
       "        vertical-align: middle;\n",
       "    }\n",
       "\n",
       "    .dataframe tbody tr th {\n",
       "        vertical-align: top;\n",
       "    }\n",
       "\n",
       "    .dataframe thead th {\n",
       "        text-align: right;\n",
       "    }\n",
       "</style>\n",
       "<table border=\"1\" class=\"dataframe\">\n",
       "  <thead>\n",
       "    <tr style=\"text-align: right;\">\n",
       "      <th></th>\n",
       "      <th>Topics</th>\n",
       "      <th>Alpha</th>\n",
       "      <th>Beta</th>\n",
       "      <th>Coherence</th>\n",
       "    </tr>\n",
       "  </thead>\n",
       "  <tbody>\n",
       "    <tr>\n",
       "      <th>2</th>\n",
       "      <td>18</td>\n",
       "      <td>asymmetric</td>\n",
       "      <td>auto</td>\n",
       "      <td>0.515411</td>\n",
       "    </tr>\n",
       "    <tr>\n",
       "      <th>3</th>\n",
       "      <td>19</td>\n",
       "      <td>asymmetric</td>\n",
       "      <td>auto</td>\n",
       "      <td>0.500278</td>\n",
       "    </tr>\n",
       "    <tr>\n",
       "      <th>1</th>\n",
       "      <td>17</td>\n",
       "      <td>asymmetric</td>\n",
       "      <td>auto</td>\n",
       "      <td>0.463183</td>\n",
       "    </tr>\n",
       "    <tr>\n",
       "      <th>0</th>\n",
       "      <td>16</td>\n",
       "      <td>asymmetric</td>\n",
       "      <td>auto</td>\n",
       "      <td>0.448947</td>\n",
       "    </tr>\n",
       "  </tbody>\n",
       "</table>\n",
       "</div>"
      ],
      "text/plain": [
       "   Topics       Alpha  Beta  Coherence\n",
       "2      18  asymmetric  auto   0.515411\n",
       "3      19  asymmetric  auto   0.500278\n",
       "1      17  asymmetric  auto   0.463183\n",
       "0      16  asymmetric  auto   0.448947"
      ]
     },
     "execution_count": 43,
     "metadata": {},
     "output_type": "execute_result"
    }
   ],
   "source": [
    "# Best LDA parameters\n",
    "lda_tuning_16_19.sort_values(by=['Coherence'], ascending=False).head(10)"
   ]
  },
  {
   "cell_type": "code",
   "execution_count": 50,
   "metadata": {},
   "outputs": [
    {
     "data": {
      "text/plain": [
       "<AxesSubplot:xlabel='Topics'>"
      ]
     },
     "execution_count": 50,
     "metadata": {},
     "output_type": "execute_result"
    },
    {
     "data": {
      "image/png": "[encoded data removed]",
      "text/plain": [
       "<Figure size 432x288 with 1 Axes>"
      ]
     },
     "metadata": {
      "needs_background": "light"
     },
     "output_type": "display_data"
    }
   ],
   "source": [
    "lda_tuning_16_19.plot(x ='Topics', y='Coherence', kind = 'line', xticks=range(16,20))"
   ]
  },
  {
   "cell_type": "code",
   "execution_count": 47,
   "metadata": {},
   "outputs": [],
   "source": [
    "lda_tuning_16_19.to_csv(os.path.join('lda_tuning_results_16_19.csv'), index=False)"
   ]
  },
  {
   "cell_type": "code",
   "execution_count": 48,
   "metadata": {},
   "outputs": [],
   "source": [
    "lda_tuning_16_19.to_pickle(\"./lda_tuning_16_19.pkl\")"
   ]
  },
  {
   "cell_type": "code",
   "execution_count": 15,
   "metadata": {},
   "outputs": [],
   "source": [
    "lda_tuning_16_19 = pd.read_pickle('lda_tuning_16_19.pkl')"
   ]
  },
  {
   "cell_type": "markdown",
   "metadata": {},
   "source": [
    "### 20-21 topics"
   ]
  },
  {
   "cell_type": "code",
   "execution_count": 15,
   "metadata": {
    "scrolled": false
   },
   "outputs": [
    {
     "name": "stdout",
     "output_type": "stream",
     "text": [
      "LDA will execute 2 iterations\n",
      "Completed model based on 20 LDA topics. Finished 50.0% of LDA runs\n",
      "Execution time to calculate for topic 20: 0hour:23min:45sec\n",
      "Completed model based on 21 LDA topics. Finished 100.0% of LDA runs\n",
      "Execution time to calculate for topic 21: 0hour:24min:38sec\n",
      "CPU times: user 33min 15s, sys: 21min 27s, total: 54min 42s\n",
      "Wall time: 48min 23s\n"
     ]
    }
   ],
   "source": [
    "%%time\n",
    "\n",
    "grid = {}\n",
    "grid['Validation_Set'] = {}\n",
    "# Topics range\n",
    "min_topics = 20\n",
    "max_topics = 21\n",
    "step_size = 1\n",
    "topics_range = range(min_topics, max_topics+1, step_size)\n",
    "\n",
    "# Alpha parameter\n",
    "alpha = ['asymmetric'] # Run for number of topics only\n",
    "\n",
    "# Beta parameter\n",
    "beta = ['auto'] # Run for number of topics only\n",
    "\n",
    "# Validation sets\n",
    "num_of_docs = len(doc_term_matrix)\n",
    "corpus_sets = [doc_term_matrix]\n",
    "corpus_title = ['100% Corpus']\n",
    "model_results = {\n",
    "                 'Topics': [],\n",
    "                 'Alpha': [],\n",
    "                 'Beta': [],\n",
    "                 'Coherence': []\n",
    "                }\n",
    "\n",
    "itr = 0\n",
    "itr_total = len(beta)*len(alpha)*len(topics_range)*len(corpus_title)\n",
    "print(f'LDA will execute {itr_total} iterations')\n",
    "\n",
    "# iterate through hyperparameters\n",
    "for i in range(len(corpus_sets)):\n",
    "    # iterate through number of topics\n",
    "    for k in topics_range:\n",
    "        # iterate through alpha values\n",
    "        tic()\n",
    "        for a in alpha:\n",
    "            # iterare through beta values\n",
    "            for b in beta:\n",
    "                # get the coherence score for the given parameters\n",
    "                itr += 1\n",
    "                cv = compute_coherence_values(corpus=corpus_sets[i], dictionary=dictionary, \n",
    "                                              k=k, a=a, b=b)\n",
    "                # Save the model results\n",
    "                model_results['Topics'].append(k)\n",
    "                model_results['Alpha'].append(a)\n",
    "                model_results['Beta'].append(b)\n",
    "                model_results['Coherence'].append(cv)\n",
    "                pct_completed = round((itr / itr_total * 100),1)\n",
    "#                 print(f'Completed Percent: {pct_completed}%, Corpus: {corpus_title[i]}, Topics: {k}, Alpha: {a}, Beta: {b}, Coherence: {cv}')\n",
    "        print(f'Completed model based on {k} LDA topics. Finished {pct_completed}% of LDA runs')\n",
    "        tac()"
   ]
  },
  {
   "cell_type": "code",
   "execution_count": 16,
   "metadata": {},
   "outputs": [],
   "source": [
    "lda_tuning_20_21 = pd.DataFrame(model_results)"
   ]
  },
  {
   "cell_type": "code",
   "execution_count": 17,
   "metadata": {},
   "outputs": [
    {
     "data": {
      "text/html": [
       "<div>\n",
       "<style scoped>\n",
       "    .dataframe tbody tr th:only-of-type {\n",
       "        vertical-align: middle;\n",
       "    }\n",
       "\n",
       "    .dataframe tbody tr th {\n",
       "        vertical-align: top;\n",
       "    }\n",
       "\n",
       "    .dataframe thead th {\n",
       "        text-align: right;\n",
       "    }\n",
       "</style>\n",
       "<table border=\"1\" class=\"dataframe\">\n",
       "  <thead>\n",
       "    <tr style=\"text-align: right;\">\n",
       "      <th></th>\n",
       "      <th>Topics</th>\n",
       "      <th>Alpha</th>\n",
       "      <th>Beta</th>\n",
       "      <th>Coherence</th>\n",
       "    </tr>\n",
       "  </thead>\n",
       "  <tbody>\n",
       "    <tr>\n",
       "      <th>1</th>\n",
       "      <td>21</td>\n",
       "      <td>asymmetric</td>\n",
       "      <td>auto</td>\n",
       "      <td>0.450092</td>\n",
       "    </tr>\n",
       "    <tr>\n",
       "      <th>0</th>\n",
       "      <td>20</td>\n",
       "      <td>asymmetric</td>\n",
       "      <td>auto</td>\n",
       "      <td>0.436051</td>\n",
       "    </tr>\n",
       "  </tbody>\n",
       "</table>\n",
       "</div>"
      ],
      "text/plain": [
       "   Topics       Alpha  Beta  Coherence\n",
       "1      21  asymmetric  auto   0.450092\n",
       "0      20  asymmetric  auto   0.436051"
      ]
     },
     "execution_count": 17,
     "metadata": {},
     "output_type": "execute_result"
    }
   ],
   "source": [
    "# Best LDA parameters\n",
    "lda_tuning_20_21.sort_values(by=['Coherence'], ascending=False).head(10)"
   ]
  },
  {
   "cell_type": "code",
   "execution_count": 18,
   "metadata": {},
   "outputs": [],
   "source": [
    "lda_tuning_20_21.to_csv(os.path.join('lda_tuning_results_20_21.csv'), index=False)"
   ]
  },
  {
   "cell_type": "code",
   "execution_count": 19,
   "metadata": {},
   "outputs": [],
   "source": [
    "lda_tuning_20_21.to_pickle(\"./lda_tuning_20_21.pkl\")"
   ]
  },
  {
   "cell_type": "code",
   "execution_count": 17,
   "metadata": {},
   "outputs": [],
   "source": [
    "lda_tuning_20_21 = pd.read_pickle('lda_tuning_20_21.pkl')"
   ]
  },
  {
   "cell_type": "markdown",
   "metadata": {},
   "source": [
    "### Final result"
   ]
  },
  {
   "cell_type": "code",
   "execution_count": 36,
   "metadata": {},
   "outputs": [],
   "source": [
    "frames = [lda_tuning, lda_tuning_16_19, lda_tuning_20_21]\n",
    "final_lda_result = pd.concat(frames)"
   ]
  },
  {
   "cell_type": "code",
   "execution_count": 37,
   "metadata": {},
   "outputs": [],
   "source": [
    "final_lda_result.to_csv(os.path.join('lda_tuning_final.csv'), index=False)"
   ]
  },
  {
   "cell_type": "code",
   "execution_count": 38,
   "metadata": {},
   "outputs": [],
   "source": [
    "final_lda_result.to_pickle(\"./final_lda_result.pkl\")"
   ]
  },
  {
   "cell_type": "code",
   "execution_count": null,
   "metadata": {},
   "outputs": [],
   "source": [
    "final_lda_result = pd.read_pickle('final_lda_result.pkl')"
   ]
  },
  {
   "cell_type": "code",
   "execution_count": 39,
   "metadata": {},
   "outputs": [
    {
     "data": {
      "text/plain": [
       "<AxesSubplot:xlabel='Topics'>"
      ]
     },
     "execution_count": 39,
     "metadata": {},
     "output_type": "execute_result"
    },
    {
     "data": {
      "image/png": "[encoded data removed]",
      "text/plain": [
       "<Figure size 432x288 with 1 Axes>"
      ]
     },
     "metadata": {
      "needs_background": "light"
     },
     "output_type": "display_data"
    }
   ],
   "source": [
    "final_lda_result.plot(x ='Topics', y='Coherence', kind = 'line', xticks=range(10,22))"
   ]
  },
  {
   "cell_type": "code",
   "execution_count": 40,
   "metadata": {},
   "outputs": [
    {
     "data": {
      "text/html": [
       "<div>\n",
       "<style scoped>\n",
       "    .dataframe tbody tr th:only-of-type {\n",
       "        vertical-align: middle;\n",
       "    }\n",
       "\n",
       "    .dataframe tbody tr th {\n",
       "        vertical-align: top;\n",
       "    }\n",
       "\n",
       "    .dataframe thead th {\n",
       "        text-align: right;\n",
       "    }\n",
       "</style>\n",
       "<table border=\"1\" class=\"dataframe\">\n",
       "  <thead>\n",
       "    <tr style=\"text-align: right;\">\n",
       "      <th></th>\n",
       "      <th>Topics</th>\n",
       "      <th>Alpha</th>\n",
       "      <th>Beta</th>\n",
       "      <th>Coherence</th>\n",
       "    </tr>\n",
       "  </thead>\n",
       "  <tbody>\n",
       "    <tr>\n",
       "      <th>2</th>\n",
       "      <td>18</td>\n",
       "      <td>asymmetric</td>\n",
       "      <td>auto</td>\n",
       "      <td>0.515411</td>\n",
       "    </tr>\n",
       "    <tr>\n",
       "      <th>3</th>\n",
       "      <td>13</td>\n",
       "      <td>asymmetric</td>\n",
       "      <td>auto</td>\n",
       "      <td>0.511738</td>\n",
       "    </tr>\n",
       "    <tr>\n",
       "      <th>4</th>\n",
       "      <td>14</td>\n",
       "      <td>asymmetric</td>\n",
       "      <td>auto</td>\n",
       "      <td>0.504834</td>\n",
       "    </tr>\n",
       "    <tr>\n",
       "      <th>1</th>\n",
       "      <td>11</td>\n",
       "      <td>asymmetric</td>\n",
       "      <td>auto</td>\n",
       "      <td>0.502225</td>\n",
       "    </tr>\n",
       "    <tr>\n",
       "      <th>2</th>\n",
       "      <td>12</td>\n",
       "      <td>asymmetric</td>\n",
       "      <td>auto</td>\n",
       "      <td>0.501802</td>\n",
       "    </tr>\n",
       "    <tr>\n",
       "      <th>5</th>\n",
       "      <td>15</td>\n",
       "      <td>asymmetric</td>\n",
       "      <td>auto</td>\n",
       "      <td>0.501142</td>\n",
       "    </tr>\n",
       "    <tr>\n",
       "      <th>3</th>\n",
       "      <td>19</td>\n",
       "      <td>asymmetric</td>\n",
       "      <td>auto</td>\n",
       "      <td>0.500278</td>\n",
       "    </tr>\n",
       "    <tr>\n",
       "      <th>0</th>\n",
       "      <td>10</td>\n",
       "      <td>asymmetric</td>\n",
       "      <td>auto</td>\n",
       "      <td>0.491126</td>\n",
       "    </tr>\n",
       "    <tr>\n",
       "      <th>1</th>\n",
       "      <td>17</td>\n",
       "      <td>asymmetric</td>\n",
       "      <td>auto</td>\n",
       "      <td>0.463183</td>\n",
       "    </tr>\n",
       "    <tr>\n",
       "      <th>1</th>\n",
       "      <td>21</td>\n",
       "      <td>asymmetric</td>\n",
       "      <td>auto</td>\n",
       "      <td>0.450092</td>\n",
       "    </tr>\n",
       "    <tr>\n",
       "      <th>0</th>\n",
       "      <td>16</td>\n",
       "      <td>asymmetric</td>\n",
       "      <td>auto</td>\n",
       "      <td>0.448947</td>\n",
       "    </tr>\n",
       "    <tr>\n",
       "      <th>0</th>\n",
       "      <td>20</td>\n",
       "      <td>asymmetric</td>\n",
       "      <td>auto</td>\n",
       "      <td>0.436051</td>\n",
       "    </tr>\n",
       "  </tbody>\n",
       "</table>\n",
       "</div>"
      ],
      "text/plain": [
       "   Topics       Alpha  Beta  Coherence\n",
       "2      18  asymmetric  auto   0.515411\n",
       "3      13  asymmetric  auto   0.511738\n",
       "4      14  asymmetric  auto   0.504834\n",
       "1      11  asymmetric  auto   0.502225\n",
       "2      12  asymmetric  auto   0.501802\n",
       "5      15  asymmetric  auto   0.501142\n",
       "3      19  asymmetric  auto   0.500278\n",
       "0      10  asymmetric  auto   0.491126\n",
       "1      17  asymmetric  auto   0.463183\n",
       "1      21  asymmetric  auto   0.450092\n",
       "0      16  asymmetric  auto   0.448947\n",
       "0      20  asymmetric  auto   0.436051"
      ]
     },
     "execution_count": 40,
     "metadata": {},
     "output_type": "execute_result"
    }
   ],
   "source": [
    "final_lda_result.sort_values(by=['Coherence'], ascending=False)"
   ]
  },
  {
   "cell_type": "markdown",
   "metadata": {},
   "source": [
    "### Visualization"
   ]
  },
  {
   "cell_type": "code",
   "execution_count": 7,
   "metadata": {
    "scrolled": true
   },
   "outputs": [
    {
     "name": "stderr",
     "output_type": "stream",
     "text": [
      "C:\\Users\\60357\\anaconda3\\lib\\site-packages\\sklearn\\decomposition\\_lda.py:28: DeprecationWarning: `np.float` is a deprecated alias for the builtin `float`. To silence this warning, use `float` by itself. Doing this will not modify any behavior and is safe. If you specifically wanted the numpy scalar type, use `np.float64` here.\n",
      "Deprecated in NumPy 1.20; for more details and guidance: https://numpy.org/devdocs/release/1.20.0-notes.html#deprecations\n",
      "  EPS = np.finfo(np.float).eps\n"
     ]
    }
   ],
   "source": [
    "import pyLDAvis\n",
    "import pyLDAvis.gensim_models as gensimvis\n",
    "pyLDAvis.enable_notebook()"
   ]
  },
  {
   "cell_type": "markdown",
   "metadata": {},
   "source": [
    "#### Final Model with lowest duplication - Topics: 16, Alpha: 0.61, Beta: symmetric (5th highest coherence)"
   ]
  },
  {
   "cell_type": "code",
   "execution_count": 31,
   "metadata": {},
   "outputs": [
    {
     "name": "stdout",
     "output_type": "stream",
     "text": [
      "Best Parameters: Topics: 18, Alpha: asymmetric, Beta: auto\n"
     ]
    },
    {
     "name": "stderr",
     "output_type": "stream",
     "text": [
      "C:\\Users\\60357\\anaconda3\\lib\\site-packages\\ipykernel\\ipkernel.py:287: DeprecationWarning: `should_run_async` will not call `transform_cell` automatically in the future. Please pass the result to `transformed_cell` argument and any exception that happen during thetransform in `preprocessing_exc_tuple` in IPython 7.17 and above.\n",
      "  and should_run_async(code)\n"
     ]
    }
   ],
   "source": [
    "#lda_tuning_best = lda_tuning_v2.sort_values(by=['Coherence'], ascending=False).head(1)\n",
    "#lda_tuning_best = pd.DataFrame(final_lda_result.sort_values(by=['Coherence'], ascending=False).iloc[4]).T\n",
    "lda_tuning_best = final_lda_result.sort_values(by=['Coherence'], ascending=False).head(1)\n",
    "tuned_topics = int(lda_tuning_best['Topics'].to_string(index=False))\n",
    "\n",
    "# Since the values for Alpha and Beta can be float, symmetric and asymmetric, \n",
    "# we will either strip or convert to float\n",
    "try:\n",
    "    tuned_alpha = float(lda_tuning_best['Alpha'].to_string(index=False))\n",
    "except:\n",
    "    tuned_alpha = lda_tuning_best['Alpha'].to_string(index=False).strip()\n",
    "    \n",
    "\n",
    "try:\n",
    "    tuned_beta = float(lda_tuning_best['Beta'].to_string(index=False))\n",
    "except:\n",
    "    tuned_beta = lda_tuning_best['Beta'].to_string(index=False).strip()    \n",
    "    \n",
    "print(f'Best Parameters: Topics: {tuned_topics}, Alpha: {tuned_alpha}, Beta: {tuned_beta}')"
   ]
  },
  {
   "cell_type": "code",
   "execution_count": 32,
   "metadata": {},
   "outputs": [
    {
     "name": "stderr",
     "output_type": "stream",
     "text": [
      "C:\\Users\\60357\\anaconda3\\lib\\site-packages\\ipykernel\\ipkernel.py:287: DeprecationWarning: `should_run_async` will not call `transform_cell` automatically in the future. Please pass the result to `transformed_cell` argument and any exception that happen during thetransform in `preprocessing_exc_tuple` in IPython 7.17 and above.\n",
      "  and should_run_async(code)\n"
     ]
    },
    {
     "name": "stdout",
     "output_type": "stream",
     "text": [
      "\n",
      "Coherence Score:  0.5167997082414972\n",
      "Wall time: 28min 29s\n"
     ]
    }
   ],
   "source": [
    "%%time\n",
    "\n",
    "tuned_lda_model = LdaMulticore(corpus=doc_term_matrix,\n",
    "                       id2word=dictionary,\n",
    "                       num_topics=tuned_topics,\n",
    "                       random_state=100,\n",
    "                       passes=10,\n",
    "                       alpha=tuned_alpha,\n",
    "                       eta=tuned_beta,\n",
    "                       workers = workers)\n",
    "\n",
    "coherence_model_lda = CoherenceModel(model=tuned_lda_model, texts=data_lemmatized, dictionary=dictionary, coherence='c_v')\n",
    "print('\\nCoherence Score: ', coherence_model_lda.get_coherence())"
   ]
  },
  {
   "cell_type": "code",
   "execution_count": 33,
   "metadata": {},
   "outputs": [
    {
     "name": "stderr",
     "output_type": "stream",
     "text": [
      "C:\\Users\\60357\\anaconda3\\lib\\site-packages\\ipykernel\\ipkernel.py:287: DeprecationWarning: `should_run_async` will not call `transform_cell` automatically in the future. Please pass the result to `transformed_cell` argument and any exception that happen during thetransform in `preprocessing_exc_tuple` in IPython 7.17 and above.\n",
      "  and should_run_async(code)\n"
     ]
    },
    {
     "name": "stdout",
     "output_type": "stream",
     "text": [
      "[(0,\n",
      "  '0.010*\"company\" + 0.007*\"work\" + 0.007*\"program\" + 0.006*\"include\" + '\n",
      "  '0.005*\"provide\" + 0.005*\"business\" + 0.005*\"service\" + 0.004*\"support\" + '\n",
      "  '0.004*\"team\" + 0.004*\"new\"'),\n",
      " (1,\n",
      "  '0.014*\"say\" + 0.007*\"city\" + 0.006*\"accord\" + 0.005*\"year\" + 0.004*\"news\" + '\n",
      "  '0.004*\"report\" + 0.004*\"area\" + 0.004*\"state\" + 0.004*\"expect\" + '\n",
      "  '0.003*\"also\"'),\n",
      " (2,\n",
      "  '0.015*\"also\" + 0.014*\"well\" + 0.008*\"alcohol\" + 0.007*\"individual\" + '\n",
      "  '0.006*\"use\" + 0.005*\"time\" + 0.005*\"treatment\" + 0.005*\"person\" + '\n",
      "  '0.004*\"content\" + 0.004*\"need\"'),\n",
      " (3,\n",
      "  '0.015*\"game\" + 0.012*\"team\" + 0.011*\"season\" + 0.010*\"go\" + 0.009*\"get\" + '\n",
      "  '0.009*\"play\" + 0.008*\"bear\" + 0.006*\"make\" + 0.006*\"say\" + 0.005*\"win\"'),\n",
      " (4,\n",
      "  '0.010*\"get\" + 0.006*\"use\" + 0.006*\"need\" + 0.005*\"time\" + 0.004*\"also\" + '\n",
      "  '0.004*\"find\" + 0.004*\"lawyer\" + 0.004*\"go\" + 0.004*\"company\" + '\n",
      "  '0.004*\"work\"'),\n",
      " (5,\n",
      "  '0.019*\"roof\" + 0.007*\"repair\" + 0.006*\"cookie\" + 0.006*\"set\" + 0.006*\"door\" '\n",
      "  '+ 0.005*\"roofing\" + 0.005*\"use\" + 0.003*\"contractor\" + 0.003*\"website\" + '\n",
      "  '0.003*\"estimate\"'),\n",
      " (6,\n",
      "  '0.019*\"sweepstake\" + 0.015*\"sponsor\" + 0.015*\"prize\" + 0.009*\"winner\" + '\n",
      "  '0.009*\"entrant\" + 0.007*\"award\" + 0.007*\"right\" + 0.007*\"participate\" + '\n",
      "  '0.007*\"responsible\" + 0.007*\"time\"'),\n",
      " (7,\n",
      "  '0.023*\"say\" + 0.007*\"state\" + 0.006*\"accord\" + 0.005*\"get\" + 0.005*\"take\" + '\n",
      "  '0.005*\"people\" + 0.004*\"charge\" + 0.004*\"city\" + 0.004*\"year\" + '\n",
      "  '0.004*\"police\"'),\n",
      " (8,\n",
      "  '0.015*\"state\" + 0.014*\"covid\" + 0.007*\"accord\" + 0.006*\"say\" + 0.005*\"case\" '\n",
      "  '+ 0.005*\"people\" + 0.005*\"hospital\" + 0.004*\"virus\" + 0.004*\"report\" + '\n",
      "  '0.004*\"adsbygoogle_window_adsbygoogle_push\"'),\n",
      " (9,\n",
      "  '0.015*\"pizza\" + 0.013*\"well\" + 0.012*\"also\" + 0.006*\"top\" + 0.005*\"dough\" + '\n",
      "  '0.004*\"side\" + 0.004*\"use\" + 0.004*\"make\" + 0.004*\"crust\" + '\n",
      "  '0.004*\"chicago_style\"'),\n",
      " (10,\n",
      "  '0.036*\"share\" + 0.023*\"stock\" + 0.020*\"additional_share\" + 0.018*\"company\" '\n",
      "  '+ 0.015*\"owns_share\" + 0.013*\"illinois_tool_work\" + 0.012*\"value\" + '\n",
      "  '0.012*\"holding\" + 0.011*\"position\" + 0.011*\"stake\"'),\n",
      " (11,\n",
      "  '0.024*\"also\" + 0.022*\"well\" + 0.009*\"need\" + 0.007*\"get\" + 0.006*\"work\" + '\n",
      "  '0.005*\"make\" + 0.004*\"certainly\" + 0.004*\"time\" + 0.004*\"go\" + '\n",
      "  '0.004*\"home\"'),\n",
      " (12,\n",
      "  '0.008*\"go\" + 0.007*\"say\" + 0.007*\"get\" + 0.007*\"see\" + 0.006*\"show\" + '\n",
      "  '0.006*\"make\" + 0.005*\"know\" + 0.005*\"time\" + 0.005*\"want\" + 0.004*\"come\"'),\n",
      " (13,\n",
      "  '0.013*\"also\" + 0.010*\"well\" + 0.008*\"go\" + 0.007*\"actually\" + 0.006*\"rock\" '\n",
      "  '+ 0.005*\"sale\" + 0.005*\"moon_rock\" + 0.005*\"make\" + 0.005*\"know\" + '\n",
      "  '0.004*\"even\"'),\n",
      " (14,\n",
      "  '0.012*\"ad\" + 0.008*\"_\" + 0.007*\"card_carousel\" + 0.005*\"change\" + '\n",
      "  '0.005*\"true_trackactive_card_carousel__bind\" + 0.004*\"watch\" + '\n",
      "  '0.003*\"trackactive\" + 0.003*\"use\" + 0.003*\"quote\" + 0.003*\"previous_week\"'),\n",
      " (15,\n",
      "  '0.022*\"mom\" + 0.017*\"dad\" + 0.015*\"court\" + 0.015*\"also\" + 0.013*\"well\" + '\n",
      "  '0.011*\"parent\" + 0.011*\"child\" + 0.010*\"kid\" + 0.008*\"state\" + '\n",
      "  '0.008*\"youngster\"'),\n",
      " (16,\n",
      "  '0.026*\"school\" + 0.019*\"student\" + 0.019*\"say\" + 0.011*\"district\" + '\n",
      "  '0.008*\"teacher\" + 0.007*\"return\" + 0.006*\"union\" + 0.006*\"covid\" + '\n",
      "  '0.006*\"parent\" + 0.006*\"child\"'),\n",
      " (17,\n",
      "  '0.021*\"point\" + 0.020*\"shoot\" + 0.015*\"game\" + 0.011*\"season\" + '\n",
      "  '0.010*\"last_game\" + 0.009*\"field_opponent\" + 0.008*\"bull\" + 0.007*\"go\" + '\n",
      "  '0.006*\"lead\" + 0.005*\"per_game\"')]\n"
     ]
    }
   ],
   "source": [
    "# Print the Keyword in the 18 topics\n",
    "pprint(tuned_lda_model.print_topics())"
   ]
  },
  {
   "cell_type": "code",
   "execution_count": 34,
   "metadata": {},
   "outputs": [
    {
     "name": "stderr",
     "output_type": "stream",
     "text": [
      "C:\\Users\\60357\\anaconda3\\lib\\site-packages\\ipykernel\\ipkernel.py:287: DeprecationWarning: `should_run_async` will not call `transform_cell` automatically in the future. Please pass the result to `transformed_cell` argument and any exception that happen during thetransform in `preprocessing_exc_tuple` in IPython 7.17 and above.\n",
      "  and should_run_async(code)\n"
     ]
    }
   ],
   "source": [
    "pickle.dump(tuned_lda_model, open('tuned_lda_model.pkl', 'wb'))"
   ]
  },
  {
   "cell_type": "code",
   "execution_count": 4,
   "metadata": {},
   "outputs": [],
   "source": [
    "tuned_lda_model = pickle.load(open('tuned_lda_model.pkl', 'rb'))"
   ]
  },
  {
   "cell_type": "code",
   "execution_count": 8,
   "metadata": {},
   "outputs": [
    {
     "name": "stderr",
     "output_type": "stream",
     "text": [
      "C:\\Users\\60357\\anaconda3\\lib\\site-packages\\ipykernel\\ipkernel.py:287: DeprecationWarning: `should_run_async` will not call `transform_cell` automatically in the future. Please pass the result to `transformed_cell` argument and any exception that happen during thetransform in `preprocessing_exc_tuple` in IPython 7.17 and above.\n",
      "  and should_run_async(code)\n"
     ]
    },
    {
     "name": "stdout",
     "output_type": "stream",
     "text": [
      "Wall time: 5min 57s\n"
     ]
    },
    {
     "data": {
      "text/html": [
       "\n",
       "<link rel=\"stylesheet\" type=\"text/css\" href=\"https://cdn.jsdelivr.net/gh/bmabey/pyLDAvis@3.3.1/pyLDAvis/js/ldavis.v1.0.0.css\">\n",
       "\n",
       "\n",
       "<div id=\"ldavis_el1640022827800533924494940583\"></div>\n",
       "<script type=\"text/javascript\">\n",
       "\n",
       "var ldavis_el1640022827800533924494940583_data = {\"mdsDat\": {\"x\": [0.1636744533986218, 0.018089473371900044, -0.025353937846397858, -0.2095756186484155, 0.05214493998159332, 0.31246682974961665, 0.14522152962860882, -0.11428009140111929, -0.3016872262539045, 0.24359729691418142, 0.48028046250369844, 0.0967936487186915, -0.07117515427197979, -0.11727165554282469, 0.1731527756099698, -0.270607862412288, -0.13846727287145477, -0.43700259062849733], \"y\": [-0.08395080239758476, -0.2223258328625003, 0.21194507665284235, 0.02408884492311553, 0.004457761722203237, -0.1748628396071042, 0.4401474471327618, -0.18522744392568607, -0.05329160096970941, 0.20357987725489457, 0.04945333017761354, 0.12558120333468376, -0.08107533589731196, 0.3360737447721826, -0.39579816021474407, 0.2569005111390878, -0.3090619381533395, -0.146633843081405], \"topics\": [1, 2, 3, 4, 5, 6, 7, 8, 9, 10, 11, 12, 13, 14, 15, 16, 17, 18], \"cluster\": [1, 1, 1, 1, 1, 1, 1, 1, 1, 1, 1, 1, 1, 1, 1, 1, 1, 1], \"Freq\": [8.669883402796135, 7.60256123703551, 2.9586962328547175, 15.153019787119353, 10.176828749940036, 1.023950741922403, 3.254567183707744, 13.88571956570534, 1.9837210356250752, 1.9130706869074439, 3.5752787480746133, 4.955416885914222, 14.216252428684943, 1.087859671680532, 0.993183229309286, 2.274703649907135, 4.786810153999385, 1.4884766088161312]}, \"tinfo\": {\"Term\": [\"game\", \"also\", \"say\", \"share\", \"well\", \"season\", \"school\", \"point\", \"company\", \"shoot\", \"state\", \"stock\", \"student\", \"go\", \"additional_share\", \"bull\", \"court\", \"sweepstake\", \"mom\", \"team\", \"play\", \"accord\", \"child\", \"covid\", \"sponsor\", \"use\", \"owns_share\", \"bear\", \"parent\", \"get\", \"short_form\", \"modal_body\", \"top_hire\", \"team_rebounds_team_turnover\", \"job_description\", \"join_mdjobsite_com\", \"percentages_fg_ft_point\", \"knoll\", \"medically_manage\", \"step_design\", \"step_model\", \"point_goal\", \"step_version\", \"chicago_business_wire\", \"future_event\", \"weather_data\", \"created_automatically\", \"position_title\", \"marketing_communication\", \"project_management\", \"sud_right\", \"centers_offer\", \"please_refer\", \"goal_vs_chicago_blackhawk\", \"action_program\", \"photos_uploade\", \"fit_various\", \"american_addiction\", \"step_facilitation\", \"compensation_act\", \"prnewswire_com_news_release\", \"copyright_business_wire_pub\", \"digital_markete\", \"social_scientist\", \"businesswire_com_news_home\", \"social_science\", \"en_contact\", \"forward_looking_statement\", \"sustainability\", \"risks_uncertaintie\", \"business_wire\", \"best_practice\", \"technology\", \"integration\", \"information_visit\", \"team_member\", \"mind_body\", \"industry\", \"innovation\", \"program\", \"portfolio\", \"investment\", \"initiative\", \"management\", \"company\", \"partnership\", \"employer\", \"growth\", \"get_starte\", \"partner\", \"research\", \"business\", \"employee\", \"project\", \"market\", \"client\", \"facility\", \"support\", \"expand\", \"service\", \"customer\", \"provide\", \"community\", \"patient\", \"operation\", \"include\", \"opportunity\", \"university\", \"product\", \"experience\", \"work\", \"information\", \"base\", \"ability\", \"new\", \"access\", \"serve\", \"com\", \"team\", \"year\", \"state\", \"use\", \"need\", \"help\", \"well\", \"lead\", \"make\", \"offer\", \"also\", \"document_documentelement\", \"php_pl_code_new\", \"text_javascript_src_https\", \"offsetwidth\", \"document_compatmode\", \"document_body\", \"offsetwidth_winw\", \"news_emovies_emusic_ebook\", \"news_news_video\", \"date_gettime_cript_posted\", \"date_gettime_cript_chicago\", \"chicago_videos_new_york\", \"videostagged_cbs_chicago\", \"city_new\", \"musk\", \"city_news\", \"news_videos_videos_wgn\", \"wgn_tagged_chicago\", \"news_videos_new_york\", \"var_winw\", \"bally\", \"credit_cb\", \"wind_chill\", \"snow_expecte\", \"document_body_document_body\", \"weather_alert\", \"direxion_daily\", \"person_registration\", \"robert_cohen_robert_cohen\", \"thunderstorm\", \"casino\", \"soybean\", \"winter_storm\", \"bushel\", \"ricketts_family\", \"https_chicago_suntime\", \"snow\", \"push_function_googletag_display\", \"chelsea\", \"googletag_cmd\", \"airport\", \"inch\", \"news_headline\", \"inflation\", \"gas\", \"flight\", \"gas_price\", \"interstate\", \"ukraine\", \"storm\", \"bid\", \"weather\", \"news\", \"high\", \"city\", \"chicago_new\", \"expect\", \"area\", \"say\", \"accord\", \"chicago_area\", \"low\", \"driver\", \"year\", \"report\", \"plan\", \"move\", \"country\", \"close\", \"price\", \"state\", \"number\", \"week\", \"site\", \"see\", \"day\", \"part\", \"new\", \"also\", \"continue\", \"make\", \"come\", \"get\", \"time\", \"zennie_media\", \"pre_alcoholic\", \"alcohol_induce\", \"constantly_worke\", \"ad_blocker\", \"media_inc\", \"aftercare\", \"system_network\", \"video_blogge\", \"scene_reporte\", \"expensive_camera\", \"video_upper_left_hand\", \"corner_oaklandnewsnow_com\", \"even_laptop\", \"news_interview\", \"smartphone_enable\", \"formatted_automatically\", \"happenings_anywhere\", \"video_blog_post_demonstrate\", \"zennie_media_inc\", \"zennie_create\", \"far_less_though\", \"promoting_current\", \"post_length\", \"oakland_news\", \"original_blog_post\", \"consider_turne\", \"blocks_ad\", \"uploaded_video\", \"news_media\", \"alcohol_rehabilitation\", \"addict\", \"detox\", \"dentist\", \"alcohol\", \"alcohol_drug\", \"best_drug_rehab_center\", \"addiction\", \"dependency\", \"within_second\", \"therapy\", \"detoxification\", \"number_one_rated_alcohol\", \"medication\", \"tooth\", \"treatment\", \"disposal\", \"youtube\", \"individual\", \"alcohol_addiction\", \"well\", \"medicine\", \"also\", \"content\", \"alcoholism\", \"person\", \"drug\", \"use\", \"phase\", \"type\", \"problem\", \"center\", \"time\", \"need\", \"site\", \"people\", \"get\", \"make\", \"kind\", \"find\", \"lot\", \"know\", \"day\", \"actually\", \"report\", \"free_agency\", \"lavine\", \"total_individual\", \"free_agent\", \"innings\", \"free_throw\", \"vucevic\", \"two_game\", \"regular_season\", \"played_game\", \"draft_pick\", \"total_employe\", \"seconds_left\", \"dosunmu\", \"win_game\", \"five_game\", \"last_season\", \"defensively\", \"hitter\", \"median_household\", \"puck\", \"bullpen\", \"big_man\", \"started_game\", \"income_percent\", \"nbc_sport\", \"pittsburgh_steeler\", \"cleveland_cavalier\", \"ayo_dosunmu\", \"strikeout\", \"illini\", \"poverty_line\", \"cockburn\", \"individuals_live\", \"offseason\", \"white_sox\", \"sox\", \"postseason\", \"chicago_white_sox\", \"first_half\", \"packer\", \"nfl_draft\", \"cub\", \"chicago_bear\", \"second_half\", \"player\", \"pole\", \"espn\", \"game\", \"ball\", \"league\", \"playoff\", \"roster\", \"derozan\", \"nfl\", \"bull\", \"bear\", \"nba\", \"draft\", \"season\", \"chicago_bull\", \"play\", \"team\", \"win\", \"offense\", \"score\", \"coach\", \"field\", \"match\", \"guy\", \"go\", \"point\", \"defense\", \"get\", \"start\", \"lead\", \"come\", \"make\", \"pick\", \"run\", \"year\", \"say\", \"take\", \"time\", \"first\", \"back\", \"see\", \"good\", \"look\", \"give\", \"end\", \"also\", \"think\", \"need\", \"know\", \"chicago_truck_accident_lawyer\", \"truck_accident\", \"chicago_accident_lawyer\", \"chicago_immigration_lawyer\", \"chicago_injury_lawyer\", \"chicago_employment_lawyer\", \"pay_day_loan\", \"chicago_police_brutality_lawyer\", \"chicago_car_accident\", \"purchaser\", \"legal_professional\", \"chicago_sexual_harassment_lawyer\", \"illinois_truck_accident_lawyer\", \"loan_provider\", \"payday_loan\", \"cash_advance\", \"chicago_semi_truck_accident\", \"payday_advance\", \"accident_lawyer\", \"monetary\", \"car_truck\", \"chicago_accident\", \"chicago_personal_injury\", \"may_perhap\", \"suppliers_anonymously\", \"chicago_employment_lawyers_content\", \"world_wide_web\", \"companies_anonymously\", \"vehicle_accident\", \"converse_politely\", \"scour\", \"practical_experience\", \"chicago_injury\", \"chicago_employment\", \"accident\", \"loan\", \"cbd\", \"mortgage\", \"critique\", \"could_possibly\", \"shopper\", \"financing\", \"lawyer\", \"web_site\", \"lender\", \"existence\", \"automobile\", \"scenario\", \"usually\", \"info\", \"method\", \"employ\", \"obtain\", \"simply\", \"circumstance\", \"possess\", \"regard\", \"get\", \"money\", \"use\", \"attorney\", \"individual\", \"need\", \"consumer\", \"cost\", \"fact\", \"payment\", \"amount\", \"condition\", \"case\", \"find\", \"service\", \"situation\", \"business\", \"discover\", \"company\", \"time\", \"good\", \"provide\", \"able\", \"help\", \"place\", \"work\", \"offer\", \"lot\", \"also\", \"go\", \"make\", \"even\", \"well\", \"know\", \"look\", \"right\", \"give\", \"homeadvisor\", \"cookies_help\", \"rapoport\", \"network_ian\", \"kansas_city_chiefs_director\", \"bears_gm_vacancy_pole\", \"second_interview_stage\", \"us_analyze\", \"rilu\", \"overall_record_include\", \"former_bears_general_manag\", \"initially_joined\", \"chicago_conclude\", \"respective_general\", \"saw_immediate_success\", \"fourth_consecutive_afc_championship\", \"nagy_predecessor_john_fox\", \"nagy_next_three_season\", \"offer_rapoport_reports_pole\", \"accepting_chicago\", \"garafolo_report\", \"spent_tuesday_january_interviewing\", \"poles_prior\", \"hormel_food\", \"framed_print\", \"roof_substitution\", \"metallic_roofe\", \"clapboard\", \"pay_anywhere\", \"plywood_sheathing\", \"website_use\", \"roof_repair\", \"roofing_companie\", \"cookie\", \"manager_position\", \"roof\", \"garage_door\", \"commercial_roofe\", \"garage_door_repair_chicago\", \"repair\", \"basic_functionalitie\", \"workmanship\", \"roofer\", \"metal_roof\", \"roofing_contractor\", \"roofing\", \"metal_roofing\", \"door\", \"use_cookie\", \"contractor\", \"new_roof\", \"consent\", \"shingle\", \"crew\", \"leak\", \"installation\", \"estimate\", \"homeowner\", \"print\", \"set\", \"tile\", \"browser\", \"store\", \"website\", \"use\", \"house\", \"post\", \"replace\", \"home\", \"day\", \"finish\", \"company\", \"make\", \"spring\", \"work\", \"also\", \"find\", \"sweepstake\", \"entrant\", \"released_partie\", \"prize_winner\", \"prize_awarde\", \"official_rule\", \"sponsor_reserve\", \"potential_winner\", \"winning_prize\", \"sweepstakes_entrant\", \"alternate_winner\", \"specified_herein\", \"official_sweepstake\", \"sweepstakes_entitie\", \"certain_term\", \"sponsor_website\", \"random_drawe\", \"arbitrate\", \"airline_ticket\", \"binding_arbitration\", \"terrorist_act\", \"participating_station\", \"eligible_entrie\", \"receive_prize\", \"representative_basis\", \"actual_value\", \"prize_include\", \"sole_responsibility\", \"accepting_prize\", \"matters_relating\", \"prize\", \"forfeit\", \"disqualify\", \"sole_discretion\", \"arbitration\", \"sponsor\", \"individual_may\", \"winner\", \"liability\", \"responsible\", \"award\", \"accordance\", \"set_forth\", \"participate\", \"concert\", \"agree\", \"subject\", \"entry\", \"rule\", \"limited\", \"event\", \"conduct\", \"right\", \"claim\", \"portion\", \"enter\", \"connection\", \"use\", \"time\", \"win\", \"part\", \"require\", \"madigan\", \"explore_breake\", \"live_map\", \"abortion\", \"geolocate\", \"firearm\", \"illinois_local\", \"corruption\", \"smollett\", \"van_dyke\", \"one_count\", \"shots_fired\", \"year_old_man\", \"police_accountability\", \"parole\", \"federal_prosecutor\", \"indict\", \"court_document\", \"cpd\", \"carjacking\", \"homicide\", \"roe_wade\", \"opened_fire\", \"safe_act\", \"handgun\", \"news_alert\", \"detainee\", \"sentencing\", \"shot_kille\", \"shooting_death\", \"chicago_police\", \"indictment\", \"prosecutors_said\", \"convict\", \"police_department\", \"carjack\", \"gun_violence\", \"critical_condition\", \"crime\", \"police\", \"sentence\", \"republican\", \"prison\", \"gun\", \"officer\", \"violence\", \"arrest\", \"voter\", \"man_shot\", \"prosecutor\", \"police_officer\", \"election\", \"lawmaker\", \"murder\", \"suspect\", \"victim\", \"investigation\", \"kill\", \"charge\", \"block\", \"say\", \"custody\", \"jail\", \"death\", \"incident\", \"accord\", \"attack\", \"man\", \"law\", \"state\", \"bill\", \"case\", \"shoot\", \"vote\", \"office\", \"people\", \"call\", \"city\", \"take\", \"woman\", \"family\", \"release\", \"year\", \"get\", \"time\", \"report\", \"go\", \"make\", \"also\", \"work\", \"know\", \"see\", \"come\", \"use\", \"need\", \"requested_interview\", \"defensive_coordinator_todd_bowle\", \"mark_mark_class_hl_orange\", \"player_personnel_glenn_cook\", \"icu_beds_available\", \"rightful_owner\", \"state_reported\", \"subvariant\", \"kwesi_adofo_mensah_brown\", \"hepatitis\", \"automatic_aggregator\", \"sat_jan_hits_us\", \"power_book_iv_force\", \"paid_programme\", \"player_personnel_champ_kelly\", \"player_personnel_ed_dodd\", \"requested_permission\", \"player_personnel_ran_carthon\", \"interview_flore\", \"san_francisco_ers_director\", \"former_atlanta_falcons_coach\", \"sunday_mark_class_hl_orange\", \"medtronic\", \"vikings_went\", \"new_cycle\", \"storm_swept\", \"dallas_cowboys_offensive_coordinator\", \"thu_mar_hits_us\", \"hiring_proceed\", \"broncos_offense\", \"seven_day_rolling_average\", \"icu_bed\", \"php\", \"icu_patient\", \"vaccine_dose\", \"fourth_dose\", \"wastewater_service\", \"already_gotten\", \"american_water_nyse_awk\", \"illinois_reporte\", \"vaccines_administered_daily\", \"third_dose\", \"ba_subvariant\", \"adsbygoogle_window_adsbygoogle_push\", \"remained_stable\", \"new_case\", \"cdc\", \"covid_patient\", \"idph\", \"state_since\", \"booster\", \"covid_vaccine\", \"ventilator\", \"positivity_rate\", \"dose\", \"virus\", \"covid\", \"vaccine\", \"disease_control\", \"covid_death\", \"prevention\", \"omicron\", \"scoop\", \"variant\", \"hospital\", \"covid_case\", \"symptom\", \"state\", \"administer\", \"county\", \"region\", \"accord\", \"interview\", \"case\", \"infection\", \"people\", \"center\", \"report\", \"say\", \"number\", \"increase\", \"death\", \"pandemic\", \"bear\", \"make\", \"patient\", \"new\", \"day\", \"currently\", \"team\", \"include\", \"see\", \"year\", \"know\", \"time\", \"crust\", \"https_www_com_new\", \"source_hotel_food_drink\", \"torrent_download\", \"anonymize\", \"chicago_style_thin_crust\", \"authentic_chicago_thin_crust\", \"thin_crust_pizza\", \"crust_denver\", \"chicago_manual\", \"tomato_sauce\", \"best_thin_crust_pizza\", \"chicago_tavern_style_pizza\", \"pizza_beer\", \"chicago_thin\", \"td_wrapper_pulldown_filter\", \"chicago_style_deep_dish\", \"dough\", \"style_pizza\", \"pizza_crust\", \"download_activitie\", \"free_start\", \"swarm_seeder\", \"download_without\", \"crawler_pet\", \"yeast\", \"deep_meal\", \"peers_description\", \"deep_recipe\", \"mb_mb_mb_mb\", \"chicago_style\", \"pizza\", \"deep_dish\", \"td_pulldown_filter_display\", \"wrapper_pulldown_filter_td\", \"block_title_wrap_td\", \"sauce\", \"td_subcat\", \"vpn\", \"flour\", \"ip_address\", \"cheese\", \"essay\", \"pie\", \"well\", \"top\", \"side\", \"dish\", \"also\", \"use\", \"fact\", \"style\", \"make\", \"cut\", \"cover\", \"get\", \"area\", \"right\", \"know\", \"chicago_il\", \"time\", \"kind\", \"city\", \"provide\", \"location\", \"content_section\", \"service\", \"additional_share\", \"owns_share\", \"illinois_tool_work\", \"industrial_products_company_stock\", \"company_stock\", \"illinois_tool_works_inc\", \"price_target\", \"target_price\", \"beta\", \"quarter_compare\", \"net_margin\", \"research_note\", \"sell_rate\", \"price_objective\", \"holding\", \"consensus_estimate\", \"recent_file\", \"thursday_march_st\", \"latest_filing\", \"total_transaction\", \"visit_holdingschannel_com\", \"stock_currently\", \"sold_share\", \"dividend_yield\", \"insider_trade\", \"set_hold_rate\", \"underweight_rate\", \"analysts_rating\", \"specialty_product\", \"construction_product\", \"institutional_investor\", \"dividend\", \"hedge_fund\", \"average_price\", \"stock\", \"total_value\", \"stake\", \"per_share\", \"ratio\", \"share\", \"value\", \"worth\", \"transaction\", \"purchase\", \"company\", \"position\", \"buy\", \"rating\", \"acquire\", \"report\", \"own\", \"rate\", \"accord\", \"give\", \"roofing_repair_chicago_il\", \"chicago_bankruptcy_law\", \"bankruptcy_attorney_chicago_il\", \"bankruptcy_law_firm\", \"roofing_chicago_il\", \"locksmith_professional\", \"plumbing_professional\", \"bankruptcy_lawyer\", \"roof_covere\", \"prom_dresses_springfield_il\", \"locksmith\", \"electronic_commercial_door_lock\", \"love_spell\", \"roofing_company_chicago\", \"greater_power\", \"prom_dresse\", \"water_damage\", \"self_understande\", \"among_illinois_resident\", \"tar_paper\", \"cerrajero_near\", \"illinois_agility\", \"higher_pow\", \"husk\", \"locksmith_chicago\", \"fee_earner\", \"fault_basis\", \"brand_new_roofing_system\", \"dumpster_man\", \"springfield_il_prom_dresse\", \"chicago_roofe\", \"step_program\", \"roofing_company_chicago_il\", \"repair_work\", \"dumpster\", \"roofing_chicago\", \"full_screen_map\", \"roofing_system\", \"roof_shingle\", \"underlayment\", \"roofing_contractor_chicago_il\", \"new_roofe\", \"shingle\", \"roofing\", \"roofing_companies_chicago\", \"tile\", \"well\", \"roof\", \"also\", \"nail\", \"certainly\", \"content_section\", \"residence\", \"need\", \"house\", \"require\", \"type\", \"kind\", \"fact\", \"work\", \"get\", \"home\", \"area\", \"lot\", \"set\", \"actually\", \"various\", \"make\", \"time\", \"use\", \"go\", \"know\", \"day\", \"find\", \"thing\", \"come\", \"end\", \"see\", \"td_social\", \"new_episode\", \"wpb_wrapper\", \"album\", \"icon_td_ps_border\", \"voight\", \"margin_bottom_px_important\", \"td_module_wrap_nth_last_child\", \"musician\", \"actress\", \"severide\", \"atwater\", \"halstead\", \"ruzek\", \"td_post_sharing_style\", \"ps_big_td_social\", \"font_size_px_important\", \"padding_bottom_px_important\", \"ps_bg_td_social\", \"text_border_color_td\", \"stella\", \"text_color_td_social\", \"makayla\", \"icon_background_color_td\", \"icon_arrow_td_social\", \"chicago_med_season_episode\", \"text_background_color_td\", \"icon_color_td_social\", \"burgess\", \"td_ps_big_td\", \"episode\", \"tdi\", \"song\", \"music\", \"musical\", \"festival\", \"artist\", \"theater\", \"chicago_me\", \"museum\", \"social\", \"pelham\", \"one_chicago\", \"film\", \"character\", \"drama\", \"dinner\", \"cast\", \"band\", \"movie\", \"garden\", \"love\", \"tour\", \"chicago_fire\", \"restaurant\", \"actor\", \"show\", \"art\", \"dog\", \"fan\", \"book\", \"friend\", \"life\", \"photo\", \"see\", \"think\", \"go\", \"want\", \"know\", \"feature\", \"story\", \"make\", \"get\", \"good\", \"world\", \"come\", \"say\", \"time\", \"people\", \"way\", \"live\", \"take\", \"find\", \"work\", \"new\", \"thing\", \"day\", \"also\", \"look\", \"year\", \"city\", \"first\", \"even\", \"home\", \"moon_rock\", \"moon_stone\", \"pantagraph_blm\", \"moon_rocks_moon_rock\", \"cigarette_smoke\", \"delta_moon_rocks_meteorite\", \"sale_florida_cbd_farmhouse\", \"lunar_rock\", \"cottonmouth\", \"concentrate_oversaturation\", \"munchie\", \"content_misse\", \"nuclear_blast\", \"glass_ware\", \"kief\", \"actually_damn\", \"gsc\", \"guess_work\", \"hash_oil\", \"chocolate_covere\", \"meat_processing_equipment_market\", \"moon_rock_gift_moon\", \"last_days_cases_population\", \"illinois_overall_icu\", \"get_moon_rock\", \"fifty_thc\", \"sized_dumpster_online\", \"megazord\", \"man_moon\", \"literary_fire\", \"smoking_cigarette\", \"tong\", \"lower_vaccination\", \"market_size\", \"thc\", \"dropper\", \"rock\", \"weed\", \"moon\", \"david_proeber\", \"legal_matter\", \"stone\", \"actually\", \"sale\", \"also\", \"rattle\", \"click_link\", \"well\", \"go\", \"certainly\", \"even\", \"market\", \"toss\", \"know\", \"make\", \"create\", \"roll\", \"end\", \"high\", \"get\", \"flower\", \"soon\", \"coach\", \"find\", \"time\", \"top\", \"search\", \"story\", \"work\", \"card_carousel\", \"true_trackactive_card_carousel__bind\", \"trackactive\", \"facebook_whatsapp_sms_print\", \"per_total\", \"cumulative_case\", \"past_week_new_case\", \"index_value\", \"carousel_isuseraction\", \"dragged_owl\", \"card_carousel__isuseraction\", \"prev_owl\", \"card_carousel__block_owl_carousel\", \"var_hasbeenlogge\", \"activethings_function\", \"next_click_block_owl\", \"translated_owl_carousel_function\", \"return_else\", \"featured_classifieds_responsive_item\", \"click_block_owl_carousel\", \"dots_false_slideby_page\", \"true_margin_nav_false\", \"id_assetid\", \"item_index\", \"var_activethings_owl_find\", \"autoheight_false\", \"owl_item\", \"false_items_bind_previous\", \"hasbeenlogged_false\", \"item_assetid_hasbeenlogged_true\", \"penalty_minute\", \"ad\", \"among_countie\", \"cases_per_resident\", \"_\", \"chicago_red_star\", \"previous_week\", \"owl\", \"quote\", \"change\", \"watch\", \"false\", \"penalty\", \"use\", \"goals_assist\", \"save\", \"case\", \"fare\", \"resident\", \"feature\", \"active\", \"window\", \"view\", \"post\", \"search\", \"announce_minutes_ago_faile\", \"udp_tracker\", \"one_mom\", \"announce_minutes_ago_success\", \"tr_udp\", \"guardianship\", \"rarbg\", \"chicago_divorce\", \"divorce_lawyer\", \"custodianship\", \"fault_divorce\", \"udp_ftracker\", \"wardship\", \"dads_share\", \"parent_time_order\", \"fault_separation\", \"non_custodial\", \"fannounce_tr\", \"failed_udp\", \"cyberia\", \"independent_system\", \"louisiana_court\", \"dad_planner\", \"sex_couple\", \"physical_custodianship\", \"safekeepe\", \"grandparents_visitation\", \"contemnor\", \"court_take\", \"states_table\", \"family_law_attorneys_near\", \"family_lawyer\", \"chicago_divorce_lawyer\", \"divorce_lawyers_near\", \"divorce_lawyer_chicago_content\", \"visitation\", \"mom\", \"dad\", \"youngster\", \"chicago_divorce_lawyer_content\", \"one_parent\", \"divorce_attorney_chicago_content\", \"separation\", \"divorce\", \"family_law\", \"court\", \"parent\", \"kid\", \"child\", \"mississippi\", \"also\", \"order\", \"well\", \"celebration\", \"various\", \"attorney\", \"state\", \"instance\", \"need\", \"situation\", \"time\", \"get\", \"lawyer\", \"party\", \"certainly\", \"fact\", \"event\", \"case\", \"know\", \"remote_learne\", \"teachers_union\", \"cps\", \"ctu\", \"person_instruction\", \"remote_instruction\", \"students_returne\", \"nation_third_largest_school\", \"chicago_school\", \"cp\", \"cancel_classe\", \"person_classe\", \"canceled_classe\", \"students_familie\", \"remote_learning\", \"chicago_teacher\", \"stories_tag_real_estate\", \"real_estate_stories_tag\", \"school_official\", \"cps_student\", \"district_official\", \"chicago_teachers_union_vote\", \"chicago_school_leader\", \"schools_safe\", \"real_estate_real_estate\", \"close_school\", \"students_staff\", \"school_building\", \"union_action\", \"latino_district\", \"chicago_public_school\", \"person_learning\", \"winter_break\", \"classroom\", \"school_district\", \"district_said\", \"union_member\", \"teacher\", \"students_teacher\", \"student\", \"school\", \"person_learne\", \"covid_teste\", \"mask_mandate\", \"revert\", \"district\", \"union\", \"mask\", \"wear_mask\", \"public_school\", \"mandate\", \"class\", \"parent\", \"covid\", \"covid_case\", \"testing\", \"say\", \"pandemic\", \"return\", \"child\", \"agreement\", \"education\", \"test\", \"week\", \"kid\", \"staff\", \"continue\", \"city\", \"work\", \"state\", \"day\", \"go\", \"want\", \"need\", \"get\", \"report\", \"accord\", \"field_opponent\", \"story_using_technology_provide\", \"data_skrive\", \"sportradar\", \"tipico\", \"averaging_made\", \"bulls_averaging_points_rebound\", \"assists_steals_blocks_per\", \"tips_access\", \"gamble_responsibly\", \"points_top_performer\", \"co_nj\", \"betting_service\", \"way_dependent\", \"nj_co\", \"news_coverage_see_tipico\", \"chicago_state_cougar\", \"sports_betting_pick\", \"made_pointers_per_game\", \"spread_at\", \"sportsbookwire\", \"rebounds_assists_steals_block\", \"skrive\", \"full_list_lines_last\", \"sportradar_data\", \"lines_odd\", \"bears_coach_jan_year\", \"averaged_points_injuries_bull\", \"twitter_follow\", \"bet_credit\", \"averaged_points_per_game\", \"points_rebounds_assists_steal\", \"at\", \"odds_line\", \"past_game\", \"averaging_point\", \"leatherneck\", \"scoring_points_per_game\", \"last_game\", \"averaging_points_rebounds_assist\", \"last_meete\", \"averaged_point\", \"husky\", \"per_game\", \"picks_prediction\", \"shoot\", \"conference_play\", \"point\", \"bet\", \"spread\", \"points_per_game\", \"game\", \"saluki\", \"bull\", \"college_basketball\", \"season\", \"illinois_state\", \"rambler\", \"datum\", \"opponent\", \"lead\", \"go\", \"chicago_bull\", \"generate\", \"look\", \"state\", \"home\", \"win\", \"cover\", \"team\", \"give\", \"play\"], \"Freq\": [63259.0, 124128.0, 182553.0, 50579.0, 94497.0, 52726.0, 35207.0, 42618.0, 54713.0, 27047.0, 71870.0, 21946.0, 24745.0, 112127.0, 17969.0, 22559.0, 22189.0, 14802.0, 14040.0, 63943.0, 43713.0, 51777.0, 24891.0, 18809.0, 14706.0, 68615.0, 13358.0, 34815.0, 17188.0, 129633.0, 1332.4149000871469, 1319.4440982324293, 1318.5091719313214, 894.0429078957532, 637.4189536334678, 577.7530545327807, 447.2525843768468, 436.49123954751167, 428.35739311428466, 389.7143300569895, 383.83657548650143, 337.77457867197546, 326.3992704161676, 304.91373999045067, 292.18289388252987, 278.5342766527147, 273.93399457910994, 271.6721430352633, 268.98463247793535, 247.78114063033482, 239.5151002258761, 236.43987952172048, 236.33730455575537, 231.5042353707112, 228.1341097040291, 227.30364729656156, 223.71590787189604, 219.9879542748863, 212.2816402998021, 211.266155878254, 834.6674082005969, 507.32429326741266, 422.87718040434316, 269.46191185919446, 1283.1478265323067, 999.8411276593306, 561.2434550598, 1454.5722863622984, 486.1808445470594, 639.7436352470331, 397.6257475149629, 545.711143413494, 4175.161373544832, 458.209727397819, 1039.2128213427873, 660.7495638394314, 467.19185718731734, 5445.5537979094415, 1352.131960684556, 14335.239343122785, 1261.0394454302357, 3090.766021533444, 1650.328859658403, 2941.330413939523, 22096.905340022095, 2463.0318787846236, 3292.634793193945, 2879.435765978345, 1552.9247248228362, 5154.1099702043275, 3259.0458193426985, 10828.446229017767, 5476.510411698268, 5566.575969617867, 6418.332970985792, 5332.987581251895, 3968.830768919505, 9494.381211259268, 3420.7645352534787, 10513.144687387245, 5908.645536298707, 10937.766710540942, 7750.288335225415, 3763.7697714200863, 3368.7740615154835, 13639.411401443278, 6115.765650760184, 5295.469637836373, 5268.126387859936, 7405.9411552927495, 15526.549487915945, 6922.130914977981, 6033.116580281648, 5126.050290216548, 8181.6029839622415, 4312.788272362599, 5360.145035063565, 5491.60746486258, 8393.374938933046, 8138.499760105604, 8052.297276043842, 7566.895629645788, 7662.584122695896, 6565.630188587354, 6678.598715873676, 5993.452815027177, 6181.176305343413, 5520.978618045396, 5687.356358583875, 6249.355107585444, 4158.376880009651, 4158.376880009651, 4082.692669649526, 2079.105240464729, 2051.6911006183805, 2003.4212473357788, 1656.9268785836773, 1080.6200652860275, 1039.469529307855, 1039.469529307855, 652.5352963672079, 652.5353506750017, 638.4371560209021, 560.5981210185017, 446.616108780564, 420.0229941608381, 418.3855870239633, 403.2651839211206, 358.84550883365023, 331.69411009369173, 325.6554092702341, 353.39420110790036, 303.72285374467765, 258.48218058448197, 257.6843176319141, 251.51150371167492, 246.05142527722683, 232.5822777986772, 232.29498956949135, 2111.9736206576918, 560.8787836968444, 811.5203851674798, 446.626264338004, 953.7743288547885, 268.31680611706787, 4041.8601601118285, 583.5907918328714, 729.6437829274518, 432.31713821279703, 1786.6890521574, 2826.9348570697884, 752.4858582296225, 1818.2670791697476, 2024.6375645228443, 1924.6469235086074, 958.604138188326, 1141.8662228184717, 5888.425075548588, 2069.4306328465655, 2133.1089106164122, 1977.1825453783717, 7643.954922399403, 5973.365071821115, 12770.188359426566, 962.3298700739717, 7268.619856673495, 7446.543919635751, 25809.392330506882, 10996.017036508187, 2211.7437720291127, 3553.1445409642843, 2815.5365200765104, 9646.16684378291, 7512.358883244745, 5926.780280764444, 5466.672052308554, 4722.908134378309, 4424.863051859515, 3959.4734990724596, 7306.773905821127, 4899.581380233834, 4671.163668448578, 3770.979401587916, 6133.541347770529, 5623.000729683043, 4863.057868287161, 5073.431055274268, 6318.266049903214, 4579.136722316726, 5304.018037574949, 4767.148566592353, 4866.620025097891, 4332.374272249213, 1079.8103635412817, 689.3531732179044, 604.6286367155054, 560.6697024309381, 559.2948695414327, 553.6961611310445, 656.4775266595196, 547.0941734391065, 545.1895702005106, 544.9126169309628, 543.5909174754962, 543.5909174754962, 543.5909174754962, 543.5909174754962, 543.5909174754962, 543.5909174754962, 543.5909174754962, 543.5909174754962, 543.5909174754962, 543.5909174754962, 543.5909174754962, 543.5909174754962, 543.5909174754962, 543.5909174754962, 539.1449551905408, 531.4320687078545, 529.3585966792946, 528.7549383089633, 520.8789317610778, 514.1087938697715, 1429.9198754832157, 1762.690557214174, 1261.4850296990414, 930.9440923161663, 5745.542676489087, 2234.0761812736196, 2122.6642045318185, 2322.9516352164314, 1850.5728344138095, 575.5222514512046, 2044.0837021617908, 639.9091946471575, 1006.931497116952, 1624.705100247425, 843.5478359793607, 3430.021606191345, 896.1327740434351, 1209.9393427163316, 4951.045919104826, 775.8041024911929, 10339.375688804459, 1450.9781306169696, 11107.706956341928, 3202.4850510417887, 756.8819213078855, 3365.9906189604203, 1473.6984435282898, 4584.128150431672, 1219.3533867589915, 2442.1228686693516, 2191.4375515333627, 2334.380438208988, 3899.9548318469965, 2895.1734423321222, 1690.3046439384198, 2263.6745052056544, 2471.924426929834, 2299.6493484627526, 1767.3843909845734, 1976.8376560661222, 1867.008945756583, 1935.28705702766, 1870.9637302344345, 1641.2374181899374, 1697.6745090867992, 3152.993194342113, 2255.979275870454, 1957.4441962473861, 1726.3250542793419, 1711.3840013451008, 1428.589135675556, 1272.6351845836384, 1246.102562472525, 1093.0520240882051, 1053.2053555823095, 1003.5743496993424, 978.0151604808744, 1011.8772679094234, 974.1622366719438, 946.7332509687037, 933.626598927564, 968.2654609916765, 924.3133368255724, 886.6208743369103, 853.9254683910011, 900.0310408705417, 830.7055272813911, 807.860811916511, 805.5299526711224, 787.0942074589425, 855.8867305484393, 764.9208717801107, 757.2242248512159, 756.2702757704993, 744.403822480331, 4599.085395977155, 4239.104651647663, 2758.1056855344864, 3049.381529806462, 2469.662354543367, 1973.3349767697591, 1837.9421841629603, 1453.9000145353307, 2194.2681983481984, 5876.9203769910055, 1793.0585172998576, 1620.0150982783439, 7763.324863051401, 9050.098151031012, 4050.8741424446057, 18154.827178816133, 4931.00079165713, 1289.8464263377898, 55701.37453399575, 9322.597878720751, 7979.746716221113, 4629.778028421877, 4573.194440738898, 3180.6556610583, 3809.5454830258427, 19502.270459300602, 28989.33335938079, 2697.2841522701824, 6086.938550640102, 39177.38744287884, 8619.11536521759, 32188.109398506524, 44093.71259441756, 20326.1828473096, 5557.054203581431, 8664.1887827602, 7895.4528182393215, 11005.272699675486, 7664.269163205113, 7408.7142902630985, 37532.51035111888, 18638.8431688055, 6015.630829795689, 33217.78642753375, 15825.924541118768, 14851.626567223719, 19336.4536943669, 23487.103138778366, 8868.237982381494, 10894.198518684285, 16207.589036230678, 23034.204095360175, 14761.557667386216, 17006.50845624454, 11703.698081549112, 10951.842025736194, 14224.848790469265, 11775.53792694598, 11753.722119216043, 11287.972419396778, 10987.185660575133, 12703.276517908645, 10689.047834228615, 11462.86517690054, 11057.038157155259, 4021.5462862888585, 1607.0949079878478, 1496.446604209646, 1411.8587590189957, 1267.7042551949423, 1226.8279182593078, 1196.621494145714, 1272.1985106130653, 929.0859321481164, 1184.7941044583608, 1374.3239986184046, 764.8359521023885, 693.0774025253405, 692.7681507614265, 687.015079277498, 679.6625349892353, 628.1402024460239, 608.8377018333703, 490.068922171206, 498.5304546255498, 458.6232374042404, 439.54100779409254, 438.46015325110375, 683.0698293415278, 396.0933522135304, 391.4525402472054, 389.73137316623934, 372.0771611923035, 369.5432813481317, 364.1991651528488, 1717.358210040218, 689.0729047784654, 640.4003555914354, 551.5132638817452, 5436.8635181372965, 4657.510689215969, 1028.8760386499907, 1415.03226078249, 989.9279816950383, 1207.2668354829866, 1702.236714763246, 1397.5389629551041, 9621.172773463217, 3353.8297093054866, 1477.3725893266542, 1498.1068514555955, 1399.8310899217734, 2523.595005772326, 4406.091767628446, 4990.51391911641, 3753.544956531177, 2533.0426689689116, 5115.937245697015, 4035.502308063463, 3343.199125398415, 1851.1240645764535, 4677.131819466901, 25523.355590777595, 6436.398950376612, 16181.033984227828, 5160.784131020392, 8010.153406795742, 15812.364008342767, 3300.83061598838, 5840.545969702506, 7416.98380673038, 3216.504769706321, 4026.869429486048, 4372.7472450445, 8701.556022735032, 9934.051811945286, 7260.627743301516, 4912.174209940073, 6786.235246670525, 4134.616407947416, 9428.032179582891, 11794.083548627033, 8235.964479453007, 7210.691507369746, 7024.354743082332, 7305.938724360865, 6660.084371511346, 9034.037581112707, 6209.536392643359, 6769.601660023216, 10100.138764915873, 9470.34863815537, 8574.192566611564, 6630.128678317767, 7986.343783448977, 7323.949477302389, 6610.258634564333, 6266.035686695993, 5973.8187952159715, 319.7520743935768, 159.15505248638186, 138.28511614705533, 128.14428369981857, 126.74583521871251, 124.87921845745753, 124.87921845745753, 122.55932562332143, 122.16792242926073, 117.76103596119198, 116.48285156255021, 116.2565426760738, 115.22497937391958, 114.68775543128767, 114.33686694059453, 113.61287599384859, 113.61287599384859, 113.61287599384859, 113.61287599384859, 113.61287599384859, 113.61287599384859, 113.61286136496129, 113.61286136496129, 110.30044241442158, 109.35529926397126, 98.71936675507274, 97.80384710139776, 91.58332238741819, 90.1166301470741, 90.05465486604261, 166.47953155130224, 321.5227841697161, 310.1722890319342, 1588.0285617316442, 129.70269906351152, 4767.182679151145, 230.04220777222466, 191.03451385838414, 216.81969781377538, 1857.7694442802708, 129.635962079665, 193.2389994006384, 592.3444781695805, 148.73477903400791, 312.38329905792267, 1192.1940436466436, 152.520076766406, 1493.4632211277208, 249.45278094374262, 817.9634078055208, 438.1563864158564, 522.9512394833405, 594.9762149942155, 732.4187072329942, 425.8155156081035, 389.53204234438624, 741.8758732613177, 437.2235607885097, 443.06627985917066, 1512.4114922028957, 413.8257380954659, 357.5062189549828, 672.9850490803876, 814.3515940475714, 1186.9654452646885, 701.7842958299071, 606.4986288155055, 471.97252229037645, 664.3171992950324, 635.1216852464262, 500.2555156072035, 599.3237447520788, 571.2217107711091, 418.41312308944214, 523.7107127962241, 527.7425511662295, 498.66149353183096, 14801.221583320592, 7372.444734106188, 3451.6108620835057, 3085.23171782752, 2689.636612458967, 2342.038373682091, 1919.7362884239299, 1563.4085060828722, 1531.0323259599338, 1529.466863027862, 1525.1310124155393, 1146.8501093441644, 1145.6583897603164, 1144.8631040887542, 1144.8631040887542, 1144.7511391742828, 782.03326622034, 781.6401800961945, 779.9148137833638, 778.5328282402061, 778.4459717367871, 778.7288598346463, 775.0415501804006, 770.2837852682792, 769.1652520529437, 769.5807962558641, 768.9383464123202, 768.8210808332932, 768.0607609489747, 767.5700775011264, 11658.34709132791, 2362.395157434153, 2396.5513379124905, 1570.6772980884828, 3284.9218867404716, 12332.565584441336, 1544.9730737410234, 7569.195731020146, 2819.8828680238075, 5487.569335564138, 5912.350829916684, 3208.0633666144145, 1210.9142201448553, 5600.277087026397, 2355.337648057844, 5215.382256507309, 4149.324132365878, 2624.0871066592276, 4561.193951814032, 2773.979112972767, 5232.652379593973, 2829.3154470974614, 5606.278927209117, 3823.3451654464343, 2399.3352097394177, 3312.852483195376, 2790.0561215638572, 4876.221187797024, 5233.292179105239, 3305.8169204302094, 2804.343551405703, 2462.0794550657774, 2462.566546809646, 1911.3700009845145, 1654.7489774914693, 1703.7221660144285, 1629.1006626389335, 1655.465332179704, 1223.694793888246, 1154.9918958703092, 805.822399506975, 800.5242315040151, 796.5247663441817, 810.2488803041458, 829.7929545458651, 699.3601602031817, 644.7526466517256, 606.9818984440822, 670.3919351574558, 587.0272246133366, 968.8513655721404, 800.5333074461328, 1399.9197334346293, 502.08860683914725, 551.2873052463079, 477.7656275123454, 464.6226218244699, 1653.1769052879474, 406.19959212582665, 402.7920222184675, 892.1452720376946, 729.7999277547659, 4386.968807150076, 1102.470261955919, 982.6446153971973, 2868.7350922700866, 1816.1029610804678, 866.5355423379867, 1162.0408775816647, 1367.3595183134328, 6975.539386120877, 13204.635203288564, 4812.657273935234, 2325.268075029196, 5371.120723273169, 4740.810330700879, 11242.047131573374, 3325.8463552883236, 7417.557406992815, 1696.8839643795752, 1018.8825212932045, 2392.221746388725, 3206.0052349922207, 3271.1355842970374, 2432.1275231877435, 5739.5738192989775, 4094.089047729934, 6888.8713798131275, 5657.5784849177535, 6794.825178112182, 14096.646171221042, 9505.788258615692, 76687.22668419115, 4240.600741451952, 2520.8767471732203, 7734.304811179202, 3996.452938956627, 21017.98700673419, 4362.242568340442, 8997.690237402498, 7834.751585480871, 23841.777438494053, 5211.91778756136, 12976.956218516447, 10903.391295830657, 5748.6886441413035, 7070.699696913245, 15681.574273168806, 12594.61762538504, 14066.090697806287, 16791.86492232077, 6510.452800151542, 9475.907281445743, 7392.847832208053, 13815.05113073902, 16817.00855527719, 12747.14423856075, 9918.990212859484, 13179.678048705708, 11641.53856097272, 10720.738506261887, 9487.335628407758, 9069.660573773404, 9117.153044657764, 8942.405351078132, 8908.207597941418, 8376.48475061011, 229.28021661165812, 188.4816541435169, 166.57463275627825, 154.32862355832285, 159.39922622474, 147.8865647874319, 155.0166684748136, 146.9682079766414, 138.09933663540158, 233.60383956995267, 137.6208297722555, 135.43011062902332, 135.41039956983604, 134.6070499167479, 133.41613917899247, 128.54974648665726, 127.63562663251449, 125.41322242217754, 124.32439541582771, 123.44658018687389, 121.98869866904047, 120.78931401798957, 119.68257559624595, 119.739951641285, 118.31644757103489, 116.69578331242941, 115.83397357689906, 115.4586557381971, 114.88369788701485, 113.73066469146472, 465.1709925008901, 631.6415293256157, 803.1717292497616, 333.9694779696941, 373.61140795469817, 144.5385754920019, 301.2045112253991, 126.56394583868558, 296.4044219449526, 396.1830505482647, 266.6039361525616, 134.5492204181546, 153.53041776899101, 1977.6240868444131, 209.25351123932847, 801.3661905600368, 824.7302148988474, 977.3785521413897, 492.8046504841898, 296.6620119046266, 570.317264189515, 856.8096165507767, 252.93443705477964, 444.56322891003094, 746.4023483846345, 2036.5809843370455, 6952.533089342774, 1661.7937996569656, 737.5633482962824, 384.961690508306, 939.2972959268033, 812.8759754013599, 600.7625325952345, 752.081627425121, 2317.360105322944, 1318.9623938535815, 1067.8096608360802, 7506.32231156922, 603.987720999998, 1367.8385653811804, 1379.9810312941024, 3646.040462298141, 1514.443046925601, 2438.956169895679, 785.3603570464069, 2369.5906995182745, 1633.366796339619, 2016.6233597796245, 2947.677323543307, 1595.986239229772, 1362.2031579720697, 1201.1137828167437, 1189.650363601345, 1445.6219475401008, 1662.1862637081886, 1045.8903962028762, 1312.3773413384354, 1359.7428323499753, 1056.9881051267541, 1268.30426322108, 1227.6391152908598, 1199.6246413445126, 1171.4671028017926, 1114.23933707499, 1081.5546316098014, 1848.069378476387, 1134.6653334901341, 838.9780659015227, 717.9735961471507, 720.5703059784479, 680.5943998024431, 643.4615694734323, 628.2949998592442, 576.362880426244, 572.5660450403382, 569.2637455639083, 516.5205916124054, 508.981091846042, 505.3988086260136, 501.78635144533183, 627.7312606269654, 458.5452346195336, 2382.1725337481907, 445.0077582342785, 395.07439037970084, 368.05166807912593, 363.5661065750105, 357.85158479845194, 357.8515301354797, 357.8515301354797, 356.1313410633786, 320.8446159629271, 319.3320915222065, 295.36358079874054, 293.6264188737719, 1669.99829631045, 7028.268910570594, 732.2922337366024, 667.7236750205741, 572.3692036774529, 477.0072435071407, 1365.74233451493, 431.7659811971289, 754.437297033485, 569.8475461069837, 732.7459364058464, 1453.7791284328675, 716.0910033846492, 693.0342710374471, 5951.9877857738875, 2881.455375729823, 2026.4261293350312, 874.3773147302439, 5725.406704886439, 1965.7594135745012, 1456.9249824828667, 1003.5555387173935, 1930.2085843238747, 1000.4880713695266, 1073.9854986162766, 1641.549827037519, 1167.6165011089647, 1236.7228517990436, 1277.7035727299935, 873.817948535741, 1166.8812841329006, 966.9385628570158, 998.5056640197913, 920.5026959525874, 852.225801202642, 807.7468687029044, 832.2491086869123, 17968.215398142554, 13357.309365250178, 11009.013760041747, 8837.934395911368, 6626.396400735345, 4289.452994588413, 3940.4720688082266, 3798.2195874328154, 3532.0997850496906, 3369.383024886622, 3260.913357413208, 3210.5476535427338, 3089.7657066761185, 2863.7553594955084, 10158.275116000208, 2735.599448114862, 2612.465825441079, 2346.9685735518237, 2313.215589768666, 2297.113046439864, 2286.6287812470737, 2255.0854737327713, 2253.629314438446, 2180.6858882920997, 2137.359683836062, 2098.921532552108, 2011.5893646990726, 1992.2821267538122, 1915.6552938783939, 1904.6371512847236, 3864.751785503304, 3390.394870239285, 4638.870339093544, 3864.560545837317, 20497.716307718278, 2320.8020428004606, 9272.88286376561, 2804.1835905929424, 4162.513171340197, 31938.426644028958, 10924.842154574557, 7303.701916578544, 4712.651664673878, 8343.570052172883, 16042.06582759313, 9573.40210538401, 7841.719574500893, 4789.53082766414, 5627.163016477337, 6474.734355708908, 3800.8532191577847, 4153.229874904534, 4957.498914638315, 3977.8410350792433, 1935.125062331665, 1146.9791786865542, 1111.481549080681, 1041.145264658418, 942.0506209526418, 684.4835138496595, 724.1694705446876, 536.3743635322559, 4134.357705224806, 465.9306806618143, 458.2024525790012, 449.2805583554394, 440.9628777482128, 435.57161016319304, 407.01905660733655, 399.9634316602657, 403.28588088491904, 396.79004468521043, 387.56974277603695, 382.31093563699096, 357.36345134872056, 346.12027807513834, 345.25648871045314, 340.9621437068966, 317.76850368805873, 304.0941396368376, 300.1019545389016, 285.75527053835395, 280.5978795344536, 275.9008788459821, 2115.7344202389822, 718.4192995759885, 2165.724327061408, 535.6596364171686, 4601.020599762881, 918.1489794960911, 719.5808594568499, 1383.5938892599636, 1475.4598457203351, 796.2183956128894, 1484.9386614287994, 430.5885203981956, 1769.3379646118697, 2607.459029385787, 833.1681343621983, 1294.8752666243972, 26174.449186903188, 4369.6929795717915, 29773.64658415842, 1213.4239153833835, 5420.115502007254, 2518.2689013679724, 2632.6705496084555, 10586.976259650784, 3921.0611304982644, 4684.900416112282, 3838.3423784534975, 4491.3025716527245, 4172.050100349456, 7130.362656360071, 8913.09703755609, 4731.677714641069, 3913.003910596937, 4248.9108581977225, 4073.244094397948, 3058.711485550797, 2590.852977965365, 5773.007121266338, 5318.546729383548, 4503.328082798158, 5114.408969715658, 4127.113513523138, 3767.973102813798, 3533.619635770267, 3005.612899849318, 2953.168191581839, 2718.990300116082, 2648.7951841220774, 1889.8079731328346, 1239.245605517571, 1194.5592865683532, 1127.9861308783961, 1056.049113948813, 912.231035097183, 868.514535244094, 830.7266766204863, 812.0862966100708, 867.9260429234588, 735.4717050850127, 735.1630385779255, 726.2282120297895, 697.1172385402688, 667.4455471304052, 644.9148723719218, 618.2864834408841, 596.7893007181392, 593.1910179921568, 590.2239808684296, 573.9362499679635, 568.6544933083608, 551.5785685948471, 534.571851390654, 534.571851390654, 508.37089372407775, 501.1578768905871, 479.88080755955514, 472.6889642633989, 465.44527880508826, 5008.097879988803, 8873.896317861201, 2269.659811186386, 4741.807694470681, 1327.3113741020716, 1506.6745922235443, 2842.770699405262, 1639.2956780154818, 4091.3042268633503, 2773.533536977216, 7262.788558814375, 663.2405943227188, 2387.8688774511606, 3767.3549956488937, 4786.4729922101715, 1355.2288607929268, 1503.6570838861232, 2287.199827341712, 2083.3670071316633, 2234.1191401930073, 1418.3624591231057, 10203.683015572502, 2621.6980499768665, 3899.776430724288, 4591.541994233468, 2178.4872702869256, 21915.859414992807, 3260.0406969809073, 2515.7546057088066, 6804.184160499556, 4378.739109022262, 4541.930314448508, 9763.268564535023, 4674.259134339016, 22691.05013732358, 13293.717979312856, 28179.395121990234, 16070.703869168816, 18544.03950157859, 5266.399599603481, 6824.6448046344285, 21222.426778155663, 24454.26452651072, 12726.804184342374, 6983.279992895364, 15137.33291036252, 25873.156781050002, 17819.38417363994, 13382.318214693476, 11030.693558675273, 8296.988207061964, 13517.377151503388, 11752.762973162213, 14468.672398240902, 10520.032927142822, 8410.414998889577, 11010.397022148709, 15031.589116811003, 9959.284541278535, 10979.678027666763, 9020.268930677556, 8369.66350512546, 8448.573267476864, 8371.25177430488, 1407.2933022020836, 501.436121561676, 491.85010432874907, 353.1287859766943, 318.4303267207544, 299.4567316891758, 299.4567316891758, 298.07968510743603, 297.6228765350506, 292.7256747820441, 314.68223352136425, 220.26161743898643, 212.84331167970745, 199.93475498720008, 198.98938566791287, 197.09311410024992, 189.4873415132589, 188.51418321304405, 178.73115640392095, 173.26148299348233, 167.8239192220798, 162.2969893207366, 164.31535833480194, 164.31322908961903, 160.0293742847828, 159.79621416628365, 158.62612399955083, 154.88749583896657, 153.45588152118822, 151.89237833755308, 315.08476965448835, 209.27146403049596, 268.6522733244318, 265.40578055594693, 449.3282076771539, 228.7835094223867, 1599.755929706877, 467.67185697329677, 528.0888626584108, 244.60215368641096, 255.12367110949253, 509.0632332263033, 1801.1868757544473, 1423.0880118852194, 3510.1068747000227, 305.38532737524713, 288.93630220158917, 2563.864347300706, 2240.563986130447, 958.6300096155596, 1112.6424478520828, 810.0247351243236, 371.08575191406777, 1221.0996698577896, 1290.128617501413, 735.2465768158073, 515.501324646586, 754.9189372738439, 618.3684232406298, 847.8414350958318, 369.14251261689515, 489.51645160825296, 455.31082713151636, 486.214722800497, 494.2358225336453, 444.03266611364666, 416.76772817197906, 409.2232996049664, 418.0340850880776, 1674.900498898006, 1254.509519536867, 837.452860284024, 591.7544981425389, 492.39627679505077, 492.3961065232016, 479.1283537617739, 422.75824050190977, 420.39577535155803, 419.2847515355352, 419.2847515355352, 419.2847231568937, 419.2846947782521, 419.2846947782521, 419.2846663996106, 419.2846663996106, 419.2846663996106, 418.17352906902164, 418.17352906902164, 418.17352906902164, 418.17352906902164, 418.17352906902164, 418.17352906902164, 418.17352906902164, 418.17352906902164, 418.17352906902164, 418.17352906902164, 418.17352906902164, 418.17352906902164, 418.17352906902164, 616.9576264454129, 2957.958023700693, 499.33332220326326, 582.6849680949593, 1977.0307546019728, 487.9549058805466, 702.1121106764269, 502.51411386086494, 739.2057195098417, 1316.0152304190608, 1001.4686379569437, 490.5371919882141, 536.9295735355133, 788.7702656077165, 455.78172780935705, 604.056979790858, 668.6040864434426, 460.8046622248001, 565.959050833585, 525.5238569596418, 476.1368476431984, 482.3834407029093, 523.8357818466837, 499.32747620310744, 477.14570834970186, 2402.4239882433126, 1488.8434902542976, 1366.8496502811718, 1173.3735304936436, 830.1481070770835, 604.8533597681275, 634.826099108015, 854.1490731693741, 2279.6349864387444, 498.47973106869125, 488.4860339573752, 476.0680162042504, 467.06732893932775, 464.0084842351146, 460.642013165999, 440.4048390742943, 459.7727883210754, 404.7568060269542, 344.54097622425263, 342.2979945974615, 339.98497971307853, 339.20073722017474, 325.38868391361063, 327.6429423572855, 313.87456640487613, 312.0696257428558, 311.34612207057353, 309.2383647522928, 304.96087636991797, 302.5576794484967, 2819.817263790228, 1957.7613545936508, 970.6381366056204, 818.4506356753868, 410.92753222256846, 1162.414674348814, 12424.50384021673, 9324.310200800066, 4208.958353721759, 512.7675230564098, 1164.6565185445074, 406.021824395874, 1712.8392912495885, 2544.1481630109724, 610.4298269621986, 8632.157249383617, 6317.239280283858, 5399.153255226379, 6008.144004363666, 871.7414274764577, 8563.504768148367, 3509.348794004639, 7202.451336749357, 1409.3956829680467, 2133.557245397284, 2181.8679088798344, 4400.8080120355235, 1561.767122755807, 3308.1553017127667, 1872.9795804233756, 3101.513839442841, 3086.4347528894123, 1765.4975413681682, 1616.626009566309, 1711.595656585307, 1820.743544728292, 1821.9821096996804, 1632.4313621246858, 1582.1118003352676, 5282.375732316907, 2830.9652913887526, 2255.132347979175, 1838.2361346332823, 1394.992986386245, 1243.1068984751907, 1016.8753048798218, 1015.8179615916704, 983.1151358776743, 928.9826609780723, 899.2144911842074, 820.9962545598033, 815.2219333299311, 704.8457847306156, 691.4190089856695, 1749.9409603263807, 682.9084247519668, 648.669336207298, 611.2989085204086, 596.8653280482027, 555.3319317318823, 522.9593163578925, 520.8203521237867, 517.0201122182644, 507.3571256982518, 509.62510345755624, 543.6503434502524, 480.1663199282019, 465.43973206203157, 456.70678499918296, 2920.322664515366, 1853.2752887951965, 933.1011091702363, 4308.2154960046155, 1907.0656880769645, 1143.8014302218571, 855.0135615713582, 9120.977893332065, 1047.7734457719419, 22419.961518624128, 30068.974761189023, 1229.110384231209, 1371.3380676027375, 1819.870736189038, 1037.7834973309245, 12673.84337437431, 6842.450089762917, 5656.564604913104, 1826.0079913061247, 1253.7628070054661, 2813.812271303757, 4767.211766716284, 6598.408064464352, 6741.667308935323, 2292.807853501162, 2264.446625267813, 21941.170545107416, 4531.552714075477, 7871.445827234573, 6580.726817255776, 3201.334023238806, 3116.8464063286515, 3479.435072087686, 5098.208566059945, 4001.4104594268683, 3481.9643253163895, 4519.683606532731, 4790.2600859935565, 4949.379274623491, 4627.289845346134, 4229.6401384533165, 4848.822994085034, 4074.792449841358, 4091.764379115473, 4251.851117893571, 3416.48221636326, 3345.7813000234537, 3115.5986827142174, 1696.7994023007375, 1691.6281592097014, 1174.8799930963207, 890.0176008349101, 641.427786327221, 606.0986708024075, 474.61002886025074, 460.25101263383783, 447.7180166632935, 405.888951222699, 446.86391178654424, 438.84965034120165, 436.0720019299071, 432.37054055038874, 432.1558022014839, 377.32449773162705, 445.04609998806103, 329.12092716829875, 382.601727743929, 320.8410817222162, 306.4435325300461, 283.82742487154627, 300.8538920321271, 282.90903458890085, 313.4135973873243, 272.78817675623293, 270.0499969897757, 295.67541869365306, 285.34766945709373, 1650.5702209237897, 673.6044289073873, 1860.925849016995, 309.51002932648373, 795.9880627818973, 1241.7983999241414, 461.1312739939653, 566.6553318311074, 3821.9945378883267, 747.607585076111, 616.846093371868, 1144.2136216133244, 739.7957705590289, 1960.1197401605443, 589.0869618527734, 7164.115681966834, 697.7637903506338, 7779.440701401243, 1644.3350256568367, 1689.0674607524104, 795.724031157813, 5364.187602805122, 584.9963005067609, 3055.612126759422, 972.3008789003538, 3990.300407870613, 1366.8256249162744, 925.36398389184, 1788.799962799214, 1132.5114236042589, 2244.057341243784, 2641.8886920673804, 1287.037377649039, 1003.0598826122895, 1392.1774242854954, 1472.0414615582267, 1339.8562065408646, 1241.22516889492, 1120.9586790628211, 1280.2556607375172, 1181.9669965731896, 1145.3795628089824], \"Total\": [63259.0, 124128.0, 182553.0, 50579.0, 94497.0, 52726.0, 35207.0, 42618.0, 54713.0, 27047.0, 71870.0, 21946.0, 24745.0, 112127.0, 17969.0, 22559.0, 22189.0, 14802.0, 14040.0, 63943.0, 43713.0, 51777.0, 24891.0, 18809.0, 14706.0, 68615.0, 13358.0, 34815.0, 17188.0, 129633.0, 1333.3687394532246, 1320.3978294798028, 1319.4628819774027, 895.3052782075042, 638.375428475941, 578.7061440910722, 448.20553715602034, 437.4443217938439, 429.31042848955354, 390.66738760615385, 384.7895060939528, 338.7279592089186, 327.3522889507088, 305.87722439948027, 293.1374403992537, 279.48837337906497, 274.88795195115114, 272.62589161190004, 269.94022017207215, 248.7361167784297, 240.46791514799983, 237.39268566696373, 237.29075800648363, 232.4568130360948, 229.08698136329582, 228.2660206077667, 224.66868645653742, 220.94067394411155, 213.2344493967779, 212.22159526890044, 840.8660239191607, 510.6630204433841, 425.9274685082968, 270.9200480130616, 1311.51974395103, 1028.1983904696226, 572.73917220663, 1530.5166424794436, 496.12698759669814, 658.4044349320466, 404.49548410526535, 566.9251003703831, 5020.095153033146, 478.04198447399784, 1156.3873852396105, 711.6322620864269, 491.5880991854183, 7635.258019815079, 1609.1715218507363, 23717.96310429218, 1583.0854020302781, 4685.544245177228, 2238.4889825287105, 4559.002500733521, 54713.033301069685, 3746.235412576673, 5382.505746830264, 4660.914421220364, 2138.504159546467, 9769.52920839231, 5579.0760341577825, 26589.831438076675, 11047.378225476981, 11498.122974814765, 13919.574371069504, 10999.673524515418, 7521.439451232329, 24924.988280763588, 6195.112493044029, 29365.657928827248, 13273.585270340951, 32951.681209068076, 20483.670035210976, 7248.309900063118, 6167.481601900938, 50965.3867188061, 15205.776989008196, 12260.518134582642, 12390.468151878089, 22471.71709679102, 77823.25192465377, 22020.038680625326, 17476.632226594633, 14471.708701869245, 39037.61466286389, 10109.699978078648, 16644.454250688672, 18027.712436426376, 63943.27471788608, 70262.74842402419, 71870.30524257677, 68615.82549148657, 75197.9091240789, 39415.617620517696, 94497.05227202803, 38219.65199131376, 94999.21917985512, 26920.930767535556, 124128.51659271454, 6250.3102162027135, 4159.331599025561, 4159.331607945998, 4083.6474193175372, 2080.059518272875, 2052.652746511307, 2004.3755030454154, 1657.8811100379323, 1081.5741709457634, 1040.4235989383076, 1040.4235993573245, 653.489249568616, 653.4893041786166, 639.3911210043872, 561.5546254868947, 447.570112889611, 420.9769975799805, 419.3395432452397, 404.219135417151, 359.7994484832118, 332.6499999736595, 326.62100544971344, 354.4439338347481, 304.68518025142515, 259.43608996087676, 258.6389939789199, 252.46538919264566, 247.0155784333698, 233.53615877239667, 233.25156915528052, 2121.114108614521, 564.6895680482088, 820.7594501975024, 450.4991760555838, 974.3625539997415, 269.4313512420806, 4322.274738607695, 601.1682520568102, 762.9617843338867, 441.1576544674598, 2042.75781406968, 3529.7285551872706, 818.5730264735886, 2260.496061611645, 2572.858368152533, 2444.486406530542, 1093.4277903401328, 1346.4592407651967, 9402.969537975136, 2743.8784978930107, 3073.2337607266973, 2888.2536256219755, 17433.837009181083, 15321.682041990824, 45483.94521487946, 1137.8731168046354, 23120.218859843637, 25259.36677398058, 182553.77602305906, 51777.171969247385, 4068.0828542218346, 9255.116461437072, 6364.641468872435, 70262.74842402419, 45879.13849247169, 28625.395224700747, 24936.489520593685, 19120.866922279394, 17594.292151743066, 13544.245043624622, 71870.30524257677, 28282.153359639924, 26398.53634760818, 14548.123249603732, 68779.72819073877, 53012.17275974134, 33402.212780289876, 39037.61466286389, 124128.51659271454, 33905.16626200466, 94999.21917985512, 62783.051119439675, 129633.53945718337, 91902.27774922541, 1080.7719138330954, 690.3236023269012, 605.5981998076526, 561.6318865345667, 560.2560812593124, 554.6572371588118, 657.6239473489915, 548.055215558451, 546.1506080793168, 545.8736396254324, 544.5519300448478, 544.5519310564189, 544.5519346484253, 544.5519367572729, 544.5519371941655, 544.5519417958614, 544.5519424807391, 544.5519465078947, 544.5519479819116, 544.5519511418705, 544.5519520320986, 544.5519547016348, 544.5519586803838, 544.5519678067383, 540.1059798381872, 532.3930727249525, 530.3195827282675, 529.7159183931193, 521.8399226799874, 515.0730655725313, 1454.7208469924408, 1846.5249297567127, 1345.6300567054489, 971.8967778609679, 6892.040127746263, 2541.774973781412, 2705.996955848244, 3136.246391420601, 2625.1038373171764, 587.087646574755, 3263.2424370057292, 682.5071353187528, 1283.104755536438, 2656.758865588798, 1027.5831290390647, 8056.26378210272, 1185.476032335829, 2053.6138834154917, 24040.045641366734, 1005.4182070035451, 94497.05227202803, 3061.0898739924114, 124128.51659271454, 13225.382827700405, 1028.9906979622933, 22584.594577543558, 4495.644414161913, 68615.82549148657, 3181.8988035384814, 16965.96588515563, 14124.055398922565, 20048.34135697303, 91902.27774922541, 75197.9091240789, 14548.123249603732, 54285.951360827225, 129633.53945718337, 94999.21917985512, 23483.34286456846, 48423.186802366916, 34782.3966350967, 63335.15678676346, 53012.17275974134, 15765.301211125783, 45879.13849247169, 3153.9572242551403, 2256.941674570164, 1958.4010352327823, 1727.2869545896688, 1712.3793295224493, 1429.5533778043452, 1273.5937051710364, 1247.0964529235353, 1094.017734698318, 1054.1641613666081, 1004.5330371830553, 978.9716124996714, 1012.871954759782, 975.1203618457239, 947.6934768371044, 934.5850859984706, 969.2645371668875, 925.2912987636367, 887.6110104954483, 854.8820844766741, 901.040921224634, 831.666060922927, 808.8185697849166, 806.4873367767815, 788.0506593164127, 856.9328501242587, 765.8794178299254, 758.1843732602682, 757.2298935409458, 745.3658523206587, 4610.217003928453, 4258.907605170676, 2762.292770612936, 3057.122128036885, 2477.015014928496, 1981.8423164301093, 1844.8173474220416, 1459.2524567557275, 2214.37433725385, 6053.746399598135, 1808.6104467895143, 1632.3844928685696, 8079.015639823293, 9575.146332027669, 4214.66053739333, 19800.087749723923, 5171.595677489401, 1300.7025321970368, 63259.493250156236, 10040.473728111123, 8546.251847196914, 4881.520385241902, 4832.9027889620265, 3325.315815804436, 4024.0466064231296, 22559.13987976215, 34815.192675842685, 2809.5778358071, 6818.149601929253, 52726.18983826217, 10075.317359420891, 43713.10429937057, 63943.27471788608, 28094.683760651664, 6456.0575230119775, 11061.00739501015, 10280.725818463014, 15894.081271422132, 11164.518209767053, 10833.768385193276, 112127.25766916858, 42618.35780986247, 8177.475353929977, 129633.53945718337, 41487.03156582904, 38219.65199131376, 62783.051119439675, 94999.21917985512, 16475.67235562041, 26964.934888950196, 70262.74842402419, 182553.77602305906, 63642.32476019656, 91902.27774922541, 35105.88282536991, 29776.84935488247, 68779.72819073877, 43346.741697014055, 43647.46119561837, 44063.94379091816, 39786.784869432326, 124128.51659271454, 36345.845174937254, 75197.9091240789, 63335.15678676346, 4022.5066813073017, 1608.05307692114, 1497.4056397716352, 1412.820943660072, 1268.663100789802, 1227.7855403097126, 1197.579527429903, 1273.2251053438645, 930.0432005721884, 1186.0517373112627, 1375.9034039156604, 765.7991775141876, 694.0337220238149, 693.7255668256126, 687.9716228193575, 680.6196404378958, 629.0965864328972, 609.7937256774643, 491.02408017876985, 499.52885908783327, 459.59692884898453, 440.49638892434444, 439.41572301130384, 684.6047499072519, 397.04911196077506, 392.407971495491, 390.7225360362581, 373.0332974692657, 370.5025785449637, 365.1554077036014, 1742.1431676130085, 702.4884934366835, 652.8619008888514, 560.3527088948618, 6123.070024573044, 5214.214119998226, 1087.0048092643635, 1535.855204772273, 1063.9211127127157, 1343.2140878968257, 1988.3165804158673, 1602.3723865002405, 14814.475484455937, 4399.383844994707, 1738.5035228494814, 1768.8487316515877, 1649.9663228064592, 3484.469736479528, 7063.758816637155, 8851.871085488356, 6194.709115890492, 3736.0794171286266, 9908.334749577665, 7423.572318280997, 5717.796491809412, 2493.787578254386, 9694.221418979274, 129633.53945718337, 16585.659312374457, 68615.82549148657, 11938.5214093805, 24040.045641366734, 75197.9091240789, 6083.709851548597, 15816.356417095072, 24027.786482980227, 5993.737031357455, 8883.502586008164, 10291.323786132903, 34726.54692873475, 48423.186802366916, 29365.657928827248, 13874.842767492346, 26589.831438076675, 9921.805847265647, 54713.033301069685, 91902.27774922541, 43346.741697014055, 32951.681209068076, 33139.577347583116, 39415.617620517696, 31146.209154384356, 77823.25192465377, 26920.930767535556, 34782.3966350967, 124128.51659271454, 112127.25766916858, 94999.21917985512, 37196.78657895995, 94497.05227202803, 63335.15678676346, 43647.46119561837, 40832.17425191279, 44063.94379091816, 320.7215096085687, 160.12534180197773, 139.2515623942962, 129.10820019253353, 127.70972673432121, 125.84312468690196, 125.84312532887229, 123.52507215520218, 123.13191185098299, 118.72494162166664, 117.44672235492817, 117.22086421132319, 116.18893741843007, 115.65161324179226, 115.30073614377716, 114.57673419226366, 114.57673529013064, 114.57673581231799, 114.57673714009651, 114.57673986078007, 114.57674212252066, 114.57672839461283, 114.57673242131918, 111.26420803850901, 110.3192099192881, 99.68468223742195, 98.76868970725118, 92.54718316074681, 91.08054521510994, 91.01851652654385, 170.5199251887045, 341.5313623028521, 329.41708129895665, 2305.6994969756997, 136.34422362255762, 9412.886107790337, 269.9139033037716, 215.98373558696184, 258.9486535928291, 4396.1013648126755, 136.419935816132, 235.87384917718768, 1099.7248858565147, 166.3959206183207, 481.5476950017936, 3800.708863494975, 177.25319927837424, 5694.573242228364, 378.4832569529521, 2835.2225354817056, 1024.0410450394743, 1464.961032438485, 2365.286476824365, 3723.3598259716646, 1445.5171081235876, 1346.5516486022193, 5443.961429412165, 1813.9375980184423, 1920.753303175505, 32600.42407664247, 1733.6727712836341, 1285.6714241208163, 8346.961794699288, 16662.636810152944, 68615.82549148657, 15903.034794538926, 15529.500844091888, 5745.650270884527, 39011.61140322168, 53012.17275974134, 12095.167794373714, 54713.033301069685, 94999.21917985512, 4773.328011874334, 77823.25192465377, 124128.51659271454, 48423.186802366916, 14802.225683901674, 7373.697184170088, 3452.57643113594, 3086.207853473145, 2690.601107666685, 2343.002589103795, 1920.6998728579067, 1564.3715659808913, 1531.9952407371738, 1530.4298224199924, 1526.0939579339297, 1147.812542678297, 1146.620890612497, 1145.8255417228047, 1145.8255698720595, 1145.7136145579123, 782.9957027036514, 782.6022084526944, 780.8775257001978, 779.4948555991233, 779.4084560652194, 779.6934053990818, 776.0035502765007, 771.2458694065407, 770.1272264771784, 770.5435167095198, 769.9003276405251, 769.7833753240242, 769.0227260084022, 768.5320178080906, 11744.278052897705, 2392.2003970636297, 2433.147153943722, 1611.0512518737019, 3560.8874822417474, 14706.879388725283, 1633.4531901597704, 10507.684931104615, 3972.9631917536153, 9668.710267311275, 10691.395737650018, 4858.161002672902, 1394.1846662874705, 11529.470182329042, 3802.4955099637314, 13081.351306510493, 9927.121950812987, 4673.116161761829, 13788.186245655572, 5934.063627671493, 25383.16579504476, 6532.449273208403, 40832.17425191279, 15308.2406896083, 4843.0840397911015, 12485.2043726679, 7841.019865719369, 68615.82549148657, 91902.27774922541, 28094.683760651664, 33402.212780289876, 22381.94638639907, 2463.538140263694, 1912.327662078647, 1655.7062153605054, 1704.712198093249, 1630.0577796390235, 1656.605750968398, 1224.6531300635033, 1155.9660237420014, 806.7797176298134, 801.4850945152767, 797.484577698912, 811.2660569711718, 830.9196677209093, 700.3193979425312, 645.7148095880668, 607.9460814717831, 671.4973617384011, 588.0064469756969, 970.4801100017936, 801.8944740196331, 1402.5827408569914, 503.04572241930094, 552.3499886552077, 478.72776974385704, 465.5900386200752, 1656.9366879645172, 407.1556619116432, 403.7480275247924, 894.3716649269417, 731.6698295860887, 4426.111526067007, 1106.210218038989, 985.4799747266713, 2908.667456669916, 1834.1046980235817, 868.9098287504279, 1169.1202342334896, 1379.2367207427164, 7222.613433792024, 13863.68541616596, 4958.641604611996, 2369.09154609582, 5569.278950194019, 4933.654468440343, 12084.716807117806, 3449.671602481204, 7919.285279444168, 1735.7337297537322, 1026.4548259901437, 2490.3369951835452, 3389.437500735022, 3506.3632614125586, 2566.749307638677, 6418.337294831852, 4540.847415625535, 8238.899076053518, 6665.179743922001, 8512.086553112948, 20681.524027882282, 13063.512195902598, 182553.77602305906, 5353.287397600327, 2809.4290518633543, 11671.509150074568, 5218.3800649864, 51777.171969247385, 6130.056789003319, 17273.940036415686, 14260.023821067844, 71870.30524257677, 8198.063783246487, 34726.54692873475, 27047.73738868584, 9645.163746737218, 13664.34500324747, 54285.951360827225, 37300.762199373654, 45483.94521487946, 63642.32476019656, 12368.649573878103, 26059.74990043116, 16072.569197456112, 70262.74842402419, 129633.53945718337, 91902.27774922541, 45879.13849247169, 112127.25766916858, 94999.21917985512, 124128.51659271454, 77823.25192465377, 63335.15678676346, 68779.72819073877, 62783.051119439675, 68615.82549148657, 75197.9091240789, 230.24179883891247, 189.5261227641118, 167.53347087761244, 155.28760513690625, 160.39681456212261, 148.84836666271616, 156.02491710951583, 147.93355777351678, 139.0581181405198, 235.23197121459037, 138.5820671871478, 136.3888996235978, 136.3696573833388, 135.56653849848644, 134.37503977804263, 129.50850983766458, 128.59452406030124, 126.37234220551949, 125.28321948683227, 124.40533150728984, 122.94745203657571, 121.74813451973918, 120.64127085982607, 120.70121184377949, 119.27520994947939, 117.65764653176754, 116.79273350927787, 116.41743822098049, 115.8424460666551, 114.68941294175293, 470.6121014395842, 647.0640450146226, 833.6176745046756, 343.13992376273563, 389.0600430822205, 146.40458415308828, 314.8845388315906, 127.8353639717981, 310.2660461612923, 427.32447720344544, 281.3409958239246, 136.37881940841632, 157.9436245196317, 2680.969898392461, 224.8570165298747, 1055.0584846625484, 1104.2867166574258, 1348.6008252174577, 626.9343994157307, 344.2359701100147, 762.4548538599585, 1277.2197154827488, 288.99724971624454, 578.3720712693679, 1125.4875922158442, 3972.897153479643, 18809.281908577694, 3097.897718481144, 1149.0829597881489, 518.9639157537953, 1713.827339222548, 1464.9299469964358, 966.9864984539612, 1423.7776739248004, 9259.299903958901, 3747.4503773177426, 2767.289536166795, 71870.30524257677, 1124.9378825156346, 6380.599985260039, 6749.084921568118, 51777.171969247385, 8426.0007929771, 34726.54692873475, 2401.545703044971, 54285.951360827225, 20048.34135697303, 45879.13849247169, 182553.77602305906, 28282.153359639924, 18049.946131579454, 11671.509150074568, 12701.79987874346, 34815.192675842685, 94999.21917985512, 7248.309900063118, 39037.61466286389, 53012.17275974134, 10314.641413756117, 63943.27471788608, 50965.3867188061, 68779.72819073877, 70262.74842402419, 63335.15678676346, 91902.27774922541, 1849.0377176262555, 1135.6398647330493, 839.9385738265918, 718.9351565761375, 721.5392564282316, 681.554805501529, 644.4218145467971, 629.255716837402, 577.3231176468088, 573.5274689905339, 570.2247810083325, 517.4813790616739, 509.94142014244653, 506.35890571325666, 502.74672881499583, 628.99091074599, 459.5055982622449, 2387.25225094637, 445.9680591601004, 396.0345798418141, 369.0132463444065, 364.52793069575176, 358.81220649077846, 358.81216322175106, 358.81217614105674, 357.0952663848298, 321.8048319658474, 320.2926464176155, 296.3236146212862, 294.5868161252553, 1679.232028782055, 7215.841078587905, 737.3095656636011, 672.1182774474156, 576.1974233010075, 480.27737404391115, 1421.6357682603223, 435.0461695705136, 775.2349755857763, 591.0478970744026, 779.5591782755237, 1715.445785647393, 960.4294077532095, 911.2042852700989, 94497.05227202803, 23276.679627682603, 11488.940362358917, 1728.5960807369845, 124128.51659271454, 68615.82549148657, 24027.786482980227, 5903.214849919012, 94999.21917985512, 7609.284448881523, 12093.402188798224, 129633.53945718337, 25259.36677398058, 40832.17425191279, 63335.15678676346, 6138.313740286383, 91902.27774922541, 23483.34286456846, 45483.94521487946, 32951.681209068076, 13024.880432642485, 6185.608799771831, 29365.657928827248, 17969.195966364823, 13358.284950926032, 11009.990473637068, 8838.9049378287, 6627.366625627084, 4290.420340359438, 3941.4404178422783, 3799.1843529316398, 3533.1008151350393, 3370.3474990285526, 3261.8773262074087, 3211.51351638832, 3090.729513618768, 2864.7190415518107, 10161.699664405218, 2736.5633913005836, 2613.430646103478, 2347.931990538274, 2314.1790383462335, 2298.075848013934, 2287.5921485257213, 2256.0484684023204, 2254.592310499066, 2181.6489255605497, 2138.3235455939566, 2099.8842814981476, 2012.5520514265158, 1993.2450520374202, 1916.618344266941, 1905.6026292902877, 3869.693917953564, 3416.6068446203594, 4710.241783891071, 3914.759706430966, 21946.85470275164, 2332.903197349832, 10363.728329876021, 2891.2352387882447, 4536.075075957307, 50579.28805782364, 19887.820935334974, 11545.542370249626, 6341.664017310938, 15910.986232098188, 54713.033301069685, 23878.177646780383, 18351.106420450786, 7977.300632195165, 12142.869276366748, 45879.13849247169, 6761.259045376289, 13658.875853418096, 51777.171969247385, 44063.94379091816, 1936.605414618778, 1147.939220545137, 1112.441689655615, 1042.1068004897409, 943.0401245065816, 685.4429562118662, 725.2611049680224, 537.3340970695743, 4142.513177503355, 466.89031767913986, 459.1779209480849, 450.2396759232339, 441.92530857093107, 436.5442169763441, 407.9788956063027, 400.92312634992277, 404.2548974359568, 397.7493111352029, 388.533446250569, 383.2712404317272, 358.32261432824293, 347.07948364388466, 346.21980002098957, 341.92133476898493, 318.72807272508237, 305.05297254484515, 301.0607929576869, 286.72885635066916, 281.5567341993688, 276.8600768182442, 2150.2790749862857, 722.927969793701, 2204.7273912805194, 538.7062575798678, 4738.794541598992, 932.8434036076981, 731.905145792327, 1434.2080099040854, 1570.1915390234335, 852.196470262492, 1811.5565528133654, 439.17753501254384, 2365.286476824365, 3800.708863494975, 982.9706493666896, 1733.6727712836341, 94497.05227202803, 9412.886107790337, 124128.51659271454, 1738.2786889951883, 14693.996194760497, 6185.608799771831, 6710.317833693396, 75197.9091240789, 15903.034794538926, 22381.94638639907, 16965.96588515563, 23483.34286456846, 24027.786482980227, 77823.25192465377, 129633.53945718337, 39011.61140322168, 25259.36677398058, 34782.3966350967, 32600.42407664247, 15765.301211125783, 10375.552427657563, 94999.21917985512, 91902.27774922541, 68615.82549148657, 112127.25766916858, 63335.15678676346, 53012.17275974134, 48423.186802366916, 25229.682235599477, 62783.051119439675, 39786.784869432326, 68779.72819073877, 1890.7634557002964, 1240.2028565814721, 1195.5140959654632, 1128.951000769589, 1057.0038677077341, 913.1892235889638, 869.4692996682726, 831.6807629211502, 813.0442409386551, 868.9837080815076, 736.4266999800967, 736.1207830216471, 727.1838590225427, 698.071959285129, 668.3998951851302, 645.869214562591, 619.2406979724504, 597.7435644485112, 594.1452851443651, 591.1782260547695, 574.8957272703212, 569.6087084593279, 552.5334815163773, 535.5260310756629, 535.5260418413194, 509.3265497269256, 502.1120644535658, 480.83494333584395, 473.6433419596913, 466.3994079573883, 5028.262530668537, 8971.053332447626, 2280.2754883009034, 4810.1135352505335, 1331.4902924599817, 1524.5356303696578, 2921.8564827160785, 1673.194167430216, 4261.065386472507, 2897.7962415442894, 7900.285480852368, 666.7238527068149, 2532.1193894932107, 4112.72490392929, 5294.609296017098, 1413.7603236896712, 1582.273318266023, 2476.037706897735, 2241.927139865295, 2423.3319323645887, 1490.222033810526, 12778.037529294486, 2944.892596176754, 4854.706924631678, 5912.141826661086, 2521.716091471484, 41401.843399196485, 4123.303083654222, 3050.8987306987724, 11872.190570143755, 6616.497113359296, 6968.5146926663565, 20283.38059780192, 7481.867316695071, 68779.72819073877, 36345.845174937254, 112127.25766916858, 50456.33889526916, 63335.15678676346, 9310.322573788166, 14549.301226370158, 94999.21917985512, 129633.53945718337, 43346.741697014055, 16014.887301816083, 62783.051119439675, 182553.77602305906, 91902.27774922541, 54285.951360827225, 39022.21842436076, 22710.19181296531, 63642.32476019656, 48423.186802366916, 77823.25192465377, 39037.61466286389, 25229.682235599477, 53012.17275974134, 124128.51659271454, 43647.46119561837, 70262.74842402419, 45483.94521487946, 35105.88282536991, 37196.78657895995, 39011.61140322168, 1408.2599481038956, 502.40169027686073, 492.85594529844093, 354.09414794556426, 319.4070705202643, 300.4219749003119, 300.42198444112694, 299.04492967922243, 298.5881572050227, 293.6909177323252, 315.9677286160659, 221.22682024279862, 213.80846925931766, 200.89990020826883, 199.9545154130338, 198.05820835362994, 190.45481557007312, 189.47970596902127, 179.69623315454254, 174.22663508917603, 168.78941807239167, 163.26209298933546, 165.2989715403681, 165.2993075602203, 160.9944886525194, 160.76125504751192, 159.5915165365293, 155.8525659599604, 154.4215758684805, 152.8574096706876, 322.9296211565129, 215.83884451555042, 291.40775639590424, 288.7904453528093, 587.1685482380386, 251.81687794458034, 3106.908194938436, 760.9196791191703, 947.1664349714723, 302.3484645695937, 330.9342010799692, 1117.4100551136, 15765.301211125783, 13803.042792468828, 124128.51659271454, 529.4255509201296, 477.7724493684759, 94497.05227202803, 112127.25766916858, 14693.996194760497, 37196.78657895995, 13919.574371069504, 1131.5360815881584, 63335.15678676346, 94999.21917985512, 18442.98591933536, 4806.259835217345, 39786.784869432326, 15321.682041990824, 129633.53945718337, 1240.8308021304413, 10421.597747779326, 10280.725818463014, 48423.186802366916, 91902.27774922541, 23276.679627682603, 10027.5329228239, 14549.301226370158, 77823.25192465377, 1675.8662454340463, 1255.474767177227, 838.4175092035122, 592.7200168137874, 493.3601874815079, 493.3601759514965, 480.09232999169654, 423.72237613576425, 421.35989152288136, 420.24885046047797, 420.24885424320064, 420.2488263914379, 420.2488037100066, 420.24881095616735, 420.2487853121331, 420.2487926083452, 420.2488021743078, 419.13762196724883, 419.13762358978903, 419.1376308520812, 419.13763476754525, 419.13763795292294, 419.1376399003593, 419.13764185090963, 419.1376429601902, 419.1376452096499, 419.1376486250411, 419.1376520384232, 419.1376550810069, 419.13765646196856, 645.9082749253902, 4589.664490972496, 526.0224662052252, 661.3361064409461, 3865.251427440861, 525.0699524631607, 990.9328570615542, 580.3570805460203, 1791.0675723502848, 26555.83121633456, 15686.462496562446, 1112.5735081836483, 2106.87059536103, 68615.82549148657, 813.5011797676834, 12016.077293215918, 34726.54692873475, 1068.8031144508197, 9221.900552599222, 9310.322573788166, 2533.071159762315, 3065.251862234009, 12568.684779887617, 15529.500844091888, 10027.5329228239, 2403.3871781812004, 1489.8059394920697, 1367.8137570136814, 1174.3358450944777, 831.1102359802991, 605.8190884062777, 635.9521586421664, 855.7065765931175, 2284.015829490329, 499.44194894471525, 489.44866386661295, 477.02948353204647, 468.0294307172642, 464.97177975297586, 461.60378463079957, 441.3671424460212, 460.7856533113647, 405.71819299798506, 345.5022669009377, 343.2592663361788, 340.9464927451151, 340.16223516272555, 326.3502184680027, 328.63426205700483, 314.836211358844, 313.0313879802591, 312.3081370066072, 310.2002770918201, 305.92234825665554, 303.5197000537521, 2831.573902270048, 1974.2658703472264, 977.7820052874744, 825.4738542019063, 413.09544483972815, 1185.2416362544454, 14040.550177461399, 10520.75352580633, 4656.592150607573, 523.0090171843032, 1238.1658578268361, 411.38556796420926, 2021.801629788652, 3336.136925076851, 671.0706117404114, 22189.86804284959, 17188.777949454186, 16694.93134004468, 24891.760618406497, 1503.436092143245, 124128.51659271454, 22946.661907763388, 94497.05227202803, 4080.423203812644, 10375.552427657563, 11938.5214093805, 71870.30524257677, 6855.470110002327, 75197.9091240789, 13874.842767492346, 91902.27774922541, 129633.53945718337, 14814.475484455937, 9381.744094950038, 14693.996194760497, 24027.786482980227, 25383.16579504476, 34726.54692873475, 63335.15678676346, 5283.395945172774, 2832.0013649063144, 2256.3002313926772, 1839.2197564472654, 1395.9546031246198, 1244.068811638359, 1017.8365149855157, 1016.7782103361318, 984.0830264445859, 929.9477251050541, 900.1748954241675, 821.9634397071391, 816.1874008975101, 705.8097938004017, 692.381311371314, 1752.3836788531514, 683.8669979838651, 649.6279281377844, 612.2808017076177, 597.8400668803912, 556.2916957508136, 523.918610532166, 521.7792538002301, 517.9789093088818, 508.31629703846494, 510.59545058507985, 544.70197013355, 481.1311132145235, 466.39888521374087, 457.66595609586113, 2940.817790632221, 1858.741292936488, 935.1087306132138, 4386.586233153726, 1925.924116948539, 1151.3905770031251, 858.6137835405211, 9431.143571769879, 1060.9748269856943, 24745.677246827825, 35207.10670742074, 1264.64413761618, 1435.9340626649685, 1943.0009356081198, 1071.9616208076359, 16405.36175268509, 8354.562341390214, 6901.66479763592, 2026.208456698115, 1364.958139466782, 4191.469081457008, 10137.107875529971, 17188.777949454186, 18809.281908577694, 3747.4503773177426, 3691.3225772501887, 182553.77602305906, 12701.79987874346, 34065.311395516524, 24891.760618406497, 7265.847796430204, 7100.930510293506, 10014.523956130062, 26398.53634760818, 16694.93134004468, 12685.591009015578, 33905.16626200466, 45483.94521487946, 77823.25192465377, 71870.30524257677, 53012.17275974134, 112127.25766916858, 50456.33889526916, 75197.9091240789, 129633.53945718337, 45879.13849247169, 51777.171969247385, 3116.5663082870424, 1697.7669302965335, 1692.596032790295, 1175.846669475238, 891.2413310559509, 642.391579310121, 607.0627745385374, 475.5732396274209, 461.2929875924402, 448.758859084172, 406.85234929156337, 447.9352810253821, 439.9154683576243, 437.1326072193779, 433.42959740647353, 433.2144305966566, 378.29724203487405, 446.2964547390241, 330.08383203982373, 383.7346369868443, 321.84329231476175, 307.42054471411404, 284.7909508969639, 301.8764357048474, 283.8725227872599, 314.48648974824624, 273.7512782920557, 271.0131398405878, 296.7307683188016, 286.3674940472761, 1670.2513974386422, 678.1417630886949, 1897.43700858927, 310.7196413827088, 826.5733145872546, 1317.3421170226707, 474.53147703971433, 595.2772020136656, 4698.414223301749, 814.3407338203828, 665.5536324240936, 1376.902578549722, 834.8096506614078, 3402.9981689102015, 687.2325397019348, 27047.73738868584, 925.896374237912, 42618.35780986247, 5446.360906057914, 5782.415893958067, 1364.9677671074824, 63259.493250156236, 769.5472460910217, 22559.13987976215, 2291.52671458399, 52726.18983826217, 5041.5075588567515, 2067.608076785614, 13567.297212017997, 3882.6467279522667, 38219.65199131376, 112127.25766916858, 10075.317359420891, 4162.936591346571, 43647.46119561837, 71870.30524257677, 39011.61140322168, 28094.683760651664, 12093.402188798224, 63943.27471788608, 44063.94379091816, 43713.10429937057], \"Category\": [\"Default\", \"Default\", \"Default\", \"Default\", \"Default\", \"Default\", \"Default\", \"Default\", \"Default\", \"Default\", \"Default\", \"Default\", \"Default\", \"Default\", \"Default\", \"Default\", \"Default\", \"Default\", \"Default\", \"Default\", \"Default\", \"Default\", \"Default\", \"Default\", \"Default\", \"Default\", \"Default\", \"Default\", \"Default\", \"Default\", \"Topic1\", \"Topic1\", \"Topic1\", \"Topic1\", \"Topic1\", \"Topic1\", \"Topic1\", \"Topic1\", \"Topic1\", \"Topic1\", \"Topic1\", \"Topic1\", \"Topic1\", \"Topic1\", \"Topic1\", \"Topic1\", \"Topic1\", \"Topic1\", \"Topic1\", \"Topic1\", \"Topic1\", \"Topic1\", \"Topic1\", \"Topic1\", \"Topic1\", \"Topic1\", \"Topic1\", \"Topic1\", \"Topic1\", \"Topic1\", \"Topic1\", \"Topic1\", \"Topic1\", \"Topic1\", \"Topic1\", \"Topic1\", \"Topic1\", \"Topic1\", \"Topic1\", \"Topic1\", \"Topic1\", \"Topic1\", \"Topic1\", \"Topic1\", \"Topic1\", \"Topic1\", \"Topic1\", \"Topic1\", \"Topic1\", \"Topic1\", \"Topic1\", \"Topic1\", \"Topic1\", \"Topic1\", \"Topic1\", \"Topic1\", \"Topic1\", \"Topic1\", \"Topic1\", \"Topic1\", \"Topic1\", \"Topic1\", \"Topic1\", \"Topic1\", \"Topic1\", \"Topic1\", \"Topic1\", \"Topic1\", \"Topic1\", \"Topic1\", \"Topic1\", \"Topic1\", \"Topic1\", \"Topic1\", \"Topic1\", \"Topic1\", \"Topic1\", \"Topic1\", \"Topic1\", \"Topic1\", \"Topic1\", \"Topic1\", \"Topic1\", \"Topic1\", \"Topic1\", \"Topic1\", \"Topic1\", \"Topic1\", \"Topic1\", \"Topic1\", \"Topic1\", \"Topic1\", \"Topic1\", \"Topic1\", \"Topic1\", \"Topic1\", \"Topic1\", \"Topic1\", \"Topic1\", \"Topic2\", \"Topic2\", \"Topic2\", \"Topic2\", \"Topic2\", \"Topic2\", \"Topic2\", \"Topic2\", \"Topic2\", \"Topic2\", \"Topic2\", \"Topic2\", \"Topic2\", \"Topic2\", \"Topic2\", \"Topic2\", \"Topic2\", \"Topic2\", \"Topic2\", \"Topic2\", \"Topic2\", \"Topic2\", \"Topic2\", \"Topic2\", \"Topic2\", \"Topic2\", \"Topic2\", \"Topic2\", \"Topic2\", \"Topic2\", \"Topic2\", \"Topic2\", \"Topic2\", \"Topic2\", \"Topic2\", \"Topic2\", \"Topic2\", \"Topic2\", \"Topic2\", \"Topic2\", \"Topic2\", \"Topic2\", \"Topic2\", \"Topic2\", \"Topic2\", \"Topic2\", \"Topic2\", \"Topic2\", \"Topic2\", \"Topic2\", \"Topic2\", \"Topic2\", \"Topic2\", \"Topic2\", \"Topic2\", \"Topic2\", \"Topic2\", \"Topic2\", \"Topic2\", \"Topic2\", \"Topic2\", \"Topic2\", \"Topic2\", \"Topic2\", \"Topic2\", \"Topic2\", \"Topic2\", \"Topic2\", \"Topic2\", \"Topic2\", \"Topic2\", \"Topic2\", \"Topic2\", \"Topic2\", \"Topic2\", \"Topic2\", \"Topic2\", \"Topic2\", \"Topic2\", \"Topic2\", \"Topic2\", \"Topic2\", \"Topic2\", \"Topic2\", \"Topic3\", \"Topic3\", \"Topic3\", \"Topic3\", \"Topic3\", \"Topic3\", \"Topic3\", \"Topic3\", \"Topic3\", \"Topic3\", \"Topic3\", \"Topic3\", \"Topic3\", \"Topic3\", \"Topic3\", \"Topic3\", \"Topic3\", \"Topic3\", \"Topic3\", \"Topic3\", \"Topic3\", \"Topic3\", \"Topic3\", \"Topic3\", \"Topic3\", \"Topic3\", \"Topic3\", \"Topic3\", \"Topic3\", \"Topic3\", \"Topic3\", \"Topic3\", \"Topic3\", \"Topic3\", \"Topic3\", \"Topic3\", \"Topic3\", \"Topic3\", \"Topic3\", \"Topic3\", \"Topic3\", \"Topic3\", \"Topic3\", \"Topic3\", \"Topic3\", \"Topic3\", \"Topic3\", \"Topic3\", \"Topic3\", \"Topic3\", \"Topic3\", \"Topic3\", \"Topic3\", \"Topic3\", \"Topic3\", \"Topic3\", \"Topic3\", \"Topic3\", \"Topic3\", \"Topic3\", \"Topic3\", \"Topic3\", \"Topic3\", \"Topic3\", \"Topic3\", \"Topic3\", \"Topic3\", \"Topic3\", \"Topic3\", \"Topic3\", \"Topic3\", \"Topic3\", \"Topic3\", \"Topic3\", \"Topic3\", \"Topic4\", \"Topic4\", \"Topic4\", \"Topic4\", \"Topic4\", \"Topic4\", \"Topic4\", \"Topic4\", \"Topic4\", \"Topic4\", \"Topic4\", \"Topic4\", \"Topic4\", \"Topic4\", \"Topic4\", \"Topic4\", \"Topic4\", \"Topic4\", \"Topic4\", \"Topic4\", \"Topic4\", \"Topic4\", \"Topic4\", \"Topic4\", \"Topic4\", \"Topic4\", \"Topic4\", \"Topic4\", \"Topic4\", \"Topic4\", \"Topic4\", \"Topic4\", \"Topic4\", \"Topic4\", \"Topic4\", \"Topic4\", \"Topic4\", \"Topic4\", \"Topic4\", \"Topic4\", \"Topic4\", \"Topic4\", \"Topic4\", \"Topic4\", \"Topic4\", \"Topic4\", \"Topic4\", \"Topic4\", \"Topic4\", \"Topic4\", \"Topic4\", \"Topic4\", \"Topic4\", \"Topic4\", \"Topic4\", \"Topic4\", \"Topic4\", \"Topic4\", \"Topic4\", \"Topic4\", \"Topic4\", \"Topic4\", \"Topic4\", \"Topic4\", \"Topic4\", \"Topic4\", \"Topic4\", \"Topic4\", \"Topic4\", \"Topic4\", \"Topic4\", \"Topic4\", \"Topic4\", \"Topic4\", \"Topic4\", \"Topic4\", \"Topic4\", \"Topic4\", \"Topic4\", \"Topic4\", \"Topic4\", \"Topic4\", \"Topic4\", \"Topic4\", \"Topic4\", \"Topic4\", \"Topic4\", \"Topic4\", \"Topic4\", \"Topic4\", \"Topic4\", \"Topic4\", \"Topic4\", \"Topic4\", \"Topic4\", \"Topic5\", \"Topic5\", \"Topic5\", \"Topic5\", \"Topic5\", \"Topic5\", \"Topic5\", \"Topic5\", \"Topic5\", \"Topic5\", \"Topic5\", \"Topic5\", \"Topic5\", \"Topic5\", \"Topic5\", \"Topic5\", \"Topic5\", \"Topic5\", \"Topic5\", \"Topic5\", \"Topic5\", \"Topic5\", \"Topic5\", \"Topic5\", \"Topic5\", \"Topic5\", \"Topic5\", \"Topic5\", \"Topic5\", \"Topic5\", \"Topic5\", \"Topic5\", \"Topic5\", \"Topic5\", \"Topic5\", \"Topic5\", \"Topic5\", \"Topic5\", \"Topic5\", \"Topic5\", \"Topic5\", \"Topic5\", \"Topic5\", \"Topic5\", \"Topic5\", \"Topic5\", \"Topic5\", \"Topic5\", \"Topic5\", \"Topic5\", \"Topic5\", \"Topic5\", \"Topic5\", \"Topic5\", \"Topic5\", \"Topic5\", \"Topic5\", \"Topic5\", \"Topic5\", \"Topic5\", \"Topic5\", \"Topic5\", \"Topic5\", \"Topic5\", \"Topic5\", \"Topic5\", \"Topic5\", \"Topic5\", \"Topic5\", \"Topic5\", \"Topic5\", \"Topic5\", \"Topic5\", \"Topic5\", \"Topic5\", \"Topic5\", \"Topic5\", \"Topic5\", \"Topic5\", \"Topic5\", \"Topic5\", \"Topic5\", \"Topic5\", \"Topic5\", \"Topic5\", \"Topic5\", \"Topic5\", \"Topic5\", \"Topic5\", \"Topic5\", \"Topic5\", \"Topic5\", \"Topic5\", \"Topic5\", \"Topic6\", \"Topic6\", \"Topic6\", \"Topic6\", \"Topic6\", \"Topic6\", \"Topic6\", \"Topic6\", \"Topic6\", \"Topic6\", \"Topic6\", \"Topic6\", \"Topic6\", \"Topic6\", \"Topic6\", \"Topic6\", \"Topic6\", \"Topic6\", \"Topic6\", \"Topic6\", \"Topic6\", \"Topic6\", \"Topic6\", \"Topic6\", \"Topic6\", \"Topic6\", \"Topic6\", \"Topic6\", \"Topic6\", \"Topic6\", \"Topic6\", \"Topic6\", \"Topic6\", \"Topic6\", \"Topic6\", \"Topic6\", \"Topic6\", \"Topic6\", \"Topic6\", \"Topic6\", \"Topic6\", \"Topic6\", \"Topic6\", \"Topic6\", \"Topic6\", \"Topic6\", \"Topic6\", \"Topic6\", \"Topic6\", \"Topic6\", \"Topic6\", \"Topic6\", \"Topic6\", \"Topic6\", \"Topic6\", \"Topic6\", \"Topic6\", \"Topic6\", \"Topic6\", \"Topic6\", \"Topic6\", \"Topic6\", \"Topic6\", \"Topic6\", \"Topic6\", \"Topic6\", \"Topic6\", \"Topic6\", \"Topic6\", \"Topic6\", \"Topic6\", \"Topic6\", \"Topic6\", \"Topic6\", \"Topic6\", \"Topic6\", \"Topic6\", \"Topic7\", \"Topic7\", \"Topic7\", \"Topic7\", \"Topic7\", \"Topic7\", \"Topic7\", \"Topic7\", \"Topic7\", \"Topic7\", \"Topic7\", \"Topic7\", \"Topic7\", \"Topic7\", \"Topic7\", \"Topic7\", \"Topic7\", \"Topic7\", \"Topic7\", \"Topic7\", \"Topic7\", \"Topic7\", \"Topic7\", \"Topic7\", \"Topic7\", \"Topic7\", \"Topic7\", \"Topic7\", \"Topic7\", \"Topic7\", \"Topic7\", \"Topic7\", \"Topic7\", \"Topic7\", \"Topic7\", \"Topic7\", \"Topic7\", \"Topic7\", \"Topic7\", \"Topic7\", \"Topic7\", \"Topic7\", \"Topic7\", \"Topic7\", \"Topic7\", \"Topic7\", \"Topic7\", \"Topic7\", \"Topic7\", \"Topic7\", \"Topic7\", \"Topic7\", \"Topic7\", \"Topic7\", \"Topic7\", \"Topic7\", \"Topic7\", \"Topic7\", \"Topic7\", \"Topic7\", \"Topic7\", \"Topic7\", \"Topic8\", \"Topic8\", \"Topic8\", \"Topic8\", \"Topic8\", \"Topic8\", \"Topic8\", \"Topic8\", \"Topic8\", \"Topic8\", \"Topic8\", \"Topic8\", \"Topic8\", \"Topic8\", \"Topic8\", \"Topic8\", \"Topic8\", \"Topic8\", \"Topic8\", \"Topic8\", \"Topic8\", \"Topic8\", \"Topic8\", \"Topic8\", \"Topic8\", \"Topic8\", \"Topic8\", \"Topic8\", \"Topic8\", \"Topic8\", \"Topic8\", \"Topic8\", \"Topic8\", \"Topic8\", \"Topic8\", \"Topic8\", \"Topic8\", \"Topic8\", \"Topic8\", \"Topic8\", \"Topic8\", \"Topic8\", \"Topic8\", \"Topic8\", \"Topic8\", \"Topic8\", \"Topic8\", \"Topic8\", \"Topic8\", \"Topic8\", \"Topic8\", \"Topic8\", \"Topic8\", \"Topic8\", \"Topic8\", \"Topic8\", \"Topic8\", \"Topic8\", \"Topic8\", \"Topic8\", \"Topic8\", \"Topic8\", \"Topic8\", \"Topic8\", \"Topic8\", \"Topic8\", \"Topic8\", \"Topic8\", \"Topic8\", \"Topic8\", \"Topic8\", \"Topic8\", \"Topic8\", \"Topic8\", \"Topic8\", \"Topic8\", \"Topic8\", \"Topic8\", \"Topic8\", \"Topic8\", \"Topic8\", \"Topic8\", \"Topic8\", \"Topic8\", \"Topic8\", \"Topic8\", \"Topic8\", \"Topic8\", \"Topic8\", \"Topic8\", \"Topic8\", \"Topic8\", \"Topic8\", \"Topic8\", \"Topic8\", \"Topic9\", \"Topic9\", \"Topic9\", \"Topic9\", \"Topic9\", \"Topic9\", \"Topic9\", \"Topic9\", \"Topic9\", \"Topic9\", \"Topic9\", \"Topic9\", \"Topic9\", \"Topic9\", \"Topic9\", \"Topic9\", \"Topic9\", \"Topic9\", \"Topic9\", \"Topic9\", \"Topic9\", \"Topic9\", \"Topic9\", \"Topic9\", \"Topic9\", \"Topic9\", \"Topic9\", \"Topic9\", \"Topic9\", \"Topic9\", \"Topic9\", \"Topic9\", \"Topic9\", \"Topic9\", \"Topic9\", \"Topic9\", \"Topic9\", \"Topic9\", \"Topic9\", \"Topic9\", \"Topic9\", \"Topic9\", \"Topic9\", \"Topic9\", \"Topic9\", \"Topic9\", \"Topic9\", \"Topic9\", \"Topic9\", \"Topic9\", \"Topic9\", \"Topic9\", \"Topic9\", \"Topic9\", \"Topic9\", \"Topic9\", \"Topic9\", \"Topic9\", \"Topic9\", \"Topic9\", \"Topic9\", \"Topic9\", \"Topic9\", \"Topic9\", \"Topic9\", \"Topic9\", \"Topic9\", \"Topic9\", \"Topic9\", \"Topic9\", \"Topic9\", \"Topic9\", \"Topic9\", \"Topic9\", \"Topic9\", \"Topic9\", \"Topic9\", \"Topic9\", \"Topic9\", \"Topic9\", \"Topic9\", \"Topic9\", \"Topic9\", \"Topic9\", \"Topic9\", \"Topic9\", \"Topic9\", \"Topic9\", \"Topic9\", \"Topic9\", \"Topic9\", \"Topic9\", \"Topic9\", \"Topic9\", \"Topic9\", \"Topic10\", \"Topic10\", \"Topic10\", \"Topic10\", \"Topic10\", \"Topic10\", \"Topic10\", \"Topic10\", \"Topic10\", \"Topic10\", \"Topic10\", \"Topic10\", \"Topic10\", \"Topic10\", \"Topic10\", \"Topic10\", \"Topic10\", \"Topic10\", \"Topic10\", \"Topic10\", \"Topic10\", \"Topic10\", \"Topic10\", \"Topic10\", \"Topic10\", \"Topic10\", \"Topic10\", \"Topic10\", \"Topic10\", \"Topic10\", \"Topic10\", \"Topic10\", \"Topic10\", \"Topic10\", \"Topic10\", \"Topic10\", \"Topic10\", \"Topic10\", \"Topic10\", \"Topic10\", \"Topic10\", \"Topic10\", \"Topic10\", \"Topic10\", \"Topic10\", \"Topic10\", \"Topic10\", \"Topic10\", \"Topic10\", \"Topic10\", \"Topic10\", \"Topic10\", \"Topic10\", \"Topic10\", \"Topic10\", \"Topic10\", \"Topic10\", \"Topic10\", \"Topic10\", \"Topic10\", \"Topic10\", \"Topic10\", \"Topic10\", \"Topic10\", \"Topic10\", \"Topic10\", \"Topic10\", \"Topic11\", \"Topic11\", \"Topic11\", \"Topic11\", \"Topic11\", \"Topic11\", \"Topic11\", \"Topic11\", \"Topic11\", \"Topic11\", \"Topic11\", \"Topic11\", \"Topic11\", \"Topic11\", \"Topic11\", \"Topic11\", \"Topic11\", \"Topic11\", \"Topic11\", \"Topic11\", \"Topic11\", \"Topic11\", \"Topic11\", \"Topic11\", \"Topic11\", \"Topic11\", \"Topic11\", \"Topic11\", \"Topic11\", \"Topic11\", \"Topic11\", \"Topic11\", \"Topic11\", \"Topic11\", \"Topic11\", \"Topic11\", \"Topic11\", \"Topic11\", \"Topic11\", \"Topic11\", \"Topic11\", \"Topic11\", \"Topic11\", \"Topic11\", \"Topic11\", \"Topic11\", \"Topic11\", \"Topic11\", \"Topic11\", \"Topic11\", \"Topic11\", \"Topic11\", \"Topic11\", \"Topic11\", \"Topic12\", \"Topic12\", \"Topic12\", \"Topic12\", \"Topic12\", \"Topic12\", \"Topic12\", \"Topic12\", \"Topic12\", \"Topic12\", \"Topic12\", \"Topic12\", \"Topic12\", \"Topic12\", \"Topic12\", \"Topic12\", \"Topic12\", \"Topic12\", \"Topic12\", \"Topic12\", \"Topic12\", \"Topic12\", \"Topic12\", \"Topic12\", \"Topic12\", \"Topic12\", \"Topic12\", \"Topic12\", \"Topic12\", \"Topic12\", \"Topic12\", \"Topic12\", \"Topic12\", \"Topic12\", \"Topic12\", \"Topic12\", \"Topic12\", \"Topic12\", \"Topic12\", \"Topic12\", \"Topic12\", \"Topic12\", \"Topic12\", \"Topic12\", \"Topic12\", \"Topic12\", \"Topic12\", \"Topic12\", \"Topic12\", \"Topic12\", \"Topic12\", \"Topic12\", \"Topic12\", \"Topic12\", \"Topic12\", \"Topic12\", \"Topic12\", \"Topic12\", \"Topic12\", \"Topic12\", \"Topic12\", \"Topic12\", \"Topic12\", \"Topic12\", \"Topic12\", \"Topic12\", \"Topic12\", \"Topic12\", \"Topic12\", \"Topic12\", \"Topic12\", \"Topic12\", \"Topic12\", \"Topic12\", \"Topic12\", \"Topic12\", \"Topic12\", \"Topic12\", \"Topic13\", \"Topic13\", \"Topic13\", \"Topic13\", \"Topic13\", \"Topic13\", \"Topic13\", \"Topic13\", \"Topic13\", \"Topic13\", \"Topic13\", \"Topic13\", \"Topic13\", \"Topic13\", \"Topic13\", \"Topic13\", \"Topic13\", \"Topic13\", \"Topic13\", \"Topic13\", \"Topic13\", \"Topic13\", \"Topic13\", \"Topic13\", \"Topic13\", \"Topic13\", \"Topic13\", \"Topic13\", \"Topic13\", \"Topic13\", \"Topic13\", \"Topic13\", \"Topic13\", \"Topic13\", \"Topic13\", \"Topic13\", \"Topic13\", \"Topic13\", \"Topic13\", \"Topic13\", \"Topic13\", \"Topic13\", \"Topic13\", \"Topic13\", \"Topic13\", \"Topic13\", \"Topic13\", \"Topic13\", \"Topic13\", \"Topic13\", \"Topic13\", \"Topic13\", \"Topic13\", \"Topic13\", \"Topic13\", \"Topic13\", \"Topic13\", \"Topic13\", \"Topic13\", \"Topic13\", \"Topic13\", \"Topic13\", \"Topic13\", \"Topic13\", \"Topic13\", \"Topic13\", \"Topic13\", \"Topic13\", \"Topic13\", \"Topic13\", \"Topic13\", \"Topic13\", \"Topic13\", \"Topic13\", \"Topic13\", \"Topic13\", \"Topic13\", \"Topic13\", \"Topic13\", \"Topic13\", \"Topic13\", \"Topic13\", \"Topic13\", \"Topic13\", \"Topic13\", \"Topic13\", \"Topic13\", \"Topic13\", \"Topic13\", \"Topic13\", \"Topic13\", \"Topic13\", \"Topic13\", \"Topic13\", \"Topic14\", \"Topic14\", \"Topic14\", \"Topic14\", \"Topic14\", \"Topic14\", \"Topic14\", \"Topic14\", \"Topic14\", \"Topic14\", \"Topic14\", \"Topic14\", \"Topic14\", \"Topic14\", \"Topic14\", \"Topic14\", \"Topic14\", \"Topic14\", \"Topic14\", \"Topic14\", \"Topic14\", \"Topic14\", \"Topic14\", \"Topic14\", \"Topic14\", \"Topic14\", \"Topic14\", \"Topic14\", \"Topic14\", \"Topic14\", \"Topic14\", \"Topic14\", \"Topic14\", \"Topic14\", \"Topic14\", \"Topic14\", \"Topic14\", \"Topic14\", \"Topic14\", \"Topic14\", \"Topic14\", \"Topic14\", \"Topic14\", \"Topic14\", \"Topic14\", \"Topic14\", \"Topic14\", \"Topic14\", \"Topic14\", \"Topic14\", \"Topic14\", \"Topic14\", \"Topic14\", \"Topic14\", \"Topic14\", \"Topic14\", \"Topic14\", \"Topic14\", \"Topic14\", \"Topic14\", \"Topic14\", \"Topic14\", \"Topic14\", \"Topic14\", \"Topic14\", \"Topic14\", \"Topic14\", \"Topic14\", \"Topic14\", \"Topic15\", \"Topic15\", \"Topic15\", \"Topic15\", \"Topic15\", \"Topic15\", \"Topic15\", \"Topic15\", \"Topic15\", \"Topic15\", \"Topic15\", \"Topic15\", \"Topic15\", \"Topic15\", \"Topic15\", \"Topic15\", \"Topic15\", \"Topic15\", \"Topic15\", \"Topic15\", \"Topic15\", \"Topic15\", \"Topic15\", \"Topic15\", \"Topic15\", \"Topic15\", \"Topic15\", \"Topic15\", \"Topic15\", \"Topic15\", \"Topic15\", \"Topic15\", \"Topic15\", \"Topic15\", \"Topic15\", \"Topic15\", \"Topic15\", \"Topic15\", \"Topic15\", \"Topic15\", \"Topic15\", \"Topic15\", \"Topic15\", \"Topic15\", \"Topic15\", \"Topic15\", \"Topic15\", \"Topic15\", \"Topic15\", \"Topic15\", \"Topic15\", \"Topic15\", \"Topic15\", \"Topic15\", \"Topic15\", \"Topic16\", \"Topic16\", \"Topic16\", \"Topic16\", \"Topic16\", \"Topic16\", \"Topic16\", \"Topic16\", \"Topic16\", \"Topic16\", \"Topic16\", \"Topic16\", \"Topic16\", \"Topic16\", \"Topic16\", \"Topic16\", \"Topic16\", \"Topic16\", \"Topic16\", \"Topic16\", \"Topic16\", \"Topic16\", \"Topic16\", \"Topic16\", \"Topic16\", \"Topic16\", \"Topic16\", \"Topic16\", \"Topic16\", \"Topic16\", \"Topic16\", \"Topic16\", \"Topic16\", \"Topic16\", \"Topic16\", \"Topic16\", \"Topic16\", \"Topic16\", \"Topic16\", \"Topic16\", \"Topic16\", \"Topic16\", \"Topic16\", \"Topic16\", \"Topic16\", \"Topic16\", \"Topic16\", \"Topic16\", \"Topic16\", \"Topic16\", \"Topic16\", \"Topic16\", \"Topic16\", \"Topic16\", \"Topic16\", \"Topic16\", \"Topic16\", \"Topic16\", \"Topic16\", \"Topic16\", \"Topic16\", \"Topic16\", \"Topic16\", \"Topic16\", \"Topic16\", \"Topic16\", \"Topic16\", \"Topic16\", \"Topic16\", \"Topic17\", \"Topic17\", \"Topic17\", \"Topic17\", \"Topic17\", \"Topic17\", \"Topic17\", \"Topic17\", \"Topic17\", \"Topic17\", \"Topic17\", \"Topic17\", \"Topic17\", \"Topic17\", \"Topic17\", \"Topic17\", \"Topic17\", \"Topic17\", \"Topic17\", \"Topic17\", \"Topic17\", \"Topic17\", \"Topic17\", \"Topic17\", \"Topic17\", \"Topic17\", \"Topic17\", \"Topic17\", \"Topic17\", \"Topic17\", \"Topic17\", \"Topic17\", \"Topic17\", \"Topic17\", \"Topic17\", \"Topic17\", \"Topic17\", \"Topic17\", \"Topic17\", \"Topic17\", \"Topic17\", \"Topic17\", \"Topic17\", \"Topic17\", \"Topic17\", \"Topic17\", \"Topic17\", \"Topic17\", \"Topic17\", \"Topic17\", \"Topic17\", \"Topic17\", \"Topic17\", \"Topic17\", \"Topic17\", \"Topic17\", \"Topic17\", \"Topic17\", \"Topic17\", \"Topic17\", \"Topic17\", \"Topic17\", \"Topic17\", \"Topic17\", \"Topic17\", \"Topic17\", \"Topic17\", \"Topic17\", \"Topic17\", \"Topic17\", \"Topic17\", \"Topic17\", \"Topic17\", \"Topic17\", \"Topic17\", \"Topic17\", \"Topic17\", \"Topic18\", \"Topic18\", \"Topic18\", \"Topic18\", \"Topic18\", \"Topic18\", \"Topic18\", \"Topic18\", \"Topic18\", \"Topic18\", \"Topic18\", \"Topic18\", \"Topic18\", \"Topic18\", \"Topic18\", \"Topic18\", \"Topic18\", \"Topic18\", \"Topic18\", \"Topic18\", \"Topic18\", \"Topic18\", \"Topic18\", \"Topic18\", \"Topic18\", \"Topic18\", \"Topic18\", \"Topic18\", \"Topic18\", \"Topic18\", \"Topic18\", \"Topic18\", \"Topic18\", \"Topic18\", \"Topic18\", \"Topic18\", \"Topic18\", \"Topic18\", \"Topic18\", \"Topic18\", \"Topic18\", \"Topic18\", \"Topic18\", \"Topic18\", \"Topic18\", \"Topic18\", \"Topic18\", \"Topic18\", \"Topic18\", \"Topic18\", \"Topic18\", \"Topic18\", \"Topic18\", \"Topic18\", \"Topic18\", \"Topic18\", \"Topic18\", \"Topic18\", \"Topic18\", \"Topic18\", \"Topic18\", \"Topic18\", \"Topic18\", \"Topic18\", \"Topic18\", \"Topic18\", \"Topic18\", \"Topic18\", \"Topic18\", \"Topic18\", \"Topic18\", \"Topic18\"], \"logprob\": [30.0, 29.0, 28.0, 27.0, 26.0, 25.0, 24.0, 23.0, 22.0, 21.0, 20.0, 19.0, 18.0, 17.0, 16.0, 15.0, 14.0, 13.0, 12.0, 11.0, 10.0, 9.0, 8.0, 7.0, 6.0, 5.0, 4.0, 3.0, 2.0, 1.0, -7.3759, -7.3857, -7.3864, -7.7749, -8.1133, -8.2115, -8.4676, -8.4919, -8.5107, -8.6053, -8.6205, -8.7483, -8.7826, -8.8506, -8.8933, -8.9411, -8.9578, -8.9661, -8.976, -9.0581, -9.0921, -9.105, -9.1054, -9.1261, -9.1407, -9.1444, -9.1603, -9.1771, -9.2128, -9.2176, -7.8436, -8.3415, -8.5236, -8.9743, -7.4136, -7.6631, -8.2405, -7.2882, -8.3841, -8.1096, -8.5852, -8.2686, -6.2338, -8.4434, -7.6245, -8.0773, -8.4239, -5.9681, -7.3612, -5.0002, -7.431, -6.5345, -7.1619, -6.5841, -4.5675, -6.7615, -6.4712, -6.6053, -7.2228, -6.0231, -6.4815, -5.2807, -5.9625, -5.9461, -5.8038, -5.989, -6.2845, -5.4122, -6.4331, -5.3103, -5.8865, -5.2707, -5.6152, -6.3375, -6.4484, -5.05, -5.8521, -5.9961, -6.0012, -5.6606, -4.9204, -5.7282, -5.8657, -6.0286, -5.561, -6.2013, -5.9839, -5.9597, -5.5355, -5.5663, -5.577, -5.6391, -5.6266, -5.7811, -5.764, -5.8723, -5.8414, -5.9544, -5.9247, -5.6991, -6.1064, -6.1064, -6.1248, -6.7996, -6.8129, -6.8367, -7.0266, -7.454, -7.4928, -7.4928, -7.9584, -7.9584, -7.9803, -8.1103, -8.3376, -8.399, -8.4029, -8.4397, -8.5564, -8.6351, -8.6535, -8.5717, -8.7232, -8.8845, -8.8876, -8.9118, -8.9338, -8.9901, -8.9913, -6.7839, -8.1098, -7.7404, -8.3376, -7.5789, -8.8471, -6.1348, -8.0701, -7.8468, -8.3701, -6.9512, -6.4924, -7.8159, -6.9337, -6.8262, -6.8768, -7.5738, -7.3989, -5.7586, -6.8043, -6.774, -6.8499, -5.4976, -5.7442, -4.9844, -7.57, -5.548, -5.5238, -4.2808, -5.134, -6.7378, -6.2637, -6.4964, -5.265, -5.515, -5.7521, -5.8329, -5.9791, -6.0443, -6.1554, -5.5428, -5.9424, -5.9901, -6.2042, -5.7178, -5.8047, -5.9499, -5.9075, -5.6881, -6.01, -5.8631, -5.9698, -5.9492, -6.0654, -6.511, -6.9598, -7.091, -7.1664, -7.1689, -7.179, -7.0087, -7.191, -7.1944, -7.1949, -7.1974, -7.1974, -7.1974, -7.1974, -7.1974, -7.1974, -7.1974, -7.1974, -7.1974, -7.1974, -7.1974, -7.1974, -7.1974, -7.1974, -7.2056, -7.22, -7.2239, -7.225, -7.2401, -7.2531, -6.2302, -6.021, -6.3555, -6.6594, -4.8394, -5.784, -5.8351, -5.745, -5.9723, -7.1403, -5.8729, -7.0342, -6.5809, -6.1025, -6.758, -5.3553, -6.6975, -6.3972, -4.9882, -6.8417, -4.2519, -6.2156, -4.1802, -5.4239, -6.8664, -5.3741, -6.2, -5.0652, -6.3895, -5.6949, -5.8033, -5.7401, -5.2269, -5.5248, -6.0629, -5.7708, -5.6828, -5.7551, -6.0183, -5.9063, -5.9635, -5.9276, -5.9614, -6.0924, -6.0586, -7.0729, -7.4077, -7.5496, -7.6753, -7.684, -7.8646, -7.9802, -8.0012, -8.1323, -8.1694, -8.2177, -8.2435, -8.2095, -8.2474, -8.276, -8.2899, -8.2535, -8.3, -8.3416, -8.3792, -8.3266, -8.4067, -8.4346, -8.4375, -8.4607, -8.3769, -8.4893, -8.4994, -8.5006, -8.5164, -6.6954, -6.7769, -7.2067, -7.1063, -7.3172, -7.5415, -7.6126, -7.847, -7.4354, -6.4502, -7.6373, -7.7388, -6.1719, -6.0185, -6.8223, -5.3223, -6.6257, -7.9667, -4.2013, -5.9888, -6.1444, -6.6888, -6.7011, -7.0642, -6.8838, -5.2507, -4.8543, -7.229, -6.4151, -4.5532, -6.0673, -4.7497, -4.435, -5.2094, -6.5062, -6.0621, -6.155, -5.8229, -6.1847, -6.2186, -4.5961, -5.296, -6.4269, -4.7182, -5.4596, -5.5232, -5.2593, -5.0648, -6.0388, -5.833, -5.4358, -5.0843, -5.5292, -5.3877, -5.7614, -5.8278, -5.5663, -5.7552, -5.7571, -5.7975, -5.8245, -5.6794, -5.852, -5.7822, -5.8182, -6.4315, -7.3488, -7.4201, -7.4783, -7.586, -7.6187, -7.6437, -7.5824, -7.8967, -7.6536, -7.5052, -8.0913, -8.1898, -8.1902, -8.1986, -8.2093, -8.2882, -8.3194, -8.5364, -8.5193, -8.6027, -8.6452, -8.6477, -8.2043, -8.7493, -8.7611, -8.7655, -8.8118, -8.8187, -8.8332, -7.2824, -8.1956, -8.2688, -8.4183, -6.13, -6.2847, -7.7947, -7.476, -7.8333, -7.6348, -7.2912, -7.4885, -5.5592, -6.6131, -7.4329, -7.419, -7.4868, -6.8975, -6.3402, -6.2156, -6.5005, -6.8938, -6.1908, -6.4281, -6.6163, -7.2074, -6.2805, -4.5836, -5.9612, -5.0393, -6.1821, -5.7425, -5.0624, -6.629, -6.0584, -5.8194, -6.6549, -6.4302, -6.3478, -5.6597, -5.5272, -5.8407, -6.2315, -5.9083, -6.4038, -5.5795, -5.3556, -5.7147, -5.8476, -5.8738, -5.8345, -5.927, -5.6222, -5.9971, -5.9107, -5.5106, -5.575, -5.6744, -5.9316, -5.7454, -5.832, -5.9346, -5.988, -6.0358, -6.6669, -7.3646, -7.5052, -7.5813, -7.5923, -7.6071, -7.6071, -7.6259, -7.6291, -7.6658, -7.6767, -7.6787, -7.6876, -7.6923, -7.6953, -7.7017, -7.7017, -7.7017, -7.7017, -7.7017, -7.7017, -7.7017, -7.7017, -7.7313, -7.7399, -7.8422, -7.8515, -7.9172, -7.9334, -7.9341, -7.3196, -6.6614, -6.6974, -5.0642, -7.5692, -3.965, -6.9962, -7.182, -7.0554, -4.9074, -7.5698, -7.1706, -6.0504, -7.4323, -6.6903, -5.3509, -7.4072, -5.1256, -6.9152, -5.7277, -6.3519, -6.175, -6.046, -5.8381, -6.3805, -6.4695, -5.8253, -6.354, -6.3408, -5.113, -6.409, -6.5553, -5.9228, -5.7321, -5.3553, -5.8809, -6.0268, -6.2776, -5.9357, -5.9807, -6.2194, -6.0387, -6.0867, -6.398, -6.1736, -6.1659, -6.2226, -3.9884, -4.6854, -5.4443, -5.5565, -5.6937, -5.8321, -6.0309, -6.2363, -6.2572, -6.2582, -6.261, -6.5461, -6.5471, -6.5478, -6.5478, -6.5479, -6.929, -6.9295, -6.9317, -6.9335, -6.9336, -6.9332, -6.938, -6.9441, -6.9456, -6.945, -6.9459, -6.946, -6.947, -6.9477, -4.2271, -5.8235, -5.8091, -6.2316, -5.4938, -4.1709, -6.2481, -4.659, -5.6464, -4.9806, -4.9061, -5.5175, -6.4918, -4.9603, -5.8264, -5.0315, -5.2602, -5.7184, -5.1655, -5.6628, -5.0282, -5.6431, -4.9592, -5.342, -5.8079, -5.4853, -5.6571, -5.0988, -5.0281, -5.4874, -5.652, -5.7821, -7.2327, -7.4861, -7.6303, -7.6011, -7.6459, -7.6298, -7.9321, -7.9898, -8.3498, -8.3564, -8.3614, -8.3443, -8.3205, -8.4915, -8.5728, -8.6332, -8.5338, -8.6666, -8.1656, -8.3564, -7.7975, -8.8229, -8.7294, -8.8726, -8.9005, -7.6312, -9.0348, -9.0433, -8.2481, -8.4489, -6.6553, -8.0364, -8.1514, -7.0801, -7.5372, -8.2772, -7.9838, -7.821, -6.1915, -5.5534, -6.5627, -7.2901, -6.4529, -6.5777, -5.7143, -6.9322, -6.1301, -7.6051, -8.1152, -7.2617, -6.9689, -6.9488, -7.2452, -6.3865, -6.7244, -6.204, -6.4009, -6.2178, -5.488, -5.882, -3.7942, -6.6892, -7.2093, -6.0883, -6.7485, -5.0886, -6.6609, -5.937, -6.0754, -4.9625, -6.483, -5.5708, -5.7449, -6.385, -6.178, -5.3814, -5.6007, -5.4902, -5.313, -6.2605, -5.8852, -6.1334, -5.5082, -5.3115, -5.5886, -5.8395, -5.5553, -5.6793, -5.7617, -5.884, -5.929, -5.9238, -5.9431, -5.947, -6.0085, -7.6609, -7.8568, -7.9804, -8.0567, -8.0244, -8.0994, -8.0523, -8.1056, -8.1678, -7.6422, -8.1713, -8.1873, -8.1875, -8.1934, -8.2023, -8.2395, -8.2466, -8.2642, -8.2729, -8.28, -8.2919, -8.3017, -8.311, -8.3105, -8.3224, -8.3362, -8.3436, -8.3469, -8.3519, -8.362, -6.9534, -6.6475, -6.4072, -7.2847, -7.1726, -8.1223, -7.388, -8.2551, -7.4041, -7.1139, -7.51, -8.1939, -8.0619, -5.5061, -7.7523, -6.4095, -6.3807, -6.2109, -6.8957, -7.4032, -6.7496, -6.3426, -7.5627, -6.9987, -6.4805, -5.4768, -4.2489, -5.6801, -6.4924, -7.1427, -6.2507, -6.3952, -6.6976, -6.473, -5.3476, -5.9112, -6.1224, -4.1723, -6.6922, -5.8748, -5.866, -4.8944, -5.773, -5.2965, -6.4297, -5.3253, -5.6974, -5.4866, -5.107, -5.7206, -5.8789, -6.0048, -6.0144, -5.8195, -5.6799, -6.1432, -5.9162, -5.8807, -6.1326, -5.9504, -5.9829, -6.006, -6.0298, -6.0799, -6.1096, -5.5376, -6.0254, -6.3273, -6.4831, -6.4795, -6.5366, -6.5927, -6.6165, -6.7028, -6.7094, -6.7152, -6.8124, -6.8271, -6.8342, -6.8414, -6.6174, -6.9315, -5.2838, -6.9614, -7.0805, -7.1513, -7.1636, -7.1794, -7.1794, -7.1794, -7.1842, -7.2886, -7.2933, -7.3713, -7.3772, -5.639, -4.2018, -6.4634, -6.5557, -6.7097, -6.892, -5.8401, -6.9916, -6.4336, -6.7142, -6.4627, -5.7776, -6.4857, -6.5185, -4.3681, -5.0935, -5.4455, -6.286, -4.4069, -5.4759, -5.7754, -6.1482, -5.4941, -6.1513, -6.0804, -5.6561, -5.9968, -5.9393, -5.9067, -6.2867, -5.9974, -6.1854, -6.1533, -6.2346, -6.3117, -6.3653, -6.3354, -3.8885, -4.185, -4.3784, -4.5981, -4.8861, -5.321, -5.4058, -5.4426, -5.5152, -5.5624, -5.5951, -5.6107, -5.649, -5.725, -4.4588, -5.7708, -5.8168, -5.924, -5.9385, -5.9455, -5.95, -5.9639, -5.9646, -5.9975, -6.0175, -6.0357, -6.0782, -6.0878, -6.1271, -6.1328, -5.4252, -5.5562, -5.2426, -5.4253, -3.7568, -5.9352, -4.55, -5.746, -5.351, -3.3133, -4.3861, -4.7887, -5.2269, -4.6556, -4.0019, -4.5181, -4.7177, -5.2107, -5.0495, -4.9092, -5.4419, -5.3532, -5.1762, -5.3964, -6.4434, -6.9664, -6.9979, -7.0632, -7.1632, -7.4826, -7.4263, -7.7265, -5.6842, -7.8673, -7.884, -7.9037, -7.9223, -7.9346, -8.0024, -8.0199, -8.0117, -8.0279, -8.0514, -8.0651, -8.1326, -8.1645, -8.167, -8.1795, -8.25, -8.294, -8.3072, -8.3562, -8.3744, -8.3913, -6.3541, -7.4343, -6.3308, -7.7278, -5.5773, -7.1889, -7.4326, -6.7789, -6.7146, -7.3314, -6.7082, -7.9462, -6.5329, -6.1452, -7.2861, -6.8451, -3.8388, -5.6289, -3.7099, -6.9101, -5.4134, -6.18, -6.1356, -4.7439, -5.7372, -5.5592, -5.7585, -5.6014, -5.6751, -5.1392, -4.916, -5.5493, -5.7392, -5.6569, -5.6991, -5.9856, -6.1516, -5.3504, -5.4323, -5.5987, -5.4715, -5.686, -5.777, -5.8412, -6.0031, -6.0207, -6.1033, -6.1294, -7.521, -7.943, -7.9797, -8.037, -8.1029, -8.2493, -8.2984, -8.3429, -8.3656, -8.2991, -8.4647, -8.4651, -8.4773, -8.5183, -8.5618, -8.5961, -8.6383, -8.6736, -8.6797, -8.6847, -8.7127, -8.7219, -8.7524, -8.7837, -8.7837, -8.834, -8.8483, -8.8917, -8.9068, -8.9222, -6.5464, -5.9743, -7.3378, -6.601, -7.8743, -7.7475, -7.1127, -7.6632, -6.7486, -7.1373, -6.1747, -8.5681, -7.2871, -6.8311, -6.5917, -7.8535, -7.7496, -7.3301, -7.4235, -7.3536, -7.808, -5.8347, -7.1936, -6.7965, -6.6332, -7.3788, -5.0702, -6.9757, -7.2349, -6.2399, -6.6807, -6.6441, -5.8788, -6.6154, -5.0355, -5.5702, -4.8189, -5.3805, -5.2373, -6.4961, -6.2369, -5.1024, -4.9606, -5.6137, -6.2139, -5.4403, -4.9042, -5.2772, -5.5635, -5.7568, -6.0416, -5.5535, -5.6934, -5.4855, -5.8042, -6.028, -5.7586, -5.4473, -5.8589, -5.7614, -5.958, -6.0328, -6.0235, -6.0327, -5.2456, -6.2776, -6.2969, -6.6282, -6.7316, -6.7931, -6.7931, -6.7977, -6.7992, -6.8158, -6.7435, -7.1002, -7.1345, -7.197, -7.2018, -7.2114, -7.2507, -7.2559, -7.3092, -7.3402, -7.3721, -7.4056, -7.3932, -7.3933, -7.4197, -7.4211, -7.4285, -7.4523, -7.4616, -7.4719, -6.7422, -7.1514, -6.9016, -6.9138, -6.3873, -7.0623, -5.1174, -6.3473, -6.2258, -6.9954, -6.9533, -6.2625, -4.9988, -5.2345, -4.3316, -6.7735, -6.8288, -4.6458, -4.7806, -5.6295, -5.4805, -5.798, -6.5786, -5.3875, -5.3325, -5.8948, -6.2499, -5.8684, -6.068, -5.7523, -6.5839, -6.3016, -6.3741, -6.3084, -6.292, -6.3991, -6.4625, -6.4808, -6.4595, -4.9805, -5.2695, -5.6736, -6.0209, -6.2047, -6.2047, -6.232, -6.3572, -6.3628, -6.3654, -6.3654, -6.3654, -6.3654, -6.3654, -6.3654, -6.3654, -6.3654, -6.3681, -6.3681, -6.3681, -6.3681, -6.3681, -6.3681, -6.3681, -6.3681, -6.3681, -6.3681, -6.3681, -6.3681, -6.3681, -5.9792, -4.4117, -6.1907, -6.0363, -4.8146, -6.2138, -5.8499, -6.1844, -5.7984, -5.2216, -5.4948, -6.2085, -6.1181, -5.7335, -6.282, -6.0003, -5.8988, -6.271, -6.0655, -6.1396, -6.2383, -6.2252, -6.1428, -6.1907, -6.2362, -5.4484, -5.9269, -6.0124, -6.165, -6.5111, -6.8277, -6.7793, -6.4826, -5.5009, -7.0211, -7.0414, -7.0671, -7.0862, -7.0928, -7.1001, -7.145, -7.1019, -7.2294, -7.3905, -7.397, -7.4038, -7.4061, -7.4477, -7.4407, -7.4837, -7.4894, -7.4918, -7.4986, -7.5125, -7.5204, -5.2882, -5.6531, -6.3547, -6.5253, -7.2143, -6.1744, -3.8052, -4.0923, -4.8877, -6.9929, -6.1725, -7.2263, -5.7868, -5.3911, -6.8185, -4.1694, -4.4816, -4.6387, -4.5318, -6.4622, -4.1774, -5.0695, -4.3505, -5.9818, -5.5671, -5.5447, -4.8431, -5.8791, -5.1285, -5.6974, -5.193, -5.1979, -5.7565, -5.8446, -5.7875, -5.7257, -5.725, -5.8348, -5.8662, -5.4046, -6.0283, -6.2557, -6.4601, -6.736, -6.8513, -7.0522, -7.0532, -7.086, -7.1426, -7.1752, -7.2662, -7.2732, -7.4187, -7.4379, -6.5094, -7.4503, -7.5018, -7.5611, -7.585, -7.6571, -7.7172, -7.7213, -7.7286, -7.7475, -7.743, -7.6784, -7.8026, -7.8337, -7.8526, -5.9972, -6.452, -7.1382, -5.6084, -6.4234, -6.9346, -7.2256, -4.8584, -7.0223, -3.959, -3.6654, -6.8626, -6.7531, -6.4702, -7.0318, -4.5294, -5.1458, -5.3361, -6.4668, -6.8428, -6.0344, -5.5072, -5.1821, -5.1606, -6.2392, -6.2516, -3.9806, -5.5579, -5.0057, -5.1848, -5.9054, -5.9321, -5.8221, -5.44, -5.6823, -5.8213, -5.5605, -5.5023, -5.4697, -5.537, -5.6268, -5.4902, -5.6641, -5.66, -5.6216, -5.8403, -5.8612, -4.7644, -5.3721, -5.3751, -5.7397, -6.0173, -6.3449, -6.4015, -6.6461, -6.6768, -6.7044, -6.8025, -6.7063, -6.7244, -6.7308, -6.7393, -6.7398, -6.8755, -6.7104, -7.0122, -6.8616, -7.0376, -7.0835, -7.1602, -7.102, -7.1635, -7.0611, -7.1999, -7.21, -7.1193, -7.1549, -5.3997, -6.2959, -5.2797, -7.0736, -6.129, -5.6843, -6.6749, -6.4688, -4.56, -6.1917, -6.384, -5.7661, -6.2022, -5.2278, -6.43, -3.9317, -6.2607, -3.8493, -5.4035, -5.3766, -6.1293, -4.2211, -6.437, -4.7838, -5.9289, -4.517, -5.5883, -5.9784, -5.3193, -5.7764, -5.0925, -4.9293, -5.6485, -5.8978, -5.57, -5.5142, -5.6083, -5.6847, -5.7866, -5.6538, -5.7336, -5.7651], \"loglift\": [30.0, 29.0, 28.0, 27.0, 26.0, 25.0, 24.0, 23.0, 22.0, 21.0, 20.0, 19.0, 18.0, 17.0, 16.0, 15.0, 14.0, 13.0, 12.0, 11.0, 10.0, 9.0, 8.0, 7.0, 6.0, 5.0, 4.0, 3.0, 2.0, 1.0, 2.4446, 2.4446, 2.4446, 2.4439, 2.4438, 2.4437, 2.4432, 2.4431, 2.4431, 2.4429, 2.4428, 2.4425, 2.4424, 2.4422, 2.4421, 2.4419, 2.4418, 2.4418, 2.4418, 2.4415, 2.4413, 2.4413, 2.4413, 2.4412, 2.4411, 2.4411, 2.4411, 2.441, 2.4408, 2.4408, 2.4379, 2.4388, 2.4381, 2.4399, 2.4234, 2.4173, 2.425, 2.3944, 2.4251, 2.4166, 2.4282, 2.4072, 2.261, 2.4029, 2.3385, 2.3711, 2.3944, 2.1073, 2.2713, 1.9418, 2.2179, 2.0293, 2.1405, 2.0071, 1.5387, 2.026, 1.9538, 1.9637, 2.1253, 1.8058, 1.9077, 1.547, 1.7436, 1.7199, 1.6712, 1.7214, 1.806, 1.4801, 1.8514, 1.4181, 1.636, 1.3425, 1.4734, 1.79, 1.8406, 1.1271, 1.5345, 1.6058, 1.5901, 1.3353, 0.8334, 1.2881, 1.3817, 1.4075, 0.8827, 1.5934, 1.3122, 1.2566, 0.4148, 0.2897, 0.2564, 0.2406, 0.1615, 0.653, -0.2043, 0.5926, -0.287, 0.861, -0.6378, 2.5765, 2.5765, 2.5765, 2.5765, 2.5762, 2.5762, 2.5762, 2.5761, 2.5758, 2.5758, 2.5758, 2.5752, 2.5752, 2.5752, 2.575, 2.5746, 2.5744, 2.5744, 2.5743, 2.574, 2.5738, 2.5737, 2.5737, 2.5735, 2.573, 2.573, 2.5729, 2.5728, 2.5726, 2.5726, 2.5724, 2.5699, 2.5654, 2.5681, 2.5553, 2.5725, 2.5096, 2.547, 2.532, 2.5564, 2.4427, 2.3547, 2.4925, 2.359, 2.3371, 2.3376, 2.4451, 2.4119, 2.1086, 2.2946, 2.2115, 2.1977, 1.7522, 1.6347, 1.3064, 2.4091, 1.4195, 1.3552, 0.6204, 1.0273, 1.9673, 1.6193, 1.7611, 0.591, 0.7672, 1.0019, 1.059, 1.1783, 1.1964, 1.3468, 0.2906, 0.8236, 0.8448, 1.2266, 0.1595, 0.333, 0.6497, 0.5362, -0.4012, 0.5746, -0.3087, -0.0013, -0.7056, -0.4779, 3.5195, 3.519, 3.5188, 3.5187, 3.5187, 3.5187, 3.5187, 3.5187, 3.5187, 3.5187, 3.5187, 3.5187, 3.5187, 3.5187, 3.5187, 3.5187, 3.5187, 3.5187, 3.5187, 3.5187, 3.5187, 3.5187, 3.5187, 3.5187, 3.5186, 3.5186, 3.5186, 3.5186, 3.5186, 3.5185, 3.5032, 3.474, 3.4558, 3.4774, 3.3385, 3.3914, 3.2776, 3.2202, 3.1708, 3.5005, 3.0527, 3.456, 3.278, 3.0286, 3.3231, 2.6665, 3.2406, 2.9914, 1.9403, 3.2612, 1.3078, 2.7739, 1.1067, 2.1022, 3.2133, 1.6169, 2.4051, 0.8145, 2.5613, 1.5821, 1.6571, 1.37, 0.3607, 0.2633, 1.3679, 0.3431, -0.4393, -0.2007, 0.9336, 0.3219, 0.5956, 0.0322, 0.1764, 1.2581, 0.2237, 1.8867, 1.8865, 1.8865, 1.8864, 1.8864, 1.8863, 1.8862, 1.8862, 1.8861, 1.8861, 1.886, 1.886, 1.886, 1.886, 1.886, 1.8859, 1.8859, 1.8859, 1.8859, 1.8859, 1.8858, 1.8858, 1.8858, 1.8858, 1.8858, 1.8857, 1.8857, 1.8857, 1.8857, 1.8857, 1.8846, 1.8823, 1.8855, 1.8844, 1.884, 1.8827, 1.8832, 1.8833, 1.8778, 1.8573, 1.8783, 1.8794, 1.8471, 1.8306, 1.8473, 1.8002, 1.8393, 1.8786, 1.7597, 1.8128, 1.8184, 1.834, 1.8317, 1.8425, 1.8322, 1.7414, 1.7038, 1.8462, 1.7735, 1.59, 1.7309, 1.5809, 1.5153, 1.5633, 1.737, 1.6427, 1.623, 1.5194, 1.5108, 1.507, 0.7925, 1.0599, 1.5799, 0.5253, 0.9232, 0.9417, 0.7093, 0.4896, 1.2676, 0.9807, 0.4202, -0.1831, 0.4257, 0.1998, 0.7885, 0.8867, 0.3111, 0.5838, 0.575, 0.5251, 0.6002, -0.3925, 0.6631, 0.006, 0.1416, 2.2848, 2.2845, 2.2844, 2.2844, 2.2843, 2.2843, 2.2843, 2.2843, 2.284, 2.284, 2.2839, 2.2838, 2.2837, 2.2837, 2.2837, 2.2837, 2.2835, 2.2835, 2.2831, 2.2831, 2.2829, 2.2829, 2.2829, 2.2828, 2.2826, 2.2826, 2.2825, 2.2825, 2.2825, 2.2824, 2.2707, 2.2658, 2.2658, 2.2692, 2.1662, 2.1722, 2.2301, 2.2031, 2.213, 2.1784, 2.1297, 2.1483, 1.8534, 2.0137, 2.1223, 2.1189, 2.1207, 1.9624, 1.8131, 1.712, 1.7841, 1.8964, 1.624, 1.6755, 1.7484, 1.987, 1.5562, 0.6599, 1.3385, 0.8404, 1.4464, 1.186, 0.7257, 1.6736, 1.2888, 1.1096, 1.6626, 1.4939, 1.4291, 0.9011, 0.701, 0.8877, 1.2467, 0.9194, 1.4097, 0.5266, 0.2319, 0.6243, 0.7656, 0.7337, 0.5996, 0.7425, 0.1316, 0.8182, 0.6484, -0.2237, -0.1864, -0.1201, 0.5605, -0.1858, 0.1278, 0.3975, 0.4107, 0.2868, 4.5785, 4.5754, 4.5745, 4.574, 4.5739, 4.5738, 4.5738, 4.5737, 4.5736, 4.5734, 4.5733, 4.5732, 4.5732, 4.5731, 4.5731, 4.5731, 4.5731, 4.5731, 4.5731, 4.5731, 4.5731, 4.5731, 4.5731, 4.5728, 4.5727, 4.5718, 4.5717, 4.571, 4.5709, 4.5709, 4.5575, 4.5211, 4.5213, 4.2086, 4.5316, 3.9012, 4.4217, 4.4588, 4.4039, 3.7202, 4.5305, 4.3821, 3.9628, 4.4693, 4.1487, 3.4221, 4.4312, 3.2431, 4.1646, 3.3384, 3.7326, 3.5514, 3.2014, 2.9555, 3.3593, 3.3411, 2.5884, 3.1587, 3.1147, 1.5109, 3.1489, 3.3016, 2.0636, 1.563, 0.5244, 1.4609, 1.3387, 2.0822, 0.5086, 0.157, 1.3961, 0.0674, -0.5323, 2.1472, -0.4198, -0.879, 0.0057, 3.425, 3.4249, 3.4248, 3.4248, 3.4248, 3.4247, 3.4246, 3.4245, 3.4245, 3.4245, 3.4245, 3.4243, 3.4243, 3.4243, 3.4243, 3.4243, 3.4239, 3.4239, 3.4239, 3.4239, 3.4239, 3.4239, 3.4239, 3.4239, 3.4239, 3.4239, 3.4239, 3.4239, 3.4239, 3.4239, 3.4178, 3.4126, 3.41, 3.3997, 3.3444, 3.249, 3.3694, 3.0971, 3.0823, 2.8587, 2.8327, 3.0101, 3.2842, 2.703, 2.9461, 2.5055, 2.5528, 2.848, 2.3189, 2.6647, 1.8459, 2.5884, 1.4395, 2.0378, 2.7228, 2.0984, 2.3918, 0.781, 0.5594, 1.2852, 0.9477, 1.2179, 1.9739, 1.9738, 1.9737, 1.9737, 1.9737, 1.9736, 1.9735, 1.9735, 1.9731, 1.9731, 1.9731, 1.9731, 1.973, 1.9729, 1.9728, 1.9727, 1.9727, 1.9726, 1.9726, 1.9726, 1.9724, 1.9724, 1.9724, 1.9723, 1.9722, 1.972, 1.972, 1.9719, 1.9718, 1.9718, 1.9654, 1.9709, 1.9714, 1.9605, 1.9644, 1.9716, 1.9682, 1.9657, 1.9395, 1.9256, 1.9444, 1.9556, 1.9381, 1.9344, 1.902, 1.9378, 1.9089, 1.9517, 1.9669, 1.9341, 1.9187, 1.9049, 1.9204, 1.8625, 1.8707, 1.7954, 1.8104, 1.749, 1.591, 1.6564, 1.107, 1.7413, 1.8659, 1.5628, 1.7075, 1.0727, 1.6341, 1.3221, 1.3754, 0.8709, 1.5214, 0.99, 1.0658, 1.4568, 1.3155, 0.7325, 0.8886, 0.8007, 0.6419, 1.3326, 0.9627, 1.1977, 0.3478, -0.068, -0.0011, 0.4428, -0.1666, -0.125, -0.4748, -0.1302, 0.0308, -0.0464, 0.0254, -0.0672, -0.2204, 3.916, 3.9147, 3.9145, 3.914, 3.914, 3.9137, 3.9137, 3.9136, 3.9133, 3.9133, 3.9132, 3.9131, 3.9131, 3.9131, 3.913, 3.9128, 3.9127, 3.9126, 3.9125, 3.9125, 3.9124, 3.9123, 3.9122, 3.9122, 3.9121, 3.912, 3.912, 3.9119, 3.9119, 3.9118, 3.9086, 3.8961, 3.883, 3.8931, 3.8797, 3.9074, 3.8758, 3.9102, 3.8745, 3.8445, 3.8664, 3.9067, 3.8919, 3.6159, 3.8483, 3.6452, 3.6283, 3.5982, 3.6795, 3.7715, 3.6298, 3.521, 3.7869, 3.6571, 3.5095, 3.252, 2.925, 3.2974, 3.4768, 3.6215, 3.3188, 3.3312, 3.4442, 3.282, 2.535, 2.876, 2.9679, 1.6611, 3.2983, 2.3802, 2.3329, 1.2669, 2.2039, 1.2643, 2.8025, 0.7886, 1.4127, 0.7956, -0.2058, 1.0455, 1.3362, 1.6463, 1.5521, 0.7387, -0.1255, 1.9843, 0.5275, 0.257, 1.6421, -0.0001, 0.1941, -0.1287, -0.1738, -0.1201, -0.5221, 3.9559, 3.9556, 3.9553, 3.9551, 3.9551, 3.9551, 3.955, 3.9549, 3.9548, 3.9548, 3.9548, 3.9546, 3.9546, 3.9546, 3.9545, 3.9545, 3.9544, 3.9543, 3.9543, 3.954, 3.9539, 3.9538, 3.9538, 3.9538, 3.9538, 3.9538, 3.9535, 3.9535, 3.9532, 3.9532, 3.9509, 3.9301, 3.9496, 3.9499, 3.9498, 3.9496, 3.9164, 3.9489, 3.9293, 3.9199, 3.8945, 3.791, 3.6629, 3.6828, 1.1916, 1.8673, 2.2214, 3.2749, 0.8801, 0.4038, 1.1536, 2.1845, 0.0602, 1.9276, 1.5352, -0.4126, 0.8822, 0.4595, 0.0531, 2.007, -0.4099, 0.7665, 0.1376, 0.3786, 1.2297, 1.9207, 0.393, 3.3311, 3.3311, 3.331, 3.331, 3.331, 3.3309, 3.3309, 3.3309, 3.3308, 3.3308, 3.3308, 3.3308, 3.3308, 3.3308, 3.3308, 3.3308, 3.3308, 3.3307, 3.3307, 3.3307, 3.3307, 3.3307, 3.3307, 3.3307, 3.3307, 3.3307, 3.3306, 3.3306, 3.3306, 3.3306, 3.3298, 3.3234, 3.3159, 3.3182, 3.2628, 3.3259, 3.2199, 3.3006, 3.2452, 2.8714, 2.7321, 2.8732, 3.0342, 2.6856, 2.1042, 2.4172, 2.4809, 2.821, 2.562, 1.373, 2.7551, 2.1406, 0.9851, 0.9262, 3.0039, 3.0039, 3.0038, 3.0038, 3.0036, 3.0033, 3.0032, 3.0029, 3.0027, 3.0026, 3.0026, 3.0026, 3.0025, 3.0025, 3.0023, 3.0023, 3.0023, 3.0023, 3.0022, 3.0022, 3.002, 3.0019, 3.0019, 3.0019, 3.0017, 3.0015, 3.0015, 3.0013, 3.0013, 3.0012, 2.9885, 2.9984, 2.9868, 2.999, 2.9752, 2.9888, 2.9877, 2.9688, 2.9425, 2.9367, 2.8059, 2.9849, 2.7144, 2.6279, 2.8393, 2.7129, 1.7209, 2.2373, 1.577, 2.6452, 2.0074, 2.106, 2.069, 1.0442, 1.6045, 1.4408, 1.5185, 1.3505, 1.2539, 0.6146, 0.3275, 0.8951, 1.1398, 0.9022, 0.9248, 1.3649, 1.6172, 0.204, 0.1552, 0.281, -0.0829, 0.2738, 0.3607, 0.387, 0.8771, -0.0521, 0.3214, -0.2521, 1.9503, 1.95, 1.95, 1.9499, 1.9499, 1.9497, 1.9497, 1.9496, 1.9496, 1.9496, 1.9495, 1.9495, 1.9495, 1.9494, 1.9494, 1.9493, 1.9492, 1.9492, 1.9492, 1.9492, 1.9491, 1.9491, 1.9491, 1.949, 1.949, 1.9489, 1.9489, 1.9488, 1.9488, 1.9487, 1.9468, 1.9399, 1.9461, 1.9365, 1.9476, 1.939, 1.9233, 1.9303, 1.9101, 1.907, 1.8666, 1.9455, 1.8921, 1.8631, 1.8499, 1.9085, 1.8998, 1.8715, 1.8774, 1.8695, 1.9014, 1.7258, 1.8345, 1.7318, 1.698, 1.8045, 1.3147, 1.7159, 1.7579, 1.3941, 1.538, 1.5227, 1.2196, 1.4804, 0.8418, 0.945, 0.5697, 0.8067, 0.7225, 1.381, 1.1938, 0.452, 0.2829, 0.7253, 1.1208, 0.5283, -0.0031, 0.3103, 0.5505, 0.6873, 0.9439, 0.4015, 0.5349, 0.2683, 0.6395, 0.8522, 0.3791, -0.1604, 0.4731, 0.0946, 0.3329, 0.517, 0.4686, 0.4117, 4.5203, 4.519, 4.5189, 4.5182, 4.5179, 4.5177, 4.5177, 4.5177, 4.5177, 4.5177, 4.5169, 4.5166, 4.5164, 4.5161, 4.5161, 4.5161, 4.5159, 4.5158, 4.5156, 4.5154, 4.5152, 4.515, 4.515, 4.515, 4.5149, 4.5149, 4.5149, 4.5147, 4.5147, 4.5146, 4.4964, 4.4901, 4.4397, 4.4365, 4.2534, 4.425, 3.8572, 4.0342, 3.9367, 4.309, 4.2608, 3.7348, 2.3516, 2.2489, 0.9553, 3.9707, 4.018, 0.9139, 0.6081, 1.7913, 1.0115, 1.677, 3.4061, 0.5723, 0.2218, 1.2987, 2.2884, 0.5563, 1.311, -0.5088, 3.3086, 1.4627, 1.4039, -0.0801, -0.7045, 0.5616, 1.3404, 0.9499, -0.7057, 4.6114, 4.6112, 4.6109, 4.6104, 4.6101, 4.6101, 4.61, 4.6097, 4.6097, 4.6097, 4.6097, 4.6097, 4.6097, 4.6097, 4.6097, 4.6097, 4.6097, 4.6097, 4.6097, 4.6097, 4.6097, 4.6097, 4.6097, 4.6097, 4.6097, 4.6097, 4.6097, 4.6097, 4.6097, 4.6097, 4.5662, 4.1727, 4.5599, 4.4854, 3.9416, 4.5387, 4.2675, 4.468, 3.727, 1.6074, 1.8607, 3.7931, 3.2449, 0.1462, 4.0327, 1.6217, 0.6619, 3.7707, 1.8212, 1.7375, 2.9405, 2.7629, 1.4342, 1.1748, 1.5667, 3.7829, 3.7827, 3.7826, 3.7825, 3.7822, 3.7817, 3.7815, 3.7815, 3.7814, 3.7814, 3.7814, 3.7813, 3.7813, 3.7812, 3.7812, 3.7811, 3.7811, 3.7809, 3.7805, 3.7805, 3.7805, 3.7805, 3.7804, 3.7803, 3.7803, 3.7802, 3.7802, 3.7802, 3.7802, 3.7801, 3.7792, 3.7749, 3.776, 3.7748, 3.7781, 3.7639, 3.661, 3.6626, 3.6823, 3.7635, 3.7221, 3.7702, 3.6175, 3.5123, 3.6886, 2.8392, 2.7823, 2.6545, 2.3619, 3.2383, 1.1095, 1.9056, 1.2092, 2.7203, 2.2017, 2.0837, 0.9902, 2.3041, 0.6596, 1.7808, 0.3945, 0.0456, 1.6561, 2.0249, 1.6333, 1.2034, 1.1492, 0.7259, 0.0936, 3.0391, 3.0389, 3.0388, 3.0388, 3.0386, 3.0385, 3.0384, 3.0384, 3.0383, 3.0383, 3.0382, 3.0381, 3.0381, 3.0379, 3.0379, 3.0379, 3.0379, 3.0378, 3.0377, 3.0377, 3.0376, 3.0375, 3.0375, 3.0375, 3.0374, 3.0374, 3.0374, 3.0373, 3.0372, 3.0372, 3.0323, 3.0364, 3.0372, 3.0213, 3.0295, 3.0327, 3.0351, 3.0059, 3.0268, 2.9406, 2.8816, 3.0108, 2.9933, 2.9738, 3.0069, 2.7812, 2.8396, 2.8404, 2.9353, 2.9543, 2.6408, 2.2849, 2.0819, 2.0133, 2.548, 2.5507, 0.9206, 2.0086, 1.5743, 1.7089, 2.2197, 2.2159, 1.9821, 1.3949, 1.6108, 1.7464, 1.0242, 0.7885, 0.2841, 0.2964, 0.5109, -0.1016, 0.523, 0.1282, -0.3781, 0.4419, 0.3001, 4.2071, 4.2068, 4.2068, 4.2066, 4.206, 4.2059, 4.2058, 4.2054, 4.2052, 4.2051, 4.205, 4.205, 4.205, 4.205, 4.205, 4.205, 4.2048, 4.2046, 4.2045, 4.2045, 4.2043, 4.2042, 4.204, 4.204, 4.204, 4.204, 4.2039, 4.2039, 4.2039, 4.2039, 4.1956, 4.2007, 4.188, 4.2035, 4.1697, 4.1484, 4.1788, 4.1581, 4.001, 4.1219, 4.1314, 4.0223, 4.0866, 3.6558, 4.0533, 2.8789, 3.9245, 2.5066, 3.0098, 2.9768, 3.6678, 1.7399, 3.9332, 2.2083, 3.3501, 1.6262, 2.9022, 3.4035, 2.1813, 2.9753, 1.3724, 0.4593, 2.1497, 2.7843, 0.7621, 0.3192, 0.8361, 1.0879, 1.8289, 0.2965, 0.589, 0.5655]}, \"token.table\": {\"Topic\": [1, 4, 10, 13, 15, 18, 1, 2, 3, 4, 5, 6, 7, 8, 9, 10, 12, 13, 14, 15, 16, 17, 18, 1, 2, 3, 4, 5, 6, 7, 8, 9, 10, 11, 12, 13, 14, 16, 17, 18, 8, 6, 7, 1, 2, 3, 4, 5, 8, 9, 10, 11, 12, 13, 15, 16, 17, 18, 1, 2, 3, 4, 5, 8, 12, 13, 18, 5, 1, 2, 3, 4, 5, 6, 7, 8, 9, 10, 11, 12, 13, 14, 15, 17, 18, 1, 3, 5, 7, 8, 15, 17, 1, 2, 3, 4, 5, 6, 8, 9, 11, 12, 13, 14, 15, 1, 1, 2, 3, 4, 5, 6, 8, 9, 11, 12, 13, 15, 17, 15, 1, 2, 5, 8, 13, 13, 7, 1, 2, 3, 4, 5, 6, 8, 9, 10, 12, 13, 14, 16, 17, 18, 14, 1, 2, 3, 4, 5, 6, 7, 8, 9, 10, 13, 15, 17, 3, 3, 5, 8, 13, 1, 2, 3, 5, 8, 12, 13, 11, 1, 2, 3, 5, 8, 9, 10, 11, 13, 17, 18, 1, 7, 9, 13, 3, 1, 2, 3, 4, 5, 6, 7, 8, 9, 10, 13, 15, 16, 17, 18, 1, 2, 4, 5, 8, 12, 13, 14, 15, 16, 17, 7, 1, 2, 8, 9, 13, 13, 2, 3, 5, 8, 9, 12, 13, 14, 1, 3, 12, 14, 1, 3, 5, 12, 3, 3, 5, 12, 1, 3, 5, 8, 13, 17, 9, 1, 2, 3, 4, 5, 6, 8, 9, 10, 11, 12, 13, 14, 15, 16, 17, 18, 7, 1, 1, 9, 15, 2, 6, 15, 12, 1, 2, 3, 4, 5, 6, 8, 9, 10, 12, 13, 14, 15, 16, 17, 18, 11, 16, 16, 10, 7, 5, 7, 8, 16, 17, 1, 2, 3, 4, 5, 6, 8, 9, 10, 12, 13, 14, 15, 16, 17, 1, 2, 3, 4, 5, 8, 13, 15, 1, 2, 3, 4, 5, 6, 8, 10, 13, 14, 18, 1, 5, 13, 18, 4, 18, 1, 2, 3, 4, 5, 6, 8, 13, 15, 17, 5, 8, 12, 14, 15, 16, 17, 13, 10, 15, 9, 2, 3, 5, 12, 13, 2, 11, 4, 18, 18, 4, 9, 18, 18, 4, 18, 4, 18, 1, 2, 4, 5, 7, 8, 9, 13, 17, 18, 4, 8, 9, 1, 2, 3, 4, 5, 6, 8, 9, 10, 11, 12, 13, 14, 15, 16, 17, 18, 2, 4, 5, 8, 10, 13, 14, 15, 17, 18, 2, 2, 11, 13, 15, 12, 12, 12, 1, 2, 3, 4, 5, 6, 7, 8, 9, 10, 11, 12, 13, 14, 15, 16, 17, 18, 3, 6, 1, 2, 3, 4, 5, 6, 8, 9, 12, 13, 14, 15, 16, 17, 18, 18, 6, 1, 3, 5, 12, 1, 3, 8, 10, 1, 2, 4, 5, 8, 13, 17, 18, 18, 11, 18, 1, 2, 4, 6, 8, 9, 12, 13, 14, 17, 18, 4, 1, 2, 3, 4, 5, 8, 9, 10, 12, 13, 14, 15, 16, 17, 18, 7, 1, 2, 3, 4, 5, 6, 8, 10, 11, 12, 13, 15, 17, 18, 10, 13, 3, 1, 2, 3, 4, 5, 7, 8, 9, 10, 11, 12, 13, 14, 15, 17, 18, 1, 2, 4, 8, 9, 13, 17, 12, 9, 1, 2, 3, 4, 5, 6, 12, 13, 15, 17, 4, 18, 4, 18, 13, 2, 6, 9, 1, 2, 3, 4, 5, 6, 8, 9, 10, 11, 12, 13, 14, 15, 17, 18, 1, 6, 1, 6, 15, 1, 2, 3, 4, 5, 6, 7, 8, 9, 10, 11, 12, 13, 14, 15, 16, 18, 1, 2, 3, 4, 5, 6, 8, 9, 10, 11, 12, 13, 15, 16, 17, 18, 17, 17, 5, 15, 15, 15, 2, 8, 8, 15, 1, 2, 3, 4, 5, 6, 8, 9, 10, 12, 13, 14, 15, 16, 17, 18, 9, 14, 15, 17, 5, 2, 3, 13, 15, 1, 2, 4, 8, 13, 1, 3, 5, 13, 2, 5, 8, 9, 13, 17, 1, 2, 3, 4, 5, 6, 8, 9, 12, 13, 16, 1, 2, 3, 4, 5, 6, 8, 9, 10, 11, 12, 13, 15, 16, 17, 18, 1, 12, 7, 2, 3, 4, 5, 6, 8, 9, 10, 12, 13, 14, 16, 17, 1, 2, 3, 4, 5, 6, 7, 8, 9, 10, 11, 12, 13, 14, 15, 16, 17, 18, 1, 2, 3, 4, 5, 8, 9, 12, 13, 1, 2, 3, 4, 5, 6, 7, 8, 9, 10, 11, 12, 13, 15, 16, 17, 18, 10, 13, 2, 9, 12, 13, 14, 5, 5, 1, 2, 3, 5, 6, 8, 9, 12, 13, 14, 17, 12, 2, 3, 4, 6, 9, 10, 14, 18, 3, 4, 13, 18, 1, 5, 6, 12, 16, 12, 16, 12, 16, 1, 5, 5, 5, 2, 4, 6, 8, 10, 13, 15, 16, 1, 2, 3, 4, 5, 6, 8, 10, 12, 13, 14, 15, 17, 5, 4, 5, 5, 10, 10, 13, 15, 16, 13, 2, 8, 13, 17, 5, 2, 8, 5, 2, 8, 17, 3, 4, 12, 15, 16, 3, 12, 17, 17, 5, 5, 18, 1, 10, 13, 10, 10, 10, 8, 17, 17, 10, 5, 2, 2, 4, 8, 13, 1, 2, 3, 5, 6, 8, 9, 11, 12, 13, 16, 17, 14, 14, 1, 3, 4, 5, 6, 7, 8, 12, 13, 14, 16, 17, 1, 2, 3, 4, 5, 6, 7, 8, 9, 10, 12, 13, 15, 17, 18, 2, 2, 1, 2, 3, 4, 5, 6, 7, 8, 9, 10, 12, 13, 16, 17, 6, 1, 2, 3, 4, 5, 6, 7, 8, 9, 13, 15, 17, 18, 1, 5, 8, 13, 17, 4, 15, 1, 3, 5, 6, 10, 12, 13, 14, 16, 1, 2, 3, 5, 6, 8, 10, 11, 12, 13, 15, 1, 2, 3, 4, 5, 6, 8, 9, 12, 13, 14, 15, 17, 18, 17, 18, 1, 2, 3, 4, 5, 8, 9, 13, 14, 15, 16, 17, 18, 4, 15, 4, 18, 1, 2, 3, 4, 5, 6, 8, 9, 10, 11, 12, 13, 14, 15, 16, 17, 18, 1, 2, 3, 4, 5, 6, 8, 9, 10, 12, 13, 14, 16, 17, 18, 6, 12, 1, 2, 3, 4, 5, 6, 8, 9, 10, 11, 12, 13, 14, 15, 16, 17, 18, 5, 1, 2, 3, 4, 5, 6, 8, 9, 10, 11, 12, 13, 14, 15, 16, 17, 18, 11, 1, 14, 7, 8, 13, 1, 2, 3, 4, 5, 6, 7, 8, 9, 12, 13, 15, 16, 17, 18, 1, 2, 3, 4, 5, 6, 7, 8, 9, 12, 13, 16, 17, 4, 18, 1, 2, 3, 4, 5, 7, 8, 9, 12, 13, 14, 15, 16, 17, 11, 1, 3, 5, 6, 8, 12, 13, 16, 17, 3, 3, 11, 1, 2, 3, 5, 8, 9, 10, 11, 12, 13, 14, 16, 1, 2, 3, 4, 5, 6, 8, 9, 10, 11, 12, 13, 14, 15, 16, 17, 18, 14, 3, 5, 10, 12, 16, 1, 2, 3, 4, 5, 6, 8, 9, 10, 11, 12, 13, 14, 15, 16, 17, 18, 1, 2, 3, 5, 6, 8, 10, 12, 17, 5, 5, 8, 1, 3, 5, 6, 9, 12, 13, 6, 1, 6, 3, 8, 1, 2, 3, 4, 5, 6, 7, 8, 9, 10, 11, 12, 13, 15, 16, 17, 18, 14, 2, 3, 4, 5, 8, 10, 13, 18, 1, 2, 3, 4, 5, 6, 8, 9, 10, 12, 13, 17, 18, 1, 2, 5, 6, 8, 9, 13, 14, 15, 17, 18, 1, 2, 4, 5, 6, 7, 8, 12, 13, 15, 16, 17, 8, 16, 1, 2, 3, 4, 5, 6, 8, 9, 10, 11, 12, 13, 14, 16, 17, 18, 1, 2, 4, 5, 6, 8, 9, 13, 14, 15, 17, 18, 2, 4, 8, 9, 10, 13, 14, 15, 17, 18, 2, 8, 9, 14, 17, 8, 9, 10, 13, 14, 17, 1, 8, 9, 13, 17, 1, 2, 5, 8, 9, 13, 17, 17, 8, 13, 17, 17, 10, 1, 2, 3, 4, 5, 6, 8, 9, 10, 11, 12, 13, 14, 16, 17, 1, 2, 2, 3, 4, 5, 6, 8, 12, 13, 15, 1, 2, 5, 8, 10, 13, 2, 8, 9, 14, 5, 8, 10, 13, 10, 10, 17, 2, 4, 13, 15, 1, 2, 3, 4, 5, 6, 8, 9, 10, 11, 12, 13, 14, 15, 17, 16, 1, 2, 5, 8, 9, 11, 13, 16, 1, 2, 3, 5, 6, 8, 9, 10, 11, 12, 13, 14, 15, 17, 1, 2, 3, 4, 5, 6, 8, 9, 10, 11, 12, 13, 17, 18, 16, 2, 4, 5, 8, 12, 13, 16, 16, 16, 9, 18, 2, 2, 1, 2, 3, 4, 5, 6, 7, 8, 9, 10, 11, 12, 13, 14, 15, 17, 18, 1, 2, 4, 8, 10, 13, 14, 1, 2, 3, 4, 5, 6, 7, 8, 9, 10, 11, 12, 13, 14, 15, 16, 17, 18, 1, 2, 4, 5, 6, 8, 9, 10, 11, 13, 14, 15, 16, 17, 10, 13, 10, 10, 1, 2, 4, 5, 8, 9, 11, 12, 13, 14, 16, 17, 18, 9, 4, 14, 1, 3, 8, 9, 11, 1, 3, 5, 12, 4, 18, 8, 1, 3, 5, 12, 1, 3, 5, 1, 3, 2, 4, 8, 10, 13, 2, 1, 2, 3, 4, 5, 6, 8, 9, 10, 12, 13, 14, 15, 16, 17, 2, 8, 9, 10, 13, 17, 4, 5, 10, 12, 13, 18, 1, 3, 4, 5, 8, 10, 12, 15, 2, 7, 8, 1, 2, 3, 5, 6, 7, 8, 13, 15, 17, 17, 8, 17, 1, 11, 15, 18, 11, 2, 3, 5, 8, 9, 12, 13, 16, 18, 12, 16, 12, 16, 12, 16, 12, 16, 2, 2, 2, 2, 2, 4, 5, 8, 9, 11, 12, 13, 18, 1, 2, 3, 4, 5, 6, 8, 9, 10, 11, 12, 13, 14, 15, 17, 1, 5, 8, 9, 13, 14, 17, 4, 15, 10, 18, 10, 10, 1, 2, 4, 5, 8, 10, 13, 4, 15, 4, 5, 13, 1, 2, 3, 5, 8, 9, 13, 14, 15, 17, 4, 13, 14, 1, 2, 3, 5, 8, 9, 11, 12, 13, 14, 15, 17, 2, 3, 12, 14, 12, 1, 2, 3, 4, 5, 8, 12, 13, 15, 16, 17, 1, 2, 8, 10, 13, 15, 17, 12, 7, 1, 2, 3, 4, 5, 6, 8, 12, 13, 16, 17, 1, 2, 3, 5, 6, 8, 9, 10, 12, 13, 14, 15, 17, 1, 5, 7, 8, 9, 11, 12, 17, 1, 6, 1, 2, 3, 4, 5, 6, 7, 8, 9, 10, 11, 12, 13, 14, 15, 16, 17, 18, 1, 2, 3, 4, 5, 6, 7, 8, 9, 10, 12, 13, 14, 15, 16, 17, 18, 7, 1, 2, 3, 4, 5, 6, 7, 8, 9, 10, 11, 12, 13, 15, 1, 3, 8, 13, 16, 2, 4, 6, 1, 8, 10, 13, 1, 2, 3, 4, 5, 6, 8, 9, 10, 11, 12, 13, 14, 15, 17, 1, 2, 3, 4, 5, 6, 8, 9, 10, 12, 13, 14, 15, 16, 17, 18, 3, 1, 2, 3, 4, 5, 6, 7, 8, 9, 10, 12, 13, 15, 16, 17, 18, 2, 3, 4, 5, 8, 13, 14, 15, 17, 1, 2, 3, 4, 5, 6, 8, 9, 10, 12, 13, 15, 17, 1, 2, 3, 4, 5, 6, 8, 9, 10, 11, 12, 13, 14, 15, 17, 18, 3, 1, 2, 3, 4, 5, 6, 8, 9, 10, 11, 12, 13, 14, 16, 17, 18, 8, 15, 1, 2, 3, 4, 5, 8, 9, 10, 11, 12, 13, 15, 16, 17, 18, 1, 2, 3, 4, 5, 6, 7, 8, 9, 10, 11, 12, 13, 14, 15, 16, 17, 18, 16, 2, 4, 5, 8, 9, 13, 15, 15, 1, 2, 3, 4, 5, 6, 8, 9, 10, 11, 12, 13, 16, 17, 18, 5, 12, 16, 17, 12, 16, 12, 16, 2, 4, 6, 8, 10, 13, 14, 17, 18, 16, 3, 2, 4, 9, 13, 14, 15, 12, 16, 16, 1, 2, 3, 4, 5, 6, 8, 9, 10, 12, 13, 15, 15, 8, 12, 2, 13, 15, 1, 2, 3, 4, 5, 6, 8, 9, 11, 12, 13, 14, 15, 17, 18, 18, 14, 1, 2, 4, 5, 8, 11, 13, 1, 2, 3, 5, 8, 11, 1, 2, 3, 4, 5, 6, 8, 9, 10, 11, 12, 13, 14, 15, 16, 17, 18, 1, 2, 3, 4, 5, 6, 8, 9, 10, 11, 12, 13, 14, 16, 17, 18, 8, 1, 2, 3, 4, 5, 6, 8, 9, 10, 11, 12, 13, 14, 15, 16, 17, 18, 1, 2, 4, 8, 13, 14, 15, 1, 4, 1, 2, 4, 5, 8, 9, 11, 13, 17, 2, 10, 11, 13, 1, 2, 3, 4, 8, 12, 13, 14, 13, 7, 8, 3, 9, 6, 1, 15, 6, 8, 9, 6, 4, 4, 10, 4, 2, 3, 4, 5, 8, 9, 12, 13, 14, 17, 18, 10, 12, 1, 18, 1, 2, 3, 4, 6, 8, 9, 10, 11, 13, 14, 15, 18, 6, 3, 6, 3, 6, 2, 4, 5, 6, 8, 11, 12, 13, 1, 2, 3, 4, 5, 8, 10, 11, 13, 15, 2, 8, 10, 1, 2, 3, 4, 5, 6, 8, 9, 10, 11, 12, 13, 14, 15, 18, 8, 1, 2, 3, 4, 5, 6, 8, 9, 10, 11, 12, 13, 14, 15, 16, 17, 18, 14, 1, 2, 3, 4, 5, 6, 12, 13, 14, 1, 2, 3, 4, 5, 6, 8, 9, 10, 11, 12, 13, 14, 15, 16, 17, 18, 14, 1, 2, 3, 4, 5, 6, 8, 9, 10, 11, 12, 13, 14, 15, 16, 17, 18, 1, 4, 9, 15, 18, 1, 2, 3, 4, 5, 6, 8, 9, 10, 11, 12, 13, 14, 15, 16, 17, 18, 2, 15, 16, 12, 1, 2, 3, 4, 5, 8, 9, 11, 12, 13, 14, 15, 17, 14, 16, 14, 2, 4, 5, 8, 13, 2, 8, 13, 15, 2, 3, 4, 5, 6, 8, 10, 12, 13, 16, 13, 8, 3, 15, 14, 2, 11, 1, 2, 3, 4, 5, 6, 8, 9, 10, 11, 12, 13, 14, 15, 16, 17, 18, 3, 9, 1, 2, 3, 4, 5, 6, 8, 9, 10, 11, 12, 13, 14, 15, 16, 17, 18, 12, 9, 4, 1, 2, 11, 1, 2, 3, 4, 5, 6, 8, 9, 10, 11, 12, 13, 14, 15, 16, 17, 18, 6, 1, 2, 5, 6, 8, 10, 11, 12, 13, 14, 15, 2, 8, 6, 1, 2, 3, 4, 5, 8, 9, 10, 11, 12, 13, 14, 17, 1, 2, 3, 4, 5, 6, 8, 10, 12, 13, 15, 16, 17, 18, 2, 10, 12, 4, 18, 13, 13, 13, 13, 9, 12, 17, 9, 9, 10, 15, 8, 9, 10, 17, 4, 15, 12, 8, 14, 5, 9, 10, 17, 1, 2, 4, 5, 8, 9, 13, 15, 17, 18, 11, 11, 5, 2, 4, 6, 8, 9, 10, 12, 13, 15, 1, 2, 4, 5, 8, 13, 15, 16, 17, 1, 2, 3, 4, 5, 6, 7, 8, 9, 10, 11, 12, 13, 14, 15, 16, 17, 18, 4, 1, 2, 3, 4, 5, 6, 7, 8, 9, 10, 11, 12, 13, 14, 15, 16, 17, 18, 16, 15, 8, 4, 8, 1, 2, 3, 4, 5, 7, 8, 9, 10, 11, 12, 13, 14, 16, 17, 3, 5, 7, 4, 6, 11, 1, 2, 3, 4, 5, 6, 8, 9, 10, 11, 12, 13, 14, 15, 18, 1, 3, 5, 7, 8, 9, 13, 17, 1, 2, 5, 8, 9, 11, 15, 18, 1, 3, 4, 5, 6, 10, 12, 13, 14, 15, 16, 18, 1, 2, 3, 4, 5, 6, 7, 8, 9, 10, 11, 12, 13, 14, 15, 16, 17, 18, 1, 2, 9, 10, 13, 15, 6, 1, 2, 5, 6, 8, 9, 13, 17, 4, 1, 2, 5, 6, 10, 13, 16, 11, 1, 2, 3, 5, 6, 8, 9, 10, 11, 12, 13, 1, 2, 3, 4, 5, 8, 10, 12, 13, 16, 17, 18, 1, 11, 1, 5, 8, 11, 13, 2, 4, 5, 8, 9, 13, 14, 1, 2, 3, 4, 5, 6, 8, 9, 12, 13, 14, 15, 17, 18, 9, 1, 2, 3, 5, 8, 9, 13, 15, 17, 1, 2, 4, 5, 8, 9, 11, 12, 13, 15, 17, 18, 3, 10, 15, 15, 5, 8, 13, 15, 16, 1, 1, 6, 2, 3, 4, 5, 8, 9, 12, 13, 16, 17, 14, 2, 3, 4, 5, 8, 9, 10, 12, 13, 15, 17, 18, 1, 2, 3, 4, 5, 6, 7, 8, 9, 10, 12, 13, 14, 15, 16, 17, 18, 1, 1, 2, 3, 4, 5, 6, 7, 8, 9, 10, 11, 12, 13, 14, 15, 16, 17, 18, 9, 14, 4, 15, 18, 4, 15, 18, 4, 11, 17, 4, 1, 2, 3, 5, 7, 8, 9, 12, 13, 15, 16, 17, 2, 5, 8, 9, 17, 5, 8, 12, 13, 14, 15, 16, 17, 1, 2, 3, 4, 5, 6, 8, 9, 10, 12, 13, 14, 15, 17, 18, 1, 2, 4, 8, 9, 13, 15, 18, 2, 3, 4, 5, 6, 8, 10, 12, 13, 4, 18, 1, 5, 8, 14, 1, 5, 1, 5, 12, 1, 4, 5, 7, 8, 9, 15, 16, 17, 1, 2, 3, 4, 5, 6, 8, 9, 10, 11, 12, 13, 14, 17, 18, 1, 2, 3, 4, 5, 7, 8, 9, 10, 11, 12, 13, 15, 16, 17, 18, 14, 1, 2, 3, 4, 5, 6, 8, 9, 10, 12, 13, 14, 15, 16, 17, 8, 1, 2, 5, 8, 9, 11, 13, 15, 5, 1, 2, 3, 4, 5, 6, 7, 8, 9, 10, 11, 12, 13, 14, 15, 16, 17, 18, 12, 12, 12, 1, 2, 3, 4, 5, 6, 8, 9, 10, 11, 12, 13, 14, 15, 16, 17, 18, 1, 2, 3, 4, 5, 6, 8, 9, 10, 12, 13, 14, 16, 17, 18, 16, 1, 2, 3, 4, 5, 6, 8, 10, 12, 13, 14, 15, 16, 17, 18, 12, 1, 2, 3, 4, 5, 6, 8, 9, 10, 11, 12, 13, 15, 17, 18, 14, 17, 14, 18, 8, 13, 1, 2, 3, 4, 5, 6, 7, 8, 9, 10, 11, 12, 13, 14, 15, 16, 17, 18, 1, 2, 3, 4, 5, 6, 8, 9, 10, 12, 13, 15, 16, 18, 14, 2, 8, 1, 2, 3, 4, 5, 6, 8, 9, 10, 11, 13, 17, 1, 6, 1, 2, 4, 5, 7, 8, 9, 13, 17, 13, 9, 1, 2, 3, 4, 5, 6, 8, 9, 10, 11, 12, 13, 14, 15, 18, 1, 14, 1, 1, 2, 4, 5, 8, 9, 10, 11, 13, 17, 2, 4, 8, 9, 13, 17, 1, 2, 3, 4, 5, 6, 8, 9, 10, 12, 13, 15, 18, 7, 5, 10, 14, 3, 4, 1, 1, 3, 5, 8, 12, 13, 17, 1, 2, 3, 5, 8, 9, 12, 13, 17, 9, 14, 6, 12, 6, 12, 6, 1, 2, 3, 4, 5, 6, 8, 10, 12, 13, 14, 15, 17, 1, 4, 13, 2, 4, 5, 8, 9, 11, 12, 13, 14, 15, 16, 1, 5, 8, 12, 13, 14, 16, 17, 5, 1, 2, 3, 4, 5, 6, 8, 9, 10, 12, 13, 14, 15, 16, 17, 18, 2, 4, 13, 14, 14, 14, 14, 14, 1, 2, 5, 6, 8, 11, 12, 13, 1, 2, 3, 4, 5, 6, 8, 9, 10, 11, 12, 13, 14, 15, 16, 17, 18, 2, 3, 4, 5, 8, 10, 13, 14, 2, 8, 11, 13, 15, 1, 2, 8, 13, 14, 15, 1, 8, 10, 11, 13, 17, 8, 13, 13, 2, 6, 6, 1, 2, 4, 5, 6, 8, 11, 12, 13, 17, 3, 4, 13, 18, 4, 1, 2, 3, 4, 5, 6, 8, 9, 10, 11, 12, 13, 14, 15, 16, 17, 18, 11, 6, 1, 2, 3, 4, 5, 6, 7, 8, 9, 10, 11, 12, 13, 14, 15, 17, 18, 8, 9, 16, 17, 9, 13, 6, 12, 6, 12, 1, 2, 3, 4, 5, 6, 8, 9, 10, 11, 12, 13, 14, 15, 16, 17, 18, 1, 8, 18, 2, 2, 8, 17, 3, 3, 2, 2, 2, 15, 2, 4, 9, 14, 3, 4, 18, 16, 14, 1, 2, 3, 4, 5, 6, 7, 8, 9, 10, 11, 12, 13, 14, 15, 16, 17, 18, 1, 3, 5, 12, 3, 1, 2, 3, 5, 6, 7, 8, 9, 10, 12, 13, 14, 15, 16, 17, 18, 4, 5, 8, 16, 18, 1, 2, 3, 4, 5, 6, 8, 9, 10, 11, 12, 13, 14, 15, 16, 17, 18, 6, 1, 2, 3, 4, 5, 8, 9, 10, 11, 12, 13, 14, 16, 17, 1, 2, 5, 8, 9, 13, 15, 17, 7, 7, 2, 4, 2, 2, 2, 8, 9, 13, 14, 15, 17, 1, 2, 4, 5, 8, 9, 10, 13, 17, 8, 16, 16, 17, 8, 1, 2, 3, 4, 5, 7, 8, 9, 11, 12, 13, 14, 15, 17, 18, 2, 3, 4, 5, 8, 15, 17, 18, 1, 2, 3, 4, 5, 6, 7, 8, 9, 10, 11, 12, 13, 14, 17, 18, 1, 2, 3, 4, 5, 6, 7, 8, 9, 10, 12, 13, 14, 15, 16, 17, 18, 3, 6, 10, 13, 15, 15, 1, 2, 3, 4, 5, 6, 8, 10, 11, 13, 18, 11, 2, 4, 13, 15, 18, 13, 9, 1, 2, 4, 5, 6, 8, 9, 13, 15, 17, 14, 1, 2, 3, 4, 5, 8, 9, 12, 13, 16, 17, 16, 8, 1, 2, 3, 4, 5, 6, 7, 8, 9, 10, 11, 12, 13, 14, 15, 16, 17, 18, 1, 2, 3, 4, 5, 6, 7, 8, 9, 12, 13, 15, 16, 17, 7, 1, 2, 3, 4, 5, 6, 7, 8, 9, 10, 11, 12, 13, 16, 17, 1, 2, 3, 4, 5, 8, 11, 12, 13, 16, 17, 1, 2, 4, 5, 7, 8, 9, 11, 12, 13, 14, 15, 16, 17, 18, 4, 18, 15, 1, 2, 3, 4, 5, 8, 9, 11, 12, 13, 17, 6, 5, 5, 5, 1, 2, 5, 7, 8, 9, 11, 12, 13, 15, 16, 10, 11, 13, 1, 2, 4, 5, 8, 9, 14, 15, 18, 15, 18, 1, 2, 3, 4, 5, 6, 8, 9, 10, 12, 13, 14, 16, 17, 18, 4, 18, 1, 11, 15, 15, 1, 1, 2, 3, 4, 5, 6, 7, 8, 9, 10, 12, 13, 14, 15, 16, 17, 18, 17, 17, 12, 17, 12, 17, 2, 1, 2, 3, 4, 5, 8, 9, 10, 12, 13, 16, 17, 18, 1, 2, 3, 4, 5, 6, 8, 9, 10, 12, 13, 14, 15, 17, 18, 1, 1, 2, 9, 2, 16, 1, 2, 3, 4, 5, 6, 8, 9, 10, 11, 12, 13, 14, 16, 17, 18, 4, 18, 1, 2, 4, 10, 12, 13, 4, 10, 13, 10, 10, 1, 2, 3, 4, 5, 6, 7, 8, 9, 10, 12, 13, 14, 15, 16, 17, 18, 1, 2, 3, 4, 5, 6, 7, 8, 9, 10, 11, 12, 13, 14, 15, 16, 17, 18, 1, 2, 3, 4, 5, 6, 8, 9, 11, 12, 13, 15, 16, 17, 18, 4, 1, 2, 3, 4, 8, 9, 10, 13, 14, 15, 17, 18, 9, 9, 9, 9, 4, 9, 1, 12, 6, 1, 2, 3, 4, 5, 6, 7, 8, 9, 10, 11, 12, 13, 14, 15, 16, 17, 18, 1, 4, 18, 4, 18, 18, 2, 4, 8, 9, 13, 6, 2, 5, 6, 8, 9, 13, 15, 17, 8, 2, 3, 8, 13, 5, 8, 9, 13, 1, 2, 5, 6, 9, 11, 13, 1, 2, 3, 4, 5, 6, 7, 8, 9, 12, 13, 15, 17, 18, 1, 2, 3, 4, 5, 6, 8, 9, 10, 11, 12, 13, 15, 16, 17, 18, 1, 9, 10, 17, 1, 3, 4, 5, 8, 9, 10, 12, 13, 14, 18, 1, 2, 3, 4, 5, 6, 8, 9, 10, 11, 12, 13, 14, 15, 16, 17, 18, 3, 4, 9, 7, 4, 8, 14, 9, 5, 6, 14, 3, 15, 1, 3, 5, 8, 9, 12, 13, 17, 2, 8, 9, 13, 15, 17, 1, 2, 3, 4, 5, 6, 8, 9, 10, 11, 12, 13, 14, 15, 16, 17, 18, 11, 11, 1, 2, 3, 4, 5, 6, 8, 10, 12, 13, 17, 2, 5, 6, 8, 13, 15, 7, 13, 15, 7, 7, 7, 1, 2, 6, 1, 2, 3, 4, 5, 6, 8, 9, 10, 11, 12, 13, 14, 16, 17, 18, 1, 2, 3, 4, 5, 6, 8, 9, 10, 11, 12, 13, 14, 1, 2, 3, 4, 5, 8, 9, 10, 11, 12, 13, 14, 15, 17, 18, 1, 2, 3, 4, 5, 6, 8, 9, 12, 13, 14, 15, 17, 18, 1, 12, 12, 3, 5, 8, 17, 6, 8, 1, 2, 3, 4, 5, 6, 7, 8, 9, 10, 11, 12, 13, 14, 15, 16, 17, 18, 13, 13, 2, 4, 8, 13, 15, 17, 4, 1, 2, 3, 4, 5, 6, 7, 8, 9, 10, 11, 12, 13, 14, 15, 16, 17, 5, 2, 13, 14, 15, 11, 1, 2, 4, 5, 6, 8, 10, 12, 13, 15, 17, 18, 2, 4, 13, 14, 18, 7, 6, 16, 1, 2, 3, 4, 5, 6, 8, 9, 10, 11, 12, 13, 14, 15, 16, 17, 18, 1, 2, 3, 4, 5, 8, 9, 11, 12, 13, 18, 1, 2, 4, 5, 8, 9, 11, 13, 14, 15, 17, 2, 4, 8, 13, 14, 17, 17, 17, 18, 7, 11, 1, 2, 3, 4, 5, 6, 8, 9, 10, 12, 13, 14, 16, 17, 1, 2, 3, 4, 5, 6, 8, 9, 10, 11, 12, 13, 14, 17, 18, 4, 1, 2, 3, 4, 5, 6, 7, 8, 9, 10, 11, 12, 13, 14, 15, 16, 17, 18, 7, 8, 9, 12, 17, 17, 17, 1, 2, 3, 4, 5, 6, 8, 10, 11, 12, 13, 3, 10, 12, 1, 2, 3, 4, 5, 6, 7, 8, 9, 10, 11, 12, 13, 15, 17, 1, 2, 3, 4, 5, 6, 7, 8, 9, 10, 11, 12, 13, 14, 15, 16, 17, 18, 7, 8, 15, 17, 9, 9, 1, 2, 3, 4, 5, 6, 7, 8, 9, 10, 12, 13, 15, 16, 17, 18, 1, 2, 3, 4, 5, 8, 9, 10, 11, 12, 13, 14, 15, 17, 11, 1, 2, 3, 4, 5, 6, 7, 8, 10, 12, 13, 15, 16, 1, 2, 3, 5, 6, 8, 9, 10, 12, 13, 14, 15, 17, 18, 6, 1, 2, 3, 4, 5, 7, 8, 9, 12, 13, 16, 17, 1, 2, 5, 8, 9, 10, 11, 13, 14, 15, 17, 18, 1, 2, 3, 4, 5, 6, 7, 8, 9, 10, 11, 12, 13, 14, 15, 17, 18, 15, 1, 4, 5, 17, 2, 6, 14, 1, 2, 3, 4, 5, 6, 7, 8, 9, 10, 11, 12, 13, 14, 15, 16, 17, 18, 9, 6, 1, 15, 2, 2, 3, 4, 5, 8, 9, 12, 13, 14, 17, 18, 8, 1, 2, 3, 4, 5, 8, 9, 10, 12, 13, 14, 15, 17, 18, 1, 2, 5, 6, 8, 10, 12, 13, 6, 10, 12, 6, 12, 6, 10, 12, 6, 6, 12, 6, 12, 6, 12, 12, 6, 12, 6, 10, 12, 12, 6, 12, 6, 12, 6, 10, 12, 10, 12, 6, 12, 1, 2, 4, 5, 6, 8, 13, 14, 18, 1, 2, 3, 4, 5, 6, 7, 8, 9, 10, 12, 13, 16, 17, 1, 2, 3, 4, 5, 6, 8, 9, 10, 11, 12, 13, 14, 15, 17, 18, 13, 8, 16, 1, 2, 3, 4, 5, 6, 8, 9, 10, 11, 12, 13, 14, 15, 18, 14, 4, 18, 9, 9, 10, 13, 1, 2, 3, 4, 5, 6, 8, 9, 10, 12, 13, 15, 16, 17, 18, 6, 1, 2, 3, 4, 5, 6, 8, 9, 10, 12, 13, 14, 15, 16, 17, 18, 1, 2, 3, 4, 5, 6, 8, 12, 13, 16, 17, 3, 1, 2, 3, 4, 5, 8, 9, 10, 12, 13, 14, 15, 17, 17, 8, 17, 17, 17, 2, 4, 8, 9, 10, 13, 15, 1, 2, 4, 5, 6, 8, 9, 10, 12, 13, 17, 18, 4, 18, 3, 5, 13, 1, 2, 3, 4, 5, 6, 8, 9, 10, 12, 13, 14, 15, 1, 2, 3, 4, 5, 6, 8, 9, 12, 13, 14, 15, 18, 1, 2, 4, 13, 15, 6, 4, 1, 2, 3, 4, 5, 6, 8, 9, 10, 11, 12, 13, 14, 15, 16, 17, 18, 12, 11, 3, 5, 8, 10, 13, 18, 8, 1, 2, 4, 5, 8, 12, 13, 16, 17, 1, 2, 3, 4, 5, 6, 8, 9, 10, 12, 13, 14, 15, 16, 17, 18, 1, 2, 3, 4, 5, 6, 7, 8, 9, 10, 11, 12, 13, 15, 16, 17, 18, 1, 2, 3, 4, 5, 6, 8, 9, 10, 11, 12, 13, 14, 15, 17, 18, 1, 5, 7, 8, 15, 17, 11, 9, 10, 13, 16, 1, 2, 3, 4, 5, 6, 7, 8, 9, 10, 11, 12, 13, 14, 15, 16, 17, 18, 6, 12, 2, 3, 4, 8, 9, 10, 12, 13, 14, 15, 17, 18, 8, 15, 1, 2, 3, 5, 6, 8, 13, 1, 2, 8, 8, 1, 2, 3, 4, 5, 6, 8, 9, 10, 11, 12, 13, 14, 15, 16, 17, 18, 1, 2, 3, 4, 5, 6, 8, 9, 10, 12, 13, 17, 18, 1, 2, 3, 4, 5, 8, 10, 12, 13, 14, 16, 17, 18, 1, 2, 3, 4, 5, 6, 8, 9, 10, 12, 13, 15, 16, 17, 1, 2, 3, 4, 5, 8, 9, 10, 12, 13, 14, 16, 17, 18, 14, 18, 3, 5, 14, 8, 2, 4, 6, 8, 10, 11, 13, 15, 18, 2, 1, 5, 8, 12, 13, 1, 5, 1, 11, 6, 7, 7, 5, 13, 1, 2, 3, 4, 5, 6, 8, 9, 10, 11, 12, 13, 14, 15, 16, 17, 10, 1, 2, 4, 1, 2, 11, 7, 6, 1, 2, 4, 5, 7, 8, 9, 13, 17, 7, 7, 18, 18, 18, 18, 1, 2, 3, 4, 5, 6, 8, 9, 10, 12, 13, 14, 15, 17, 18, 18, 1, 2, 3, 4, 5, 6, 8, 9, 12, 13, 15, 17, 12, 1, 2, 3, 4, 5, 6, 8, 9, 10, 12, 13, 15, 16, 17, 18, 1, 2, 4, 5, 8, 11, 12, 13, 17, 1, 2, 3, 4, 5, 6, 7, 8, 9, 10, 11, 12, 13, 14, 15, 16, 17, 18, 4, 1, 2, 3, 4, 5, 6, 7, 8, 9, 10, 11, 12, 13, 14, 15, 16, 17, 18, 9, 2, 4, 8, 9, 10, 16, 13, 1, 1, 1, 1, 12, 1, 1, 2, 3, 4, 5, 8, 9, 11, 12, 13, 17, 11, 1, 2, 3, 4, 5, 6, 8, 12, 13, 14, 1, 2, 3, 4, 5, 6, 8, 9, 10, 11, 12, 13, 14, 18, 17, 2, 4, 5, 6, 8, 9, 12, 13, 9, 1, 2, 3, 4, 5, 6, 8, 9, 10, 11, 12, 13, 14, 15, 17, 18, 18, 4, 1, 2, 3, 4, 5, 8, 10, 12, 13, 15, 17, 18, 17, 17, 17, 13, 17, 1, 2, 3, 4, 5, 6, 8, 9, 10, 12, 13, 14, 18, 10, 1, 2, 3, 4, 5, 7, 8, 9, 10, 11, 12, 13, 15, 17, 18, 9, 1, 9, 5, 1, 2, 3, 4, 5, 6, 8, 9, 11, 12, 13, 14, 16, 17, 2, 3, 4, 5, 8, 9, 13, 15, 17, 1, 2, 13, 10, 7, 7, 7, 1, 2, 3, 4, 5, 6, 8, 9, 12, 13, 17, 3, 1, 2, 3, 4, 5, 6, 7, 8, 9, 10, 11, 12, 13, 14, 15, 16, 17, 18, 12, 11, 13, 13, 13, 10, 13, 13, 10, 13, 10, 10, 13, 4, 8, 13, 17, 17, 1, 2, 3, 4, 5, 6, 8, 9, 10, 12, 13, 14, 15, 16, 17, 18, 1, 4, 8, 13, 1, 1, 2, 3, 5, 6, 8, 9, 11, 12, 13, 15, 17, 7, 1, 2, 3, 4, 5, 6, 8, 9, 11, 12, 13, 14, 16, 17, 1, 2, 4, 5, 8, 9, 11, 12, 13, 17, 13, 13, 13, 2, 5, 14, 2, 8, 13, 1, 3, 5, 8, 12, 13, 17, 10, 1, 2, 3, 4, 5, 6, 8, 9, 10, 12, 13, 14, 15, 16, 17, 18, 1, 2, 3, 4, 5, 6, 8, 9, 10, 12, 13, 14, 16, 17, 18, 8, 9, 9, 2, 11, 3, 6, 10, 12, 13, 1, 2, 3, 4, 5, 6, 7, 8, 9, 10, 11, 12, 13, 14, 15, 16, 17, 18, 18, 18, 10, 10, 14, 3, 4, 5, 8, 13, 15, 1, 2, 3, 4, 5, 6, 8, 9, 10, 11, 12, 13, 14, 15, 16, 17, 18, 1, 10, 2, 4, 5, 8, 10, 12, 13, 14, 18, 4, 4, 11, 11, 12, 1, 2, 4, 5, 8, 10, 13, 15, 16, 15, 1, 2, 3, 4, 5, 6, 8, 11, 15, 1, 2, 3, 4, 5, 6, 8, 9, 10, 11, 12, 13, 14, 16, 17, 5, 15, 15, 18, 4, 1, 2, 3, 4, 5, 6, 8, 9, 10, 11, 12, 13, 14, 16, 17, 18, 16, 16, 2, 6, 8, 13, 18, 6, 10, 12, 11, 1, 2, 4, 5, 8, 9, 13, 15, 16, 17, 17, 8, 17, 1, 2, 3, 4, 5, 8, 9, 10, 11, 12, 13, 15, 17, 18, 3, 6, 1, 2, 3, 4, 5, 6, 7, 8, 9, 10, 11, 12, 13, 14, 15, 16, 17, 18, 3, 5, 6, 12, 1, 2, 3, 4, 5, 6, 8, 10, 11, 12, 13, 16, 1, 2, 4, 5, 8, 9, 11, 13, 17, 18, 9, 10, 17, 9, 10, 1, 2, 3, 4, 5, 6, 7, 8, 10, 11, 12, 13, 14, 15, 17, 18, 8, 15, 15, 2, 1, 8, 9, 12, 13, 17, 1, 2, 3, 4, 5, 6, 8, 9, 10, 11, 12, 13, 14, 16, 17, 5, 1, 8, 9, 13, 17, 2, 4, 5, 6, 8, 13, 18, 3, 3, 3, 2, 1, 2, 3, 4, 5, 6, 8, 9, 10, 12, 13, 14, 15, 16, 17, 9, 1, 8, 13, 16, 17, 1, 2, 4, 5, 8, 9, 13, 16, 17, 11, 8, 16, 13, 1, 2, 4, 5, 8, 9, 13, 15, 17, 18, 2, 4, 5, 8, 1, 3, 10, 4, 1, 2, 3, 4, 5, 6, 8, 9, 10, 11, 12, 13, 14, 15, 16, 17, 18, 16, 1, 9, 15, 1, 2, 3, 4, 5, 6, 8, 9, 10, 11, 13, 14, 15, 17, 18, 12, 1, 2, 3, 4, 5, 6, 8, 9, 10, 11, 12, 13, 14, 15, 16, 17, 18, 18, 2, 8, 9, 13, 17, 2, 3, 4, 5, 6, 8, 9, 12, 13, 15, 17, 2, 1, 1, 3, 5, 6, 10, 12, 16, 1, 2, 3, 4, 5, 6, 7, 8, 9, 10, 11, 12, 13, 14, 15, 16, 17, 18, 1, 3, 6, 2, 4, 5, 8, 11, 13, 14, 15, 1, 2, 3, 4, 5, 6, 8, 9, 10, 12, 13, 15, 16, 17, 18, 1, 2, 3, 4, 5, 6, 7, 8, 9, 10, 11, 12, 13, 14, 15, 16, 17, 18, 2, 2, 4, 6, 1, 2, 4, 5, 6, 7, 8, 9, 10, 12, 13, 15, 17, 18, 4, 2, 1, 2, 3, 4, 5, 6, 8, 10, 12, 13, 14, 15, 1, 2, 4, 7, 8, 9, 13, 18, 7, 13, 17, 2, 8, 9, 17, 3, 8, 1, 2, 3, 4, 5, 6, 8, 10, 11, 13, 15, 16, 18, 1, 2, 3, 4, 5, 6, 8, 9, 10, 11, 12, 13, 14, 15, 16, 17, 18, 3, 6, 12, 1, 2, 3, 4, 5, 6, 8, 9, 10, 11, 12, 13, 14, 15, 17, 5, 1, 2, 3, 4, 5, 6, 8, 10, 11, 12, 13, 14, 15, 17, 18, 13, 10, 13, 1, 2, 3, 4, 5, 6, 7, 8, 9, 10, 11, 12, 13, 14, 15, 16, 17, 18, 8, 10, 3, 4, 5, 12, 13, 16, 1, 2, 3, 4, 5, 8, 10, 13, 15, 3, 3, 3], \"Freq\": [0.035185291966904224, 0.004139446113753438, 0.11383476812821955, 0.3347777044498093, 0.5114803104306592, 0.00025871538210958987, 0.3542083457869697, 0.0021421105578220954, 0.09743148021061789, 0.16604811840149983, 0.07829068587136884, 0.0015202074926479387, 0.02860754099801121, 0.055763974843949383, 0.0010365051086235946, 6.91003405749063e-05, 0.11525936807894371, 0.02149020591879586, 0.008361141209563662, 0.0001382006811498126, 0.03987089651172093, 0.028123838613986863, 0.001589307833222845, 0.08606024060255547, 0.03913749371020843, 0.016053312763169535, 0.25585721601299716, 0.21195200911372708, 0.0010259635976461732, 0.012341738571684848, 0.10126864216766344, 0.00455648538954624, 0.0002414031994461584, 3.01753999307698e-05, 0.05829887266624725, 0.12353808731657157, 0.0032589431925231383, 0.022722076147869658, 0.06276483185600118, 0.0009052619979230941, 0.9995822179872674, 0.9949663442904655, 0.998670096508447, 0.4266199797572714, 0.09772792487831768, 0.006231638934548597, 0.003956596148919744, 0.08615488114272743, 0.0975300950708717, 0.001978298074459872, 0.0010880639409529295, 0.08556139172038947, 0.024530896123302413, 0.06617407059068271, 0.028190747561053175, 0.01483723555844904, 0.03570828024400069, 0.02364066198979547, 0.0019598012029654597, 0.045728694735860734, 0.016821626992120198, 0.0006532670676551533, 0.8879532617102671, 0.029070384510654322, 0.0011432173683965183, 0.016658310225206408, 0.00016331676691378833, 0.9979143992726446, 0.011800567253130362, 0.21237158349496146, 0.005465729185983458, 0.05259074407573482, 0.01583709516786726, 0.0011781253722437841, 0.008130996421551363, 0.4059317880954075, 0.07041713290493175, 0.003978587322659336, 0.09573717164282684, 0.0008497953504709262, 0.0399983220642111, 0.0016802771702493313, 5.794059207756315e-05, 0.06462307369717543, 0.009347748855180188, 0.1160933117880807, 0.023053990993377727, 0.09448019523178908, 0.6603321705960334, 0.015232101192053142, 0.013585387549669018, 0.07698386278145777, 0.06514111137962231, 0.013176457421921074, 0.001152940024418094, 0.08202344745145868, 0.3474467116442813, 0.0031294086377062547, 0.00024705857666102013, 0.0006588228710960537, 0.4633995369571867, 0.005435288686542443, 0.00041176429443503355, 0.016635277495175356, 0.001152940024418094, 0.9952551587312941, 0.22304939907531673, 0.07303387403351079, 0.00039477769747843673, 0.12948708477292725, 0.03474043737810243, 0.017764996386529654, 0.14014608260484504, 0.007105998554611861, 0.002763443882349057, 0.021317995663835583, 0.16146407826868062, 0.1879141839997359, 0.0007895553949568735, 0.9970284618164795, 0.0015862213884933812, 0.0003965553471233453, 0.015069103190687123, 0.11936315948412694, 0.8636975460346461, 0.9988679786831914, 0.9992946320386409, 0.002029774095113208, 0.004693852594949294, 0.1040893528150242, 0.05994176624631193, 0.27046739817383497, 0.000253721761889151, 0.05550163541325178, 0.0014589001308626182, 0.02676764587930543, 0.19403371740472825, 0.15350166594293635, 0.11423822329059025, 0.005835600523450473, 0.0070407788924239404, 0.0001268608809445755, 0.9946570840843894, 0.05425233162244498, 0.04706226357609685, 0.039872195529748716, 0.000871523399557349, 0.010458280794688189, 0.017430467991146982, 0.08039803360916545, 0.0222238466887124, 0.0010894042494466864, 0.001743046799114698, 0.07930862935971876, 0.6444915539726597, 0.0004357616997786745, 0.9977580229803324, 0.9547664218279915, 0.02437010152141782, 0.0010831156231741253, 0.019496081217134257, 0.006695902483123398, 0.0006377049983927047, 0.7406943556331265, 0.013391804966246796, 0.011159837471872332, 0.21490658445834146, 0.01243524746865774, 0.9999334435237357, 0.2693482055403969, 0.0008889379720805179, 0.008000441748724661, 0.026668139162415536, 0.12089556420295043, 0.5369185351366328, 0.0026668139162415536, 0.0026668139162415536, 0.0017778759441610358, 0.0248902632182545, 0.006222565804563625, 0.056322900190166725, 0.1891106648769174, 0.7377926925572833, 0.0167849702553477, 0.9975305836176771, 0.00397512449452527, 0.04265614361432886, 0.005962686741787905, 0.08561806603592889, 0.048465940952481176, 0.013760046327202857, 0.39865911997979386, 0.17605214828637877, 0.004892460916338793, 7.644470181779365e-05, 0.06665977998511606, 0.0009937811236313174, 0.023086299948973682, 0.12674531561390187, 0.0022933410545338097, 0.08808332047836723, 0.05064790927506116, 0.03550858856784179, 0.12111456565775494, 0.13611625617672687, 0.03647199988557393, 0.002064452823711732, 0.000688150941237244, 0.0001376301882474488, 0.08863384123135702, 0.44055423258008364, 0.9988762313278117, 0.0019581371675338292, 0.8747977795957382, 0.011748823005202975, 0.015175563048387177, 0.09545918691727417, 0.9991576244062491, 0.00014509491840799914, 0.833715401172363, 0.03656391943881578, 0.006239081491543962, 0.009286074778111945, 0.09300584269952744, 0.007835125594031954, 0.013203637575127922, 0.009946109917586503, 0.7718181296047126, 0.21682519620338575, 0.0009946109917586504, 0.0007868517160764194, 0.8789133668573605, 0.015737034321528388, 0.10425785238012557, 0.999012216668011, 0.983006466812138, 0.01581059352215327, 0.0006874171096588377, 0.22935095571548894, 0.735672345239937, 0.0009718260835402074, 0.017492869503723734, 0.009718260835402073, 0.005830956501241245, 0.993465313933143, 0.04581541901978861, 0.050898860096188575, 0.0894878977442961, 0.10233748334945925, 0.08136728188849393, 0.004253655924467801, 0.08637016129965776, 0.008410637850652243, 0.04612155334768592, 0.0019576484652380224, 0.2398643020740612, 0.12110029518295452, 0.028277144497882545, 0.0006928303210307404, 0.06899301010822396, 0.022549210099593514, 0.001514559306439293, 0.9992831647565064, 0.9957424138918418, 0.012892161580325143, 0.9540199569440606, 0.029007363555731573, 0.0019010594874665574, 0.04752648718666394, 0.9486286842458121, 0.9986270261782689, 0.063263334991895, 0.0744075879531007, 0.031293962860759444, 0.025890688697750623, 0.4533121886340946, 0.00045027284691740214, 0.11504471238739625, 0.0031519099284218147, 0.004840433104362073, 0.09005456938348043, 0.02330161982797556, 0.026791234391585428, 0.0031519099284218147, 0.05650924228813397, 0.02814205293233763, 0.0006754092703761032, 0.999375364290433, 0.9994228236741073, 0.9988624675810945, 0.9992526305070343, 0.9992305050430601, 0.01600724546458171, 0.922522830721946, 0.0067398928271923, 0.05251499827854, 0.002246630942397433, 0.11425464564586155, 0.294821325753545, 0.017102566500004225, 0.028464688225701473, 0.12229126832989132, 0.012074728663197426, 0.07415071077432386, 0.01730051287153205, 0.04624027238890031, 0.15491283035767714, 0.0920450627604394, 0.00019794637152782666, 0.001425213875000352, 0.011916371565975165, 0.012747746326392037, 0.005303508904903077, 0.0030305765170874728, 0.03990259080831839, 0.004798412818721832, 0.006439975098810879, 0.9367006918231198, 0.0029043024955421617, 0.0010101921723624909, 0.14381673817546822, 0.0029102881249673165, 0.018189300781045727, 0.012853772551938982, 0.00800329234366012, 0.0007275720312418291, 0.005093004218692804, 0.005093004218692804, 0.7906282739494543, 0.01115610447904138, 0.0009700960416557722, 0.00787170764069145, 0.018823648706001294, 0.9730115140211214, 0.9987946343913926, 0.018972961862257408, 0.9807967229350288, 0.007177747533910518, 0.020554458847107392, 0.023327679485209182, 0.20048753907218242, 0.007504008785451905, 0.0017944368834776295, 0.7115757896117654, 0.02006506696979531, 0.00456765752157942, 0.0029363512638724844, 0.4322980897739001, 0.2562293851227205, 0.10503813303167424, 0.01650120590688981, 8.37624665324356e-05, 0.18276970197377446, 0.00703604718872459, 0.9984774468436465, 0.9977936585716034, 0.9972857479573783, 0.9957998376055269, 0.016363970359149625, 0.0006060729762648009, 0.8485021667707213, 0.11757815739537138, 0.016363970359149625, 0.012516732487949468, 0.9872892054270347, 0.1684941284984471, 0.8308503577682046, 0.9962616578621104, 0.010776820799313979, 0.0005987122666285545, 0.9884739522037433, 0.997833752254948, 0.05693281876503558, 0.9428074787489892, 0.08104715539694157, 0.9185344278320046, 0.21297499932412822, 0.013749374132914733, 0.046860111840750215, 0.0669697406746051, 0.5529680263523259, 0.011598111513479096, 0.0031801273504700744, 0.09147542790469802, 9.353315736676689e-05, 9.353315736676689e-05, 0.9983757990123784, 0.02532549200491988, 0.9750314421894154, 0.01014210725925849, 0.054908428373800104, 0.012996673871963694, 0.36780251226291055, 0.05964365063722874, 0.0006716627324012246, 0.15176219438605668, 0.0037613113014468573, 0.008295034745155123, 0.001041077235221898, 0.020485713338237347, 0.2332684669629453, 0.0022836532901641636, 0.0003694145028206735, 6.716627324012245e-05, 0.06397587526121663, 0.00846295042825543, 0.0012947596250964587, 0.9285418449826373, 0.00567702297157678, 0.0004979844711909457, 0.006573395019720482, 0.01952099127068507, 0.00019919378847637825, 0.0003983875769527565, 0.00796775153905513, 0.029281486906027603, 0.9980459943673202, 0.06779881348380164, 0.0008920896511026531, 0.9291113716234132, 0.0013381344766539797, 0.9987040312593272, 0.9989379202887644, 0.9975171926054013, 0.34520380824970565, 0.052584501869961796, 0.0019454549114022862, 0.06494386248357632, 0.08302514930719757, 0.005550268423706522, 0.023803213033627972, 0.1058556348851244, 0.01888235649302219, 0.026435299090231065, 0.04394439329285164, 0.027236368759632007, 0.10608451193352467, 0.0033759364639039673, 0.003547594250204169, 0.039996264207947003, 0.046175944514754264, 0.001430481552501681, 0.0439818415402779, 0.9529399000393546, 0.009449897435962896, 0.005601003039552477, 2.8723092510525522e-05, 0.8326537287876243, 0.009966913101152356, 0.004739310264236711, 0.013298791832373317, 0.0415335917702199, 0.008789266308220809, 0.054918552880124795, 0.00827225064303135, 2.8723092510525522e-05, 0.001148923700421021, 0.00014361546255262762, 0.009421174343452372, 0.997255617227642, 0.99330019268832, 0.011086486973003986, 0.7845537281229155, 0.004804144354968394, 0.19918721594830496, 0.9630901853583262, 0.010583408630311278, 0.026458521575778195, 0.9990697654424846, 0.0001836088384975945, 0.16322825742436153, 0.4981307788439739, 0.0069771358629085916, 0.0009180441924879725, 0.026256063905156016, 0.0022033060619711343, 0.30185293049004536, 0.9952246882914358, 0.9996884280430596, 0.9979189902981995, 0.03546752654904645, 0.6940571938451017, 0.07809363643826742, 0.05694327656956999, 0.11648967435374889, 0.0019523409109566854, 0.0032539015182611424, 0.0009761704554783427, 0.0019523409109566854, 0.010412484858435656, 0.0006507803036522285, 0.9989879438782739, 0.018540963332174393, 0.04415676793583638, 0.00012198002192219996, 0.08148265464402957, 0.11051389986151315, 0.6357598742585061, 0.012319982214142195, 0.00024396004384439991, 0.03927756705894839, 0.034276386160138186, 0.005489100986498998, 0.00048792008768879983, 0.010734241929153596, 0.006464941161876597, 0.00024396004384439991, 0.9993651586080796, 0.0010716872912930058, 0.03980552796231164, 0.002526120043762085, 0.09775319078436916, 0.012554051126575209, 0.0001530981844704294, 0.7276756707879508, 0.00244957095152687, 0.0001530981844704294, 0.022964727670564407, 0.07004241939522145, 0.0006123927378817175, 0.01890762578209803, 0.0032916109661142315, 0.9931760806962113, 0.0041642602964201735, 0.9986484861635062, 0.03173884857834991, 0.011486440437879017, 0.0022670606127392794, 0.04126050315185489, 0.04760827286752487, 0.06060608704723007, 0.07813802245241383, 0.001209098993460949, 0.01768307277936638, 0.004231846477113322, 0.012242127308792108, 0.661830561545687, 0.006498907089852601, 0.017834210153549, 0.001662511116008805, 0.0037784343545654657, 0.0026231061286775465, 0.01705018983640405, 0.005246212257355093, 0.020984849029420372, 0.7475852466731007, 0.07738163079598762, 0.12984375336953854, 0.997458029303553, 0.9939888702534115, 0.008555840779865008, 0.26134204563951297, 0.1252263968689333, 0.014778270437948651, 0.2877873716863685, 0.278453727199243, 0.0007778037072604553, 0.009333644487125464, 0.01322266302342774, 0.0007778037072604553, 0.8644833138117682, 0.13546615767658515, 0.9991991245594561, 0.9982493169024484, 0.998641716450548, 0.9922326693553107, 0.004439519773401838, 0.002219759886700919, 0.4072233411940434, 0.06344530629796373, 0.004851478667716254, 0.014027918938435371, 0.25521034293893413, 0.003083885664749867, 0.10409994536619063, 0.002858235494158413, 0.008161014503057574, 0.013802268767843916, 0.053366265344878795, 0.06295639759501558, 0.0004889087029481497, 0.000263258532356696, 0.004437786688298589, 0.0017299846412011449, 0.9839417636030394, 0.014833292918638786, 0.9782544303411609, 0.020586804067974546, 0.000762474224739798, 0.011443451701962364, 0.10577018930242356, 0.017219670180095747, 0.016892714417182538, 0.1643497634910404, 0.00010898525430440346, 0.009972150768852916, 0.02048922780922785, 5.449262715220173e-05, 0.014930979839703274, 0.427331182127566, 0.03672803070058397, 0.11846697142888657, 0.012751274753615205, 0.003269557629132104, 0.038253824260845615, 0.002016227204631464, 0.0519024246649981, 0.07570890870555508, 0.029302350288658536, 0.10568148658544552, 0.0641273759290679, 0.003297519748860933, 0.3376606604626297, 0.0006166093839333452, 0.009383186277246557, 5.361820729855176e-05, 0.0640201395144708, 0.17203401811740332, 0.0005629911766347935, 0.008149967509379867, 0.07726383671721308, 0.00018766372554493115, 0.9986948142742706, 0.9985451859509172, 0.9987011905182233, 0.9994831058645602, 0.9970284181680423, 0.997028298279481, 0.0011508674052382302, 0.9978020403415456, 0.9988845489667121, 0.9967726127943349, 0.006191228872862582, 0.005096965165100823, 0.011979307958655042, 0.044317680164351225, 0.25058638907744274, 2.8796413362151542e-05, 0.3736910562006406, 0.07023445219028761, 0.0029372341629394574, 0.05356132885360187, 0.06196988155535012, 0.0025052879625071843, 0.01926480053927938, 0.04699574660703132, 0.05059529827730026, 5.7592826724303084e-05, 0.04989898431161301, 0.052923165178983496, 0.8815487228384965, 0.015120904336852427, 0.9990895936568961, 0.9957031502560351, 0.00047145035523486506, 0.0009429007104697301, 0.0028287021314091906, 0.004442581778684649, 0.00040387107078951356, 0.030694201380003033, 0.04038710707895136, 0.9236531388956175, 0.017479223493830128, 0.002759877393762652, 0.9466379460605896, 0.0321985695938976, 0.007244495364587255, 0.02535573377605539, 0.012677866888027694, 0.7470885844730606, 0.0027166857617202203, 0.20465699404958992, 0.007107105942565746, 0.003431016661928291, 0.009067686892239055, 0.04092712732443033, 0.08307961774240648, 0.0024507261870916363, 0.0012253630935458182, 0.0036760892806374547, 0.05318075825988851, 0.45044347318744277, 0.3453073197612116, 0.2562306730782642, 0.02429128631285082, 0.11641860832483329, 0.1338764116297569, 0.03287054965127041, 4.9879438014067394e-05, 0.10699139454017456, 0.08145312227697206, 0.01052456142096822, 0.00034915606609847174, 0.032920429089284484, 0.14784265427369575, 0.0029428868428299764, 0.005137582115448942, 0.04783438105549063, 0.0001496383140422022, 0.9941334095317599, 0.9963088728554783, 0.9992794977754321, 0.001837485163472923, 0.0653328058123706, 0.10099362898495622, 0.1461821530051792, 6.80550060545527e-05, 0.02361508710092979, 0.0002722200242182108, 0.03253029289407619, 0.36885813281567564, 0.07431606661157156, 0.06526475080631604, 0.11651017036539423, 0.004219410375382268, 0.15921173641890546, 0.0863087275005041, 0.003426742671267833, 0.11481470774390794, 0.06202027669866067, 0.002974864516814932, 0.04590328918984053, 0.15273481620508056, 0.03261054014635102, 0.003803307799978584, 0.00214642123365128, 0.0823924501619123, 0.13929144111010675, 0.002673612413846331, 0.04955597093833482, 0.00851037190886297, 0.05049738376011169, 0.0010920388732611776, 0.0011332280938111026, 0.0005666140469055513, 0.0001888713489685171, 0.03191925797567939, 0.028897316392183115, 0.007177111260803649, 0.0001888713489685171, 0.025686503459718325, 0.9039382761633229, 0.009815524219894085, 0.02219372225089352, 0.0008703420490546479, 0.03592578569153352, 0.1619803257962817, 0.0007252850408788732, 0.019195877415260847, 0.6816228814179651, 0.001498922417816338, 0.00343301586016, 0.0001934093442343662, 0.02625531847981521, 0.01373206344064, 0.008655068154487888, 0.010975980285300281, 0.0008219897129960564, 0.0020791504505194365, 0.8475930933901675, 0.1521470408355115, 0.956797594570658, 0.010485453091185294, 0.0026213632727963235, 0.01572817963677794, 0.011796134727583455, 0.9988731146569519, 0.9990612832392901, 0.08677306059134428, 0.5437450709010015, 0.006637032963077324, 0.010324273498120281, 0.000491632071339061, 0.14798125347305738, 0.04375525434917643, 0.0029497924280343663, 0.06932012205880761, 0.02458160356695305, 0.06342053720273887, 0.9991818203191185, 0.00010443704621569332, 0.0012532445545883199, 0.9451552682520246, 0.014516749423981372, 0.031957736142002154, 0.003968607756196346, 0.0017754297856667864, 0.0011488075083726265, 0.015880393072719694, 0.855456924336069, 0.0007940196536359847, 0.12773791177868904, 0.9971321029174287, 0.9988783310586576, 0.9897672063722525, 0.0011686248853916346, 0.998005652124456, 0.00613633710536119, 0.9930638882176193, 0.017208116312129453, 0.9808626297913787, 0.014276722273329864, 0.9850938368597607, 0.9993601974580069, 0.9964119701999806, 0.040991145931038454, 0.048612615275000375, 0.0004119713158898337, 0.00720949802807209, 0.018538709215042515, 0.8033440659851757, 0.07992243528262774, 0.0010299282897245842, 0.24925412169118255, 0.021341365974865956, 0.04642968933463204, 0.006679358816561101, 0.16910181589244933, 0.02459958978782259, 0.008308470723039418, 0.14238438062620493, 0.22383997595012078, 0.10393733963331664, 0.0008145559532391586, 0.0013032895251826539, 0.0019549342877739806, 0.9994189329767824, 0.018380610024359468, 0.9802992012991716, 0.9994773231842329, 0.9990803073626756, 0.018305281173958174, 0.9600885292649088, 0.01619313334619377, 0.005397711115397923, 0.9973954828633285, 0.8454369698982601, 0.04306279784305067, 0.05976061741484583, 0.05097229132442733, 0.9967781694255228, 0.00858541403130128, 0.9911634567189136, 0.9990377936008938, 0.0006800829369200861, 0.006120746432280775, 0.9929210879033258, 0.02666311399904806, 0.0019045081427891473, 0.030472130284626357, 0.9293999736811038, 0.009522540713945737, 0.0158119010669426, 0.9840583134603101, 0.9988994562293195, 0.9985065450675652, 0.9982568870082175, 0.998956413720916, 0.9965708393011375, 0.0005955103183240846, 0.9945022316012213, 0.004764082546592677, 0.9988996907455383, 0.9991859708169459, 0.9981538661005738, 0.00114130257211075, 0.9986397505969061, 0.9982466541296693, 0.9985147017927776, 0.9998740384174732, 0.9992513272881858, 0.0018063793156854356, 0.9907990546534614, 0.005870732775977666, 0.0013547844867640767, 0.0008838265937577693, 0.002048870740074829, 0.01964505474307042, 0.028925233977526995, 4.017393607989861e-05, 0.2718971993887538, 0.010324701572533942, 0.00044191329687888464, 0.0012052180823969583, 0.1588477432599191, 0.24136500796803081, 0.2643846733418127, 0.9929595432492386, 0.995594742101443, 0.028332592849721144, 0.0003497850969101376, 0.01451608152177071, 0.584665789485295, 0.0003497850969101376, 0.13606640269804351, 0.07712761386868534, 0.05264265708497571, 0.02431006423525456, 0.009968875261938922, 0.071181267221213, 0.0001748925484550688, 0.023370883835561695, 0.2807584069427308, 0.009321970598568352, 0.005056729334129059, 0.009783671972554048, 0.0017588623770883683, 0.00883828344486905, 0.30925197745156235, 0.018775855875418333, 0.021963793933890998, 0.0004836871536993013, 0.19831173301671354, 0.006265947218377312, 0.10531188482816606, 0.0007695022899761612, 0.9978243035308312, 0.9987262042902503, 0.011627724152575666, 0.035601739680638976, 6.532429299199812e-05, 0.046314923731326674, 0.20746995454258604, 6.532429299199812e-05, 0.24973477210840883, 0.314993740807415, 0.00013064858598399624, 0.015220560267135563, 0.0174415862288635, 0.06728402178175807, 0.008296185209983762, 0.025672447145855263, 0.9940875222555785, 0.12745252549977956, 0.010752573745724438, 9.864746555710493e-05, 0.10288930657606045, 0.049915617571895096, 9.864746555710493e-05, 0.0800030945668121, 0.010456631349053122, 0.011344458539067067, 0.13642944486547612, 9.864746555710493e-05, 0.4702524683107192, 9.864746555710493e-05, 0.007750901998239249, 0.008662772821561514, 0.0009118708233222646, 0.0006839031174916985, 0.982084876718079, 0.9984378822591986, 0.9972857821194234, 0.008372186393935518, 0.04814007176512922, 0.15697849488629095, 0.006279139795451638, 0.012558279590903276, 0.0606983513560325, 0.03976788537119371, 0.6048904669618411, 0.05651225815906474, 0.4848325714498823, 0.0013636768370051068, 0.06872931258505738, 0.19982411251581497, 9.091178913367378e-05, 0.07882052117889517, 9.091178913367378e-05, 9.091178913367378e-05, 0.1547318651055128, 0.0017273239935398019, 0.009545737859035747, 0.04717439001476237, 0.2515020190546066, 0.015175376064989822, 0.2044981388832711, 0.09656540799407382, 0.0022734645790246926, 0.08707369337664572, 0.0050016220738543235, 0.008696002014769449, 0.211489042463772, 0.0005683661447561731, 0.003126013796158952, 0.06683985862332596, 5.683661447561731e-05, 0.9988338114168516, 0.9979120175056514, 0.033849750119299124, 0.0012645021596289904, 0.001750849144101679, 0.7679418884823753, 0.018772993600645778, 0.0004863469844726886, 0.050288278194476004, 0.03180709278451383, 0.04425757558701466, 0.00019453879378907545, 0.0018481185409962167, 0.0030153513037306694, 0.04454938377769827, 0.9984459393086044, 0.0010860543212203818, 0.5751623978947474, 0.4241713586902082, 0.3046420903022056, 0.11315911584422789, 0.004992313934304171, 0.0407705637968174, 0.10040098023433944, 0.010816680190992372, 0.05974135674717325, 0.00726659028215385, 0.03633295141076925, 0.003383679444361716, 0.002995388360582503, 0.24900552501212694, 0.0002773507741280095, 0.008708814307619498, 0.0026070972768032896, 0.020745837904775112, 0.03411414521774517, 0.020817720335278678, 0.07592813530089781, 0.02500674898728961, 0.30798120918358723, 0.05549268373994714, 0.003934182802458939, 0.1424269741683718, 0.008760326078349864, 0.0066100642227548976, 0.04703498710794027, 0.24110010154178527, 0.004873926872681924, 0.008505480228797867, 0.04963122920025123, 0.001863560274848971, 0.8843258474113084, 0.11111947820875079, 0.3783501680449803, 0.08133308128554027, 0.00864102964438213, 0.005614228300022288, 0.06219588568894256, 0.0037102726156669034, 0.2427787594435725, 0.012253663507005168, 0.001708678178267653, 0.0006346518947851282, 0.01445053545049215, 0.13435092418835945, 4.881937652193294e-05, 0.001464581295657988, 0.0013669425426141224, 0.05091860971237606, 0.00014645812956579882, 0.9972300127729192, 0.40387086342675843, 0.052930715503638155, 0.005154164976528301, 0.0004203751576601097, 0.17231726027910932, 0.010948031279930683, 0.005227273699599625, 0.0016815006306404388, 0.0025770824882641505, 0.2932025338775426, 0.032844093839792046, 0.012446760102892813, 0.0009504133999272045, 0.0010417993037663588, 0.004368246203511575, 1.8277180767830854e-05, 1.8277180767830854e-05, 0.99979379054996, 0.9942437749214326, 0.9976474664669238, 0.6193301198723735, 0.010256422367313193, 0.37002016078999134, 0.061216614411539236, 0.11864362888331652, 0.035466768667002886, 0.030122461059646288, 0.424921039399462, 0.0014575384383699818, 0.11670024429882321, 0.10105599839365206, 0.004081107627435949, 0.016130092051294464, 0.019336676615708426, 0.0008745230630219891, 0.014866892071373814, 0.048487445383108056, 0.006704676816501916, 0.11695460126011244, 0.013471210616348029, 0.0038270484705534174, 0.010256489901083158, 0.07286700287933706, 0.009337998268150339, 0.4330688049278247, 0.24110405364486528, 0.03383110847969221, 0.0012246555105770935, 0.028320158682095288, 0.01882907847512281, 0.016992095209257173, 0.24516782473291296, 0.7538640601919526, 0.08825382563120351, 0.015431666042450326, 0.021043180966977718, 0.04757034242837993, 0.06440488720196211, 0.35582105998707775, 0.2497124141414689, 0.00012753443010289525, 0.034179227267575926, 0.0967986324480975, 0.00012753443010289525, 0.005483980494424496, 0.01989537109605166, 0.001020275440823162, 0.9997941245204205, 0.012969628255827224, 0.06553075329260072, 0.2662186852511904, 0.357006083041981, 0.1406180747737057, 0.014334852282756407, 0.052561125036773494, 0.014334852282756407, 0.07645254550803417, 0.9975117216651159, 0.9988749097946245, 0.9996837592050803, 0.2462313352466484, 0.10618520865776693, 0.019067313009753815, 0.5425965538379081, 0.0013149871041209526, 0.00016437338801511908, 0.0032874677603023815, 0.013149871041209526, 0.059996286625518466, 0.0016437338801511907, 0.006410562132589644, 0.9961306382345209, 0.1661199549852281, 0.006956320372617654, 0.24211019383827964, 0.02185191943137502, 0.16778342290041928, 0.0033269358303823562, 0.014517538168941191, 0.040376903032367684, 0.05081138359129417, 0.000604897423705883, 0.10963765804669127, 0.07651952409879419, 7.561217796323537e-05, 0.004385506321867651, 0.04408189975256622, 0.004914791567610299, 0.04612342855757357, 0.9944544687599263, 0.08228777740014459, 0.17928712207615, 0.13062578416368728, 0.4070739164903027, 0.2006269779048712, 0.1385924482330549, 0.1350531646007998, 0.011915588228592077, 0.16923674568233005, 0.05388559330108348, 0.007756929960692367, 0.18908622805322725, 0.029670994450405025, 0.005190949327307439, 0.0023300283912345895, 0.019819988340628404, 0.08845259677610802, 2.949403026879227e-05, 0.0015926776345147825, 0.012240022561548792, 0.13331301681494107, 0.0018286298766651207, 0.10122662204053008, 0.043030132017228814, 0.0014108240005648793, 0.09805226803925911, 0.2885135081155178, 0.040208484016099055, 0.0014108240005648793, 0.4257161421704523, 0.0003527060001412198, 0.9968358466580913, 0.013408201721571306, 0.9863623266458481, 0.0026022471739573943, 0.18085617859003889, 0.03339550539911989, 0.688728085374057, 0.0017348314493049295, 0.0039033707609360912, 0.08891011177687763, 0.9929721192828466, 0.9928269322493655, 0.003916477050293354, 0.9989864425901238, 0.999164314761714, 0.09945400562039855, 0.1151339759915739, 0.014415456631564443, 0.028261882080303974, 0.36930123765336803, 0.004362572401657661, 0.07631340418551878, 0.09983335974228183, 0.004236121027696569, 0.005690311828249122, 0.0010748366786692788, 0.10014948817718455, 0.03875734611907458, 0.010811592473673333, 0.01782964372851392, 0.014352230944583898, 6.32256869805458e-05, 0.9980302058510016, 0.009678278479311594, 0.0007444829599470457, 0.038713113917246376, 0.8985909326560841, 0.0029779318397881826, 0.020845522878517278, 0.020101039918570235, 0.008189312559417503, 0.13749376587819467, 0.24700762884850266, 0.0012551732145594037, 0.09319661118103573, 0.05067761853783593, 0.00010459776787995031, 0.24601395005364313, 0.03812588639224189, 0.001359770982439354, 0.011819547770434386, 0.10276730694205118, 0.06992360782774679, 0.0002614944196998758, 0.03745729250417187, 0.3623483693290601, 0.07507131008158295, 0.010814030053505687, 0.27285835250946955, 0.21439990019124316, 0.005642102636611662, 0.004074851904219534, 0.007992978735199855, 0.008933329174635133, 0.0003134501464784257, 4.5065612741317656e-05, 0.0007661154166024002, 0.16070397503553877, 0.034745587423555914, 0.0008111810293437178, 0.02208215024324565, 0.3179829635027374, 0.04091957636911643, 0.005137479852510213, 0.0010815747057916238, 0.38900636918305403, 0.026633777130118736, 0.9982883742501917, 0.9969850249191938, 0.08806454820352203, 0.07028625912957158, 0.0009922765994763046, 0.09112406771857397, 0.09236441346791935, 0.00429986526439732, 0.13205547744697155, 0.00016537943324605077, 0.08880875565312926, 0.007028625912957157, 0.11849436392079538, 0.16752936587824943, 0.005457521297119675, 0.0004134485831151269, 0.040187202278790336, 0.09269517233441145, 0.044552471703762524, 0.024030688794869522, 0.07076293536719322, 0.0007974786104492097, 0.00031899144417968394, 0.07645161612173092, 0.36965791856355706, 0.04152205298405552, 0.005529185032447855, 0.007708959901009028, 0.3584400527765715, 0.00015949572208984197, 0.01254186053656046, 0.0072048986061092005, 0.010940771957425082, 0.35197263931326056, 0.000266848096522563, 0.000266848096522563, 0.000533696193045126, 0.002401632868703067, 0.6118826853262369, 0.0018679366756579408, 0.005780748735954982, 0.17149554583333115, 0.7418627544475561, 0.0019269162453183274, 0.07514973356741476, 0.013347166680768978, 0.7244545470617385, 0.0007415092600427211, 0.003707546300213605, 0.2254188150529872, 0.031143388921794284, 0.0034820540371613136, 0.006267697266890364, 0.03412412956418087, 0.0006964108074322627, 0.9547792169896322, 0.04541113740800488, 0.021139667414071237, 0.003914753224828007, 0.09317112675090655, 0.6709887027355204, 0.010961309029518418, 0.15424127705822346, 0.9989808834631569, 0.9984748682775262, 0.0010304178207198413, 0.9994237329879301, 0.9985948300775912, 0.9977364866772597, 0.24334454407921258, 0.046738635694358564, 0.058829953281182186, 0.07309011707192035, 0.17323659053767473, 0.00010844231019572753, 0.09607988683341459, 0.0012470865672508666, 0.010844231019572752, 0.0005422115509786376, 0.030906058405782345, 0.19834098534798564, 0.03985254899692987, 0.005476336664884241, 0.021363135108558324, 0.9967697676640666, 0.998098697146381, 0.1436874288292521, 0.00832581363309685, 0.049954881798581104, 0.29059775325841264, 0.19659663159441595, 0.019337373599450747, 0.08110953926436286, 0.20465387059418708, 0.005371492666514097, 0.0026306267356225655, 0.004292075200226291, 0.0055381615486790855, 0.9658553740896324, 0.006507339819697925, 0.015091490220150506, 0.0036251935036267805, 0.9911279038915618, 0.0029001548029014244, 0.0021751161021760683, 0.9305201186164672, 0.0009399193117338052, 0.014098789676007079, 0.05263548145709309, 0.9994387796331231, 0.9977081852322113, 0.9993368076636903, 0.03886612107200574, 0.9608843881591737, 0.00012377745564333038, 0.9972430365931477, 0.0723243756205715, 0.07649320692309773, 0.00038779826070011527, 0.16529900862342412, 0.15860948862634713, 0.009307158256802766, 0.13446904689776495, 0.10247569039000545, 0.005526125214976642, 0.07726880344449796, 0.05846058780054238, 0.09365327995907784, 0.0008725460865752593, 0.0023267895642006915, 0.04246390954666262, 0.9971128797896092, 0.00224161325718831, 0.0035492209905481575, 0.025591751352899872, 0.7922234853113019, 0.00018680110476569252, 0.0014944088381255401, 0.0007472044190627701, 0.17391182853685971, 0.44516985273024273, 0.07707036035590427, 0.04023027608020809, 0.24477184828576046, 0.0006027007652465631, 0.009417199456977549, 0.006328358035088913, 0.0008287135522140243, 0.004218905356725942, 0.13500497141523016, 0.027573560010030265, 0.008588485904763524, 7.533759565582039e-05, 0.00015067519131164078, 0.006045246476067992, 0.14718860985209026, 0.014061768976940765, 0.22932511088562274, 0.036140060454754305, 0.0009199288115755641, 0.143508894605788, 0.0026283680330730403, 0.131418401653652, 0.11288840702048708, 0.03653431565971526, 0.11591103025852108, 0.023261057092696404, 0.000131418401653652, 0.9963314425576336, 9.505022596975611e-05, 9.505022596975611e-05, 0.0005703013558185366, 0.003516858360880976, 0.011596127568310246, 0.09780668252287904, 0.886248306942006, 0.9958626702493381, 0.9979100242309498, 0.9932124757640433, 0.9996478588046124, 0.9986317117775838, 0.9986317121797695, 0.2642383331017754, 0.07156915521389788, 0.002358612736194369, 0.0006633598320546662, 0.125448714906338, 0.003316799160273331, 0.03213609853064828, 0.06206099762111433, 0.07451742113414084, 0.0035379191042915533, 0.14726588271613592, 0.003980158992327998, 0.0041275722883401455, 0.02174346116179184, 0.0008844797760728883, 0.050341640588148565, 0.13186119328286644, 0.04630418752061339, 0.02645953572606479, 0.02645953572606479, 0.02976697769182289, 0.006614883931516198, 0.05291907145212958, 0.8103232816107343, 0.048215341249719254, 0.1060699780309747, 0.0352937807035308, 0.139854671371447, 0.07483186961566364, 0.011978380944276888, 0.030804245798431745, 0.13736467722240048, 0.025654485171994593, 0.014619283829629272, 0.0013770422187908864, 0.07107801480005561, 0.20768814834092683, 0.0029427203579640857, 0.0013204514426761924, 0.0016788596914025875, 0.07979299432171848, 0.009450659611153892, 0.02167671693067932, 0.014908097810032418, 0.005312080828862126, 0.022019431822863974, 8.567872304616332e-05, 0.6626392440390272, 0.10290014637844215, 0.0022276467992002466, 0.00042839361523081665, 0.09081944642893312, 0.00025703616913849, 0.02775990626695692, 0.01362291696433997, 0.03529963389501929, 0.9927987294470778, 0.005425129669109715, 0.9974990059629284, 0.9955332124880502, 0.021889396452167253, 0.010272119005486309, 0.735679380202448, 0.05087144650336077, 0.12485516076906573, 0.0008560099171238591, 0.0034240396684954363, 0.03619699078123747, 0.0018343069652654123, 0.0002445742620353883, 0.0008560099171238591, 0.00012228713101769415, 0.01296243588787558, 0.9919476917384563, 0.998604440822731, 0.9952667413867319, 0.007202410955005107, 0.9579206570156793, 0.024693980417160366, 0.0030867475521450458, 0.0061734951042900915, 0.006475934307182983, 0.7051149648585707, 0.008380620868119155, 0.27998892445761725, 0.9566008692712622, 0.04330415755267581, 0.9971616214147256, 0.03567102247813935, 0.937107486352786, 0.0029725852065116127, 0.023780681652092902, 0.060072632033145966, 0.937719134175937, 0.0014651861471499017, 0.993126837960112, 0.004695635167660105, 0.001264004124263281, 0.032864107230845305, 0.010112032994106249, 0.004424014434921484, 0.9505311014459873, 0.9981566218081064, 0.03134510035647478, 0.00382994795352425, 0.05382084755741972, 0.0003023643121203355, 0.4167588102058625, 0.005240981410085816, 0.07932023787956802, 0.002519702601002796, 0.03376401485343747, 0.15934599248741682, 0.12386857986529745, 0.03205061708475557, 0.006551226762607269, 0.04656410406653167, 0.004737040889885256, 0.0008702591849280973, 0.0034810367397123893, 0.6422512784769357, 0.006091814294496681, 0.004351295924640486, 0.3428821188616703, 0.10239523389671015, 0.006942049755709163, 0.5056126238741507, 0.018512132681891103, 0.36272209973580377, 0.0028925207315454848, 0.03542880569018707, 0.7558145213906574, 0.051456122550033595, 0.03627234868281057, 0.03795943466805757, 0.0008435429926235016, 0.06579635342463312, 0.01602731685984653, 0.011507729795387308, 0.9851438685551206, 0.002876932448846827, 0.00725372605578314, 0.03194077691790223, 0.0005486011302693131, 0.0035354295061800177, 0.0019505817965131133, 0.025235651992388402, 0.14074666775464933, 0.012617825996194201, 0.003718296549603122, 0.7725523027814749, 0.9976780243877805, 0.006079605079120775, 0.9935811729305953, 0.0008780641544179043, 0.9922124944922318, 0.0029268805147263477, 0.003804944669144252, 0.999702552710041, 0.02487907476941703, 0.00599495777576314, 0.019783360660018363, 0.005695209886974983, 0.000299747888788157, 0.000899243666364471, 0.1762517586074363, 0.7625586290770714, 0.003596974665457884, 0.009723238517565113, 0.9869087095328589, 0.0013134760106585778, 0.9982417681005192, 0.002420748068011202, 0.994927455952604, 0.007268552443494392, 0.9909459831297355, 0.9996819985687221, 0.9944645713667157, 0.999490630790337, 0.999790375812177, 0.01212757395966584, 0.036054949609817366, 0.0072109899219634736, 0.1104592547137132, 0.0019666336150809473, 0.0036054949609817368, 0.0016388613459007893, 0.8246750292572772, 0.0019666336150809473, 0.028272531259427355, 0.050398860071153115, 0.02932616596474763, 0.0695398905511381, 0.023882386653926214, 0.2621794358405282, 0.23004357732825986, 0.002282875194860594, 0.0029852983317407767, 0.0033365099001808683, 0.040916147723270645, 0.22442419223321838, 0.0007024231368801827, 0.0012292404895403199, 0.03020419488584786, 0.07818833420166528, 0.06486077723547234, 0.03465164811210166, 0.6628238331186626, 0.06130676204448755, 0.0017770075954923927, 0.09595841015658921, 0.9988510527627551, 0.9972857728030646, 0.9977998760104685, 0.0016755665424189228, 0.997254173516956, 0.997736522601523, 0.009386711019349101, 0.0004400020790319891, 0.8927642183559059, 0.02082676507418082, 0.055146927238675966, 0.005720027027415859, 0.015546740125796947, 0.9994693681906669, 0.9970283072538817, 0.023342004614951763, 0.01768333682950891, 0.9584368561593829, 0.022782115961936238, 0.4424444037849134, 0.00015711804111680162, 0.31376472811025286, 0.1941978988203668, 0.0006284721644672065, 0.011940971124876923, 0.00015711804111680162, 0.013669269577161742, 0.00015711804111680162, 0.05559595573685537, 0.03176911756391736, 0.9093909902671343, 0.06940050663641369, 0.00022243752127055672, 0.3278729063528006, 0.16727301599545866, 0.32297928088484834, 0.007562875723198928, 0.00022243752127055672, 0.037591941094724086, 0.05761131800907419, 0.008007750765740042, 0.0008897500850822269, 0.00022243752127055672, 0.0002110241309728896, 0.02764416115744854, 0.9709220266062651, 0.0010551206548644481, 0.9980226571353303, 0.32854849045742446, 0.0002816532279960775, 0.034643347043517535, 0.0002816532279960775, 0.09393135153669185, 0.06492106905309587, 0.008449596839882325, 0.02492631067765286, 0.0004224798419941163, 0.004647278261935279, 0.4389565558318868, 0.009411460690101391, 0.012833810031956442, 0.9328753914339893, 0.0011407831139516836, 0.0002851957784879209, 0.0077002860191738645, 0.03593466808947803, 0.9972466310955561, 0.9987067710242522, 0.13597141368863747, 0.00963576947399793, 0.0024089423684994825, 0.00642384631599862, 0.6779834466010211, 0.0010706410526664367, 0.06290016184415316, 0.07226827105498447, 0.017933237632162816, 0.012312372105664021, 0.0010706410526664367, 0.4957737381860595, 0.04616479942941215, 0.028332514159619616, 0.12889936154408413, 0.0026250572224567697, 0.19651721482598783, 0.00018103842913494962, 0.017651246840657588, 0.00470699915750869, 0.000995711360242223, 9.051921456747481e-05, 9.051921456747481e-05, 0.07811808217173076, 0.6117968386637087, 0.25582880256299023, 0.08471890629536932, 0.04198787899726637, 0.0013005095264640029, 0.00018578707520914325, 0.0009289353760457162, 0.002972593203346292, 0.9795034585090423, 0.019205950166843965, 0.026692279948861135, 0.07789018414455805, 0.009199034332658357, 0.2761469677948562, 0.06929436517797566, 0.0059316177664135855, 0.020232848737131087, 0.11496279518464296, 0.0128685944762871, 0.002915540936033796, 0.04782995173510616, 0.06833927418168873, 0.1645269910972175, 0.018976150057806174, 0.0027144691473418104, 0.014276096997131001, 0.06379002496253254, 0.003443354381350259, 0.0700829537012237, 0.05238200196640033, 0.02242654518439158, 0.24829389311290678, 0.10043888450438229, 0.0013616116719094888, 0.26535408641389036, 0.11541661289538667, 0.0023227493226691278, 0.01081279857104594, 0.008329859639916873, 0.0801748990341999, 0.00016018960845993986, 0.00048056882537981957, 0.0003203792169198797, 0.01994360625326251, 0.0016018960845993987, 0.999769832673122, 0.06334103192684257, 0.027176726536179075, 0.013267378309000807, 0.00813161896358114, 0.14230333186266994, 0.011127478581742612, 0.5615096884325503, 0.019259097545323754, 0.0034238395636131116, 0.0029958596181614726, 0.010057528718113516, 0.0034238395636131116, 0.13352974298091136, 0.00021398997272581948, 0.00039775170604190556, 0.001988758530209528, 0.00019887585302095278, 0.9959702719289315, 0.000994379265104764, 0.0007688152942324826, 0.9917717295599026, 0.006919337648092343, 0.10099649096222278, 0.0010412009377548741, 0.7454998714324899, 0.1520153369122116, 0.11866358870763613, 0.2327349332702399, 0.0014695181264103546, 0.004041174847628475, 0.13280770067433578, 0.1362978062245604, 0.048861477703144286, 0.03967698941307957, 0.003490105550224592, 0.18626142252251243, 0.06594462592266466, 0.0031227260186220034, 0.016348389156315195, 0.00018368976580129432, 0.010286626884872483, 0.006936083025675543, 0.06379583341057389, 0.03148121404289171, 0.19063474703513675, 0.17824120333422036, 0.0009140574529960018, 0.1240160891373693, 0.012796804341944025, 0.005323040461564952, 0.05078395672674846, 0.22714327706950646, 0.029921939564251473, 0.0002957244700869418, 0.02986817147878112, 0.04742345138485139, 0.00040326064102764786, 0.9989864387214201, 0.1322136106700745, 0.047984558342118816, 0.0031122989400881665, 0.038608265332739276, 0.12126147009609337, 3.939618911504008e-05, 0.20616025763900472, 0.027734917136988217, 0.00520029696318529, 0.00011818856734512024, 0.02544993816831589, 0.30587201228917116, 0.0012606780516812826, 0.07177985656760302, 0.013118930975308347, 0.00011818856734512024, 0.0022613578699096385, 0.0011306789349548193, 0.01413348668693524, 0.8468785222811596, 0.03165901017873494, 0.06840607556476656, 0.0033920368048644574, 0.0022613578699096385, 0.029962991776302707, 0.5522095044829538, 0.12380727563239567, 0.0024212635390950914, 0.025665393514407966, 0.012267735264748463, 0.0017755932620030668, 0.11476789175310732, 0.00048425270781901825, 0.008716548740742328, 0.017433097481484656, 0.132523824373138, 0.00032283513854601217, 0.007748043325104292, 0.09584684355427364, 0.31440013799459166, 0.013537934130183957, 0.2191155728546707, 0.0422573854478905, 0.009342472115398515, 0.12491231235773569, 0.029930512517850793, 4.325218571943756e-05, 0.017733396144969403, 0.015484282487558648, 0.07469652473746867, 8.650437143887512e-05, 0.002465374586007941, 0.04000827179047975, 0.00017300874287775025, 0.9989864510354368, 0.3295698307388171, 0.012282105493372067, 0.022517193404515457, 0.08886726329805804, 0.17777902697833844, 0.009523081795585588, 0.018467658622280465, 0.000712006115557801, 0.0015575133777826896, 4.450038222236256e-05, 0.06327954352019957, 0.2550761908985822, 0.009968085617809213, 0.001958016817783953, 0.0083215714755818, 0.0001335011466670877, 0.9993057350447967, 0.9987852328361408, 0.5276915443824667, 0.08482418879214254, 0.06408347805299797, 0.007844243164163652, 0.038157589629067255, 0.1663245457350632, 0.020075944369300193, 0.01369418721879417, 0.003988598219066264, 0.023266822944553203, 0.02565998187599296, 0.001196579465719879, 0.006913570246381523, 0.0034567851231907614, 0.012630561027043167, 0.00495259936175528, 0.007033523463333128, 0.047153740141754046, 0.06862887687003744, 0.308684281228058, 0.0015815023171991648, 0.016522537366528117, 0.10150747767496744, 0.001456646871104494, 0.0606381283199785, 0.001248554460946709, 0.17363230703565566, 0.09805314366634822, 0.0075745637297433685, 0.0007491326765680255, 0.07578725577946524, 0.024180338060334598, 0.0005826587484417976, 0.9985462703169999, 0.00898817015365185, 0.009886987169017035, 0.0179763403073037, 0.34784218494632657, 0.029660961507051106, 0.14470953947379478, 0.4413191545443058, 0.9972857317091643, 0.0599391784636489, 0.050806320285448875, 0.013584167206230287, 0.012816700132431967, 0.03388367130819589, 0.0007674670737983214, 0.3636258995656447, 0.0018035476234260553, 0.0003837335368991607, 0.00042210689058907677, 0.037836126738257245, 0.29121538115277307, 0.02421358617833704, 0.10851984423508264, 0.00023024012213949642, 0.0014901561512379675, 0.07599796371313634, 0.9089952522551602, 0.01192124920990374, 0.003884765285900324, 0.9959125551126286, 0.008104278273921628, 0.9917610537711592, 0.056855556353474765, 0.3600851902386735, 8.423045385699966e-05, 8.423045385699966e-05, 0.0010949959001409955, 0.5731040080430256, 0.008254584477985966, 0.000252691361570999, 0.0001684609077139993, 0.9982298230387991, 0.9989864058022944, 0.12256700811291271, 0.10479011380645972, 0.08888447153226495, 0.1394082764032366, 0.11133949591936346, 0.43132359343551724, 0.99647648254937, 0.9970402128485374, 0.9969024825036938, 0.09322985246974422, 0.05134086345684071, 0.003974083573019051, 0.08109278642241577, 0.13318550352820602, 0.00032222299240695007, 0.004081491237154701, 0.0004296306565426001, 0.00021481532827130004, 0.009988912764615452, 0.565608759338333, 0.05649643133535191, 0.9972857993991434, 0.9984438069417394, 0.9965482305054728, 0.0006559374409357212, 0.9884977234901319, 0.010494999054971539, 0.11413053507292727, 0.03781281784940975, 0.00012583300449054826, 0.6923961072092417, 0.024789101884638006, 0.0033974911212448027, 0.02346785533748725, 0.00012583300449054826, 0.0006291650224527413, 0.0160437080725449, 0.034729909239391316, 0.00012583300449054826, 0.0002516660089810965, 0.00031458251122637063, 0.05146569883663424, 0.9998182909551655, 0.9952646858393402, 0.0012157389849301637, 0.00024314779698603273, 0.07294433909580982, 0.007537581706567015, 0.00048629559397206547, 0.0012157389849301637, 0.9159377512463853, 0.09423527344339776, 0.024338911684056375, 0.0012481493171310962, 0.8724563726746362, 0.0018722239756966443, 0.005616671927089933, 0.034549564175281086, 0.02633036122144853, 0.04082754834102254, 0.09462409028758993, 0.20514965362656445, 0.010304980587845345, 0.15608225106800624, 0.01478630481141737, 0.015343888931400986, 0.035499522305623546, 0.07298156592674439, 0.2427143023024977, 0.010036514159705086, 0.0027466180725118855, 0.024223932323732645, 0.01379504415366872, 2.0651263703096885e-05, 0.019677279724115114, 0.007110277547369327, 0.004877981108078956, 0.5956097610610306, 0.08615010702742835, 0.04133882294982167, 0.01140951513415078, 0.027200945500982655, 0.01016935044565613, 0.0005787435212975034, 0.07655950010306972, 0.08094141533575082, 0.021248154996208336, 0.016700884471727954, 0.00016535529179928667, 8.267764589964334e-05, 0.9990306981806266, 0.06882037440898747, 0.08668062886032651, 0.0022503350903601035, 0.3333914164249956, 0.05389410115140906, 0.00039879356031698036, 0.1363873976284073, 0.021819704800200495, 0.006580093745230176, 0.0010254691551008065, 0.0258076404033703, 0.23842157856093754, 0.0008260723749423164, 0.004329758654870073, 0.001196380680950941, 0.014698391223111562, 0.0034752010256194, 0.002808178420081903, 0.009746030987343075, 0.9708037985189026, 0.0003303739317743415, 0.00016518696588717076, 0.0003303739317743415, 0.015857948725168394, 0.9970236775445483, 0.9993739617641709, 0.0028635872064165396, 0.7874864817645484, 0.015954271578606436, 0.003272671093047474, 0.01063618105240429, 0.004090838866309342, 0.001636335546523737, 0.17426973570477797, 0.0004090838866309342, 0.016919102579500717, 0.9643888470315409, 0.005075730773850215, 0.011843371805650503, 0.004029558253563066, 0.030624642727079307, 0.00483546990427568, 0.025789172822803626, 0.0008059116507126133, 0.018535967966390107, 0.6181342360965744, 0.2973813991129543, 0.9979964204928506, 0.9873754736013337, 0.012122730200863116, 0.9989864282216594, 0.9922938456968279, 0.9876818839562324, 0.9506593784193641, 0.04900306074326619, 0.9949663935149707, 0.00683038721625238, 0.9904061463565952, 0.988041883908947, 0.9996965005587968, 0.9992549271641002, 0.9985517414406514, 0.9996129016146321, 0.017220312404060457, 0.019516354057935184, 0.007749140581827205, 0.05754454395023536, 0.17306413966080758, 0.00014350260336717049, 0.027839505053231073, 0.6517888244936882, 0.00889716140876457, 0.03616265604852696, 0.997096707125215, 0.01502926993099892, 0.983734031847202, 0.9961197709930724, 0.9983089824995974, 9.484742434267257e-05, 0.004568484272505395, 4.7423712171336284e-05, 0.8805160638852009, 0.002292146088281254, 0.00025292646491379355, 0.0024344172247952626, 7.903952028556048e-05, 0.0006481240663415959, 0.022605302801670297, 3.1615808114224194e-05, 0.001628214117882546, 0.08479359736234929, 0.9949663246498672, 0.14449051909752084, 0.8521235741648665, 0.15833254751912482, 0.8380039710158557, 0.00939457321282637, 0.0006710409437733121, 0.0006710409437733121, 0.01274977793169293, 0.004026245662639873, 0.014762900763012867, 0.006039368493959809, 0.9515360582705565, 0.003498054969291816, 0.7870623680906585, 0.007384782712949389, 0.032259840272357856, 0.012048856005338476, 0.09639084804270781, 0.022543020913213925, 0.01710160207209332, 0.020988329815750894, 0.00038867277436575734, 0.8770583741077989, 0.07682263130871231, 0.04481320159674884, 0.12347053305314415, 0.07614816921760058, 0.07734924444185295, 0.15974300482556586, 0.25775074312455964, 0.00024021504485047498, 0.010329246928570424, 0.0038434407176075997, 0.0019217203588037998, 0.00024021504485047498, 0.008407526569766625, 0.004564085852159025, 0.02161935403654275, 0.013211827466776125, 0.24093568998502643, 0.9993510784389141, 0.003617890878887141, 0.037544296178131584, 0.0190691391313625, 0.2562454141042069, 0.19688577591009912, 0.0005322696602200697, 0.12972723008581033, 0.002337358073140306, 0.012666475102628326, 0.01992539901954261, 0.06875535480494901, 0.18863945320321138, 0.006541516983574191, 0.0006248382967800819, 0.02380556770201645, 0.032800153554430965, 0.0002931340157733717, 0.9938228403913513, 0.726208547721207, 0.015898963697695452, 0.01917227975310334, 0.01309326422163155, 0.16787435198449022, 0.0004676165793439839, 0.017769430015071388, 0.03460362687145481, 0.005143782372783823, 0.03168123140824548, 0.028231699048608443, 0.014796678279495743, 0.25617316628673, 0.13557569945047174, 0.005378547166013023, 0.1386621231406733, 0.0032225894412398703, 0.012232223301607677, 0.0902778929383958, 0.02770973033629494, 0.17955723703584403, 0.0065359560498386106, 0.005991293045685393, 0.010325902787071415, 0.026824652954545964, 0.026824652954545964, 0.9955206537816299, 0.004236258068501838, 0.03570942590796076, 0.012432302626298025, 0.3347357349159568, 0.08445760822886822, 0.0017747691697512964, 0.11754501335337732, 0.00756283545703065, 0.006528296644512306, 0.004619750904176741, 0.04560889213119663, 0.25131266549960696, 0.019986219645289724, 4.459219019475619e-05, 0.006635317900979721, 0.04324550605087455, 0.023562513298909172, 0.998034847720192, 0.3945907000302937, 0.0073755271033699756, 0.5605400598561181, 0.03687763551684988, 0.10653626591541739, 0.03322049002126484, 0.014926150724832188, 0.27166978506278805, 0.1900027470938453, 0.00791293616478739, 0.014187917613248526, 0.002791443953175726, 0.009527821096376652, 0.0014995360079043158, 0.031397977027042674, 0.293609150347665, 0.005352190058981558, 0.00018455827789591578, 0.003598886418970358, 0.013195916869557978, 0.00036911655579183157, 0.9792417645376359, 0.01813410675069696, 0.9958113899332072, 0.9976006219516627, 0.6176899509015644, 0.1448213674395818, 0.08324546750601146, 0.06586690341326165, 0.006436505219536969, 0.0010727508699228281, 0.011156609047197412, 0.005578304523598706, 0.006007404871567837, 0.04076453305706747, 0.011800259569151109, 0.004076453305706747, 0.0012873010439073938, 0.9923613610623678, 0.9986479653382456, 0.9974682989580969, 0.0010134475431921826, 0.01580978167379805, 0.0014188265604690557, 0.9609509604548276, 0.02047164037248209, 0.0017106880382677324, 0.9939097502335525, 0.0017106880382677324, 0.0017106880382677324, 0.0003692159420231725, 0.01033804637664883, 0.6838802286124213, 0.05002876014413988, 0.007107406883946071, 0.03452169057916663, 0.004245983333266484, 0.027875803622749527, 0.16697790977997978, 0.01449172572440952, 0.998371994911804, 0.998732707809162, 0.9989864208337987, 0.9972857244697162, 0.9961254994480393, 0.014861232864817801, 0.9848751322841396, 0.16658371468932878, 0.0484833199468942, 0.018977249251845556, 0.1806644277037329, 0.18535799870853428, 0.003019107835520884, 0.13068423916611827, 0.0027654012947208096, 0.0033742969926409882, 0.0024609534457607205, 0.055713956359696316, 0.15260448429124468, 0.002740030640640802, 0.001370015320320401, 0.03204313610304938, 0.013141998813443849, 5.074130816001486e-05, 0.00425112281649738, 0.9947627390603869, 0.04340254537181305, 0.3898397045200592, 0.00039160191312914033, 0.11891644762021561, 0.170216298240133, 0.0020885435366887486, 0.04085713293647364, 0.0354399731381872, 0.017622086090811315, 0.005090824870678824, 0.01272706217669706, 0.059066621896978665, 0.04033499705230145, 0.008680509074362611, 0.00039160191312914033, 0.04033499705230145, 0.01461980475682124, 0.9964768045590818, 0.9927276564397617, 0.9993116235735885, 0.00019681746814518392, 9.840873407259196e-05, 0.9996359207093891, 0.052317756857166095, 0.1020978077227303, 0.010971092569753595, 0.13467785131188176, 0.09520242477585246, 0.01702057351943081, 0.15428739761062357, 0.004614010893821605, 0.005562446466440491, 0.002101938296074287, 0.1212972197197991, 0.21457713995655922, 0.00097406896647345, 0.0031016406564023016, 0.01466230128481088, 0.032195542681332984, 0.0343487477651164, 0.997750354787712, 0.10805222859601771, 0.029769491551964063, 0.27784858781833127, 0.24091236681867215, 0.18468110499829557, 0.04630809796972187, 0.0005512868805919271, 0.09096233529766796, 0.0005512868805919271, 0.014333458895390104, 0.004410295044735417, 0.000712970415840844, 0.9981585821771817, 0.9886377833375539, 0.11415549889987575, 0.011339950221841961, 0.003347985303591436, 0.0001079995259223044, 0.003347985303591436, 0.48254188182085606, 0.2502349015619793, 0.0001079995259223044, 0.0008639962073784352, 0.0006479971555338264, 0.09849556764114162, 0.0001079995259223044, 0.034559848295137405, 0.026158529197386506, 0.027290388633811884, 0.002892529670864854, 0.0027667675112620343, 0.12645385148063526, 0.04414251802058973, 0.23687302761191098, 0.0006916918778155086, 0.2465567139013281, 0.2501409354500085, 0.00012576215960281975, 0.018424156381813092, 0.01433688619472145, 0.0030811729102690837, 0.9946875104345427, 0.9994365601693634, 0.9973054188923092, 0.11260051908303305, 0.8864296183132389, 0.9990177100640882, 0.9990177301472978, 0.998263555202433, 0.999050270544505, 0.9767193910236781, 0.0200907469672592, 0.0015454420744045539, 0.991291506842353, 0.973363857919793, 0.023314104381312407, 0.9972857605901733, 0.011165442519223105, 0.7863661659967129, 0.003190126434063744, 0.19778783891195215, 0.9975669249584359, 0.0021690952923645052, 0.9968898085460095, 0.999466681587243, 0.9921396672533128, 0.0023401421012536772, 0.9266962720964562, 0.014040852607522065, 0.0514831262275809, 0.0644648443359072, 0.08370512095308566, 0.2586527908123784, 0.00674401448437183, 0.2806700145701806, 0.021025456921865117, 0.00614895438280961, 0.004760480812497763, 0.0025785937734362882, 0.27114905294518504, 0.9999100386472232, 0.9996689507678124, 0.9985105593705151, 0.800911445681979, 0.024647787681051355, 0.0033996948525588074, 0.001416539521899503, 0.008215929227017117, 0.04816234374458311, 0.08130936855703148, 0.030597253673029266, 0.0008499237131397018, 0.011497821019703052, 0.007281953312478599, 0.009773147866747593, 0.16518536198306716, 0.7657548799122232, 0.013797385223643661, 0.02107933853612226, 0.00019163035032838417, 0.005174019458866373, 0.2676129992940335, 0.06743792642962043, 0.014362689015560709, 0.1058561574302596, 0.0988906456809098, 0.007142102188065708, 0.040046787268797006, 0.14384272291403766, 0.0240947843047931, 0.009908685727948303, 0.0032963548560303265, 0.01750207459273245, 0.14452946350904397, 0.0008240887140075816, 0.006592709712060653, 0.01151762083624882, 0.03474907410731969, 0.0018051467068737504, 0.9986667617062536, 0.142770509186805, 0.2166765469265015, 0.0028808950243359955, 0.028421137451622416, 0.07928001499663095, 0.0001662054821732305, 0.02227153461121289, 0.1526320344624167, 0.07545728890664666, 0.01628813725297659, 0.15495891121284192, 0.006869826596493528, 0.0029362968517270722, 0.002437680405207381, 0.008365675936052603, 0.0069806302512756815, 0.0798894350979328, 0.0007202237560839989, 0.9972239258497881, 0.9982951664192198, 0.9977701152324342, 0.0027119619318995147, 0.9961940163177551, 0.12807795983140036, 0.0012063205050700263, 0.20594802829661032, 0.0056156299373949494, 0.3331940429521003, 0.05212136527078423, 0.10424273054156846, 0.013810289920112023, 0.0042845176559383686, 0.0018302793870027983, 0.07499985760831922, 0.008777021605854328, 0.009692161299355727, 0.04326114914733887, 0.012895150226610624, 0.04958819786692343, 0.0042853998156600496, 0.9458489593135395, 0.997343211132327, 0.0022897351518288912, 0.9998976187847856, 0.7132699361130298, 0.09390645321209004, 0.005238853735681453, 0.0001309713433920363, 0.04020820242135515, 0.011656449561891232, 0.016371417924004542, 0.0010477707471362905, 0.0018335988074885084, 0.03824363227047461, 0.007989251946914216, 0.04557802750042864, 0.008382165977090324, 0.015847532550436395, 0.0001309713433920363, 0.0004163984881620527, 0.05080061555577043, 0.01207555615669953, 0.1603134179423903, 0.0037475863934584744, 0.3268728132072114, 0.02581670626604727, 0.4197296760673492, 0.003539046201344104, 0.8042482492554477, 0.014156184805376415, 0.16766231378867694, 0.002211903875840065, 0.003096665426176091, 0.00442380775168013, 0.000442380775168013, 0.09252281151525785, 0.048238388909664344, 0.008359814471464078, 0.563835594960503, 0.00011297046583059567, 0.03592460813412942, 0.1117277907064591, 0.043380658878948736, 0.006665257484005144, 0.010619223788075992, 0.07840150328643339, 0.00022594093166119133, 0.3143500381809242, 0.02034510504262555, 0.02520431539878835, 0.04087186280884597, 0.23333292345761178, 0.0033151622056063956, 0.03882826966840367, 0.1279289305916879, 0.005313342165149977, 0.011171642501084565, 0.007220695762896121, 0.029473154403267816, 0.07892810840197144, 0.009718420712325598, 0.014350565163994808, 0.029473154403267816, 0.009990899797717905, 9.082636179743549e-05, 0.8984878365693283, 0.000864762114118699, 0.04496762993417235, 0.003459048456474796, 0.04064381936357885, 0.010377145369424388, 0.9895849239848442, 0.7371043649882415, 0.04645991149016795, 0.06477583813533032, 0.017422466808812983, 0.08219830494414329, 0.010721518036192604, 0.016529006972463598, 0.02412341558143336, 0.9991944953441864, 0.8401838968943728, 0.0024857511742437063, 0.06711528170458007, 0.013050193664779459, 0.004971502348487413, 0.01615738263258409, 0.055929401420483395, 0.9993810358602262, 0.20422536356883322, 0.023021768256850293, 0.07129321782766541, 0.005198463799933936, 0.2896286974248908, 0.013367478342687266, 0.007426376857048481, 0.05272727568504421, 0.005198463799933936, 0.19828426208319444, 0.1314468703697581, 0.0002917378338623259, 0.002917378338623259, 0.020129910536500487, 0.006709970178833497, 0.3658392436633567, 0.05047064525818239, 0.0021880337539674443, 0.2571669005496403, 0.027715094216920963, 0.22784724824647654, 0.030340734721681896, 0.008314528265076289, 0.001033673485502788, 0.9987870053670689, 0.9580748446267736, 0.016734931783873773, 0.006275599418952666, 0.014643065310889552, 0.0020918664729842216, 0.8481504418588995, 0.01188301844986199, 0.0289648574715386, 0.09580683625201229, 0.004456131918698246, 0.002228065959349123, 0.008169575184280119, 0.037265602949113484, 0.011155944831900216, 0.04046997008168057, 0.2457868270943122, 0.016733917247850325, 0.017683359361203535, 0.1915499463690101, 0.17968191995209495, 0.004153809245920293, 0.20413005437094012, 0.008070257963502284, 0.0011868026416915122, 0.04082601087418802, 0.0009494421133532098, 0.9897574512206151, 0.020404550998646187, 0.0022505019483800943, 0.0018004015587040753, 0.11477559936738481, 0.8488893349289716, 0.0010502342425773772, 0.007201606234816301, 0.0010502342425773772, 0.0025505688748307734, 0.6596885736766924, 0.13296214215482996, 0.012165075606461169, 0.0988145615051144, 0.04012340726341578, 0.012165075606461169, 0.025397263108225945, 0.011738230848339724, 0.0014939566534250557, 0.0038416028230930004, 0.000853689516242889, 0.0006402671371821667, 0.05900770753768482, 0.9402749918504993, 0.9972857211838904, 0.997285755949082, 0.03239092296694385, 0.897335349446873, 0.03381469980065566, 0.0017797210421397719, 0.034526588217511575, 0.9978454238452994, 0.9987797881562476, 0.9944426571689589, 0.0011979683888862567, 0.0019167494222180107, 0.03420199750270263, 0.013477144374970388, 0.03659793428047514, 0.0004791873555545027, 0.0040131941027689595, 0.3449549975797976, 0.32339156657984497, 0.23965357619669564, 0.9952263372944486, 0.037358642680119895, 0.0031719602275573494, 0.03195456229242959, 0.027960242005875897, 0.7982766572685996, 0.00011748000842804999, 0.009280920665815949, 0.004464240320265899, 0.08517300611033624, 0.0007048800505682999, 0.0011748000842804998, 0.00011748000842804999, 0.00949609266815506, 0.016139099198344248, 0.07524482396695063, 0.16283882674002217, 0.12229945355579072, 0.00017033350077408179, 0.016905599951827617, 0.05527322100118954, 0.006132006027866945, 0.041178123812134274, 0.19124193799410033, 0.2136407933458921, 0.01239176218131445, 0.0029808362635464314, 0.0626827282848621, 0.011284594426282919, 4.2583375193520446e-05, 0.9966982728500826, 0.021994103601731763, 0.0263992399297168, 0.030551751952154312, 0.1745791841524394, 0.1156387758643815, 0.002226251692637601, 0.006457708810558715, 0.1432064032072556, 0.01758896727374672, 0.020178366405608897, 0.0001263121527737646, 0.06516128181216581, 0.29279157012958634, 0.019278392317095824, 0.0004578815538048967, 0.02497822821101195, 0.038004168965806426, 0.00033156940103113206, 0.9923908207973118, 0.9921416840754459, 0.18218913005896215, 0.004043917606448926, 0.8134659522025156, 0.06911539169647053, 0.0030050170302813274, 0.9270477538417895, 0.998695364249492, 0.999490515501741, 0.9985448860965275, 0.9995827652168532, 0.07987363936357769, 0.0025946660723901445, 7.01261100645985e-05, 0.15890576540638018, 0.11549770327639372, 0.5494380723561292, 0.00021037833019379548, 0.019705436928152176, 0.0030154227327777354, 0.0008415133207751819, 0.035483811692686835, 0.03429166782158866, 0.01402552243527, 0.0015583913816966666, 0.9475019600715733, 0.0081815547539075, 0.028440642715964165, 0.6494323751181618, 0.140065708176924, 0.07843679657907743, 6.750154610936096e-05, 0.009112708724763729, 0.00040500927665616576, 0.11914022888302209, 0.003240074213249326, 0.15680414885415594, 0.0632658821841063, 0.0064888084291391075, 0.38859589834505653, 0.04856140501807332, 0.006828947580666561, 0.1315815225408894, 0.013029945958513207, 0.00931457984182872, 0.014050363413095568, 0.07001633611442037, 0.0064888084291391075, 0.00486660632185433, 0.021350272895877064, 0.05871325046366192, 0.0008190725156661433, 0.006903611203471779, 0.9337426678594033, 0.011584025578706882, 0.021880937204224113, 0.01123299450056425, 0.0003510310781426328, 0.013339180969420047, 0.09408397813882698, 0.007609733525934534, 0.016603054965675348, 0.011068703310450232, 0.29470422564073745, 0.21238074476926383, 0.05326813468154174, 0.2276002118211329, 0.08370706878527988, 0.025288101170569344, 0.9714845533027057, 0.054391477040628855, 0.11482645153021648, 0.05741322576510824, 0.7705459247422421, 0.0007267952075371838, 0.9986166151560905, 0.025884330637560675, 0.8495812522594915, 0.1236695797127899, 0.02466672739465881, 0.005537428598800957, 0.15127248126724432, 0.7097976658463044, 0.06921785748501197, 0.01912929879585785, 0.004530623399018965, 0.00780274029831044, 0.00780274029831044, 0.06995875234692263, 0.008430547322990676, 0.021692636386642677, 0.03697608474995911, 0.06369746866259622, 0.0028101824409968923, 0.2533601327067198, 0.001528344836331643, 0.008529150215657234, 9.860289266655762e-05, 0.03599005582329353, 0.481330020551801, 0.006852901040325755, 0.008134738644991004, 0.0005916173559993457, 0.2414871308958823, 0.02157037875413324, 0.0008425929200833297, 0.12301856633216614, 0.03673705131563317, 0.4674705520622313, 0.029153715034883208, 0.00455000176844998, 0.00016851858401666593, 0.00033703716803333187, 0.014661116809449938, 0.03943334865989983, 0.0015166672561499935, 0.0008425929200833297, 0.01820000707379992, 0.9952732794676292, 0.9943907876462464, 0.08516000287130443, 0.061382132369492436, 0.0317478604292712, 0.15829897121113723, 0.026111624458471316, 0.00013209928056562216, 0.2004386417115707, 0.0003962978416968665, 0.006648997121802983, 0.0268161539548213, 0.36534257695098904, 0.002862151078921814, 4.403309352187406e-05, 0.019154395682015213, 0.015455615826177794, 0.999573465779162, 0.040849875954091515, 0.021479746980555166, 0.8933273342448746, 0.02953465209826335, 0.0003835669103670565, 0.001534267641468226, 0.006137070565872904, 0.006904204386607017, 0.9989541010735229, 0.1820362200068943, 0.14019322553040447, 0.006525971615599331, 0.007600837528756868, 0.1224579379633051, 0.01074865913157537, 0.06134413318663372, 0.030403350115027473, 0.01458746596428086, 0.06541326842930154, 0.0003071045466164391, 0.15739108014092507, 0.19409007346158955, 0.00015355227330821956, 7.677613665410978e-05, 0.004299463652630148, 0.0019194034163527447, 0.0004606568199246587, 0.9974347177981625, 0.9977156931334682, 0.9978948558756212, 0.06071372600855934, 0.0518014092473029, 0.025362299883575547, 0.2692940133979647, 0.1514406524213499, 0.0037573777605297105, 0.06344011596894371, 0.01610632052227065, 0.009714196161369495, 0.00011455420001614971, 0.05963691652840754, 0.228169055592167, 0.006231748480878544, 2.291084000322994e-05, 0.014594205082057473, 0.007698042241085261, 0.03189188928449608, 0.0018112610427894066, 0.02233888619440268, 0.053676577252187656, 0.2529152919590224, 0.1946386866616553, 0.0010350063101653751, 0.05626409302760109, 0.0012650077124243474, 0.021677632162908137, 0.12215949477479665, 0.24003521343251993, 0.0033637705080374696, 0.021821383039319995, 0.006842541717204425, 0.00020125122697660074, 0.9965832916103413, 0.003991223212725676, 0.014869262949370165, 0.0021130005243841813, 0.10455439631767653, 0.01831267121132957, 0.0015651855736179123, 0.03294715632465705, 0.008530261376217622, 0.005869445901067171, 0.7985576796598588, 0.0009391113441707473, 0.0021130005243841813, 0.00023477783604268683, 0.004930334556896424, 0.00046955567208537365, 0.9979061878716038, 0.029065004327155867, 0.3838957634735494, 0.026904037462683314, 0.12501193310973732, 0.11885317754599053, 0.0007563384025653944, 0.04829760942096161, 0.07368897007851413, 0.027336230835577825, 0.007563384025653944, 0.01501871970808426, 0.03760082344182246, 0.012209462784269938, 0.09335376854521439, 0.0005402417161181389, 0.9231051476699157, 0.07549558828527192, 0.9965057769735695, 0.9967164946155467, 0.9997815579735102, 0.9990344811052659, 0.06506369266359928, 0.05583203783978816, 0.024210725307600444, 0.24723361099983115, 0.0902533733858114, 0.006010575717669502, 0.008526385869198417, 0.12254837566568887, 0.017494880635318236, 0.02031595645376907, 0.0008947441961504512, 0.060768920522077115, 0.22339130977299854, 0.013579058976871554, 0.0014631699207636791, 0.007305323201510743, 0.02880023671373688, 0.006294788579976116, 5.78906721854928e-05, 0.03814995297023975, 0.0006946880662259136, 0.1615149753975249, 0.022172127447043742, 0.0029524242814601325, 0.5209002683250642, 0.0030682056258311183, 0.004804925791395902, 0.009378288894049833, 0.22403690135785712, 0.0006367973940404208, 0.0003473440331129568, 0.011346571748356588, 0.9907941888270119, 0.0068195889607198515, 0.9927373072819327, 0.6450972552716977, 0.023250700121999302, 0.007238425509679029, 0.035095396410564986, 0.07370033246218648, 0.023908738804697398, 0.027198932218187866, 0.00943188778533934, 0.0006580386826980935, 0.13599466109093933, 0.0041675783237545925, 0.014038158564225994, 0.04400626473630324, 0.95346906928657, 0.021949344779138784, 0.007395974871231547, 0.00023857983455585633, 0.012406151396904529, 0.09495477415323082, 0.15316825378485976, 0.036502714687046016, 0.0019086386764468506, 0.6713636544401798, 0.9994602458436984, 0.996815735537395, 0.4610773166555434, 0.23269389664183623, 0.0017960319283871276, 0.06968603882142055, 0.07248784862970446, 0.012715906052980864, 0.0001436825542709702, 0.005819143447974294, 0.0005028889399483958, 0.013434318824335715, 0.020187398875071313, 0.04547552842676207, 0.05819143447974293, 0.0002155238314064553, 0.005603619616567838, 0.0761798056480818, 0.9176203862155308, 0.9965169318915396, 0.00014489257727244847, 0.034194648236297844, 0.00014489257727244847, 0.01608307607724178, 0.04100459936810292, 0.03129679669084887, 0.00014489257727244847, 0.0010142480409071394, 0.056508105136254906, 0.819657309630241, 0.004632010121592239, 0.0005146677912880265, 0.022645382816673165, 0.03190940305985764, 0.003088006747728159, 0.9366953801442082, 0.032782426713211174, 0.01307714289652686, 0.005195029369853136, 0.6864604325957662, 0.07004332702112333, 0.0027766536287146073, 0.024900313186537446, 0.0015226810221983331, 0.016122504940923526, 0.07075988279627547, 0.06780409022377283, 0.00044784735947009797, 0.007971682998567743, 0.9993077480238131, 0.9976559468693881, 0.9980080027579855, 0.9953230594583062, 0.998815057093317, 0.9989681799482159, 0.9969475968842312, 0.08958283835339863, 0.6116475307742554, 0.1859408493553736, 0.04366222373526992, 0.0481790055009875, 0.014679540738582127, 0.005645977207146972, 0.26461163616328637, 0.0003266810323003535, 0.4740141778678129, 0.12217870608033221, 0.02613448258402828, 0.03430150839153712, 0.04279521523134631, 0.03168806013313429, 0.0035934913553038886, 0.9946844818920122, 0.9945296636297959, 0.8954546448393799, 0.1021659661897279, 0.8631720083072529, 0.1353995307148632, 0.9922172734139779, 0.08458831402686044, 0.004358558165506168, 0.05504697534954086, 0.0030671335238747106, 0.6060010130855613, 0.00016142808020393215, 0.008071404010196608, 0.025667064752425212, 0.19161513120206747, 0.01275281833611064, 0.007102835528973015, 0.00016142808020393215, 0.0014528527218353893, 0.949982314001983, 0.0406844674090785, 0.006102670111361775, 0.10309716575916274, 0.009977145073467362, 0.05188115438203028, 0.07649144556324977, 0.0013302860097956482, 0.0013302860097956482, 0.053211440391825925, 0.11240916782773228, 0.005321144039182593, 0.005321144039182593, 0.5800047002709026, 0.9989413573329233, 0.004843115058921056, 0.017876792349840954, 0.01481423429787617, 0.07706250726106739, 7.122228027825082e-05, 0.8849368324572664, 0.0004273336816695049, 0.9989412842156927, 0.006571942540666791, 0.040999274565627686, 0.021343739994459116, 0.048053561512948914, 0.38804607515349965, 0.0003014652541590271, 0.25274846908692833, 0.00018087915249541625, 0.0177864499953826, 0.09333364268763479, 0.09049986929853993, 0.003436703897412909, 6.029305083180542e-05, 0.02857890609427577, 0.006029305083180542, 0.001989670677449579, 0.025338735742597186, 0.012669367871298593, 0.40436399122561345, 0.5574521863371381, 0.9991053156730105, 0.9922695283012334, 0.9969100083920831, 0.9972100207782177, 0.021486400474120888, 0.014975370027417587, 0.9213108082085169, 0.005208824357362639, 0.016928679161428577, 0.005208824357362639, 0.013673163938076929, 0.0006511030446703299, 0.0453151193982936, 0.21923695376147886, 0.01495799958899426, 0.26848205696599614, 0.04110442246305393, 0.00020050937786855576, 0.10278110709542168, 0.01672248211423755, 0.0014035656450798904, 0.0017243806496695796, 0.02574540411832256, 0.18017772695268422, 0.0002406112534422669, 0.0002406112534422669, 0.004290900686387093, 0.07735651798168881, 8.02037511474223e-05, 0.0012379649522765632, 0.0008253099681843755, 0.0008253099681843755, 0.0639615225342891, 0.008665754665935943, 0.001650619936368751, 0.9218712344619475, 0.9969372548889579, 0.006232143647578111, 0.8943126134274588, 0.00015580359118945276, 0.09550760139913454, 0.0035834825973574133, 0.002070538954389177, 0.01449377268072424, 0.008627245643288237, 0.9572791765792629, 0.017254491286576475, 0.0003450898257315295, 0.000623685902217222, 0.00020789530073907399, 0.00020789530073907399, 0.002286848308129814, 0.9858395161046888, 0.010810555638431847, 0.0022531144364991047, 0.996627619078104, 0.9987156406920126, 0.9990123392066911, 0.9949663794466731, 0.994966383981266, 0.000575281746437362, 0.000575281746437362, 0.09549676990860209, 0.006903380957248345, 0.008053944450123068, 0.023011269857494483, 0.009779789689435154, 0.6978167584285201, 0.15647663503096246, 0.9992346311828668, 0.0003559253590540703, 0.9599306933688276, 0.0007118507181081406, 0.03879586413689367, 0.9989114081411122, 0.10190442911591878, 0.02384374806274858, 0.0384984108430882, 0.15243774904812435, 0.2102718038863249, 0.0019282451026762656, 0.11138607572425104, 0.010465716522801524, 0.009508243092507102, 7.978945252453513e-05, 0.14078848897954224, 0.09476327311497289, 0.005518770466280346, 2.659648417484504e-05, 0.0439905848251937, 0.05441640662173296, 0.00015957890504907026, 0.9997310364187029, 0.9914165003393981, 0.20959272411138016, 0.12995158756013586, 0.023285234199125468, 0.07551690915183924, 0.09334586735050956, 0.0006660243005250408, 0.01063077248914969, 0.11191769880745783, 0.0336086108572636, 0.00048671006576829907, 0.0013832812395520079, 0.01557472210458557, 0.2694836785201319, 0.00038424478876444666, 0.0008709548545327457, 0.022926605729611985, 0.00030739583101155733, 0.029382257429942465, 0.7591996193994811, 0.04644292303442519, 0.16397195275419504, 0.9893086757087284, 0.9990301130374851, 0.4277172307904086, 0.5712661644118471, 0.018215867985532326, 0.9813798877205541, 0.02368956413797514, 0.43845769557065856, 0.0019502304617219246, 0.08053304612522301, 0.0029827054120452963, 0.002122309620109153, 0.19852198905939944, 0.0240337224547496, 0.0004588777556992764, 0.0008030360724737336, 0.0012045541087106005, 0.16393407822356648, 0.009980591186459262, 0.001663431864409877, 0.00034415831677445726, 0.04915727957928498, 0.00017207915838722863, 0.0018105700850195939, 0.9976241168457961, 0.9971966986534037, 0.9994685324342032, 0.9186718541650645, 0.026876038286743908, 0.05253043846954491, 0.9989864379199359, 0.9979166731008571, 0.9994691340074613, 0.9969839740122821, 0.9976792138629976, 0.9970284445064213, 0.0012425303404833997, 0.9468081194483505, 0.039512464827372105, 0.012176797336737316, 0.00673860848841429, 0.9924132501119227, 0.9967016617807647, 0.9982949701108993, 0.9962187220079803, 0.05911855362420986, 0.17325413442501694, 0.024750590632145276, 0.0982952027962341, 0.14387164754599877, 0.005374413965837261, 0.042959953740080735, 0.12205576980309357, 0.056431346641291236, 0.005551203898924013, 0.07039775135514464, 0.039848450917753894, 0.05155194448809688, 0.0022629111435104256, 0.00045965382602555516, 0.023442345127303314, 0.07898974210316079, 0.0013436034914593152, 0.013249113080321078, 0.7848151101107839, 0.003896797964800317, 0.19717797701889606, 0.9979522910697665, 0.03734229912001822, 0.001614802124108896, 0.0538940208921344, 0.5163329791838195, 0.000403700531027224, 0.04137930443029046, 0.08679561417085316, 0.00050462566378403, 0.0438015076164538, 0.15431452798515638, 0.000403700531027224, 0.012010090798059914, 0.0100925132756806, 0.03925987664239754, 0.001614802124108896, 0.9976839527121415, 0.8607420209923199, 0.01517954256923652, 0.09866702670003738, 0.01812251510817013, 0.007125091410049795, 0.20508206226873385, 0.09134156694780231, 0.028639425830319473, 0.05545870656895846, 0.23067553100685334, 0.010140808367934132, 0.030831029103975567, 0.00765203854869755, 0.01842432582599022, 0.004234623274521945, 0.08822131821920719, 0.15835262297620223, 0.002860228001212191, 0.0035288527287682878, 0.017049930552680465, 0.03696008910657312, 0.010586558186304863, 0.9949663679164531, 0.24033351025750038, 0.03790887890176163, 0.00036591581951507366, 0.0026345939005085303, 0.0581074321389937, 0.5174781519582172, 0.0005122821473211031, 0.0006586484751271326, 0.0013172969502542652, 0.07267088175569363, 0.03190785946171442, 0.0032200592117326483, 7.318316390301473e-05, 0.032712874264647585, 0.03194117050162474, 0.004302955611617841, 0.01878405622763942, 0.9302659035732264, 0.0003309965855090647, 0.011750378785571796, 0.00016549829275453235, 0.002399725244940719, 0.9995720921912518, 0.9994585040115871, 0.0024222703390327257, 0.9971679562351388, 0.9998414605250996, 0.9993137498221638, 0.012969903468050426, 0.006143638484865992, 0.5549753431328945, 0.014335156464687313, 0.004095758989910661, 0.006826264983184435, 0.40070175451292633, 0.009083299980023185, 0.0011847782582638936, 0.017771673873958404, 0.009083299980023185, 0.009478226066111149, 0.002764482602615752, 0.003949260860879646, 0.9430834935780593, 0.0031594086887037163, 0.999392367310337, 0.9994050673861783, 0.9409078700043846, 0.058958175545339116, 0.9975559180176785, 0.5462521361979594, 0.1329554026958524, 0.004053518374873549, 0.0003242814699898839, 0.0382652134588063, 0.1271183362360345, 0.06372130885301219, 0.0024321110249241294, 0.01491694761953466, 0.014592666149544775, 0.05172289446338648, 0.0011349851449645937, 0.0017835480849443615, 0.0003242814699898839, 0.0003242814699898839, 0.000257556267687379, 0.000515112535374758, 0.5261874548853152, 0.027558520642549548, 0.09993183186270303, 0.000257556267687379, 0.05357170367897482, 0.29181125128980034, 0.4022155529718129, 0.01565194597895544, 0.015717710457858615, 0.2241253441020174, 0.05221699624912025, 0.003945868734190447, 0.05169088041789486, 0.05353228582718373, 0.002564814677223791, 0.00019729343670952235, 0.0026305791561269647, 0.012824073386118953, 0.13679011611860217, 0.010127729751088815, 0.015454652542245918, 0.0003288223945158706, 0.06140326665654592, 0.05037769783886947, 0.015514239126849075, 0.05647880311347304, 0.11635679345136807, 0.00013073797017007648, 0.05251308468498072, 0.17170253415670045, 0.0026147594034015295, 0.017954681236690504, 0.0909500479149832, 0.13858224838028108, 0.002745497373571606, 0.00017431729356010196, 0.15291984577559944, 0.06950902080709066, 4.357932339002549e-05, 0.9973833755615521, 0.993893939961017, 0.03963077348580084, 0.09304616383622805, 0.8667077853633836, 0.9972857398308811, 0.08149369759420819, 0.14627453161646442, 0.0001479014475393978, 0.047476364660146694, 0.042151912548728375, 0.021741512788291475, 0.03017189529803715, 0.002366423160630365, 0.5621734020972511, 0.06552034125995322, 0.0005916057901575912, 0.9999038086902059, 0.0016587319869380028, 0.991368817526613, 0.004423285298501341, 0.0005529106623126676, 0.0011058213246253352, 0.9987560477557007, 0.9958209562273896, 0.05873183384414956, 0.16470106756295025, 0.004881197987047283, 0.0003149159991643408, 0.0029129729922701525, 0.18863468349944015, 0.0936875097513914, 0.12911555965737972, 0.0003149159991643408, 0.3567998270531981, 0.9982632951745715, 0.0053523293087232755, 0.05073077344789887, 0.00023270996994449023, 0.0003490649549167353, 0.0003490649549167353, 0.07853961485626546, 0.00029088746243061277, 0.006341346680987359, 0.10634845626463203, 0.36750722003483616, 0.3838550954234366, 0.9986919850943543, 0.9988929948989046, 0.11885440123723286, 0.1455891569815273, 0.01853170638938215, 0.13130866595126028, 0.051673223308681085, 0.007274967128626595, 0.08394653427435791, 0.16115698787406157, 0.024010385338100945, 0.0037123289051427893, 0.003742267041474586, 0.025926426063335933, 0.18106584853470636, 0.00407158654112435, 0.006945647628976832, 0.004670349267760283, 0.026764693880626238, 0.0007185152719631205, 0.19662655474616514, 0.017173382373066034, 0.01396421495991733, 0.03391309347408494, 0.01682644535542834, 0.0006071397808659709, 0.48571182469277674, 0.07970877980226104, 0.00017346850881884884, 0.055423188567622204, 0.057678279182267235, 8.673425440942442e-05, 0.009280565221808413, 0.032612079657943584, 0.9991106691498476, 0.5275586868170232, 0.049439434562014405, 0.015763297976294447, 0.006243903743856891, 0.046982816695578904, 0.010952421321191596, 0.08024951697022628, 0.06847822302688951, 0.00020471815553629153, 0.00040943631107258306, 0.004708517577334705, 0.040738912951722016, 0.10809118612316192, 0.03551859998554658, 0.004708517577334705, 0.6574600175235492, 0.04004019595149508, 0.032032156761196064, 0.018151555498011104, 0.06246270568433233, 0.020820901894777442, 0.002135477117413071, 0.037103914915052105, 0.07340702591107431, 0.05525547041306321, 0.0008008039190299017, 0.0049031394945808285, 0.02462228746191677, 0.011511718813363684, 0.07877000188033113, 0.1711835223542785, 0.2572016434874682, 0.00021317997802525342, 0.00031976996703788013, 0.013323748626578338, 0.25730823347648085, 0.00021317997802525342, 0.0021317997802525342, 0.17235601223341737, 0.005116319472606082, 0.0005329499450631336, 0.036294421160911, 0.9630119748028386, 0.9977247501710443, 0.5192934700497868, 0.0020694479412185977, 0.0664982605111576, 0.021246332196510936, 0.005656491039330834, 0.07974272733495663, 0.14430950310097687, 0.0013796319608123985, 0.003449079902030996, 0.14872432537557656, 0.007587975784468192, 0.9881363773947779, 0.9995160843880266, 0.9986983702126773, 0.9985876992783863, 0.07290943825425533, 0.008508881809993185, 0.5367269173087859, 0.20571473081807054, 0.1356415865004796, 0.0006673632792151518, 0.0035036572158795467, 0.028196098546840163, 0.003003134756468183, 0.00016684081980378795, 0.0048383837743098505, 0.9959641707917013, 0.004499614027337372, 0.9944147000415592, 0.01756159114919905, 0.0033224631903890096, 0.2449130008915327, 0.1466630179757434, 0.27244198161189875, 0.003797100789016011, 0.0009492751972540027, 0.2548803904626997, 0.055057961440732155, 0.9552439935395944, 0.043349808458847075, 0.08217595691284246, 0.071197057491176, 0.04170508102458537, 0.027797247025662247, 0.10931004893988057, 0.0003131565271280704, 0.2888776857895529, 0.043657704076089814, 0.0035736686036968034, 0.03498142617742386, 0.2465094497663434, 0.0060789208207213665, 0.001565782635640352, 0.0369156282567443, 0.005360502905545204, 0.42374398351845, 0.5759626960444951, 0.0006917458576764673, 0.9698276924624071, 0.029053326022411625, 0.9972430132872063, 0.9973103028497377, 0.048617211003281396, 0.02514988693065923, 0.14903964684612495, 0.015851513241507048, 0.18286801588665952, 8.855593989668743e-05, 0.05499323867584289, 0.18530330423381844, 0.0036307935357641845, 0.0010183933088119053, 0.0464918684457609, 0.11361727088744997, 0.00464918684457609, 0.00048705766943178084, 0.03227864009234257, 0.13287818781497948, 0.0030109019564873722, 0.9988278800970973, 0.9993161646356672, 0.027675769775024662, 0.9718148872430088, 0.002689992426057781, 0.9969111930970137, 0.995888605731627, 0.08108365976727072, 0.054684328680252345, 0.38310457851280233, 0.02105660931940751, 0.06882682747686933, 0.010056888033149856, 0.013828221045581053, 0.046198829402282156, 0.2922783084634177, 0.010685443535221722, 0.000628555502071866, 0.01665672080490445, 0.000314277751035933, 0.0030740988882117302, 0.086743051236931, 0.016573402701663242, 0.05907616124302543, 0.022721600478086704, 0.0010692517872040801, 0.12002351311365798, 0.00040096942020153003, 0.011895426132645392, 0.00387603772861479, 0.6247103566739838, 0.00026731294680102004, 0.032879492456525466, 0.012162739079446412, 0.0045443200956173406, 0.9944537491633846, 0.03478812996285307, 0.0011995906883742436, 0.9632713227645177, 0.9996798526412577, 0.9973439797308101, 0.011471459004556237, 0.03763124117896755, 0.008982941442721286, 0.5382481399598132, 0.09832679146762488, 0.013474412164081928, 0.06330545895106961, 0.0009711288046185174, 0.0003034777514432867, 0.012381892258886097, 0.04709974702399809, 0.15331696002914844, 0.0023064309109689786, 0.005219817324824531, 0.005401903975690503, 0.0013959976566391187, 0.14114581949520413, 0.8570606977595385, 0.014266833694868482, 0.032923462372773424, 0.04389794983036456, 0.760531980811066, 0.001097448745759114, 0.14596068318596217, 0.9988517541933466, 0.9739682350896973, 0.025915204889267702, 0.9973163191208368, 0.9973876527594451, 0.04161020025185203, 0.05268698967074783, 0.006453433835356681, 0.1030944081857229, 0.21383019573868406, 0.007159779827286268, 0.013131614122690958, 0.1195330058160842, 0.008572471811145442, 0.01842920906216286, 0.0648875113495316, 0.24185928896388995, 0.0009953057159007817, 6.421327199359882e-05, 0.003146450327686342, 0.1029980882777325, 0.0015411185278463716, 0.16687979196451214, 0.20705390977049684, 0.011318621016642648, 0.07402517880946226, 0.0853437998261049, 0.00027947212386771975, 0.013973606193385986, 0.14469669213251188, 0.00527503633800321, 0.003947543749631541, 0.0026200511612598726, 0.030357659455131056, 0.10298547764525472, 0.013833870131452127, 0.00027947212386771975, 0.020995343305562443, 0.11479317487866587, 0.0012925585728882037, 0.00667991909245861, 0.006474031175225296, 2.2876435248145924e-05, 0.736346697767321, 0.002836677970770094, 4.575287049629185e-05, 0.01718020287135759, 0.0021732613485738626, 0.0010294395861665665, 0.0017157326436109442, 0.1877011512110373, 2.2876435248145924e-05, 0.0016928562083627983, 0.009859743591950893, 0.02619351835912708, 0.9988956545770832, 0.010858537735672297, 0.012929235629451665, 0.005050482667754557, 0.9169151283308398, 0.013585798376259757, 0.007121180561533925, 0.00035353378674281895, 0.02005041619098559, 0.011363586002447752, 0.00010100965335509113, 0.0007575724001631835, 0.0009090868801958202, 0.9897671488669779, 0.9960735411263555, 0.9917082555573508, 0.9891404861097878, 0.9484749902914852, 0.051418406601115074, 0.9945604370885428, 0.9982611711018502, 0.9888097876628563, 0.009925300310424255, 0.03876263856458835, 0.004552028983977082, 0.4373467434657156, 0.0984786888956279, 0.00023464066927716918, 0.0094325549049422, 0.06203899295688353, 0.0041531398462058946, 0.006569938739760737, 0.0009854908109641104, 0.041930287599830134, 0.06856200356278883, 0.00966719557421937, 0.0005866016731929229, 0.0024167988935548425, 0.02184504630970445, 0.1825269766307099, 0.9978509030945697, 0.4161270424748965, 0.5831639538908762, 0.005898471702703312, 0.9938924819055079, 0.9979050156818622, 0.01063501546329319, 0.9534774772636131, 0.011408471133350875, 0.012762018555951828, 0.011408471133350875, 0.9949664088935751, 0.016517974342736535, 0.015075356496209327, 0.004544246216560706, 0.9524884331695893, 0.0005049162462845229, 0.003822937293297102, 0.005554078709129752, 0.0014426178465272083, 0.9981160054306543, 0.0038165760152859053, 0.004907026305367592, 0.9901288633941719, 0.0005452251450408436, 0.03127362577920767, 0.9458796627182999, 0.004130478876499127, 0.01858715494424607, 0.7965457822949984, 0.006316778606621717, 0.00379006716397303, 0.10928026989455569, 0.0006316778606621716, 0.08148644402542014, 0.001895033581986515, 0.01961560014640953, 0.1453619210849717, 0.02023504015103299, 0.034688640258913696, 0.14247120106339556, 0.0018583200138703767, 0.49534552369722595, 0.043980240328265585, 0.010943440081681107, 0.006813840050858048, 0.052445920391452856, 0.002271280016952683, 0.02023504015103299, 0.0037166400277407535, 0.16102568868015943, 0.006784437338409838, 0.005151146868051915, 0.18854035121926602, 0.09845809989260204, 0.001382015013379782, 0.07044088643953919, 0.0013401357705500915, 0.00469047519692532, 0.40090999160862584, 0.02190284399992806, 0.029441107709272323, 0.00012563772848907107, 0.003057184726567396, 0.006700678852750458, 4.187924282969036e-05, 0.9977042106741973, 0.7694009135388353, 0.003457981633882406, 0.22649779701929756, 0.0400996463660303, 0.000400996463660303, 0.06375843772198818, 0.7422444542352209, 0.051327547348518784, 0.000400996463660303, 0.016440855010072423, 0.006014946954904545, 0.005212954027583939, 0.07177836699519424, 0.0024059787819618182, 0.07727228402557017, 0.1566051622918222, 0.02099230382694656, 0.14108631191668686, 0.050226984616620604, 0.039022503432912935, 0.13561285846487564, 0.00012878714004261693, 0.003155284931044115, 0.03670433491214583, 0.016999902485625436, 0.23097973566643348, 0.00012878714004261693, 0.03213239144063293, 0.001352264970447478, 0.05640876733866622, 0.001352264970447478, 0.998986381760842, 0.996400583921301, 0.002741129529357087, 0.999123247947791, 0.9953256546006054, 0.0016436139613598107, 0.0028176239337596755, 0.9899562893269678, 0.9807989830969391, 0.008541065164849978, 0.008541065164849978, 0.9980826349809861, 0.99702836435699, 0.053681020190595403, 0.01808816984683106, 0.01050280829815997, 0.09744272143292862, 0.5478964995540118, 0.05251404149079985, 0.0005834893498977761, 0.21880850621166606, 0.013118951407615374, 0.004036600433112423, 0.23311367501224242, 0.015137251624171585, 0.7084233760112302, 0.025228752706952642, 0.04666188465760867, 0.29230126797384925, 0.0008859851517267469, 0.0155785722511953, 0.2480020103875119, 0.030123495158709393, 0.016021564827058674, 0.0020672986873624096, 0.013363609371878433, 0.16885400349992252, 0.07361059968929722, 0.05411892635130879, 0.0053159109103604815, 0.013954266139696263, 0.0127729526040606, 0.0017719703034534938, 0.004577589950588192, 0.9997490010219566, 0.9996345453211071, 0.14837928406985992, 0.016139501074265462, 0.032799631215442715, 0.00572691973602968, 0.22334986970515755, 0.23063867664192259, 0.05362479389191428, 0.004165032535294313, 0.0015618872007353674, 0.27593340546324824, 0.007809436003676837, 0.0028729033225104667, 0.0258561299025942, 0.00017955645765690417, 0.9643977340752322, 0.00646403247564855, 0.00035911291531380834, 0.9926536094846274, 0.005023723019350919, 0.00212869619464022, 0.9997765898241207, 0.9988305919504096, 0.9996086286049122, 0.9930238304886907, 0.0011892500963936415, 0.004757000385574566, 0.03476338672796875, 0.05168487232467858, 0.15512541816900108, 0.10740541276238001, 0.23548477445463148, 0.007646529056253818, 0.17332132527508654, 0.0009204155345490706, 0.0029028489935778385, 0.0004956083647571919, 0.10669740081272688, 0.07965134433597727, 0.00113281911944501, 0.016921485596709838, 0.025630032577443354, 7.080119496531313e-05, 0.4251655333298687, 0.014204467324612165, 0.09313610961705932, 0.006214454454517822, 0.19176030888226422, 0.026149133029399668, 0.000968486408496284, 0.000484243204248142, 0.0006456576056641894, 0.0422905731710044, 0.13074566514699834, 0.043016937977376615, 0.025180646620903385, 0.604394227993627, 0.01100431764955261, 0.017876745913449447, 0.06758590495108364, 0.059195639770007136, 0.08875129751842238, 0.0004216213658832417, 0.0026562146050644227, 0.0014756747805913459, 0.0647188796630776, 0.06193617864824821, 0.00037945922929491754, 4.216213658832417e-05, 0.019521069240394092, 4.216213658832417e-05, 0.484165981890595, 0.20803395521507154, 0.000695765736505256, 0.059835853339452016, 0.001826385058326297, 0.02374300575824186, 0.034092521088757544, 0.003043975097210495, 0.0447029485704627, 0.13010819272648286, 0.007305540233305188, 0.000521824302378942, 0.00173941434126314, 8.6970717063157e-05, 0.9970405713976574, 0.9976974978761463, 0.9980930902924577, 0.9989863985032368, 0.013652770715673402, 0.960512575055611, 0.025699333111855814, 0.0020294679255706966, 0.9974834854179973, 0.33194057476466293, 0.02819279520537318, 0.033109084573802086, 0.039664137065040635, 0.21883557182556082, 0.007010264469796776, 0.06212126134058009, 0.0750796289968711, 0.007070959400271207, 0.027950015483475456, 0.0027616193365866087, 0.034505067974714004, 0.04843455451859591, 0.0010621612833025419, 0.003732738224177504, 0.018360216468515364, 0.048798724101442495, 0.011410646929193021, 0.9980723820031884, 0.9986541941572805, 0.007326231999983881, 0.004395739199990328, 0.052016247199885554, 0.014652463999967762, 0.002197869599995164, 0.9187094927979786, 0.9988447569914813, 0.06134126356234641, 0.05285656009829235, 0.0029539337985965996, 0.00018854896586786805, 0.15505009959867683, 0.0003142482764464468, 0.05084537112903509, 0.010244493812154165, 0.0002513986211571574, 0.005405070354878885, 0.5244175237338303, 0.00685061242653254, 0.08164170222078687, 0.01646660968579381, 0.0006284965528928936, 0.02803094625902305, 0.0025768358668608634, 0.9991132449975184, 0.9714418517643414, 0.006653711313454393, 0.0016634278283635983, 0.01996113394036318, 0.9996001898828115, 0.0016749786810462562, 0.025683006442709263, 0.016191460583447143, 0.15298138620222473, 0.029591290031817194, 0.10161537331680622, 0.02233304908061675, 0.10161537331680622, 0.09324047991157493, 0.4126030817643944, 0.0016749786810462562, 0.04019948834511015, 0.0024182532734991053, 0.5102514407083112, 0.00048365065469982107, 0.038692052375985685, 0.4473768555973345, 0.9987283420583111, 0.9910122200945053, 0.9985027825926412, 0.07313925470301445, 0.1339056024542677, 0.0006589122045316617, 0.044586392506642446, 0.18757034089001304, 0.002782073752467016, 0.031700998284689946, 0.058789611137658265, 0.011274719944208434, 0.3040513761577768, 0.057691424130105494, 0.007467671651358833, 0.028186799860521083, 0.0029284986868073856, 0.0011713994747229541, 0.041145406549643763, 0.01295860668912268, 0.029333230724138914, 0.031088210340113036, 0.000250711373710589, 0.059418595569409594, 0.1618341917301852, 0.006518495716475314, 0.03961239704627306, 0.6004537400368607, 0.005264938847922369, 0.06405675598305549, 0.0021310466765400065, 0.027777318031582312, 0.0030863686701758123, 0.022927310121306034, 0.010581835440602786, 0.0019840941451130223, 0.005511372625313951, 0.917753769567279, 0.006393192245364183, 0.0017636392401004643, 0.0017636392401004643, 0.00044090981002511606, 0.02833259553478358, 0.23988264219450098, 0.03966563374869701, 0.11144154243681541, 0.5760961092072662, 0.0018888397023189053, 0.9974104764176677, 0.9990334034135749, 0.9953791484058585, 0.9983846015181911, 0.9994525792732969, 0.09325142896263496, 0.0030946270673440804, 0.07973822410189914, 0.040745923053363726, 0.48245235979894213, 0.0008252338846250881, 0.08891895106835324, 0.00010315423557813601, 0.007427104961625793, 0.10191638475119838, 0.04157115693798881, 0.017742528519439395, 0.02537594195222146, 0.01681414039923617, 0.23781001700999277, 0.283594001593225, 0.00014816823489719177, 0.006223065865682054, 0.1349812619913417, 0.017187515248074246, 0.02667028228149452, 0.20447216415812464, 0.01511315995951356, 0.00014816823489719177, 0.03185617050289623, 0.02163256229499, 0.018076524657457394, 0.001926187053663493, 0.00029633646979438353, 0.9990697274221074, 0.05549828338217274, 0.06371103383783058, 0.0060973450352611305, 0.06750632003324823, 0.011323640779770671, 0.0011821383231628722, 0.10147724237256024, 0.4599762433233218, 0.005350731357474053, 0.00012443561296451286, 0.011572512005699696, 0.006781740906565951, 0.17831623337814695, 6.221780648225643e-05, 0.005848473809332105, 0.008461621681586875, 0.012443561296451288, 0.004355246453757951, 0.9998330431932683, 0.008894541210522014, 0.9294795564995504, 0.05781451786839308, 0.9991408741796594, 0.9997357863792038, 0.9980049846108956, 0.04026294785119047, 0.06551259311380143, 0.03230134799361043, 0.0002274742816451439, 0.1387593118035378, 0.42264721529667737, 0.024112273854385254, 0.03412114224677158, 0.00409453706961259, 0.2270193330818536, 0.010463816955676618, 0.001856299209317689, 0.001856299209317689, 0.9949763761942814, 0.00905032460181304, 0.10686344818294628, 0.01705638098033996, 0.1799622238129747, 0.023844124431699743, 0.08214910023184145, 0.13836553958541092, 0.10599322466354119, 0.04142263952368276, 0.018970872723031183, 0.0005221341116430601, 0.19788882831271976, 0.07570944618824371, 0.00017404470388102003, 0.0017404470388102, 0.11220786111414746, 0.16373454791947858, 0.03701028519266169, 0.034721663316790385, 0.06279542499414507, 0.00222323267941784, 0.008762152324764428, 0.21619847987397603, 0.043963336415546894, 0.015148497178386263, 0.1411316823453972, 0.04367998323091521, 0.008871134318853538, 0.008740355925946606, 0.002266825477053484, 0.024041427896057625, 0.07445649836167982, 6.538919645346589e-05, 0.9985363113542489, 0.9813888381947581, 0.015617800865895076, 0.0021105136305263617, 0.9946065447491518, 0.9953767544563371, 0.20869498654676635, 0.012152651753526108, 0.02023952663362988, 0.012912192488121489, 0.18979582591536362, 0.0012063294020044299, 0.10999936991610763, 0.08292397667111932, 0.003887061406458718, 0.006791187744617531, 0.20932049068113903, 0.022205396770229688, 0.00576357380957672, 0.033330434588714986, 0.0807793910675559, 4.4678866740904805e-05, 0.5841469053382383, 0.016310944579864893, 0.022046661355202, 0.012546880446049917, 0.1589868993663754, 0.03584822984585691, 0.004839511029190682, 0.011650674699903494, 0.019178802967533444, 0.030650236518207655, 0.07958307025780233, 0.0012546880446049917, 0.01666942687832346, 0.006273440223024959, 0.9998401014394928, 0.0013412181394463622, 0.005811945270934236, 0.0007451211885813123, 0.06691188273460184, 0.17897810949723122, 0.01892607818996533, 0.17659372169377102, 0.10178355436020727, 0.0017882908525951495, 0.39238081790691903, 0.01818095700138402, 0.0002980484754325249, 0.03636191400276804, 0.0813281379171466, 0.3369153660114327, 0.007265313653931764, 0.034700005511315885, 0.005313438343920245, 0.3259631767719236, 0.07807501240046075, 0.00010843751722286215, 0.01626562758342932, 0.04792938261250507, 0.000759062620560035, 0.06137563474813997, 0.0035784380683544508, 0.0005421875861143107, 0.9943657228504894, 0.1658959629210245, 0.007032995934307771, 0.03940546251428325, 0.0106529203122603, 0.05636739388526081, 0.5676041424629565, 0.1138724782893067, 0.005067894129133541, 0.0017582489835769428, 0.016444799316984348, 0.011894037241844025, 0.004033630021147104, 0.016406913576155067, 0.0788208425411161, 0.0003382868778588674, 0.08068142036933987, 0.0005074303167883011, 0.0301075321294392, 0.001691434389294337, 0.7767066715639596, 0.001691434389294337, 0.004905159728953577, 0.008118885068612818, 0.0001691434389294337, 0.013562183378743625, 0.0767643063537112, 0.0018787440178346148, 0.23261199370814822, 0.020284564317558106, 0.0020842316447852757, 0.03640066534554566, 0.06519828849391686, 0.0023484300222932682, 0.0025245622739652634, 0.1062664585087704, 0.014824464515726256, 0.1900173441788041, 0.0013209918875399635, 0.0023190746470146024, 0.23105615881837893, 0.0005283967550159854, 0.9972858032597758, 0.017724515160985936, 0.012127299846990378, 0.0009328692189992598, 0.9683182493212317, 0.9791016660932282, 0.013342056246553425, 0.006157872113793888, 0.026768106769352314, 0.014694294658381875, 0.022923099667075723, 0.1694007269200457, 0.15345741721570139, 0.0010041101349894282, 0.13729369309148132, 0.13834678420866536, 0.003330706789233225, 0.030294737487363964, 0.0008571671884056094, 0.059413931402057384, 0.15485337520824766, 0.007714504695650484, 2.4490491097303124e-05, 0.015110633007036028, 0.06416508667493419, 0.0003183763842649406, 0.9943004637421483, 0.9908073233496703, 0.9720469153067809, 0.02733881949300321, 0.9977041723422401, 0.013518262325363701, 0.04312969408568419, 0.041520377142188515, 0.0006437267773982715, 0.01834621315585074, 0.001287453554796543, 0.00032186338869913574, 0.3620963122865277, 0.5149814219186172, 0.002574907109593086, 0.0016093169434956787, 0.9979212179476018, 0.024135191183386015, 0.06137828792326616, 0.004577363845124934, 0.17456401209362818, 0.032873794887715434, 0.0711572015923967, 0.002496743915522691, 0.11380991014924267, 0.18226230583315647, 0.1878799796430825, 0.10735998836747572, 0.004785425838085158, 0.03245767090179499, 0.0006241859788806728, 0.00010623734193196871, 0.00977383545774112, 0.004568205703074655, 0.5064334089896948, 0.00042494936772787483, 0.00010623734193196871, 0.46425718424270324, 0.014235803818883806, 0.0014483961167785907, 0.00024139935279643177, 0.9979449244604489, 0.9428123901384708, 0.05563178699574828, 0.059228442956609305, 0.000636864978028057, 0.9393758425913841, 0.9931315200886007, 0.5383164531544852, 0.4601150765137998, 0.31362570583843297, 0.6859246771147607, 0.015007878005950525, 0.9840880006758986, 0.9988970516953074, 0.9410562402459786, 0.054641975240089076, 0.1505640072726014, 0.0010173243734635231, 0.8474312030951148, 0.9987533519969328, 0.01723569097489616, 0.982434385569081, 0.6479108990415537, 0.34887509948391354, 0.1777476941031351, 0.0016560344171099545, 0.8197370364694274, 0.0005163674502050541, 0.9991710161467797, 0.034165197559646136, 0.9649925188275561, 0.013242558932940057, 0.00020691498332718838, 0.9462222187552325, 0.001655319866617507, 0.008897344283069101, 0.00020691498332718838, 0.014897878799557564, 0.014277133849575999, 0.00020691498332718838, 0.010443723157958648, 0.038656280855499714, 7.252585526360172e-05, 0.06005140815826222, 0.10175377493483322, 0.00014505171052720344, 0.33079042585728746, 0.244919813225183, 0.003408715197389281, 0.000797784407899619, 0.006817430394778562, 0.02988065236860391, 0.02066986875012649, 0.1515790375009276, 0.01646582874494328, 0.07710013054220062, 0.0041535423861118175, 0.40400616744912626, 0.029037711502906724, 0.0022992823923118993, 0.2232899884533862, 0.0021509415928079056, 0.010346770765403546, 0.0008158743972719642, 0.024698743117414917, 0.19651447414291537, 0.00014834079950399348, 0.00011125559962799512, 0.008307084772223635, 0.0006304483978919723, 0.9984644000222747, 0.9984797837312709, 0.9967051611440186, 0.16844112091491587, 0.18952342895200858, 0.0004346867636513958, 7.24477939418993e-05, 0.16503607459964661, 0.002173433818256979, 0.002825463963734073, 0.001231612497012288, 0.003549941903153066, 0.24400416999631686, 0.01246102055800668, 0.08606797920297637, 0.10309321077932271, 0.021009860243150796, 7.24477939418993e-05, 0.9952667097790056, 0.23910162882739566, 0.7601872438262308, 0.9887036070700275, 0.9898166227058738, 0.9608649630921958, 0.03868782794295078, 0.01814235999655888, 0.027962536508457727, 0.07448354218770734, 0.12608107979259958, 0.1762638462050996, 8.322183484660037e-05, 0.0659949150333541, 0.0036617607332504166, 0.054260636319983443, 0.1765135117096394, 0.14339122144069244, 0.05026598824734663, 0.08139095447997517, 0.001331549357545606, 8.322183484660037e-05, 0.988718752479124, 0.01945180251736595, 0.14137751933841108, 7.668973113013892e-05, 0.12617651906083, 0.007186923374481589, 0.0004437048729672323, 0.42007895794121164, 0.01614866624083211, 0.0013037254292123616, 0.0034674714146698525, 0.1417281009664346, 0.0009093210976859328, 0.00023006919339041675, 8.216756906800598e-05, 0.12018924219474128, 0.0011503459669520838, 0.03816936580266419, 0.0008609631384059592, 0.004304815692029796, 0.07863463330774427, 0.7243569871122136, 0.0031568648408218506, 0.01348842250169336, 0.012914447076089387, 0.015784324204109253, 0.09987172405509127, 0.00803565595845562, 0.9983995570366214, 0.024994953641405557, 0.012440670107881403, 0.0002840335641068813, 0.019030248795161048, 0.004345713530835285, 0.03181175917997071, 0.0003124369205175695, 2.8403356410688132e-05, 0.0013633611077130303, 0.05095562140077451, 8.52100692320644e-05, 0.0002840335641068813, 0.8540605239129815, 0.9976490541071719, 0.009346162624786823, 0.9901740069704705, 0.9979081465496785, 0.9981101367424632, 0.04239976469738893, 0.10961890385178602, 0.005170703011876699, 0.6215185020275792, 0.0020682812047506795, 0.21510124529407068, 0.0031024218071260194, 0.01021606766585986, 0.017629497299492678, 0.7832921261682285, 0.10713309897384013, 0.0013561151768840523, 0.008317506418222187, 0.0004520383922946841, 0.009131175524352619, 0.0037067148168164095, 0.04339568566028967, 0.010758513736613481, 0.004520383922946841, 0.04703690970405618, 0.9524974215071377, 0.010332101479732368, 0.9855676800389154, 0.003444033826577456, 0.0475690285607828, 0.05076024221685209, 0.018249753095646234, 0.07788555829344103, 0.3267004980400932, 0.008676112127438374, 0.14051312629380078, 0.061231412025829435, 0.02622778723581945, 0.017751125961885408, 0.13522767867593602, 0.041585502955652894, 0.0475690285607828, 3.793181350928275e-05, 0.007282908193782288, 7.58636270185655e-05, 0.7430273289265852, 0.0035655904698725788, 1.8965906754641376e-05, 1.8965906754641376e-05, 0.015172725403713101, 0.005063897103489247, 0.15000135652245863, 1.8965906754641376e-05, 1.8965906754641376e-05, 0.07567396795101909, 0.0026099373608872533, 0.020642231854290094, 0.9611687499049331, 0.007592545049853828, 0.008067079115469692, 0.9933001876211441, 0.9991391263666799, 0.03218971720650266, 0.08918325444656158, 0.012401910016778126, 0.20681966001016278, 0.04886614251628521, 0.00260251101172718, 0.1325535915861268, 0.017447001195936403, 0.008025620550130745, 0.03582450912232275, 0.03851425514002961, 0.3299082534474941, 0.0020645618081858077, 0.0007996542214804184, 0.010279191537939198, 0.03243688305677843, 0.00010177417364296235, 0.9981161221044875, 0.9997639671748842, 0.00020166813408533244, 0.010083406704266622, 0.970628729352705, 0.017141791397253258, 0.0010083406704266623, 0.0010083406704266623, 0.9981472911969917, 0.021762768093425425, 0.006429908754875694, 0.03660101906621549, 0.01137599241247238, 0.014838250972790063, 0.01879511789886741, 0.03462258560317681, 0.8472641305463126, 0.0079137338521547, 0.3220291827698843, 0.025173549921750284, 0.045420533987692635, 0.061582073197599146, 0.06656871912481936, 0.0003604804284737511, 0.24746981414723013, 0.009252330997492944, 0.011355133496923159, 0.010574092568563365, 0.1730906857388128, 0.0033644839990883435, 0.00012016014282458369, 0.009372491140317529, 0.014118816781888584, 0.00012016014282458369, 0.3580032167329632, 0.06493980160846198, 0.05073954084772331, 0.0031329112469735197, 0.2472616148290731, 0.008377132247342238, 0.02788972077468818, 0.046653134873410024, 0.0007491744286241026, 0.02833241475523879, 0.024450329079641165, 0.06357766628369088, 0.03115884555413881, 0.0024518435845879718, 0.021998485495053195, 0.01954664191046522, 0.0008172811948626574, 0.040244875248111295, 0.06840401814275014, 0.01616543388395934, 0.16021263980250403, 0.08815836239563404, 0.046379764767640455, 0.09417055412477261, 0.0168095972835099, 0.01592003830317817, 0.09558157871426431, 0.12493702506521136, 0.18594850133692886, 0.012239104591460674, 0.0005214656091599787, 0.03272963558668807, 0.001564396827479936, 0.09252719752219765, 0.017214362329711193, 0.8686080325533438, 0.007889916067784296, 0.0028690603882851984, 0.010758976456069495, 0.9995788903674651, 0.9880748892295438, 0.00849956893960898, 0.9980626721164031, 0.9980700062950381, 0.0384940175072084, 0.05565519223564029, 3.954187725445136e-05, 0.025089321117949388, 0.017378655053331374, 0.0012060272562607664, 0.016825068771769053, 0.04598720324692693, 0.002589992960166564, 1.977093862722568e-05, 0.6314442378763337, 0.007928146389517497, 0.1324257469251576, 0.0032424339348650117, 0.003519227075646171, 0.008066542959908078, 0.009944782129494517, 0.00013839657039057976, 0.2515551523377614, 0.7479009487151258, 0.004510543645363586, 0.01878160796594018, 0.25972597630064914, 0.4031021095524523, 0.006026382083559546, 0.0022922434919060847, 0.003401393568634836, 0.02905973201029327, 0.0032904785609619604, 0.003697166922429169, 0.0011830934151773342, 0.26486503832282565, 0.9977177826410674, 0.0013667366885494073, 0.03419978522020745, 0.028164529004876725, 0.009555822340940318, 0.8560005065410747, 0.02363808684337868, 0.020620458735713318, 0.027661590986932497, 0.9989734726690939, 0.001118103400650206, 0.9973482333799837, 0.9984394059627016, 0.013405200214123105, 0.04485307531103893, 0.009927094212620894, 0.1249702809150864, 0.03284877890307644, 0.00014492108339592548, 0.10941541796392372, 0.012511520199848232, 0.00504808440495807, 0.0017873600285497474, 0.018429131105181854, 0.529348410617517, 0.004903163321562145, 0.0015216713756572174, 0.020796175467315305, 0.07004519030803064, 4.8307027798641824e-05, 0.012098591829704687, 0.0624948844153091, 0.003568649388617929, 0.22743611835264999, 0.04822028686083739, 0.009574425188974932, 0.13125666531794725, 0.0003481609159627248, 0.1763435039351201, 0.07607316013785537, 0.19201074515344274, 0.05944847640063526, 0.0010444827478881744, 0.007947656124357935, 0.005522947476248734, 0.033272390893498476, 0.08742421736793729, 0.5436735613204852, 0.07220243529925174, 0.02613297098517694, 0.1039930597966835, 0.09793128817641049, 0.013605309636612736, 0.005657653512254801, 0.0016164724320728004, 0.0009429422520424669, 0.108880023410796, 0.25920869209729275, 0.11616618659358917, 0.00824848662203, 0.18077933179949085, 0.008729648341648417, 0.03484985597807675, 0.0038492937569473335, 0.03306268387663692, 0.06110753839153892, 0.1092924477418975, 0.027632430183800502, 0.038492937569473334, 0.009623234392368334, 0.013621775984576343, 0.014702869316685576, 0.020180408866039026, 0.11776710031109917, 0.3540220298213704, 0.09030732967552464, 0.00014414577761456447, 0.0022342595530257495, 0.09484792167038342, 0.07293776347296962, 0.0005045102216509757, 0.13499252073603962, 0.08317211368360371, 0.0005765831104582579, 0.9962935590226445, 0.9972226965271447, 0.9989864294780749, 0.021676549753877613, 0.9754447389244926, 0.9990335433417884, 0.9351557326737684, 0.003470394851584989, 0.01781469357146961, 0.0009254386270893304, 0.0004627193135446652, 0.001156798283861663, 0.03539802748616689, 0.003470394851584989, 0.0020822369109509934, 0.9977511861559537, 0.0568333892602014, 0.013923547480227514, 0.0005063108174628187, 0.009366750123062146, 0.919333866808113, 0.9725749517495906, 0.026259523697238947, 0.9929128610926238, 0.9997372870934103, 0.02420779596840374, 0.9751396786246738, 0.9989823431511567, 0.003946891525245553, 0.9954937513674894, 0.01084286716248269, 0.07637984302067452, 0.019478779061805184, 0.11792817471408164, 0.19421206315809703, 0.005277501716252637, 0.1087165353548043, 0.022165507208261073, 0.0023029098398193323, 9.595457665913884e-05, 0.11744840183078593, 0.18125819530911327, 0.047017742562978034, 0.0010555003432505272, 0.00834804816934508, 0.08751057391313462, 0.9988825684926984, 0.0021682363327673727, 0.0010841181663836864, 0.9963045949066078, 0.005312653482105558, 0.9934662011537394, 0.9996773774659986, 0.999292094616425, 0.994966443860864, 0.05976794782677464, 0.009315368432614476, 0.0012239170203435078, 0.0042837095712022774, 0.8385871451053601, 0.06194380030738532, 0.00020398617005725132, 0.022778455656393064, 0.001835875530515262, 0.9996356157108162, 0.9993771440359573, 0.9992799490807625, 0.9969263570186615, 0.9970950816990419, 0.9973798045977699, 0.004842266712302146, 0.08387497698094788, 0.011413914393283629, 0.11223682486728902, 0.007436338165321152, 0.004150514324830411, 0.03752756702034163, 0.08733373891830655, 0.06934817684404145, 0.005361081002905947, 0.0819726579154006, 0.024038395464642794, 0.0003458761937358675, 0.1781262397739718, 0.29209244560994013, 0.998085559873842, 0.043365970133428494, 0.22877120476185467, 0.01738828754142302, 0.21578236346585195, 0.012569846415486521, 0.08756993002788943, 0.03812853412697578, 0.005865928327227043, 0.0018854769623229781, 0.31780761687155085, 0.0033519590441297388, 0.02744416467381224, 0.996893460306273, 0.13716349508378378, 0.03342374822731283, 0.00252254703602361, 0.16475385329029202, 0.14930325269464742, 0.007331152323443616, 0.09908880075880243, 0.009774869764591488, 0.0030743542001537747, 0.0323201338990525, 0.08127331231688568, 0.001576591897514756, 0.0005518071641301646, 0.27448464935731903, 0.003153183795029512, 9.649037182084864e-05, 0.024412064070674706, 0.021806824031511792, 0.008780623835697226, 0.016499853581365118, 0.8947552178947294, 0.01485951726041069, 0.018043699530498697, 0.0005789422309250918, 0.03492657694009312, 0.09325805809608025, 0.02388698257255506, 0.3814686036258894, 0.08740080606264848, 0.0013257154808178893, 0.004483328716947771, 0.05977771622597028, 0.008990761351728594, 0.00913538485872691, 0.0003133509318296829, 0.04512253418347434, 0.1978449575736952, 0.004242289538617246, 4.820783566610507e-05, 0.006122395129595343, 0.04150694650851646, 0.00016872742483136773, 0.9993957291645407, 0.1120351440392924, 0.10166924956471803, 0.016696742777837913, 0.03695545734828125, 0.08142444894658955, 6.956976157432464e-05, 0.028551430150102832, 0.33173645109100963, 0.10443812607537616, 0.00584385997224327, 0.002921929986121635, 0.00869622019679058, 0.017768117106082514, 0.004021132218995964, 0.0010992022328743293, 0.06123530413772055, 0.06437985736088002, 0.020481337807481174, 0.9934310677518488, 0.011619936169719963, 0.05519469680616983, 0.020334888297009936, 0.8627802606017073, 0.04938472872130984, 0.9982877551155327, 0.9984419308966267, 0.9982916731026786, 0.9942108350678324, 0.997948213032192, 0.00553305469857732, 0.9931833183946289, 0.9958690102487342, 0.013395997011049562, 0.029525870963129648, 0.00022782307841921024, 0.00013669384705152616, 0.005650012344796414, 4.556461568384205e-05, 0.00022782307841921024, 0.9339834922873943, 0.003736298486075048, 0.013031480085578827, 4.556461568384205e-05, 0.9995352633522706, 0.0008949266166200163, 0.0026847798498600486, 0.02147823879888039, 0.06264486316340113, 0.03758691789804068, 0.006264486316340114, 0.04564125744762083, 0.0035797064664800653, 0.3642351329643466, 0.45551764785958826, 0.08530049825460485, 0.13274291020519968, 0.035102592680616884, 0.004792162823292407, 0.1717990372150328, 0.08062813950189476, 0.2282267544593009, 0.0034743180468869957, 0.018210218728511147, 0.005630791317368579, 0.0011980407058231018, 0.2314614643650233, 0.0009584325646584815, 0.00035941221174693057, 0.9987322125699571, 0.7540421347332831, 0.05357380077612016, 0.000728895248654696, 0.05648938177073894, 0.02587578132724171, 0.007653400110874309, 0.04774263878688259, 0.05357380077612016, 0.9944105075092593, 0.01800773768606379, 0.10199802567220863, 0.012096800888348193, 0.08838912467281691, 0.027217801998783438, 6.87318232292511e-05, 0.1849573363099147, 0.005086154918964581, 0.0001374636464585022, 0.01628944210533251, 0.016014514812415507, 0.4690946935396388, 0.028111315700763702, 0.00020619546968775332, 0.03182283415514326, 0.0005498545858340088, 0.9995482711538035, 0.9981675410586544, 0.030631612642453294, 0.0026267214007380793, 0.00012123329541868058, 0.0010102774618223381, 0.0006869886740391899, 0.024004192492898754, 0.0012931551511325928, 0.0027883657946296534, 0.030672023740926188, 4.0411098472893525e-05, 0.9060168277622729, 8.082219694578705e-05, 0.9988526741800486, 0.9991781440602693, 0.9987112766759813, 0.01131035317217927, 0.9877708437036562, 0.022530096461223104, 0.0013551937721036453, 0.009994554069264385, 0.09672695548389769, 0.16482544253210588, 0.001016395329077734, 0.008131162632621872, 0.000508197664538867, 0.17007681839900748, 0.10248652901533818, 0.41011551528286566, 0.007284166525057094, 0.004573778980849803, 0.9978293083098293, 0.14284099732288189, 0.009267540023769488, 0.08078877281590359, 0.005540377188123064, 0.09136585653868398, 0.4179459082458653, 0.12108242509316224, 0.0017124802217834923, 0.006446984364361383, 0.041905398368348994, 0.015412321996051432, 0.04764724381785835, 0.0017124802217834923, 0.016218195041596606, 0.00010073413069314661, 0.9936893441382243, 0.9980541472748585, 0.9938550637946909, 0.9973577274720647, 0.38090288721729126, 0.04481446440085468, 0.04954866923460657, 0.03229690585737513, 0.08633905764605128, 0.003009028496028739, 0.22555677606231428, 0.0006018056992057477, 0.0025677043166111905, 0.017893689456384233, 0.07097295212633119, 0.0030892692559228384, 0.02439319100780631, 0.057933828643539985, 0.01299316946809857, 0.00044044642264740914, 0.02312343718898898, 0.023563883611636388, 0.9015938271592465, 0.0024224553245607502, 0.03435482096649791, 0.00022022321132370457, 0.0008808928452948183, 0.9795879122686824, 0.004031225976414331, 0.014109290917450158, 0.9977364022848555, 0.999917195972562, 0.9992795223245212, 0.9990657380044179, 0.035775078359575344, 0.0003613644278744984, 0.35088485946613795, 0.010840932836234952, 0.02493414552334039, 0.006504559701740971, 0.023488687811842397, 0.3859372089699643, 0.0010840932836234953, 0.022404594528218903, 0.1380412114480584, 0.9980746181616468, 0.022296482809934633, 0.0570846526064077, 0.018431130610326515, 0.2319525576041262, 0.08634191193840085, 0.0012727379193831609, 0.006269412713998533, 0.26384956965780293, 0.004446726310931291, 0.003912490641066754, 0.0004399587869472655, 0.03866923480990073, 0.2123901043987924, 0.00399105471016448, 9.427688291727119e-05, 0.021432278049859647, 0.02008097606137876, 0.007023627777336703, 0.9966831833500075, 0.9996882612630457, 0.9991814612631424, 0.9979056023269686, 0.9969995503135026, 0.9938726893976815, 0.004463500102085396, 0.9995962182905562, 0.9929980544972483, 0.004597213215265039, 0.9984246024400976, 0.010701084526247906, 0.9891815008950409, 0.0010603168029307572, 0.011345389791359102, 0.020358082616270538, 0.9671149559531437, 0.9996464108673382, 0.13125696231588727, 0.009993232326921477, 0.017124553048480467, 0.6895799471412765, 0.027383646016337256, 0.0017828301803897472, 0.01643644315429495, 0.019830076041528064, 6.255544492595604e-05, 0.015826527566266877, 0.03876873699286126, 0.0010947202862042307, 0.0012041923148246537, 0.006974932109244099, 0.0026586064093531317, 0.020017742376305932, 0.9288505246544351, 0.007026100791637179, 0.01686264189992923, 0.04637226522480538, 0.9985420858792238, 0.8316575428809275, 0.042628674054255924, 0.005776782932586083, 0.04481986758040927, 0.008565574693144883, 0.017529548209226736, 0.00019919941146848564, 0.02011914055831705, 0.00019919941146848564, 0.02609512290237162, 0.00019919941146848564, 0.0023903929376218277, 0.9981929166225244, 0.11353510211576485, 0.019272009418067386, 0.023465918203346297, 0.06650341073799419, 0.12112407991769812, 0.0063907181489964385, 0.050227050452268884, 0.09915598628052286, 0.0013979695950929708, 0.009985497107806935, 0.0781864423541283, 0.0001997099421561387, 0.06300848675026176, 0.34739544438060327, 0.1820485709218616, 0.002709056114908655, 0.01733795913541539, 0.03277957899039473, 0.019505204027342318, 0.12082390272492602, 0.0008127168344725965, 0.0002709056114908655, 0.010023507625162024, 0.6133303044153195, 0.9977852265812892, 0.9980069867210225, 0.9989313568239251, 0.9996798504972639, 0.23332312401797803, 0.7646867349202345, 0.014343822412948357, 0.005378933404855634, 0.9795635389509315, 0.14310919553635976, 0.6263708686859086, 0.08549778491358537, 0.0073546481646094945, 0.10940039144856623, 0.024821937555557044, 0.0033708804087793517, 0.9980044411138398, 0.006103921506498547, 0.030995237779752365, 0.013278011069331255, 0.20333193070349057, 0.114349438612002, 0.00015854341575320902, 0.08180840252865586, 0.0002774509775681158, 0.02128445356486831, 0.11914537693853658, 0.33333753162112195, 0.009552240799130843, 0.00011890756181490676, 0.036623529038991284, 0.029449439476158575, 0.00015854341575320902, 0.007456147977730108, 0.027100759254849283, 0.010840303701939714, 0.2940913864721665, 0.05098244355252358, 0.0016232942091737135, 0.1458488576750823, 0.0057503133850390865, 0.0013206461362769194, 0.03139285919774927, 0.3657639528263618, 0.004979936472210884, 0.02388168429767429, 0.02877908038636787, 0.00019259422820705076, 0.007332516913827215, 0.9898897833666741, 0.98782451973999, 0.994634251937455, 0.9996030589718826, 0.002307240481742323, 0.23879938986033042, 0.0028840506021779034, 0.7469691059640771, 0.009228961926969292, 0.040205749960654735, 0.047137025393655295, 0.04243638020204424, 0.18505526105029907, 0.12833196618023326, 0.003732225233154147, 0.05694091733264039, 0.1387016765219123, 0.011773375225285094, 0.012698270691227084, 0.008585206148567412, 0.0578766939217111, 0.19389073303082727, 0.00537527482559227, 0.004134826788917131, 0.03375324394531826, 0.028214752272795053, 0.0011751612979027635, 0.9986071886337675, 0.9971970360980588, 0.9978521084156204, 0.02779851797977783, 0.9683150429622611, 0.8213447419959679, 0.04476523475333474, 0.009731572772464074, 0.027248403762899408, 0.09439625589290153, 0.0029194718317392225, 0.054346239250359175, 0.0899612845772744, 0.04042672816963477, 0.28303005864139624, 0.06895313359432922, 0.01357581944910158, 0.05185447492109369, 0.015766853600697087, 0.12377194883816979, 0.0011169978027741807, 0.04957751786159248, 0.1479592474136261, 0.019074885555066777, 0.0003436916316228248, 0.01748531175881121, 0.004596875572955282, 0.018172695022056862, 0.9996491890876771, 0.9986992476754216, 0.01325631612113232, 0.16702958312626723, 0.01325631612113232, 0.18293716247162603, 0.12107435390634186, 0.05832779093298221, 0.10605052896905856, 0.32787288539600606, 0.009721298488830368, 0.9990075171871526, 0.999284602485611, 0.9995318483439685, 0.9948976891268553, 0.004715154924771826, 0.03667366346066829, 0.015620264066580937, 0.015280693108611788, 0.01731811885642669, 0.010526699697043675, 0.0003395709579691508, 0.8903550517951134, 0.013243267360796881, 0.9986641531625591, 0.998309303911295, 0.13608415672042157, 0.012141923600779213, 0.009618926488928987, 0.0018922478338876697, 0.08767414963679536, 0.008830489891475791, 0.0006307492779625565, 0.7431803367593822, 0.9970284218114444, 0.1935140211599544, 0.0007447621083769893, 0.4257556719555122, 0.009806034426963693, 0.14125654655550232, 0.00037238105418849465, 0.09272288249293517, 0.043444456321991044, 0.0012412701806283155, 0.002730794397382294, 0.05622953918246269, 0.01911556078167606, 0.00037238105418849465, 0.012412701806283155, 0.0002482540361256631, 0.9993451230334036, 0.9972857652238554, 0.9996218425175566, 0.9975372681338645, 0.9991207954116421, 0.07597563314257341, 0.004715322460361422, 0.1439352181025324, 0.06607345597581443, 0.25156245326028187, 0.00017682459226355332, 0.03212313426121219, 0.0021808366379171577, 0.042320019081743765, 0.00035364918452710664, 0.22621759503583921, 0.0636568532148792, 0.0212189510716264, 0.06442309311468793, 0.004538497868097869, 0.0004715322460361422, 0.9978418869952776, 0.9994590305551175, 0.6261851616364951, 0.00010634938207141561, 0.3712656928113119, 0.0014888913489998186, 0.0007444456744999093, 0.05984535465664517, 0.0046937533064035425, 0.934056907974305, 0.9997256958267864, 0.008977130929819582, 0.04141449735623434, 0.0008378655534498277, 0.020348163440924386, 0.06918375569914291, 0.0001196950790642611, 0.022143589626888303, 0.0058650588741487935, 0.012089202985490372, 0.8189537309576744, 0.9970006677586724, 0.0034940040068182983, 0.995791141943215, 0.43187408084040535, 0.029280981118357984, 0.005627820883472704, 0.0610904035032037, 0.015741585949423653, 0.2963985665295624, 0.0004893757289976265, 0.006198759233969935, 0.0006525009719968353, 0.0007340635934964397, 0.029688794225856005, 0.001957502915990506, 0.11190391669745725, 0.008237824771460046, 0.9983904591360626, 0.9957492665574609, 0.11028068154538004, 0.04006364392338439, 0.06680674563288252, 0.05669246084465817, 0.23582023365743285, 0.017299216201184894, 0.07106232367057923, 0.12982427794452828, 0.006499958235660037, 0.0286522822675059, 0.0012242073807072714, 0.06562625994434337, 0.10856096165343411, 0.0051883074706165315, 0.011498805040214728, 0.020111978397333745, 0.024761051664543503, 2.9147794778744557e-05, 0.1611696128676643, 0.12682199045324402, 0.6578890754762035, 0.05020037122107576, 0.00014156768739678887, 0.009626602742981643, 0.005945842870665132, 0.053795721210779766, 0.6237472306702517, 0.0036807598723165103, 0.01373206567748852, 0.010759144242155953, 0.005521139808474766, 0.10872398392073385, 0.12500426797136457, 0.03949738478370409, 0.011943583475745154, 0.0019367973203911059, 0.0019367973203911059, 0.01226638302914367, 0.07908589058263682, 0.5364928577483363, 0.002905195980586659, 0.017753975436918472, 0.33538873598105984, 0.0003227995533985177, 0.9612912110868249, 0.020562378846777002, 0.015421784135082751, 0.9490262846979478, 0.049761677849330596, 0.14772860282445593, 0.02750427016507059, 0.0002011281182089257, 0.0465611593653663, 0.09256921640565806, 0.0007542304432834714, 0.06043899952178217, 0.011967123033431079, 0.002715229595820497, 0.5493311728581284, 0.031074294263279022, 0.012268815210744468, 0.0001508460886566943, 0.008598227053431573, 0.0036705881573128943, 0.004424818600596366, 0.9993947554126754, 0.9972857533096873, 0.997028400976731, 0.9977780719604158, 0.2507413949088625, 0.0007023568484842086, 0.5281723500601249, 0.08147339442416819, 0.04986733624237881, 0.08849696290901028, 0.0686228521290162, 0.0018312277955776794, 0.13936607328449077, 0.002698651488219738, 0.1684729571931465, 0.00019276082058712415, 0.025926330368968197, 9.638041029356207e-05, 0.05281646484087202, 0.008481476105833463, 0.24972164307061934, 0.05484045345703682, 0.017444854263134735, 0.20567579556646146, 0.003855216411742483, 0.9986435221397448, 0.006920481084037043, 0.0484433675882593, 0.875440857130686, 0.04498312704624078, 0.02422168379412965, 0.00922453343564981, 0.0007282526396565639, 0.13302748217726568, 0.00012137543994276066, 0.8361554057656782, 0.018934568631070663, 0.0015778807192558884, 0.998986418129699, 0.9978932403218166, 0.9989864491796987, 0.9992512437839642, 0.10748936930631496, 0.10231778603102963, 0.012013985762585905, 0.15602268927437724, 0.09261112203741718, 7.956281961977421e-05, 0.11226313848350142, 0.004137266620228259, 0.028085675325780296, 0.03572370600927862, 0.2699566469698939, 0.011218357566388164, 0.04169091748076169, 0.011377483205627712, 0.014957810088517551, 0.9941905152975014, 0.0014494133286205302, 0.9641497461983767, 0.01826260794061868, 0.0040583573201374845, 0.011595306628964241, 0.00025170548377376314, 0.0005034109675475263, 0.0005034109675475263, 0.0030204658052851575, 0.026932486763792656, 0.5127240704471555, 0.007299459029439131, 0.002013643870190105, 0.4467772336984296, 0.9997411476839948, 0.018561615899289147, 0.9803908034079086, 0.9986977248983622, 0.018765881508359977, 0.039501662180580946, 0.048314368966274855, 0.0002073578067222097, 0.5960500154229917, 0.0003110367100833145, 0.015759193310887938, 0.002695651487388726, 0.2781704977178443, 0.00010367890336110485, 0.002880626166496981, 0.010946379432688527, 0.008065753266191546, 0.9776845209090753, 0.0077395888846040935, 0.018059040730742885, 0.9726083364985811, 0.9995338347161847, 0.016013845191525756, 0.031869137460363135, 0.005569171409429131, 0.20235316758103708, 0.11528779390978382, 0.00109005134348257, 0.1448380948758295, 0.0004558396527290747, 0.0018035394955802522, 0.03462399449207363, 0.03444562245404921, 0.31851300256560694, 0.000654030806089542, 3.9638230672093455e-05, 0.01078159874280942, 0.08076289499439042, 0.000872041074786056, 0.9978005000333279, 0.012703068924382204, 0.9559059365597609, 0.02858190507985996, 0.00031874618009609923, 0.11634235573507622, 0.019826012401977372, 0.3442458745037872, 0.012941094911901629, 0.0001274984720384397, 0.06693669782018084, 0.015299816644612763, 0.0001274984720384397, 0.0015299816644612763, 0.34711459012465207, 0.0002549969440768794, 0.06381298525523907, 0.010391125471132835, 0.0006374923601921985, 0.9968957767885653, 0.04095102904253136, 0.06068337720445198, 0.00873861132885056, 0.2535991135199564, 0.1485307661642752, 0.00017938498329018743, 0.11677962412191202, 0.010763098997411246, 0.00668849723410556, 0.00010250570473724997, 0.041924833237535236, 0.2826851072391511, 0.001306947735399937, 0.003023918289748874, 0.0013325741615842497, 0.020091118128500993, 0.002613895470799874, 0.9974090077000147, 0.003948261085158387, 0.004441793720803186, 0.08390054805961572, 0.005922391627737581, 0.9011905926874018, 0.684496673859194, 0.0010386899451581093, 0.08378765557608749, 0.028390858500988318, 0.011425589396739202, 0.00034622998171936973, 0.00034622998171936973, 0.008309519561264874, 0.17103761096936865, 0.0017311499085968488, 0.008655749542984243, 0.9975293981426018, 0.9982526164750238, 0.002500350137102718, 0.09683174167325073, 0.7623794872584106, 0.020230105654740177, 0.008637573200900299, 0.046597434373277936, 0.06250875342756795, 0.0949429563894743, 0.017404208187703885, 0.08654092485058276, 0.0004201015769445765, 0.29377103130624316, 0.04885181194755504, 0.05047220374434126, 0.1735019512781101, 0.000660159620912906, 0.010022423335677754, 0.0007201741319049883, 0.04231023024941806, 0.09062191159804436, 0.007081712297065718, 0.028026776633302462, 0.04519092677703802, 0.008882147626828188, 0.000660159620912906, 0.005864417304273141, 0.01759325191281942, 0.9734932725093414, 0.04336857214443491, 0.0013141991558919671, 0.015770389870703606, 0.03942597467675901, 0.026283983117839343, 0.2523262379312577, 0.6150452049574406, 0.0052567966235678686, 0.009394460235764922, 0.17694162806958852, 3.78808880474392e-05, 0.2588779889161995, 0.016856995181110446, 0.00708372606487113, 0.13440139079231428, 0.03731267472672761, 3.78808880474392e-05, 0.01844799247910289, 0.13989411955919298, 0.0029168283796528185, 0.00333351814817465, 0.19311676726584504, 0.0012500693055654936, 0.07067945337356352, 0.026275951897972487, 0.10941082024693416, 0.10172804091631474, 0.08451057263681364, 0.0029101436858406902, 0.012783467536347468, 0.03730275088213975, 0.005164182249782752, 0.06298609170226832, 0.0030477141146258865, 0.276982184847979, 0.0808173357409649, 0.027133121492711014, 0.00010582340675784328, 0.07621401754699873, 0.021503316253193752, 0.0004338759677071574, 0.9968055880567019, 0.0015137430335042483, 0.9955383350346273, 0.002018324044672331, 0.009218825960331523, 0.023136049707395714, 0.7234820713115773, 0.006798439221711663, 3.559392262676264e-05, 0.11767350820407727, 0.02726494473210018, 0.0006050966846549648, 0.0006050966846549648, 0.0018864778992184197, 0.032212499977220185, 0.0020644475123522328, 0.010784958555909078, 0.044172057979812426, 0.9992682477467093, 0.9959261996132192, 0.015006923433193643, 0.1047222265664165, 0.0019574247956339534, 0.05611284414150666, 0.08123312901880907, 0.043389582969885966, 0.21466425258785687, 0.001304949863755969, 0.029035134468570308, 0.292635006947276, 0.002609899727511938, 0.15724645858259426, 0.01846267767562439, 0.028074690279944307, 0.14113479893273698, 0.720329934674232, 0.01237189741150088, 0.003997074548331054, 0.06547588783932774, 0.010087854812454564, 0.9993503630359224, 0.0010693943573216696, 0.9977449353811177, 0.9893276279726118, 0.004873535113165575, 0.0036551513348741815, 0.0012183837782913938, 0.9811141545228491, 0.01703323184935502, 0.052956468374956905, 0.019727295089296923, 0.001051044410495328, 0.015523117447315613, 0.00978279797461036, 8.084957003810215e-05, 0.526330700948045, 0.0013744426906477365, 0.00024254871011430645, 0.3723931195954985, 8.084957003810215e-05, 0.00024254871011430645, 8.084957003810215e-05, 0.199516206480716, 0.032599511550304404, 0.01795093324232371, 0.10757710315299505, 0.11608355827569963, 0.006733206169633231, 0.12190444070860776, 0.006386266157075794, 0.009328831448766652, 0.01900460291009074, 0.09161786257535294, 0.18592129784050232, 0.005371145379592921, 0.0001927444514207986, 0.015959240577642125, 0.06359281933876881, 0.00024414297179967825, 0.08055153238173199, 0.8182339868249617, 0.09750974972525452, 0.17558662430806615, 0.14611404725493415, 0.05151456794244473, 0.03190781117404758, 0.0186076863598164, 0.0013737218117985262, 0.0708091152081604, 0.013986985720130449, 0.011676635400287473, 0.001935698916625196, 0.006806167158456334, 0.43603179144495946, 0.023165945098966054, 0.0009366285080444497, 0.009553610782053386, 0.9981507694857125, 0.0019054973161494134, 0.041401259869064524, 0.0009527486580747067, 0.06218850331796722, 0.07717264130405124, 0.005196810862225673, 0.03455879223380073, 0.014810910957343168, 0.6326251089616053, 0.04010205715350811, 0.06106252763115166, 0.013598321756157177, 0.0041574486897805385, 0.009527486580747067, 0.0007795216293338509, 0.9995699791686287, 0.9927153035899386, 0.005206548795052126, 0.11582239782150994, 0.13728469518140635, 0.019640563896987432, 0.2306769997408495, 0.03632081091674777, 0.005237483705863315, 0.005778310827664418, 0.19661912336005896, 0.016666014727081364, 0.0018075011702300026, 0.0292473614552965, 0.019654796189666406, 0.15627057361516086, 0.0016367136580822859, 0.002206005365241342, 0.005394038925332055, 0.018003850238905144, 0.0017363397068351208, 0.9988931929804576, 0.9969328454114833, 0.00665722893424438, 0.0008589972818379846, 0.07816875264725659, 0.009878468741136823, 0.0004294986409189923, 0.9038798898140192, 0.02970373374109993, 0.00438251809294917, 0.5892052102742773, 0.01801701882656881, 0.01509534009793603, 0.07012028948718672, 0.01558228655270816, 0.23909070929311582, 0.01850396528134094, 0.9989864106995873, 0.9992857754506613, 0.9989864123327202], \"Term\": [\"_\", \"_\", \"_\", \"_\", \"_\", \"_\", \"ability\", \"ability\", \"ability\", \"ability\", \"ability\", \"ability\", \"ability\", \"ability\", \"ability\", \"ability\", \"ability\", \"ability\", \"ability\", \"ability\", \"ability\", \"ability\", \"ability\", \"able\", \"able\", \"able\", \"able\", \"able\", \"able\", \"able\", \"able\", \"able\", \"able\", \"able\", \"able\", \"able\", \"able\", \"able\", \"able\", \"able\", \"abortion\", \"accepting_chicago\", \"accepting_prize\", \"access\", \"access\", \"access\", \"access\", \"access\", \"access\", \"access\", \"access\", \"access\", \"access\", \"access\", \"access\", \"access\", \"access\", \"access\", \"accident\", \"accident\", \"accident\", \"accident\", \"accident\", \"accident\", \"accident\", \"accident\", \"accident\", \"accident_lawyer\", \"accord\", \"accord\", \"accord\", \"accord\", \"accord\", \"accord\", \"accord\", \"accord\", \"accord\", \"accord\", \"accord\", \"accord\", \"accord\", \"accord\", \"accord\", \"accord\", \"accord\", \"accordance\", \"accordance\", \"accordance\", \"accordance\", \"accordance\", \"accordance\", \"accordance\", \"acquire\", \"acquire\", \"acquire\", \"acquire\", \"acquire\", \"acquire\", \"acquire\", \"acquire\", \"acquire\", \"acquire\", \"acquire\", \"acquire\", \"acquire\", \"action_program\", \"active\", \"active\", \"active\", \"active\", \"active\", \"active\", \"active\", \"active\", \"active\", \"active\", \"active\", \"active\", \"active\", \"activethings_function\", \"actor\", \"actor\", \"actor\", \"actor\", \"actor\", \"actress\", \"actual_value\", \"actually\", \"actually\", \"actually\", \"actually\", \"actually\", \"actually\", \"actually\", \"actually\", \"actually\", \"actually\", \"actually\", \"actually\", \"actually\", \"actually\", \"actually\", \"actually_damn\", \"ad\", \"ad\", \"ad\", \"ad\", \"ad\", \"ad\", \"ad\", \"ad\", \"ad\", \"ad\", \"ad\", \"ad\", \"ad\", \"ad_blocker\", \"addict\", \"addict\", \"addict\", \"addict\", \"addiction\", \"addiction\", \"addiction\", \"addiction\", \"addiction\", \"addiction\", \"addiction\", \"additional_share\", \"administer\", \"administer\", \"administer\", \"administer\", \"administer\", \"administer\", \"administer\", \"administer\", \"administer\", \"administer\", \"administer\", \"adsbygoogle_window_adsbygoogle_push\", \"adsbygoogle_window_adsbygoogle_push\", \"adsbygoogle_window_adsbygoogle_push\", \"adsbygoogle_window_adsbygoogle_push\", \"aftercare\", \"agree\", \"agree\", \"agree\", \"agree\", \"agree\", \"agree\", \"agree\", \"agree\", \"agree\", \"agree\", \"agree\", \"agree\", \"agree\", \"agree\", \"agree\", \"agreement\", \"agreement\", \"agreement\", \"agreement\", \"agreement\", \"agreement\", \"agreement\", \"agreement\", \"agreement\", \"agreement\", \"agreement\", \"airline_ticket\", \"airport\", \"airport\", \"airport\", \"airport\", \"airport\", \"album\", \"alcohol\", \"alcohol\", \"alcohol\", \"alcohol\", \"alcohol\", \"alcohol\", \"alcohol\", \"alcohol\", \"alcohol_addiction\", \"alcohol_addiction\", \"alcohol_addiction\", \"alcohol_addiction\", \"alcohol_drug\", \"alcohol_drug\", \"alcohol_drug\", \"alcohol_drug\", \"alcohol_induce\", \"alcohol_rehabilitation\", \"alcohol_rehabilitation\", \"alcohol_rehabilitation\", \"alcoholism\", \"alcoholism\", \"alcoholism\", \"alcoholism\", \"alcoholism\", \"alcoholism\", \"already_gotten\", \"also\", \"also\", \"also\", \"also\", \"also\", \"also\", \"also\", \"also\", \"also\", \"also\", \"also\", \"also\", \"also\", \"also\", \"also\", \"also\", \"also\", \"alternate_winner\", \"american_addiction\", \"american_water_nyse_awk\", \"american_water_nyse_awk\", \"american_water_nyse_awk\", \"among_countie\", \"among_countie\", \"among_countie\", \"among_illinois_resident\", \"amount\", \"amount\", \"amount\", \"amount\", \"amount\", \"amount\", \"amount\", \"amount\", \"amount\", \"amount\", \"amount\", \"amount\", \"amount\", \"amount\", \"amount\", \"amount\", \"analysts_rating\", \"announce_minutes_ago_faile\", \"announce_minutes_ago_success\", \"anonymize\", \"arbitrate\", \"arbitration\", \"arbitration\", \"arbitration\", \"arbitration\", \"arbitration\", \"area\", \"area\", \"area\", \"area\", \"area\", \"area\", \"area\", \"area\", \"area\", \"area\", \"area\", \"area\", \"area\", \"area\", \"area\", \"arrest\", \"arrest\", \"arrest\", \"arrest\", \"arrest\", \"arrest\", \"arrest\", \"arrest\", \"art\", \"art\", \"art\", \"art\", \"art\", \"art\", \"art\", \"art\", \"art\", \"art\", \"art\", \"artist\", \"artist\", \"artist\", \"assists_steals_blocks_per\", \"at\", \"at\", \"attack\", \"attack\", \"attack\", \"attack\", \"attack\", \"attack\", \"attack\", \"attack\", \"attack\", \"attack\", \"attorney\", \"attorney\", \"attorney\", \"attorney\", \"attorney\", \"attorney\", \"attorney\", \"atwater\", \"authentic_chicago_thin_crust\", \"autoheight_false\", \"automatic_aggregator\", \"automobile\", \"automobile\", \"automobile\", \"automobile\", \"automobile\", \"average_price\", \"average_price\", \"averaged_point\", \"averaged_point\", \"averaged_points_injuries_bull\", \"averaged_points_per_game\", \"averaged_points_per_game\", \"averaged_points_per_game\", \"averaging_made\", \"averaging_point\", \"averaging_point\", \"averaging_points_rebounds_assist\", \"averaging_points_rebounds_assist\", \"award\", \"award\", \"award\", \"award\", \"award\", \"award\", \"award\", \"award\", \"award\", \"award\", \"ayo_dosunmu\", \"ba_subvariant\", \"ba_subvariant\", \"back\", \"back\", \"back\", \"back\", \"back\", \"back\", \"back\", \"back\", \"back\", \"back\", \"back\", \"back\", \"back\", \"back\", \"back\", \"back\", \"back\", \"ball\", \"ball\", \"ball\", \"ball\", \"ball\", \"ball\", \"ball\", \"ball\", \"ball\", \"ball\", \"bally\", \"band\", \"band\", \"band\", \"band\", \"bankruptcy_attorney_chicago_il\", \"bankruptcy_law_firm\", \"bankruptcy_lawyer\", \"base\", \"base\", \"base\", \"base\", \"base\", \"base\", \"base\", \"base\", \"base\", \"base\", \"base\", \"base\", \"base\", \"base\", \"base\", \"base\", \"base\", \"base\", \"basic_functionalitie\", \"basic_functionalitie\", \"bear\", \"bear\", \"bear\", \"bear\", \"bear\", \"bear\", \"bear\", \"bear\", \"bear\", \"bear\", \"bear\", \"bear\", \"bear\", \"bear\", \"bear\", \"bears_coach_jan_year\", \"bears_gm_vacancy_pole\", \"best_drug_rehab_center\", \"best_drug_rehab_center\", \"best_drug_rehab_center\", \"best_drug_rehab_center\", \"best_practice\", \"best_practice\", \"best_practice\", \"best_thin_crust_pizza\", \"bet\", \"bet\", \"bet\", \"bet\", \"bet\", \"bet\", \"bet\", \"bet\", \"bet_credit\", \"beta\", \"betting_service\", \"bid\", \"bid\", \"bid\", \"bid\", \"bid\", \"bid\", \"bid\", \"bid\", \"bid\", \"bid\", \"bid\", \"big_man\", \"bill\", \"bill\", \"bill\", \"bill\", \"bill\", \"bill\", \"bill\", \"bill\", \"bill\", \"bill\", \"bill\", \"bill\", \"bill\", \"bill\", \"bill\", \"binding_arbitration\", \"block\", \"block\", \"block\", \"block\", \"block\", \"block\", \"block\", \"block\", \"block\", \"block\", \"block\", \"block\", \"block\", \"block\", \"block_title_wrap_td\", \"block_title_wrap_td\", \"blocks_ad\", \"book\", \"book\", \"book\", \"book\", \"book\", \"book\", \"book\", \"book\", \"book\", \"book\", \"book\", \"book\", \"book\", \"book\", \"book\", \"book\", \"booster\", \"booster\", \"booster\", \"booster\", \"booster\", \"booster\", \"booster\", \"brand_new_roofing_system\", \"broncos_offense\", \"browser\", \"browser\", \"browser\", \"browser\", \"browser\", \"browser\", \"browser\", \"browser\", \"browser\", \"browser\", \"bull\", \"bull\", \"bullpen\", \"bulls_averaging_points_rebound\", \"burgess\", \"bushel\", \"bushel\", \"bushel\", \"business\", \"business\", \"business\", \"business\", \"business\", \"business\", \"business\", \"business\", \"business\", \"business\", \"business\", \"business\", \"business\", \"business\", \"business\", \"business\", \"business_wire\", \"business_wire\", \"businesswire_com_news_home\", \"businesswire_com_news_home\", \"businesswire_com_news_home\", \"buy\", \"buy\", \"buy\", \"buy\", \"buy\", \"buy\", \"buy\", \"buy\", \"buy\", \"buy\", \"buy\", \"buy\", \"buy\", \"buy\", \"buy\", \"buy\", \"buy\", \"call\", \"call\", \"call\", \"call\", \"call\", \"call\", \"call\", \"call\", \"call\", \"call\", \"call\", \"call\", \"call\", \"call\", \"call\", \"call\", \"cancel_classe\", \"canceled_classe\", \"car_truck\", \"card_carousel\", \"card_carousel__block_owl_carousel\", \"card_carousel__isuseraction\", \"carjack\", \"carjack\", \"carjacking\", \"carousel_isuseraction\", \"case\", \"case\", \"case\", \"case\", \"case\", \"case\", \"case\", \"case\", \"case\", \"case\", \"case\", \"case\", \"case\", \"case\", \"case\", \"case\", \"cases_per_resident\", \"cases_per_resident\", \"cases_per_resident\", \"cases_per_resident\", \"cash_advance\", \"casino\", \"casino\", \"casino\", \"casino\", \"cast\", \"cast\", \"cast\", \"cast\", \"cast\", \"cbd\", \"cbd\", \"cbd\", \"cbd\", \"cdc\", \"cdc\", \"cdc\", \"cdc\", \"cdc\", \"cdc\", \"celebration\", \"celebration\", \"celebration\", \"celebration\", \"celebration\", \"celebration\", \"celebration\", \"celebration\", \"celebration\", \"celebration\", \"celebration\", \"center\", \"center\", \"center\", \"center\", \"center\", \"center\", \"center\", \"center\", \"center\", \"center\", \"center\", \"center\", \"center\", \"center\", \"center\", \"center\", \"centers_offer\", \"cerrajero_near\", \"certain_term\", \"certainly\", \"certainly\", \"certainly\", \"certainly\", \"certainly\", \"certainly\", \"certainly\", \"certainly\", \"certainly\", \"certainly\", \"certainly\", \"certainly\", \"certainly\", \"change\", \"change\", \"change\", \"change\", \"change\", \"change\", \"change\", \"change\", \"change\", \"change\", \"change\", \"change\", \"change\", \"change\", \"change\", \"change\", \"change\", \"change\", \"character\", \"character\", \"character\", \"character\", \"character\", \"character\", \"character\", \"character\", \"character\", \"charge\", \"charge\", \"charge\", \"charge\", \"charge\", \"charge\", \"charge\", \"charge\", \"charge\", \"charge\", \"charge\", \"charge\", \"charge\", \"charge\", \"charge\", \"charge\", \"charge\", \"cheese\", \"cheese\", \"chelsea\", \"chelsea\", \"chelsea\", \"chelsea\", \"chelsea\", \"chicago_accident\", \"chicago_accident_lawyer\", \"chicago_area\", \"chicago_area\", \"chicago_area\", \"chicago_area\", \"chicago_area\", \"chicago_area\", \"chicago_area\", \"chicago_area\", \"chicago_area\", \"chicago_area\", \"chicago_area\", \"chicago_bankruptcy_law\", \"chicago_bear\", \"chicago_bear\", \"chicago_bear\", \"chicago_bear\", \"chicago_bear\", \"chicago_bear\", \"chicago_bear\", \"chicago_bear\", \"chicago_bull\", \"chicago_bull\", \"chicago_bull\", \"chicago_bull\", \"chicago_business_wire\", \"chicago_car_accident\", \"chicago_conclude\", \"chicago_divorce\", \"chicago_divorce\", \"chicago_divorce_lawyer\", \"chicago_divorce_lawyer\", \"chicago_divorce_lawyer_content\", \"chicago_divorce_lawyer_content\", \"chicago_employment\", \"chicago_employment\", \"chicago_employment_lawyer\", \"chicago_employment_lawyers_content\", \"chicago_fire\", \"chicago_fire\", \"chicago_fire\", \"chicago_fire\", \"chicago_fire\", \"chicago_fire\", \"chicago_fire\", \"chicago_fire\", \"chicago_il\", \"chicago_il\", \"chicago_il\", \"chicago_il\", \"chicago_il\", \"chicago_il\", \"chicago_il\", \"chicago_il\", \"chicago_il\", \"chicago_il\", \"chicago_il\", \"chicago_il\", \"chicago_il\", \"chicago_immigration_lawyer\", \"chicago_injury\", \"chicago_injury\", \"chicago_injury_lawyer\", \"chicago_manual\", \"chicago_me\", \"chicago_me\", \"chicago_me\", \"chicago_me\", \"chicago_med_season_episode\", \"chicago_new\", \"chicago_new\", \"chicago_new\", \"chicago_new\", \"chicago_personal_injury\", \"chicago_police\", \"chicago_police\", \"chicago_police_brutality_lawyer\", \"chicago_public_school\", \"chicago_public_school\", \"chicago_public_school\", \"chicago_red_star\", \"chicago_red_star\", \"chicago_red_star\", \"chicago_red_star\", \"chicago_red_star\", \"chicago_roofe\", \"chicago_roofe\", \"chicago_school\", \"chicago_school_leader\", \"chicago_semi_truck_accident\", \"chicago_sexual_harassment_lawyer\", \"chicago_state_cougar\", \"chicago_style\", \"chicago_style\", \"chicago_style\", \"chicago_style_deep_dish\", \"chicago_style_thin_crust\", \"chicago_tavern_style_pizza\", \"chicago_teacher\", \"chicago_teacher\", \"chicago_teachers_union_vote\", \"chicago_thin\", \"chicago_truck_accident_lawyer\", \"chicago_videos_new_york\", \"chicago_white_sox\", \"chicago_white_sox\", \"chicago_white_sox\", \"chicago_white_sox\", \"child\", \"child\", \"child\", \"child\", \"child\", \"child\", \"child\", \"child\", \"child\", \"child\", \"child\", \"child\", \"chocolate_covere\", \"cigarette_smoke\", \"circumstance\", \"circumstance\", \"circumstance\", \"circumstance\", \"circumstance\", \"circumstance\", \"circumstance\", \"circumstance\", \"circumstance\", \"circumstance\", \"circumstance\", \"circumstance\", \"city\", \"city\", \"city\", \"city\", \"city\", \"city\", \"city\", \"city\", \"city\", \"city\", \"city\", \"city\", \"city\", \"city\", \"city\", \"city_new\", \"city_news\", \"claim\", \"claim\", \"claim\", \"claim\", \"claim\", \"claim\", \"claim\", \"claim\", \"claim\", \"claim\", \"claim\", \"claim\", \"claim\", \"claim\", \"clapboard\", \"class\", \"class\", \"class\", \"class\", \"class\", \"class\", \"class\", \"class\", \"class\", \"class\", \"class\", \"class\", \"class\", \"classroom\", \"classroom\", \"classroom\", \"classroom\", \"classroom\", \"cleveland_cavalier\", \"click_block_owl_carousel\", \"click_link\", \"click_link\", \"click_link\", \"click_link\", \"click_link\", \"click_link\", \"click_link\", \"click_link\", \"click_link\", \"client\", \"client\", \"client\", \"client\", \"client\", \"client\", \"client\", \"client\", \"client\", \"client\", \"client\", \"close\", \"close\", \"close\", \"close\", \"close\", \"close\", \"close\", \"close\", \"close\", \"close\", \"close\", \"close\", \"close\", \"close\", \"close_school\", \"co_nj\", \"coach\", \"coach\", \"coach\", \"coach\", \"coach\", \"coach\", \"coach\", \"coach\", \"coach\", \"coach\", \"coach\", \"coach\", \"coach\", \"cockburn\", \"cockburn\", \"college_basketball\", \"college_basketball\", \"com\", \"com\", \"com\", \"com\", \"com\", \"com\", \"com\", \"com\", \"com\", \"com\", \"com\", \"com\", \"com\", \"com\", \"com\", \"com\", \"com\", \"come\", \"come\", \"come\", \"come\", \"come\", \"come\", \"come\", \"come\", \"come\", \"come\", \"come\", \"come\", \"come\", \"come\", \"come\", \"commercial_roofe\", \"commercial_roofe\", \"community\", \"community\", \"community\", \"community\", \"community\", \"community\", \"community\", \"community\", \"community\", \"community\", \"community\", \"community\", \"community\", \"community\", \"community\", \"community\", \"community\", \"companies_anonymously\", \"company\", \"company\", \"company\", \"company\", \"company\", \"company\", \"company\", \"company\", \"company\", \"company\", \"company\", \"company\", \"company\", \"company\", \"company\", \"company\", \"company\", \"company_stock\", \"compensation_act\", \"concentrate_oversaturation\", \"concert\", \"concert\", \"concert\", \"condition\", \"condition\", \"condition\", \"condition\", \"condition\", \"condition\", \"condition\", \"condition\", \"condition\", \"condition\", \"condition\", \"condition\", \"condition\", \"condition\", \"condition\", \"conduct\", \"conduct\", \"conduct\", \"conduct\", \"conduct\", \"conduct\", \"conduct\", \"conduct\", \"conduct\", \"conduct\", \"conduct\", \"conduct\", \"conduct\", \"conference_play\", \"conference_play\", \"connection\", \"connection\", \"connection\", \"connection\", \"connection\", \"connection\", \"connection\", \"connection\", \"connection\", \"connection\", \"connection\", \"connection\", \"connection\", \"connection\", \"consensus_estimate\", \"consent\", \"consent\", \"consent\", \"consent\", \"consent\", \"consent\", \"consent\", \"consent\", \"consent\", \"consider_turne\", \"constantly_worke\", \"construction_product\", \"consumer\", \"consumer\", \"consumer\", \"consumer\", \"consumer\", \"consumer\", \"consumer\", \"consumer\", \"consumer\", \"consumer\", \"consumer\", \"contemnor\", \"content\", \"content\", \"content\", \"content\", \"content\", \"content\", \"content\", \"content\", \"content\", \"content\", \"content\", \"content\", \"content\", \"content\", \"content\", \"content\", \"content\", \"content_misse\", \"content_section\", \"content_section\", \"content_section\", \"content_section\", \"content_section\", \"continue\", \"continue\", \"continue\", \"continue\", \"continue\", \"continue\", \"continue\", \"continue\", \"continue\", \"continue\", \"continue\", \"continue\", \"continue\", \"continue\", \"continue\", \"continue\", \"continue\", \"contractor\", \"contractor\", \"contractor\", \"contractor\", \"contractor\", \"contractor\", \"contractor\", \"contractor\", \"contractor\", \"converse_politely\", \"convict\", \"convict\", \"cookie\", \"cookie\", \"cookie\", \"cookie\", \"cookie\", \"cookie\", \"cookie\", \"cookies_help\", \"copyright_business_wire_pub\", \"copyright_business_wire_pub\", \"corner_oaklandnewsnow_com\", \"corruption\", \"cost\", \"cost\", \"cost\", \"cost\", \"cost\", \"cost\", \"cost\", \"cost\", \"cost\", \"cost\", \"cost\", \"cost\", \"cost\", \"cost\", \"cost\", \"cost\", \"cost\", \"cottonmouth\", \"could_possibly\", \"could_possibly\", \"could_possibly\", \"could_possibly\", \"could_possibly\", \"could_possibly\", \"could_possibly\", \"could_possibly\", \"country\", \"country\", \"country\", \"country\", \"country\", \"country\", \"country\", \"country\", \"country\", \"country\", \"country\", \"country\", \"country\", \"county\", \"county\", \"county\", \"county\", \"county\", \"county\", \"county\", \"county\", \"county\", \"county\", \"county\", \"court\", \"court\", \"court\", \"court\", \"court\", \"court\", \"court\", \"court\", \"court\", \"court\", \"court\", \"court\", \"court_document\", \"court_take\", \"cover\", \"cover\", \"cover\", \"cover\", \"cover\", \"cover\", \"cover\", \"cover\", \"cover\", \"cover\", \"cover\", \"cover\", \"cover\", \"cover\", \"cover\", \"cover\", \"covid\", \"covid\", \"covid\", \"covid\", \"covid\", \"covid\", \"covid\", \"covid\", \"covid\", \"covid\", \"covid\", \"covid\", \"covid_case\", \"covid_case\", \"covid_case\", \"covid_case\", \"covid_case\", \"covid_case\", \"covid_case\", \"covid_case\", \"covid_case\", \"covid_case\", \"covid_death\", \"covid_death\", \"covid_death\", \"covid_death\", \"covid_death\", \"covid_patient\", \"covid_patient\", \"covid_patient\", \"covid_patient\", \"covid_patient\", \"covid_patient\", \"covid_teste\", \"covid_teste\", \"covid_teste\", \"covid_teste\", \"covid_teste\", \"covid_vaccine\", \"covid_vaccine\", \"covid_vaccine\", \"covid_vaccine\", \"covid_vaccine\", \"covid_vaccine\", \"covid_vaccine\", \"cp\", \"cpd\", \"cpd\", \"cps\", \"cps_student\", \"crawler_pet\", \"create\", \"create\", \"create\", \"create\", \"create\", \"create\", \"create\", \"create\", \"create\", \"create\", \"create\", \"create\", \"create\", \"create\", \"create\", \"created_automatically\", \"credit_cb\", \"crew\", \"crew\", \"crew\", \"crew\", \"crew\", \"crew\", \"crew\", \"crew\", \"crew\", \"crime\", \"crime\", \"crime\", \"crime\", \"crime\", \"crime\", \"critical_condition\", \"critical_condition\", \"critical_condition\", \"critical_condition\", \"critique\", \"critique\", \"critique\", \"critique\", \"crust\", \"crust_denver\", \"ctu\", \"cub\", \"cub\", \"cub\", \"cumulative_case\", \"currently\", \"currently\", \"currently\", \"currently\", \"currently\", \"currently\", \"currently\", \"currently\", \"currently\", \"currently\", \"currently\", \"currently\", \"currently\", \"currently\", \"currently\", \"custodianship\", \"custody\", \"custody\", \"custody\", \"custody\", \"custody\", \"custody\", \"custody\", \"custody\", \"customer\", \"customer\", \"customer\", \"customer\", \"customer\", \"customer\", \"customer\", \"customer\", \"customer\", \"customer\", \"customer\", \"customer\", \"customer\", \"customer\", \"cut\", \"cut\", \"cut\", \"cut\", \"cut\", \"cut\", \"cut\", \"cut\", \"cut\", \"cut\", \"cut\", \"cut\", \"cut\", \"cut\", \"cyberia\", \"dad\", \"dad\", \"dad\", \"dad\", \"dad\", \"dad\", \"dad\", \"dad_planner\", \"dads_share\", \"dallas_cowboys_offensive_coordinator\", \"data_skrive\", \"date_gettime_cript_chicago\", \"date_gettime_cript_posted\", \"datum\", \"datum\", \"datum\", \"datum\", \"datum\", \"datum\", \"datum\", \"datum\", \"datum\", \"datum\", \"datum\", \"datum\", \"datum\", \"datum\", \"datum\", \"datum\", \"datum\", \"david_proeber\", \"david_proeber\", \"david_proeber\", \"david_proeber\", \"david_proeber\", \"david_proeber\", \"david_proeber\", \"day\", \"day\", \"day\", \"day\", \"day\", \"day\", \"day\", \"day\", \"day\", \"day\", \"day\", \"day\", \"day\", \"day\", \"day\", \"day\", \"day\", \"day\", \"death\", \"death\", \"death\", \"death\", \"death\", \"death\", \"death\", \"death\", \"death\", \"death\", \"death\", \"death\", \"death\", \"death\", \"deep_dish\", \"deep_dish\", \"deep_meal\", \"deep_recipe\", \"defense\", \"defense\", \"defense\", \"defense\", \"defense\", \"defense\", \"defense\", \"defense\", \"defense\", \"defense\", \"defense\", \"defense\", \"defense\", \"defensive_coordinator_todd_bowle\", \"defensively\", \"delta_moon_rocks_meteorite\", \"dentist\", \"dentist\", \"dentist\", \"dentist\", \"dentist\", \"dependency\", \"dependency\", \"dependency\", \"dependency\", \"derozan\", \"derozan\", \"detainee\", \"detox\", \"detox\", \"detox\", \"detox\", \"detoxification\", \"detoxification\", \"detoxification\", \"digital_markete\", \"digital_markete\", \"dinner\", \"dinner\", \"dinner\", \"dinner\", \"dinner\", \"direxion_daily\", \"discover\", \"discover\", \"discover\", \"discover\", \"discover\", \"discover\", \"discover\", \"discover\", \"discover\", \"discover\", \"discover\", \"discover\", \"discover\", \"discover\", \"discover\", \"disease_control\", \"disease_control\", \"disease_control\", \"disease_control\", \"disease_control\", \"disease_control\", \"dish\", \"dish\", \"dish\", \"dish\", \"dish\", \"dish\", \"disposal\", \"disposal\", \"disposal\", \"disposal\", \"disposal\", \"disposal\", \"disposal\", \"disposal\", \"disqualify\", \"disqualify\", \"disqualify\", \"district\", \"district\", \"district\", \"district\", \"district\", \"district\", \"district\", \"district\", \"district\", \"district\", \"district_official\", \"district_said\", \"district_said\", \"dividend\", \"dividend\", \"dividend\", \"dividend\", \"dividend_yield\", \"divorce\", \"divorce\", \"divorce\", \"divorce\", \"divorce\", \"divorce\", \"divorce\", \"divorce\", \"divorce\", \"divorce_attorney_chicago_content\", \"divorce_attorney_chicago_content\", \"divorce_lawyer\", \"divorce_lawyer\", \"divorce_lawyer_chicago_content\", \"divorce_lawyer_chicago_content\", \"divorce_lawyers_near\", \"divorce_lawyers_near\", \"document_body\", \"document_body_document_body\", \"document_compatmode\", \"document_documentelement\", \"dog\", \"dog\", \"dog\", \"dog\", \"dog\", \"dog\", \"dog\", \"dog\", \"dog\", \"door\", \"door\", \"door\", \"door\", \"door\", \"door\", \"door\", \"door\", \"door\", \"door\", \"door\", \"door\", \"door\", \"door\", \"door\", \"dose\", \"dose\", \"dose\", \"dose\", \"dose\", \"dose\", \"dose\", \"dosunmu\", \"dots_false_slideby_page\", \"dough\", \"dough\", \"download_activitie\", \"download_without\", \"draft\", \"draft\", \"draft\", \"draft\", \"draft\", \"draft\", \"draft\", \"draft_pick\", \"dragged_owl\", \"drama\", \"drama\", \"drama\", \"driver\", \"driver\", \"driver\", \"driver\", \"driver\", \"driver\", \"driver\", \"driver\", \"driver\", \"driver\", \"dropper\", \"dropper\", \"dropper\", \"drug\", \"drug\", \"drug\", \"drug\", \"drug\", \"drug\", \"drug\", \"drug\", \"drug\", \"drug\", \"drug\", \"drug\", \"dumpster\", \"dumpster\", \"dumpster\", \"dumpster\", \"dumpster_man\", \"education\", \"education\", \"education\", \"education\", \"education\", \"education\", \"education\", \"education\", \"education\", \"education\", \"education\", \"election\", \"election\", \"election\", \"election\", \"election\", \"election\", \"election\", \"electronic_commercial_door_lock\", \"eligible_entrie\", \"employ\", \"employ\", \"employ\", \"employ\", \"employ\", \"employ\", \"employ\", \"employ\", \"employ\", \"employ\", \"employ\", \"employee\", \"employee\", \"employee\", \"employee\", \"employee\", \"employee\", \"employee\", \"employee\", \"employee\", \"employee\", \"employee\", \"employee\", \"employee\", \"employer\", \"employer\", \"employer\", \"employer\", \"employer\", \"employer\", \"employer\", \"employer\", \"en_contact\", \"en_contact\", \"end\", \"end\", \"end\", \"end\", \"end\", \"end\", \"end\", \"end\", \"end\", \"end\", \"end\", \"end\", \"end\", \"end\", \"end\", \"end\", \"end\", \"end\", \"enter\", \"enter\", \"enter\", \"enter\", \"enter\", \"enter\", \"enter\", \"enter\", \"enter\", \"enter\", \"enter\", \"enter\", \"enter\", \"enter\", \"enter\", \"enter\", \"enter\", \"entrant\", \"entry\", \"entry\", \"entry\", \"entry\", \"entry\", \"entry\", \"entry\", \"entry\", \"entry\", \"entry\", \"entry\", \"entry\", \"entry\", \"entry\", \"episode\", \"episode\", \"episode\", \"episode\", \"episode\", \"espn\", \"espn\", \"espn\", \"essay\", \"essay\", \"essay\", \"essay\", \"estimate\", \"estimate\", \"estimate\", \"estimate\", \"estimate\", \"estimate\", \"estimate\", \"estimate\", \"estimate\", \"estimate\", \"estimate\", \"estimate\", \"estimate\", \"estimate\", \"estimate\", \"even\", \"even\", \"even\", \"even\", \"even\", \"even\", \"even\", \"even\", \"even\", \"even\", \"even\", \"even\", \"even\", \"even\", \"even\", \"even\", \"even_laptop\", \"event\", \"event\", \"event\", \"event\", \"event\", \"event\", \"event\", \"event\", \"event\", \"event\", \"event\", \"event\", \"event\", \"event\", \"event\", \"event\", \"existence\", \"existence\", \"existence\", \"existence\", \"existence\", \"existence\", \"existence\", \"existence\", \"existence\", \"expand\", \"expand\", \"expand\", \"expand\", \"expand\", \"expand\", \"expand\", \"expand\", \"expand\", \"expand\", \"expand\", \"expand\", \"expand\", \"expect\", \"expect\", \"expect\", \"expect\", \"expect\", \"expect\", \"expect\", \"expect\", \"expect\", \"expect\", \"expect\", \"expect\", \"expect\", \"expect\", \"expect\", \"expect\", \"expensive_camera\", \"experience\", \"experience\", \"experience\", \"experience\", \"experience\", \"experience\", \"experience\", \"experience\", \"experience\", \"experience\", \"experience\", \"experience\", \"experience\", \"experience\", \"experience\", \"experience\", \"explore_breake\", \"facebook_whatsapp_sms_print\", \"facility\", \"facility\", \"facility\", \"facility\", \"facility\", \"facility\", \"facility\", \"facility\", \"facility\", \"facility\", \"facility\", \"facility\", \"facility\", \"facility\", \"facility\", \"fact\", \"fact\", \"fact\", \"fact\", \"fact\", \"fact\", \"fact\", \"fact\", \"fact\", \"fact\", \"fact\", \"fact\", \"fact\", \"fact\", \"fact\", \"fact\", \"fact\", \"fact\", \"failed_udp\", \"false\", \"false\", \"false\", \"false\", \"false\", \"false\", \"false\", \"false_items_bind_previous\", \"family\", \"family\", \"family\", \"family\", \"family\", \"family\", \"family\", \"family\", \"family\", \"family\", \"family\", \"family\", \"family\", \"family\", \"family\", \"family_law\", \"family_law\", \"family_law\", \"family_law\", \"family_law_attorneys_near\", \"family_law_attorneys_near\", \"family_lawyer\", \"family_lawyer\", \"fan\", \"fan\", \"fan\", \"fan\", \"fan\", \"fan\", \"fan\", \"fan\", \"fan\", \"fannounce_tr\", \"far_less_though\", \"fare\", \"fare\", \"fare\", \"fare\", \"fare\", \"fare\", \"fault_basis\", \"fault_divorce\", \"fault_separation\", \"feature\", \"feature\", \"feature\", \"feature\", \"feature\", \"feature\", \"feature\", \"feature\", \"feature\", \"feature\", \"feature\", \"feature\", \"featured_classifieds_responsive_item\", \"federal_prosecutor\", \"fee_earner\", \"festival\", \"festival\", \"festival\", \"field\", \"field\", \"field\", \"field\", \"field\", \"field\", \"field\", \"field\", \"field\", \"field\", \"field\", \"field\", \"field\", \"field\", \"field\", \"field_opponent\", \"fifty_thc\", \"film\", \"film\", \"film\", \"film\", \"film\", \"film\", \"film\", \"financing\", \"financing\", \"financing\", \"financing\", \"financing\", \"financing\", \"find\", \"find\", \"find\", \"find\", \"find\", \"find\", \"find\", \"find\", \"find\", \"find\", \"find\", \"find\", \"find\", \"find\", \"find\", \"find\", \"find\", \"finish\", \"finish\", \"finish\", \"finish\", \"finish\", \"finish\", \"finish\", \"finish\", \"finish\", \"finish\", \"finish\", \"finish\", \"finish\", \"finish\", \"finish\", \"finish\", \"firearm\", \"first\", \"first\", \"first\", \"first\", \"first\", \"first\", \"first\", \"first\", \"first\", \"first\", \"first\", \"first\", \"first\", \"first\", \"first\", \"first\", \"first\", \"first_half\", \"first_half\", \"first_half\", \"first_half\", \"first_half\", \"first_half\", \"first_half\", \"fit_various\", \"five_game\", \"flight\", \"flight\", \"flight\", \"flight\", \"flight\", \"flight\", \"flight\", \"flight\", \"flight\", \"flour\", \"flour\", \"flour\", \"flour\", \"flower\", \"flower\", \"flower\", \"flower\", \"flower\", \"flower\", \"flower\", \"flower\", \"font_size_px_important\", \"forfeit\", \"forfeit\", \"formatted_automatically\", \"former_atlanta_falcons_coach\", \"former_bears_general_manag\", \"forward_looking_statement\", \"forward_looking_statement\", \"fourth_consecutive_afc_championship\", \"fourth_dose\", \"fourth_dose\", \"framed_print\", \"free_agency\", \"free_agent\", \"free_start\", \"free_throw\", \"friend\", \"friend\", \"friend\", \"friend\", \"friend\", \"friend\", \"friend\", \"friend\", \"friend\", \"friend\", \"full_list_lines_last\", \"full_screen_map\", \"full_screen_map\", \"future_event\", \"gamble_responsibly\", \"game\", \"game\", \"game\", \"game\", \"game\", \"game\", \"game\", \"game\", \"game\", \"game\", \"game\", \"game\", \"game\", \"garafolo_report\", \"garage_door\", \"garage_door\", \"garage_door_repair_chicago\", \"garage_door_repair_chicago\", \"garden\", \"garden\", \"garden\", \"garden\", \"garden\", \"garden\", \"garden\", \"garden\", \"gas\", \"gas\", \"gas\", \"gas\", \"gas\", \"gas\", \"gas\", \"gas\", \"gas\", \"gas\", \"gas_price\", \"gas_price\", \"gas_price\", \"generate\", \"generate\", \"generate\", \"generate\", \"generate\", \"generate\", \"generate\", \"generate\", \"generate\", \"generate\", \"generate\", \"generate\", \"generate\", \"generate\", \"generate\", \"geolocate\", \"get\", \"get\", \"get\", \"get\", \"get\", \"get\", \"get\", \"get\", \"get\", \"get\", \"get\", \"get\", \"get\", \"get\", \"get\", \"get\", \"get\", \"get_moon_rock\", \"get_starte\", \"get_starte\", \"get_starte\", \"get_starte\", \"get_starte\", \"get_starte\", \"get_starte\", \"get_starte\", \"get_starte\", \"give\", \"give\", \"give\", \"give\", \"give\", \"give\", \"give\", \"give\", \"give\", \"give\", \"give\", \"give\", \"give\", \"give\", \"give\", \"give\", \"give\", \"glass_ware\", \"go\", \"go\", \"go\", \"go\", \"go\", \"go\", \"go\", \"go\", \"go\", \"go\", \"go\", \"go\", \"go\", \"go\", \"go\", \"go\", \"go\", \"goal_vs_chicago_blackhawk\", \"goals_assist\", \"goals_assist\", \"goals_assist\", \"goals_assist\", \"good\", \"good\", \"good\", \"good\", \"good\", \"good\", \"good\", \"good\", \"good\", \"good\", \"good\", \"good\", \"good\", \"good\", \"good\", \"good\", \"good\", \"googletag_cmd\", \"googletag_cmd\", \"grandparents_visitation\", \"greater_power\", \"growth\", \"growth\", \"growth\", \"growth\", \"growth\", \"growth\", \"growth\", \"growth\", \"growth\", \"growth\", \"growth\", \"growth\", \"growth\", \"gsc\", \"guardianship\", \"guess_work\", \"gun\", \"gun\", \"gun\", \"gun\", \"gun\", \"gun_violence\", \"gun_violence\", \"gun_violence\", \"gun_violence\", \"guy\", \"guy\", \"guy\", \"guy\", \"guy\", \"guy\", \"guy\", \"guy\", \"guy\", \"guy\", \"halstead\", \"handgun\", \"happenings_anywhere\", \"hasbeenlogged_false\", \"hash_oil\", \"hedge_fund\", \"hedge_fund\", \"help\", \"help\", \"help\", \"help\", \"help\", \"help\", \"help\", \"help\", \"help\", \"help\", \"help\", \"help\", \"help\", \"help\", \"help\", \"help\", \"help\", \"hepatitis\", \"hepatitis\", \"high\", \"high\", \"high\", \"high\", \"high\", \"high\", \"high\", \"high\", \"high\", \"high\", \"high\", \"high\", \"high\", \"high\", \"high\", \"high\", \"high\", \"higher_pow\", \"hiring_proceed\", \"hitter\", \"holding\", \"holding\", \"holding\", \"home\", \"home\", \"home\", \"home\", \"home\", \"home\", \"home\", \"home\", \"home\", \"home\", \"home\", \"home\", \"home\", \"home\", \"home\", \"home\", \"home\", \"homeadvisor\", \"homeowner\", \"homeowner\", \"homeowner\", \"homeowner\", \"homeowner\", \"homeowner\", \"homeowner\", \"homeowner\", \"homeowner\", \"homeowner\", \"homeowner\", \"homicide\", \"homicide\", \"hormel_food\", \"hospital\", \"hospital\", \"hospital\", \"hospital\", \"hospital\", \"hospital\", \"hospital\", \"hospital\", \"hospital\", \"hospital\", \"hospital\", \"hospital\", \"hospital\", \"house\", \"house\", \"house\", \"house\", \"house\", \"house\", \"house\", \"house\", \"house\", \"house\", \"house\", \"house\", \"house\", \"house\", \"https_chicago_suntime\", \"https_www_com_new\", \"husk\", \"husky\", \"husky\", \"icon_arrow_td_social\", \"icon_background_color_td\", \"icon_color_td_social\", \"icon_td_ps_border\", \"icu_bed\", \"icu_bed\", \"icu_bed\", \"icu_beds_available\", \"icu_patient\", \"icu_patient\", \"id_assetid\", \"idph\", \"idph\", \"idph\", \"idph\", \"illini\", \"illini\", \"illinois_agility\", \"illinois_local\", \"illinois_overall_icu\", \"illinois_reporte\", \"illinois_reporte\", \"illinois_reporte\", \"illinois_reporte\", \"illinois_state\", \"illinois_state\", \"illinois_state\", \"illinois_state\", \"illinois_state\", \"illinois_state\", \"illinois_state\", \"illinois_state\", \"illinois_state\", \"illinois_state\", \"illinois_tool_work\", \"illinois_tool_works_inc\", \"illinois_truck_accident_lawyer\", \"inch\", \"inch\", \"inch\", \"inch\", \"inch\", \"inch\", \"inch\", \"inch\", \"inch\", \"incident\", \"incident\", \"incident\", \"incident\", \"incident\", \"incident\", \"incident\", \"incident\", \"incident\", \"include\", \"include\", \"include\", \"include\", \"include\", \"include\", \"include\", \"include\", \"include\", \"include\", \"include\", \"include\", \"include\", \"include\", \"include\", \"include\", \"include\", \"include\", \"income_percent\", \"increase\", \"increase\", \"increase\", \"increase\", \"increase\", \"increase\", \"increase\", \"increase\", \"increase\", \"increase\", \"increase\", \"increase\", \"increase\", \"increase\", \"increase\", \"increase\", \"increase\", \"increase\", \"independent_system\", \"index_value\", \"indict\", \"indictment\", \"indictment\", \"individual\", \"individual\", \"individual\", \"individual\", \"individual\", \"individual\", \"individual\", \"individual\", \"individual\", \"individual\", \"individual\", \"individual\", \"individual\", \"individual\", \"individual\", \"individual_may\", \"individual_may\", \"individual_may\", \"individuals_live\", \"individuals_live\", \"industrial_products_company_stock\", \"industry\", \"industry\", \"industry\", \"industry\", \"industry\", \"industry\", \"industry\", \"industry\", \"industry\", \"industry\", \"industry\", \"industry\", \"industry\", \"industry\", \"industry\", \"infection\", \"infection\", \"infection\", \"infection\", \"infection\", \"infection\", \"infection\", \"infection\", \"inflation\", \"inflation\", \"inflation\", \"inflation\", \"inflation\", \"inflation\", \"inflation\", \"inflation\", \"info\", \"info\", \"info\", \"info\", \"info\", \"info\", \"info\", \"info\", \"info\", \"info\", \"info\", \"info\", \"information\", \"information\", \"information\", \"information\", \"information\", \"information\", \"information\", \"information\", \"information\", \"information\", \"information\", \"information\", \"information\", \"information\", \"information\", \"information\", \"information\", \"information\", \"information_visit\", \"information_visit\", \"information_visit\", \"information_visit\", \"information_visit\", \"information_visit\", \"initially_joined\", \"initiative\", \"initiative\", \"initiative\", \"initiative\", \"initiative\", \"initiative\", \"initiative\", \"initiative\", \"innings\", \"innovation\", \"innovation\", \"innovation\", \"innovation\", \"innovation\", \"innovation\", \"innovation\", \"insider_trade\", \"installation\", \"installation\", \"installation\", \"installation\", \"installation\", \"installation\", \"installation\", \"installation\", \"installation\", \"installation\", \"installation\", \"instance\", \"instance\", \"instance\", \"instance\", \"instance\", \"instance\", \"instance\", \"instance\", \"instance\", \"instance\", \"instance\", \"instance\", \"institutional_investor\", \"institutional_investor\", \"integration\", \"integration\", \"integration\", \"integration\", \"integration\", \"interstate\", \"interstate\", \"interstate\", \"interstate\", \"interstate\", \"interstate\", \"interstate\", \"interview\", \"interview\", \"interview\", \"interview\", \"interview\", \"interview\", \"interview\", \"interview\", \"interview\", \"interview\", \"interview\", \"interview\", \"interview\", \"interview\", \"interview_flore\", \"investigation\", \"investigation\", \"investigation\", \"investigation\", \"investigation\", \"investigation\", \"investigation\", \"investigation\", \"investigation\", \"investment\", \"investment\", \"investment\", \"investment\", \"investment\", \"investment\", \"investment\", \"investment\", \"investment\", \"investment\", \"investment\", \"investment\", \"ip_address\", \"ip_address\", \"item_assetid_hasbeenlogged_true\", \"item_index\", \"jail\", \"jail\", \"jail\", \"jail\", \"jail\", \"job_description\", \"join_mdjobsite_com\", \"kansas_city_chiefs_director\", \"kid\", \"kid\", \"kid\", \"kid\", \"kid\", \"kid\", \"kid\", \"kid\", \"kid\", \"kid\", \"kief\", \"kill\", \"kill\", \"kill\", \"kill\", \"kill\", \"kill\", \"kill\", \"kill\", \"kill\", \"kill\", \"kill\", \"kill\", \"kind\", \"kind\", \"kind\", \"kind\", \"kind\", \"kind\", \"kind\", \"kind\", \"kind\", \"kind\", \"kind\", \"kind\", \"kind\", \"kind\", \"kind\", \"kind\", \"kind\", \"knoll\", \"know\", \"know\", \"know\", \"know\", \"know\", \"know\", \"know\", \"know\", \"know\", \"know\", \"know\", \"know\", \"know\", \"know\", \"know\", \"know\", \"know\", \"know\", \"kwesi_adofo_mensah_brown\", \"last_days_cases_population\", \"last_game\", \"last_game\", \"last_game\", \"last_meete\", \"last_meete\", \"last_meete\", \"last_season\", \"latest_filing\", \"latino_district\", \"lavine\", \"law\", \"law\", \"law\", \"law\", \"law\", \"law\", \"law\", \"law\", \"law\", \"law\", \"law\", \"law\", \"lawmaker\", \"lawmaker\", \"lawmaker\", \"lawmaker\", \"lawmaker\", \"lawyer\", \"lawyer\", \"lawyer\", \"lawyer\", \"lawyer\", \"lawyer\", \"lawyer\", \"lawyer\", \"lead\", \"lead\", \"lead\", \"lead\", \"lead\", \"lead\", \"lead\", \"lead\", \"lead\", \"lead\", \"lead\", \"lead\", \"lead\", \"lead\", \"lead\", \"league\", \"league\", \"league\", \"league\", \"league\", \"league\", \"league\", \"league\", \"leak\", \"leak\", \"leak\", \"leak\", \"leak\", \"leak\", \"leak\", \"leak\", \"leak\", \"leatherneck\", \"leatherneck\", \"legal_matter\", \"legal_matter\", \"legal_matter\", \"legal_matter\", \"legal_professional\", \"legal_professional\", \"lender\", \"lender\", \"lender\", \"liability\", \"liability\", \"liability\", \"liability\", \"liability\", \"liability\", \"liability\", \"liability\", \"liability\", \"life\", \"life\", \"life\", \"life\", \"life\", \"life\", \"life\", \"life\", \"life\", \"life\", \"life\", \"life\", \"life\", \"life\", \"life\", \"limited\", \"limited\", \"limited\", \"limited\", \"limited\", \"limited\", \"limited\", \"limited\", \"limited\", \"limited\", \"limited\", \"limited\", \"limited\", \"limited\", \"limited\", \"lines_odd\", \"literary_fire\", \"live\", \"live\", \"live\", \"live\", \"live\", \"live\", \"live\", \"live\", \"live\", \"live\", \"live\", \"live\", \"live\", \"live\", \"live\", \"live_map\", \"loan\", \"loan\", \"loan\", \"loan\", \"loan\", \"loan\", \"loan\", \"loan\", \"loan_provider\", \"location\", \"location\", \"location\", \"location\", \"location\", \"location\", \"location\", \"location\", \"location\", \"location\", \"location\", \"location\", \"location\", \"location\", \"location\", \"location\", \"location\", \"location\", \"locksmith\", \"locksmith_chicago\", \"locksmith_professional\", \"look\", \"look\", \"look\", \"look\", \"look\", \"look\", \"look\", \"look\", \"look\", \"look\", \"look\", \"look\", \"look\", \"look\", \"look\", \"look\", \"look\", \"lot\", \"lot\", \"lot\", \"lot\", \"lot\", \"lot\", \"lot\", \"lot\", \"lot\", \"lot\", \"lot\", \"lot\", \"lot\", \"lot\", \"lot\", \"louisiana_court\", \"love\", \"love\", \"love\", \"love\", \"love\", \"love\", \"love\", \"love\", \"love\", \"love\", \"love\", \"love\", \"love\", \"love\", \"love\", \"love_spell\", \"low\", \"low\", \"low\", \"low\", \"low\", \"low\", \"low\", \"low\", \"low\", \"low\", \"low\", \"low\", \"low\", \"low\", \"low\", \"lower_vaccination\", \"lower_vaccination\", \"lunar_rock\", \"made_pointers_per_game\", \"madigan\", \"makayla\", \"make\", \"make\", \"make\", \"make\", \"make\", \"make\", \"make\", \"make\", \"make\", \"make\", \"make\", \"make\", \"make\", \"make\", \"make\", \"make\", \"make\", \"make\", \"man\", \"man\", \"man\", \"man\", \"man\", \"man\", \"man\", \"man\", \"man\", \"man\", \"man\", \"man\", \"man\", \"man\", \"man_moon\", \"man_shot\", \"man_shot\", \"management\", \"management\", \"management\", \"management\", \"management\", \"management\", \"management\", \"management\", \"management\", \"management\", \"management\", \"management\", \"manager_position\", \"manager_position\", \"mandate\", \"mandate\", \"mandate\", \"mandate\", \"mandate\", \"mandate\", \"mandate\", \"mandate\", \"mandate\", \"margin_bottom_px_important\", \"mark_mark_class_hl_orange\", \"market\", \"market\", \"market\", \"market\", \"market\", \"market\", \"market\", \"market\", \"market\", \"market\", \"market\", \"market\", \"market\", \"market\", \"market\", \"market_size\", \"market_size\", \"marketing_communication\", \"mask\", \"mask\", \"mask\", \"mask\", \"mask\", \"mask\", \"mask\", \"mask\", \"mask\", \"mask\", \"mask_mandate\", \"mask_mandate\", \"mask_mandate\", \"mask_mandate\", \"mask_mandate\", \"mask_mandate\", \"match\", \"match\", \"match\", \"match\", \"match\", \"match\", \"match\", \"match\", \"match\", \"match\", \"match\", \"match\", \"match\", \"matters_relating\", \"may_perhap\", \"mb_mb_mb_mb\", \"meat_processing_equipment_market\", \"media_inc\", \"median_household\", \"medically_manage\", \"medication\", \"medication\", \"medication\", \"medication\", \"medication\", \"medication\", \"medication\", \"medicine\", \"medicine\", \"medicine\", \"medicine\", \"medicine\", \"medicine\", \"medicine\", \"medicine\", \"medicine\", \"medtronic\", \"megazord\", \"metal_roof\", \"metal_roof\", \"metal_roofing\", \"metal_roofing\", \"metallic_roofe\", \"method\", \"method\", \"method\", \"method\", \"method\", \"method\", \"method\", \"method\", \"method\", \"method\", \"method\", \"method\", \"method\", \"mind_body\", \"mind_body\", \"mind_body\", \"mississippi\", \"mississippi\", \"mississippi\", \"mississippi\", \"mississippi\", \"mississippi\", \"mississippi\", \"mississippi\", \"mississippi\", \"mississippi\", \"mississippi\", \"modal_body\", \"mom\", \"mom\", \"mom\", \"mom\", \"mom\", \"mom\", \"mom\", \"monetary\", \"money\", \"money\", \"money\", \"money\", \"money\", \"money\", \"money\", \"money\", \"money\", \"money\", \"money\", \"money\", \"money\", \"money\", \"money\", \"money\", \"moon\", \"moon\", \"moon\", \"moon\", \"moon_rock\", \"moon_rock_gift_moon\", \"moon_rocks_moon_rock\", \"moon_stone\", \"mortgage\", \"mortgage\", \"mortgage\", \"mortgage\", \"mortgage\", \"mortgage\", \"mortgage\", \"mortgage\", \"move\", \"move\", \"move\", \"move\", \"move\", \"move\", \"move\", \"move\", \"move\", \"move\", \"move\", \"move\", \"move\", \"move\", \"move\", \"move\", \"move\", \"movie\", \"movie\", \"movie\", \"movie\", \"movie\", \"movie\", \"movie\", \"munchie\", \"murder\", \"murder\", \"murder\", \"murder\", \"murder\", \"museum\", \"museum\", \"museum\", \"museum\", \"museum\", \"museum\", \"music\", \"music\", \"music\", \"music\", \"music\", \"music\", \"musical\", \"musical\", \"musician\", \"musk\", \"nagy_next_three_season\", \"nagy_predecessor_john_fox\", \"nail\", \"nail\", \"nail\", \"nail\", \"nail\", \"nail\", \"nail\", \"nail\", \"nail\", \"nation_third_largest_school\", \"nba\", \"nba\", \"nba\", \"nba\", \"nbc_sport\", \"need\", \"need\", \"need\", \"need\", \"need\", \"need\", \"need\", \"need\", \"need\", \"need\", \"need\", \"need\", \"need\", \"need\", \"need\", \"need\", \"need\", \"net_margin\", \"network_ian\", \"new\", \"new\", \"new\", \"new\", \"new\", \"new\", \"new\", \"new\", \"new\", \"new\", \"new\", \"new\", \"new\", \"new\", \"new\", \"new\", \"new\", \"new_case\", \"new_case\", \"new_case\", \"new_case\", \"new_cycle\", \"new_episode\", \"new_roof\", \"new_roof\", \"new_roofe\", \"new_roofe\", \"news\", \"news\", \"news\", \"news\", \"news\", \"news\", \"news\", \"news\", \"news\", \"news\", \"news\", \"news\", \"news\", \"news\", \"news\", \"news\", \"news\", \"news_alert\", \"news_alert\", \"news_coverage_see_tipico\", \"news_emovies_emusic_ebook\", \"news_headline\", \"news_headline\", \"news_headline\", \"news_interview\", \"news_media\", \"news_news_video\", \"news_videos_new_york\", \"news_videos_videos_wgn\", \"next_click_block_owl\", \"nfl\", \"nfl\", \"nfl\", \"nfl\", \"nfl_draft\", \"nfl_draft\", \"nj_co\", \"non_custodial\", \"nuclear_blast\", \"number\", \"number\", \"number\", \"number\", \"number\", \"number\", \"number\", \"number\", \"number\", \"number\", \"number\", \"number\", \"number\", \"number\", \"number\", \"number\", \"number\", \"number\", \"number_one_rated_alcohol\", \"number_one_rated_alcohol\", \"number_one_rated_alcohol\", \"number_one_rated_alcohol\", \"oakland_news\", \"obtain\", \"obtain\", \"obtain\", \"obtain\", \"obtain\", \"obtain\", \"obtain\", \"obtain\", \"obtain\", \"obtain\", \"obtain\", \"obtain\", \"obtain\", \"obtain\", \"obtain\", \"odds_line\", \"offense\", \"offense\", \"offense\", \"offense\", \"offense\", \"offer\", \"offer\", \"offer\", \"offer\", \"offer\", \"offer\", \"offer\", \"offer\", \"offer\", \"offer\", \"offer\", \"offer\", \"offer\", \"offer\", \"offer\", \"offer\", \"offer\", \"offer_rapoport_reports_pole\", \"office\", \"office\", \"office\", \"office\", \"office\", \"office\", \"office\", \"office\", \"office\", \"office\", \"office\", \"office\", \"office\", \"office\", \"officer\", \"officer\", \"officer\", \"officer\", \"officer\", \"officer\", \"officer\", \"officer\", \"official_rule\", \"official_sweepstake\", \"offseason\", \"offseason\", \"offsetwidth\", \"offsetwidth_winw\", \"omicron\", \"omicron\", \"omicron\", \"omicron\", \"omicron\", \"omicron\", \"omicron\", \"one_chicago\", \"one_chicago\", \"one_chicago\", \"one_chicago\", \"one_chicago\", \"one_chicago\", \"one_chicago\", \"one_chicago\", \"one_chicago\", \"one_count\", \"one_mom\", \"one_parent\", \"one_parent\", \"opened_fire\", \"operation\", \"operation\", \"operation\", \"operation\", \"operation\", \"operation\", \"operation\", \"operation\", \"operation\", \"operation\", \"operation\", \"operation\", \"operation\", \"operation\", \"operation\", \"opponent\", \"opponent\", \"opponent\", \"opponent\", \"opponent\", \"opponent\", \"opponent\", \"opponent\", \"opportunity\", \"opportunity\", \"opportunity\", \"opportunity\", \"opportunity\", \"opportunity\", \"opportunity\", \"opportunity\", \"opportunity\", \"opportunity\", \"opportunity\", \"opportunity\", \"opportunity\", \"opportunity\", \"opportunity\", \"opportunity\", \"order\", \"order\", \"order\", \"order\", \"order\", \"order\", \"order\", \"order\", \"order\", \"order\", \"order\", \"order\", \"order\", \"order\", \"order\", \"order\", \"order\", \"original_blog_post\", \"overall_record_include\", \"owl\", \"owl\", \"owl\", \"owl_item\", \"own\", \"own\", \"own\", \"own\", \"own\", \"own\", \"own\", \"own\", \"own\", \"own\", \"own\", \"owns_share\", \"packer\", \"packer\", \"packer\", \"packer\", \"packer\", \"padding_bottom_px_important\", \"paid_programme\", \"pandemic\", \"pandemic\", \"pandemic\", \"pandemic\", \"pandemic\", \"pandemic\", \"pandemic\", \"pandemic\", \"pandemic\", \"pandemic\", \"pantagraph_blm\", \"parent\", \"parent\", \"parent\", \"parent\", \"parent\", \"parent\", \"parent\", \"parent\", \"parent\", \"parent\", \"parent\", \"parent_time_order\", \"parole\", \"part\", \"part\", \"part\", \"part\", \"part\", \"part\", \"part\", \"part\", \"part\", \"part\", \"part\", \"part\", \"part\", \"part\", \"part\", \"part\", \"part\", \"part\", \"participate\", \"participate\", \"participate\", \"participate\", \"participate\", \"participate\", \"participate\", \"participate\", \"participate\", \"participate\", \"participate\", \"participate\", \"participate\", \"participate\", \"participating_station\", \"partner\", \"partner\", \"partner\", \"partner\", \"partner\", \"partner\", \"partner\", \"partner\", \"partner\", \"partner\", \"partner\", \"partner\", \"partner\", \"partner\", \"partner\", \"partnership\", \"partnership\", \"partnership\", \"partnership\", \"partnership\", \"partnership\", \"partnership\", \"partnership\", \"partnership\", \"partnership\", \"partnership\", \"party\", \"party\", \"party\", \"party\", \"party\", \"party\", \"party\", \"party\", \"party\", \"party\", \"party\", \"party\", \"party\", \"party\", \"party\", \"past_game\", \"past_game\", \"past_week_new_case\", \"patient\", \"patient\", \"patient\", \"patient\", \"patient\", \"patient\", \"patient\", \"patient\", \"patient\", \"patient\", \"patient\", \"pay_anywhere\", \"pay_day_loan\", \"payday_advance\", \"payday_loan\", \"payment\", \"payment\", \"payment\", \"payment\", \"payment\", \"payment\", \"payment\", \"payment\", \"payment\", \"payment\", \"payment\", \"peers_description\", \"pelham\", \"pelham\", \"penalty\", \"penalty\", \"penalty\", \"penalty\", \"penalty\", \"penalty\", \"penalty\", \"penalty\", \"penalty\", \"penalty_minute\", \"penalty_minute\", \"people\", \"people\", \"people\", \"people\", \"people\", \"people\", \"people\", \"people\", \"people\", \"people\", \"people\", \"people\", \"people\", \"people\", \"people\", \"per_game\", \"per_game\", \"per_share\", \"per_share\", \"per_share\", \"per_total\", \"percentages_fg_ft_point\", \"person\", \"person\", \"person\", \"person\", \"person\", \"person\", \"person\", \"person\", \"person\", \"person\", \"person\", \"person\", \"person\", \"person\", \"person\", \"person\", \"person\", \"person_classe\", \"person_instruction\", \"person_learne\", \"person_learne\", \"person_learning\", \"person_learning\", \"person_registration\", \"phase\", \"phase\", \"phase\", \"phase\", \"phase\", \"phase\", \"phase\", \"phase\", \"phase\", \"phase\", \"phase\", \"phase\", \"phase\", \"photo\", \"photo\", \"photo\", \"photo\", \"photo\", \"photo\", \"photo\", \"photo\", \"photo\", \"photo\", \"photo\", \"photo\", \"photo\", \"photo\", \"photo\", \"photos_uploade\", \"php\", \"php\", \"php\", \"php_pl_code_new\", \"physical_custodianship\", \"pick\", \"pick\", \"pick\", \"pick\", \"pick\", \"pick\", \"pick\", \"pick\", \"pick\", \"pick\", \"pick\", \"pick\", \"pick\", \"pick\", \"pick\", \"pick\", \"picks_prediction\", \"picks_prediction\", \"pie\", \"pie\", \"pie\", \"pie\", \"pie\", \"pie\", \"pittsburgh_steeler\", \"pizza\", \"pizza\", \"pizza_beer\", \"pizza_crust\", \"place\", \"place\", \"place\", \"place\", \"place\", \"place\", \"place\", \"place\", \"place\", \"place\", \"place\", \"place\", \"place\", \"place\", \"place\", \"place\", \"place\", \"plan\", \"plan\", \"plan\", \"plan\", \"plan\", \"plan\", \"plan\", \"plan\", \"plan\", \"plan\", \"plan\", \"plan\", \"plan\", \"plan\", \"plan\", \"plan\", \"plan\", \"plan\", \"play\", \"play\", \"play\", \"play\", \"play\", \"play\", \"play\", \"play\", \"play\", \"play\", \"play\", \"play\", \"play\", \"play\", \"play\", \"played_game\", \"player\", \"player\", \"player\", \"player\", \"player\", \"player\", \"player\", \"player\", \"player\", \"player\", \"player\", \"player\", \"player_personnel_champ_kelly\", \"player_personnel_ed_dodd\", \"player_personnel_glenn_cook\", \"player_personnel_ran_carthon\", \"playoff\", \"playoff\", \"please_refer\", \"plumbing_professional\", \"plywood_sheathing\", \"point\", \"point\", \"point\", \"point\", \"point\", \"point\", \"point\", \"point\", \"point\", \"point\", \"point\", \"point\", \"point\", \"point\", \"point\", \"point\", \"point\", \"point\", \"point_goal\", \"points_per_game\", \"points_per_game\", \"points_rebounds_assists_steal\", \"points_rebounds_assists_steal\", \"points_top_performer\", \"pole\", \"pole\", \"pole\", \"pole\", \"pole\", \"poles_prior\", \"police\", \"police\", \"police\", \"police\", \"police\", \"police\", \"police\", \"police\", \"police_accountability\", \"police_department\", \"police_department\", \"police_department\", \"police_department\", \"police_officer\", \"police_officer\", \"police_officer\", \"police_officer\", \"portfolio\", \"portfolio\", \"portfolio\", \"portfolio\", \"portfolio\", \"portfolio\", \"portfolio\", \"portion\", \"portion\", \"portion\", \"portion\", \"portion\", \"portion\", \"portion\", \"portion\", \"portion\", \"portion\", \"portion\", \"portion\", \"portion\", \"portion\", \"position\", \"position\", \"position\", \"position\", \"position\", \"position\", \"position\", \"position\", \"position\", \"position\", \"position\", \"position\", \"position\", \"position\", \"position\", \"position\", \"position_title\", \"positivity_rate\", \"positivity_rate\", \"positivity_rate\", \"possess\", \"possess\", \"possess\", \"possess\", \"possess\", \"possess\", \"possess\", \"possess\", \"possess\", \"possess\", \"possess\", \"post\", \"post\", \"post\", \"post\", \"post\", \"post\", \"post\", \"post\", \"post\", \"post\", \"post\", \"post\", \"post\", \"post\", \"post\", \"post\", \"post\", \"post_length\", \"postseason\", \"postseason\", \"potential_winner\", \"poverty_line\", \"poverty_line\", \"poverty_line\", \"power_book_iv_force\", \"practical_experience\", \"practical_experience\", \"practical_experience\", \"pre_alcoholic\", \"prev_owl\", \"prevention\", \"prevention\", \"prevention\", \"prevention\", \"prevention\", \"prevention\", \"prevention\", \"prevention\", \"previous_week\", \"previous_week\", \"previous_week\", \"previous_week\", \"previous_week\", \"previous_week\", \"price\", \"price\", \"price\", \"price\", \"price\", \"price\", \"price\", \"price\", \"price\", \"price\", \"price\", \"price\", \"price\", \"price\", \"price\", \"price\", \"price\", \"price_objective\", \"price_target\", \"print\", \"print\", \"print\", \"print\", \"print\", \"print\", \"print\", \"print\", \"print\", \"print\", \"print\", \"prison\", \"prison\", \"prison\", \"prison\", \"prison\", \"prison\", \"prize\", \"prize\", \"prize\", \"prize_awarde\", \"prize_include\", \"prize_winner\", \"prnewswire_com_news_release\", \"prnewswire_com_news_release\", \"prnewswire_com_news_release\", \"problem\", \"problem\", \"problem\", \"problem\", \"problem\", \"problem\", \"problem\", \"problem\", \"problem\", \"problem\", \"problem\", \"problem\", \"problem\", \"problem\", \"problem\", \"problem\", \"product\", \"product\", \"product\", \"product\", \"product\", \"product\", \"product\", \"product\", \"product\", \"product\", \"product\", \"product\", \"product\", \"program\", \"program\", \"program\", \"program\", \"program\", \"program\", \"program\", \"program\", \"program\", \"program\", \"program\", \"program\", \"program\", \"program\", \"program\", \"project\", \"project\", \"project\", \"project\", \"project\", \"project\", \"project\", \"project\", \"project\", \"project\", \"project\", \"project\", \"project\", \"project\", \"project_management\", \"prom_dresse\", \"prom_dresses_springfield_il\", \"promoting_current\", \"prosecutor\", \"prosecutor\", \"prosecutor\", \"prosecutors_said\", \"prosecutors_said\", \"provide\", \"provide\", \"provide\", \"provide\", \"provide\", \"provide\", \"provide\", \"provide\", \"provide\", \"provide\", \"provide\", \"provide\", \"provide\", \"provide\", \"provide\", \"provide\", \"provide\", \"provide\", \"ps_bg_td_social\", \"ps_big_td_social\", \"public_school\", \"public_school\", \"public_school\", \"public_school\", \"public_school\", \"public_school\", \"puck\", \"purchase\", \"purchase\", \"purchase\", \"purchase\", \"purchase\", \"purchase\", \"purchase\", \"purchase\", \"purchase\", \"purchase\", \"purchase\", \"purchase\", \"purchase\", \"purchase\", \"purchase\", \"purchase\", \"purchase\", \"purchaser\", \"push_function_googletag_display\", \"push_function_googletag_display\", \"push_function_googletag_display\", \"push_function_googletag_display\", \"quarter_compare\", \"quote\", \"quote\", \"quote\", \"quote\", \"quote\", \"quote\", \"quote\", \"quote\", \"quote\", \"quote\", \"quote\", \"quote\", \"rambler\", \"rambler\", \"rambler\", \"rambler\", \"rambler\", \"random_drawe\", \"rapoport\", \"rarbg\", \"rate\", \"rate\", \"rate\", \"rate\", \"rate\", \"rate\", \"rate\", \"rate\", \"rate\", \"rate\", \"rate\", \"rate\", \"rate\", \"rate\", \"rate\", \"rate\", \"rate\", \"rating\", \"rating\", \"rating\", \"rating\", \"rating\", \"rating\", \"rating\", \"rating\", \"rating\", \"rating\", \"rating\", \"ratio\", \"ratio\", \"ratio\", \"ratio\", \"ratio\", \"ratio\", \"ratio\", \"ratio\", \"ratio\", \"ratio\", \"ratio\", \"rattle\", \"rattle\", \"rattle\", \"rattle\", \"rattle\", \"rattle\", \"real_estate_real_estate\", \"real_estate_stories_tag\", \"rebounds_assists_steals_block\", \"receive_prize\", \"recent_file\", \"regard\", \"regard\", \"regard\", \"regard\", \"regard\", \"regard\", \"regard\", \"regard\", \"regard\", \"regard\", \"regard\", \"regard\", \"regard\", \"regard\", \"region\", \"region\", \"region\", \"region\", \"region\", \"region\", \"region\", \"region\", \"region\", \"region\", \"region\", \"region\", \"region\", \"region\", \"region\", \"regular_season\", \"release\", \"release\", \"release\", \"release\", \"release\", \"release\", \"release\", \"release\", \"release\", \"release\", \"release\", \"release\", \"release\", \"release\", \"release\", \"release\", \"release\", \"release\", \"released_partie\", \"remained_stable\", \"remained_stable\", \"remained_stable\", \"remote_instruction\", \"remote_learne\", \"remote_learning\", \"repair\", \"repair\", \"repair\", \"repair\", \"repair\", \"repair\", \"repair\", \"repair\", \"repair\", \"repair\", \"repair\", \"repair_work\", \"repair_work\", \"repair_work\", \"replace\", \"replace\", \"replace\", \"replace\", \"replace\", \"replace\", \"replace\", \"replace\", \"replace\", \"replace\", \"replace\", \"replace\", \"replace\", \"replace\", \"replace\", \"report\", \"report\", \"report\", \"report\", \"report\", \"report\", \"report\", \"report\", \"report\", \"report\", \"report\", \"report\", \"report\", \"report\", \"report\", \"report\", \"report\", \"report\", \"representative_basis\", \"republican\", \"republican\", \"republican\", \"requested_interview\", \"requested_permission\", \"require\", \"require\", \"require\", \"require\", \"require\", \"require\", \"require\", \"require\", \"require\", \"require\", \"require\", \"require\", \"require\", \"require\", \"require\", \"require\", \"research\", \"research\", \"research\", \"research\", \"research\", \"research\", \"research\", \"research\", \"research\", \"research\", \"research\", \"research\", \"research\", \"research\", \"research_note\", \"residence\", \"residence\", \"residence\", \"residence\", \"residence\", \"residence\", \"residence\", \"residence\", \"residence\", \"residence\", \"residence\", \"residence\", \"residence\", \"resident\", \"resident\", \"resident\", \"resident\", \"resident\", \"resident\", \"resident\", \"resident\", \"resident\", \"resident\", \"resident\", \"resident\", \"resident\", \"resident\", \"respective_general\", \"responsible\", \"responsible\", \"responsible\", \"responsible\", \"responsible\", \"responsible\", \"responsible\", \"responsible\", \"responsible\", \"responsible\", \"responsible\", \"responsible\", \"restaurant\", \"restaurant\", \"restaurant\", \"restaurant\", \"restaurant\", \"restaurant\", \"restaurant\", \"restaurant\", \"restaurant\", \"restaurant\", \"restaurant\", \"restaurant\", \"return\", \"return\", \"return\", \"return\", \"return\", \"return\", \"return\", \"return\", \"return\", \"return\", \"return\", \"return\", \"return\", \"return\", \"return\", \"return\", \"return\", \"return_else\", \"revert\", \"revert\", \"revert\", \"revert\", \"ricketts_family\", \"ricketts_family\", \"ricketts_family\", \"right\", \"right\", \"right\", \"right\", \"right\", \"right\", \"right\", \"right\", \"right\", \"right\", \"right\", \"right\", \"right\", \"right\", \"right\", \"right\", \"right\", \"right\", \"rightful_owner\", \"rilu\", \"risks_uncertaintie\", \"risks_uncertaintie\", \"robert_cohen_robert_cohen\", \"rock\", \"rock\", \"rock\", \"rock\", \"rock\", \"rock\", \"rock\", \"rock\", \"rock\", \"rock\", \"rock\", \"roe_wade\", \"roll\", \"roll\", \"roll\", \"roll\", \"roll\", \"roll\", \"roll\", \"roll\", \"roll\", \"roll\", \"roll\", \"roll\", \"roll\", \"roll\", \"roof\", \"roof\", \"roof\", \"roof\", \"roof\", \"roof\", \"roof\", \"roof\", \"roof_covere\", \"roof_covere\", \"roof_covere\", \"roof_repair\", \"roof_repair\", \"roof_shingle\", \"roof_shingle\", \"roof_shingle\", \"roof_substitution\", \"roofer\", \"roofer\", \"roofing\", \"roofing\", \"roofing_chicago\", \"roofing_chicago\", \"roofing_chicago_il\", \"roofing_companie\", \"roofing_companie\", \"roofing_companies_chicago\", \"roofing_companies_chicago\", \"roofing_companies_chicago\", \"roofing_company_chicago\", \"roofing_company_chicago_il\", \"roofing_company_chicago_il\", \"roofing_contractor\", \"roofing_contractor\", \"roofing_contractor_chicago_il\", \"roofing_contractor_chicago_il\", \"roofing_contractor_chicago_il\", \"roofing_repair_chicago_il\", \"roofing_repair_chicago_il\", \"roofing_system\", \"roofing_system\", \"roster\", \"roster\", \"roster\", \"roster\", \"roster\", \"roster\", \"roster\", \"roster\", \"roster\", \"rule\", \"rule\", \"rule\", \"rule\", \"rule\", \"rule\", \"rule\", \"rule\", \"rule\", \"rule\", \"rule\", \"rule\", \"rule\", \"rule\", \"run\", \"run\", \"run\", \"run\", \"run\", \"run\", \"run\", \"run\", \"run\", \"run\", \"run\", \"run\", \"run\", \"run\", \"run\", \"run\", \"ruzek\", \"safe_act\", \"safekeepe\", \"sale\", \"sale\", \"sale\", \"sale\", \"sale\", \"sale\", \"sale\", \"sale\", \"sale\", \"sale\", \"sale\", \"sale\", \"sale\", \"sale\", \"sale\", \"sale_florida_cbd_farmhouse\", \"saluki\", \"saluki\", \"san_francisco_ers_director\", \"sat_jan_hits_us\", \"sauce\", \"sauce\", \"save\", \"save\", \"save\", \"save\", \"save\", \"save\", \"save\", \"save\", \"save\", \"save\", \"save\", \"save\", \"save\", \"save\", \"save\", \"saw_immediate_success\", \"say\", \"say\", \"say\", \"say\", \"say\", \"say\", \"say\", \"say\", \"say\", \"say\", \"say\", \"say\", \"say\", \"say\", \"say\", \"say\", \"scenario\", \"scenario\", \"scenario\", \"scenario\", \"scenario\", \"scenario\", \"scenario\", \"scenario\", \"scenario\", \"scenario\", \"scenario\", \"scene_reporte\", \"school\", \"school\", \"school\", \"school\", \"school\", \"school\", \"school\", \"school\", \"school\", \"school\", \"school\", \"school\", \"school\", \"school_building\", \"school_district\", \"school_district\", \"school_official\", \"schools_safe\", \"scoop\", \"scoop\", \"scoop\", \"scoop\", \"scoop\", \"scoop\", \"scoop\", \"score\", \"score\", \"score\", \"score\", \"score\", \"score\", \"score\", \"score\", \"score\", \"score\", \"score\", \"score\", \"scoring_points_per_game\", \"scoring_points_per_game\", \"scour\", \"scour\", \"scour\", \"search\", \"search\", \"search\", \"search\", \"search\", \"search\", \"search\", \"search\", \"search\", \"search\", \"search\", \"search\", \"search\", \"season\", \"season\", \"season\", \"season\", \"season\", \"season\", \"season\", \"season\", \"season\", \"season\", \"season\", \"season\", \"season\", \"second_half\", \"second_half\", \"second_half\", \"second_half\", \"second_half\", \"second_interview_stage\", \"seconds_left\", \"see\", \"see\", \"see\", \"see\", \"see\", \"see\", \"see\", \"see\", \"see\", \"see\", \"see\", \"see\", \"see\", \"see\", \"see\", \"see\", \"see\", \"self_understande\", \"sell_rate\", \"sentence\", \"sentence\", \"sentence\", \"sentence\", \"sentence\", \"sentence\", \"sentencing\", \"separation\", \"separation\", \"separation\", \"separation\", \"separation\", \"separation\", \"separation\", \"separation\", \"separation\", \"serve\", \"serve\", \"serve\", \"serve\", \"serve\", \"serve\", \"serve\", \"serve\", \"serve\", \"serve\", \"serve\", \"serve\", \"serve\", \"serve\", \"serve\", \"serve\", \"service\", \"service\", \"service\", \"service\", \"service\", \"service\", \"service\", \"service\", \"service\", \"service\", \"service\", \"service\", \"service\", \"service\", \"service\", \"service\", \"service\", \"set\", \"set\", \"set\", \"set\", \"set\", \"set\", \"set\", \"set\", \"set\", \"set\", \"set\", \"set\", \"set\", \"set\", \"set\", \"set\", \"set_forth\", \"set_forth\", \"set_forth\", \"set_forth\", \"set_forth\", \"set_forth\", \"set_hold_rate\", \"seven_day_rolling_average\", \"seven_day_rolling_average\", \"severide\", \"sex_couple\", \"share\", \"share\", \"share\", \"share\", \"share\", \"share\", \"share\", \"share\", \"share\", \"share\", \"share\", \"share\", \"share\", \"share\", \"share\", \"share\", \"share\", \"share\", \"shingle\", \"shingle\", \"shoot\", \"shoot\", \"shoot\", \"shoot\", \"shoot\", \"shoot\", \"shoot\", \"shoot\", \"shoot\", \"shoot\", \"shoot\", \"shoot\", \"shooting_death\", \"shooting_death\", \"shopper\", \"shopper\", \"shopper\", \"shopper\", \"shopper\", \"shopper\", \"shopper\", \"short_form\", \"shot_kille\", \"shot_kille\", \"shots_fired\", \"show\", \"show\", \"show\", \"show\", \"show\", \"show\", \"show\", \"show\", \"show\", \"show\", \"show\", \"show\", \"show\", \"show\", \"show\", \"show\", \"show\", \"side\", \"side\", \"side\", \"side\", \"side\", \"side\", \"side\", \"side\", \"side\", \"side\", \"side\", \"side\", \"side\", \"simply\", \"simply\", \"simply\", \"simply\", \"simply\", \"simply\", \"simply\", \"simply\", \"simply\", \"simply\", \"simply\", \"simply\", \"simply\", \"site\", \"site\", \"site\", \"site\", \"site\", \"site\", \"site\", \"site\", \"site\", \"site\", \"site\", \"site\", \"site\", \"site\", \"situation\", \"situation\", \"situation\", \"situation\", \"situation\", \"situation\", \"situation\", \"situation\", \"situation\", \"situation\", \"situation\", \"situation\", \"situation\", \"situation\", \"sized_dumpster_online\", \"skrive\", \"smartphone_enable\", \"smoking_cigarette\", \"smoking_cigarette\", \"smollett\", \"snow\", \"snow\", \"snow\", \"snow\", \"snow\", \"snow\", \"snow\", \"snow\", \"snow\", \"snow_expecte\", \"social\", \"social\", \"social\", \"social\", \"social\", \"social_science\", \"social_science\", \"social_scientist\", \"sold_share\", \"sole_discretion\", \"sole_discretion\", \"sole_responsibility\", \"song\", \"song\", \"soon\", \"soon\", \"soon\", \"soon\", \"soon\", \"soon\", \"soon\", \"soon\", \"soon\", \"soon\", \"soon\", \"soon\", \"soon\", \"soon\", \"soon\", \"soon\", \"source_hotel_food_drink\", \"sox\", \"sox\", \"sox\", \"soybean\", \"soybean\", \"specialty_product\", \"specified_herein\", \"spent_tuesday_january_interviewing\", \"sponsor\", \"sponsor\", \"sponsor\", \"sponsor\", \"sponsor\", \"sponsor\", \"sponsor\", \"sponsor\", \"sponsor\", \"sponsor_reserve\", \"sponsor_website\", \"sportradar\", \"sportradar_data\", \"sports_betting_pick\", \"sportsbookwire\", \"spread\", \"spread\", \"spread\", \"spread\", \"spread\", \"spread\", \"spread\", \"spread\", \"spread\", \"spread\", \"spread\", \"spread\", \"spread\", \"spread\", \"spread\", \"spread_at\", \"spring\", \"spring\", \"spring\", \"spring\", \"spring\", \"spring\", \"spring\", \"spring\", \"spring\", \"spring\", \"spring\", \"spring\", \"springfield_il_prom_dresse\", \"staff\", \"staff\", \"staff\", \"staff\", \"staff\", \"staff\", \"staff\", \"staff\", \"staff\", \"staff\", \"staff\", \"staff\", \"staff\", \"staff\", \"staff\", \"stake\", \"stake\", \"stake\", \"stake\", \"stake\", \"stake\", \"stake\", \"stake\", \"stake\", \"start\", \"start\", \"start\", \"start\", \"start\", \"start\", \"start\", \"start\", \"start\", \"start\", \"start\", \"start\", \"start\", \"start\", \"start\", \"start\", \"start\", \"start\", \"started_game\", \"state\", \"state\", \"state\", \"state\", \"state\", \"state\", \"state\", \"state\", \"state\", \"state\", \"state\", \"state\", \"state\", \"state\", \"state\", \"state\", \"state\", \"state\", \"state_reported\", \"state_since\", \"state_since\", \"state_since\", \"state_since\", \"state_since\", \"states_table\", \"stella\", \"step_design\", \"step_facilitation\", \"step_model\", \"step_program\", \"step_program\", \"step_version\", \"stock\", \"stock\", \"stock\", \"stock\", \"stock\", \"stock\", \"stock\", \"stock\", \"stock\", \"stock\", \"stock\", \"stock_currently\", \"stone\", \"stone\", \"stone\", \"stone\", \"stone\", \"stone\", \"stone\", \"stone\", \"stone\", \"stone\", \"store\", \"store\", \"store\", \"store\", \"store\", \"store\", \"store\", \"store\", \"store\", \"store\", \"store\", \"store\", \"store\", \"store\", \"stories_tag_real_estate\", \"storm\", \"storm\", \"storm\", \"storm\", \"storm\", \"storm\", \"storm\", \"storm\", \"storm_swept\", \"story\", \"story\", \"story\", \"story\", \"story\", \"story\", \"story\", \"story\", \"story\", \"story\", \"story\", \"story\", \"story\", \"story\", \"story\", \"story\", \"story_using_technology_provide\", \"strikeout\", \"student\", \"student\", \"student\", \"student\", \"student\", \"student\", \"student\", \"student\", \"student\", \"student\", \"student\", \"student\", \"students_familie\", \"students_returne\", \"students_staff\", \"students_teacher\", \"students_teacher\", \"style\", \"style\", \"style\", \"style\", \"style\", \"style\", \"style\", \"style\", \"style\", \"style\", \"style\", \"style\", \"style\", \"style_pizza\", \"subject\", \"subject\", \"subject\", \"subject\", \"subject\", \"subject\", \"subject\", \"subject\", \"subject\", \"subject\", \"subject\", \"subject\", \"subject\", \"subject\", \"subject\", \"subvariant\", \"sud_right\", \"sunday_mark_class_hl_orange\", \"suppliers_anonymously\", \"support\", \"support\", \"support\", \"support\", \"support\", \"support\", \"support\", \"support\", \"support\", \"support\", \"support\", \"support\", \"support\", \"support\", \"suspect\", \"suspect\", \"suspect\", \"suspect\", \"suspect\", \"suspect\", \"suspect\", \"suspect\", \"suspect\", \"sustainability\", \"sustainability\", \"sustainability\", \"swarm_seeder\", \"sweepstake\", \"sweepstakes_entitie\", \"sweepstakes_entrant\", \"symptom\", \"symptom\", \"symptom\", \"symptom\", \"symptom\", \"symptom\", \"symptom\", \"symptom\", \"symptom\", \"symptom\", \"symptom\", \"system_network\", \"take\", \"take\", \"take\", \"take\", \"take\", \"take\", \"take\", \"take\", \"take\", \"take\", \"take\", \"take\", \"take\", \"take\", \"take\", \"take\", \"take\", \"take\", \"tar_paper\", \"target_price\", \"td_module_wrap_nth_last_child\", \"td_post_sharing_style\", \"td_ps_big_td\", \"td_pulldown_filter_display\", \"td_pulldown_filter_display\", \"td_social\", \"td_subcat\", \"td_subcat\", \"td_wrapper_pulldown_filter\", \"tdi\", \"tdi\", \"teacher\", \"teacher\", \"teacher\", \"teacher\", \"teachers_union\", \"team\", \"team\", \"team\", \"team\", \"team\", \"team\", \"team\", \"team\", \"team\", \"team\", \"team\", \"team\", \"team\", \"team\", \"team\", \"team\", \"team_member\", \"team_member\", \"team_member\", \"team_member\", \"team_rebounds_team_turnover\", \"technology\", \"technology\", \"technology\", \"technology\", \"technology\", \"technology\", \"technology\", \"technology\", \"technology\", \"technology\", \"technology\", \"technology\", \"terrorist_act\", \"test\", \"test\", \"test\", \"test\", \"test\", \"test\", \"test\", \"test\", \"test\", \"test\", \"test\", \"test\", \"test\", \"test\", \"testing\", \"testing\", \"testing\", \"testing\", \"testing\", \"testing\", \"testing\", \"testing\", \"testing\", \"testing\", \"text_background_color_td\", \"text_border_color_td\", \"text_color_td_social\", \"text_javascript_src_https\", \"thc\", \"thc\", \"theater\", \"theater\", \"theater\", \"therapy\", \"therapy\", \"therapy\", \"therapy\", \"therapy\", \"therapy\", \"therapy\", \"thin_crust_pizza\", \"thing\", \"thing\", \"thing\", \"thing\", \"thing\", \"thing\", \"thing\", \"thing\", \"thing\", \"thing\", \"thing\", \"thing\", \"thing\", \"thing\", \"thing\", \"thing\", \"think\", \"think\", \"think\", \"think\", \"think\", \"think\", \"think\", \"think\", \"think\", \"think\", \"think\", \"think\", \"think\", \"think\", \"think\", \"third_dose\", \"third_dose\", \"thu_mar_hits_us\", \"thunderstorm\", \"thursday_march_st\", \"tile\", \"tile\", \"tile\", \"tile\", \"tile\", \"time\", \"time\", \"time\", \"time\", \"time\", \"time\", \"time\", \"time\", \"time\", \"time\", \"time\", \"time\", \"time\", \"time\", \"time\", \"time\", \"time\", \"time\", \"tipico\", \"tips_access\", \"tomato_sauce\", \"tong\", \"tong\", \"tooth\", \"tooth\", \"tooth\", \"tooth\", \"tooth\", \"tooth\", \"top\", \"top\", \"top\", \"top\", \"top\", \"top\", \"top\", \"top\", \"top\", \"top\", \"top\", \"top\", \"top\", \"top\", \"top\", \"top\", \"top\", \"top_hire\", \"torrent_download\", \"toss\", \"toss\", \"toss\", \"toss\", \"toss\", \"toss\", \"toss\", \"toss\", \"toss\", \"total_employe\", \"total_individual\", \"total_transaction\", \"total_value\", \"total_value\", \"tour\", \"tour\", \"tour\", \"tour\", \"tour\", \"tour\", \"tour\", \"tour\", \"tr_udp\", \"trackactive\", \"transaction\", \"transaction\", \"transaction\", \"transaction\", \"transaction\", \"transaction\", \"transaction\", \"transaction\", \"translated_owl_carousel_function\", \"treatment\", \"treatment\", \"treatment\", \"treatment\", \"treatment\", \"treatment\", \"treatment\", \"treatment\", \"treatment\", \"treatment\", \"treatment\", \"treatment\", \"treatment\", \"treatment\", \"treatment\", \"truck_accident\", \"true_margin_nav_false\", \"true_trackactive_card_carousel__bind\", \"twitter_follow\", \"two_game\", \"type\", \"type\", \"type\", \"type\", \"type\", \"type\", \"type\", \"type\", \"type\", \"type\", \"type\", \"type\", \"type\", \"type\", \"type\", \"type\", \"udp_ftracker\", \"udp_tracker\", \"ukraine\", \"ukraine\", \"ukraine\", \"ukraine\", \"ukraine\", \"underlayment\", \"underlayment\", \"underlayment\", \"underweight_rate\", \"union\", \"union\", \"union\", \"union\", \"union\", \"union\", \"union\", \"union\", \"union\", \"union\", \"union_action\", \"union_member\", \"union_member\", \"university\", \"university\", \"university\", \"university\", \"university\", \"university\", \"university\", \"university\", \"university\", \"university\", \"university\", \"university\", \"university\", \"university\", \"uploaded_video\", \"us_analyze\", \"use\", \"use\", \"use\", \"use\", \"use\", \"use\", \"use\", \"use\", \"use\", \"use\", \"use\", \"use\", \"use\", \"use\", \"use\", \"use\", \"use\", \"use\", \"use_cookie\", \"use_cookie\", \"use_cookie\", \"use_cookie\", \"usually\", \"usually\", \"usually\", \"usually\", \"usually\", \"usually\", \"usually\", \"usually\", \"usually\", \"usually\", \"usually\", \"usually\", \"vaccine\", \"vaccine\", \"vaccine\", \"vaccine\", \"vaccine\", \"vaccine\", \"vaccine\", \"vaccine\", \"vaccine\", \"vaccine\", \"vaccine_dose\", \"vaccine_dose\", \"vaccine_dose\", \"vaccines_administered_daily\", \"vaccines_administered_daily\", \"value\", \"value\", \"value\", \"value\", \"value\", \"value\", \"value\", \"value\", \"value\", \"value\", \"value\", \"value\", \"value\", \"value\", \"value\", \"value\", \"van_dyke\", \"var_activethings_owl_find\", \"var_hasbeenlogge\", \"var_winw\", \"variant\", \"variant\", \"variant\", \"variant\", \"variant\", \"variant\", \"various\", \"various\", \"various\", \"various\", \"various\", \"various\", \"various\", \"various\", \"various\", \"various\", \"various\", \"various\", \"various\", \"various\", \"various\", \"vehicle_accident\", \"ventilator\", \"ventilator\", \"ventilator\", \"ventilator\", \"ventilator\", \"victim\", \"victim\", \"victim\", \"victim\", \"victim\", \"victim\", \"victim\", \"video_blog_post_demonstrate\", \"video_blogge\", \"video_upper_left_hand\", \"videostagged_cbs_chicago\", \"view\", \"view\", \"view\", \"view\", \"view\", \"view\", \"view\", \"view\", \"view\", \"view\", \"view\", \"view\", \"view\", \"view\", \"view\", \"vikings_went\", \"violence\", \"violence\", \"violence\", \"violence\", \"violence\", \"virus\", \"virus\", \"virus\", \"virus\", \"virus\", \"virus\", \"virus\", \"virus\", \"virus\", \"visit_holdingschannel_com\", \"visitation\", \"visitation\", \"voight\", \"vote\", \"vote\", \"vote\", \"vote\", \"vote\", \"vote\", \"vote\", \"vote\", \"vote\", \"vote\", \"voter\", \"voter\", \"voter\", \"voter\", \"vpn\", \"vpn\", \"vpn\", \"vucevic\", \"want\", \"want\", \"want\", \"want\", \"want\", \"want\", \"want\", \"want\", \"want\", \"want\", \"want\", \"want\", \"want\", \"want\", \"want\", \"want\", \"want\", \"wardship\", \"wastewater_service\", \"wastewater_service\", \"wastewater_service\", \"watch\", \"watch\", \"watch\", \"watch\", \"watch\", \"watch\", \"watch\", \"watch\", \"watch\", \"watch\", \"watch\", \"watch\", \"watch\", \"watch\", \"watch\", \"water_damage\", \"way\", \"way\", \"way\", \"way\", \"way\", \"way\", \"way\", \"way\", \"way\", \"way\", \"way\", \"way\", \"way\", \"way\", \"way\", \"way\", \"way\", \"way_dependent\", \"wear_mask\", \"wear_mask\", \"wear_mask\", \"wear_mask\", \"wear_mask\", \"weather\", \"weather\", \"weather\", \"weather\", \"weather\", \"weather\", \"weather\", \"weather\", \"weather\", \"weather\", \"weather\", \"weather_alert\", \"weather_data\", \"web_site\", \"web_site\", \"web_site\", \"web_site\", \"web_site\", \"web_site\", \"web_site\", \"website\", \"website\", \"website\", \"website\", \"website\", \"website\", \"website\", \"website\", \"website\", \"website\", \"website\", \"website\", \"website\", \"website\", \"website\", \"website\", \"website\", \"website\", \"website_use\", \"website_use\", \"website_use\", \"weed\", \"weed\", \"weed\", \"weed\", \"weed\", \"weed\", \"weed\", \"weed\", \"week\", \"week\", \"week\", \"week\", \"week\", \"week\", \"week\", \"week\", \"week\", \"week\", \"week\", \"week\", \"week\", \"week\", \"week\", \"well\", \"well\", \"well\", \"well\", \"well\", \"well\", \"well\", \"well\", \"well\", \"well\", \"well\", \"well\", \"well\", \"well\", \"well\", \"well\", \"well\", \"well\", \"wgn_tagged_chicago\", \"white_sox\", \"white_sox\", \"white_sox\", \"win\", \"win\", \"win\", \"win\", \"win\", \"win\", \"win\", \"win\", \"win\", \"win\", \"win\", \"win\", \"win\", \"win\", \"win_game\", \"wind_chill\", \"window\", \"window\", \"window\", \"window\", \"window\", \"window\", \"window\", \"window\", \"window\", \"window\", \"window\", \"window\", \"winner\", \"winner\", \"winner\", \"winner\", \"winner\", \"winner\", \"winner\", \"winner\", \"winning_prize\", \"winter_break\", \"winter_break\", \"winter_storm\", \"winter_storm\", \"winter_storm\", \"winter_storm\", \"within_second\", \"within_second\", \"woman\", \"woman\", \"woman\", \"woman\", \"woman\", \"woman\", \"woman\", \"woman\", \"woman\", \"woman\", \"woman\", \"woman\", \"woman\", \"work\", \"work\", \"work\", \"work\", \"work\", \"work\", \"work\", \"work\", \"work\", \"work\", \"work\", \"work\", \"work\", \"work\", \"work\", \"work\", \"work\", \"workmanship\", \"workmanship\", \"workmanship\", \"world\", \"world\", \"world\", \"world\", \"world\", \"world\", \"world\", \"world\", \"world\", \"world\", \"world\", \"world\", \"world\", \"world\", \"world\", \"world_wide_web\", \"worth\", \"worth\", \"worth\", \"worth\", \"worth\", \"worth\", \"worth\", \"worth\", \"worth\", \"worth\", \"worth\", \"worth\", \"worth\", \"worth\", \"worth\", \"wpb_wrapper\", \"wrapper_pulldown_filter_td\", \"wrapper_pulldown_filter_td\", \"year\", \"year\", \"year\", \"year\", \"year\", \"year\", \"year\", \"year\", \"year\", \"year\", \"year\", \"year\", \"year\", \"year\", \"year\", \"year\", \"year\", \"year\", \"year_old_man\", \"yeast\", \"youngster\", \"youngster\", \"youngster\", \"youngster\", \"youngster\", \"youngster\", \"youtube\", \"youtube\", \"youtube\", \"youtube\", \"youtube\", \"youtube\", \"youtube\", \"youtube\", \"youtube\", \"zennie_create\", \"zennie_media\", \"zennie_media_inc\"]}, \"R\": 30, \"lambda.step\": 0.01, \"plot.opts\": {\"xlab\": \"PC1\", \"ylab\": \"PC2\"}, \"topic.order\": [1, 2, 3, 4, 5, 6, 7, 8, 9, 10, 11, 12, 13, 14, 15, 16, 17, 18]};\n",
       "\n",
       "function LDAvis_load_lib(url, callback){\n",
       "  var s = document.createElement('script');\n",
       "  s.src = url;\n",
       "  s.async = true;\n",
       "  s.onreadystatechange = s.onload = callback;\n",
       "  s.onerror = function(){console.warn(\"failed to load library \" + url);};\n",
       "  document.getElementsByTagName(\"head\")[0].appendChild(s);\n",
       "}\n",
       "\n",
       "if(typeof(LDAvis) !== \"undefined\"){\n",
       "   // already loaded: just create the visualization\n",
       "   !function(LDAvis){\n",
       "       new LDAvis(\"#\" + \"ldavis_el1640022827800533924494940583\", ldavis_el1640022827800533924494940583_data);\n",
       "   }(LDAvis);\n",
       "}else if(typeof define === \"function\" && define.amd){\n",
       "   // require.js is available: use it to load d3/LDAvis\n",
       "   require.config({paths: {d3: \"https://d3js.org/d3.v5\"}});\n",
       "   require([\"d3\"], function(d3){\n",
       "      window.d3 = d3;\n",
       "      LDAvis_load_lib(\"https://cdn.jsdelivr.net/gh/bmabey/pyLDAvis@3.3.1/pyLDAvis/js/ldavis.v3.0.0.js\", function(){\n",
       "        new LDAvis(\"#\" + \"ldavis_el1640022827800533924494940583\", ldavis_el1640022827800533924494940583_data);\n",
       "      });\n",
       "    });\n",
       "}else{\n",
       "    // require.js not available: dynamically load d3 & LDAvis\n",
       "    LDAvis_load_lib(\"https://d3js.org/d3.v5.js\", function(){\n",
       "         LDAvis_load_lib(\"https://cdn.jsdelivr.net/gh/bmabey/pyLDAvis@3.3.1/pyLDAvis/js/ldavis.v3.0.0.js\", function(){\n",
       "                 new LDAvis(\"#\" + \"ldavis_el1640022827800533924494940583\", ldavis_el1640022827800533924494940583_data);\n",
       "            })\n",
       "         });\n",
       "}\n",
       "</script>"
      ],
      "text/plain": [
       "<IPython.core.display.HTML object>"
      ]
     },
     "execution_count": 8,
     "metadata": {},
     "output_type": "execute_result"
    }
   ],
   "source": [
    "%%time\n",
    "warnings.filterwarnings(\"ignore\", category=DeprecationWarning) \n",
    "lda_display = gensimvis.prepare(tuned_lda_model, doc_term_matrix, dictionary, sort_topics=False, mds='mmds')\n",
    "pyLDAvis.display(lda_display)"
   ]
  },
  {
   "cell_type": "code",
   "execution_count": 53,
   "metadata": {},
   "outputs": [
    {
     "data": {
      "text/plain": [
       "Series([], Name: 0, dtype: object)"
      ]
     },
     "execution_count": 53,
     "metadata": {},
     "output_type": "execute_result"
    }
   ],
   "source": [
    "topic_words = pd.DataFrame(columns=range(0,18))\n",
    "topic_words.iloc[:,0]"
   ]
  },
  {
   "cell_type": "code",
   "execution_count": 54,
   "metadata": {},
   "outputs": [
    {
     "name": "stdout",
     "output_type": "stream",
     "text": [
      "Current topic: 0\n",
      "Current topic: 1\n",
      "Current topic: 2\n",
      "Current topic: 3\n",
      "Current topic: 4\n",
      "Current topic: 5\n",
      "Current topic: 6\n",
      "Current topic: 7\n",
      "Current topic: 8\n",
      "Current topic: 9\n",
      "Current topic: 10\n",
      "Current topic: 11\n",
      "Current topic: 12\n",
      "Current topic: 13\n",
      "Current topic: 14\n",
      "Current topic: 15\n",
      "Current topic: 16\n",
      "Current topic: 17\n"
     ]
    }
   ],
   "source": [
    "for i in range(18):\n",
    "    print(\"Current topic:\", i)\n",
    "    top_words = tuned_lda_model.show_topic(i, topn=20)\n",
    "    words = []\n",
    "    for j in range(20):\n",
    "        words.append(top_words[j][0])\n",
    "        \n",
    "    topic_words.iloc[:,i] = words"
   ]
  },
  {
   "cell_type": "code",
   "execution_count": 55,
   "metadata": {},
   "outputs": [
    {
     "data": {
      "text/html": [
       "<div>\n",
       "<style scoped>\n",
       "    .dataframe tbody tr th:only-of-type {\n",
       "        vertical-align: middle;\n",
       "    }\n",
       "\n",
       "    .dataframe tbody tr th {\n",
       "        vertical-align: top;\n",
       "    }\n",
       "\n",
       "    .dataframe thead th {\n",
       "        text-align: right;\n",
       "    }\n",
       "</style>\n",
       "<table border=\"1\" class=\"dataframe\">\n",
       "  <thead>\n",
       "    <tr style=\"text-align: right;\">\n",
       "      <th></th>\n",
       "      <th>0</th>\n",
       "      <th>1</th>\n",
       "      <th>2</th>\n",
       "      <th>3</th>\n",
       "      <th>4</th>\n",
       "      <th>5</th>\n",
       "      <th>6</th>\n",
       "      <th>7</th>\n",
       "      <th>8</th>\n",
       "      <th>9</th>\n",
       "      <th>10</th>\n",
       "      <th>11</th>\n",
       "      <th>12</th>\n",
       "      <th>13</th>\n",
       "      <th>14</th>\n",
       "      <th>15</th>\n",
       "      <th>16</th>\n",
       "      <th>17</th>\n",
       "    </tr>\n",
       "  </thead>\n",
       "  <tbody>\n",
       "    <tr>\n",
       "      <th>0</th>\n",
       "      <td>company</td>\n",
       "      <td>say</td>\n",
       "      <td>also</td>\n",
       "      <td>game</td>\n",
       "      <td>get</td>\n",
       "      <td>roof</td>\n",
       "      <td>sweepstake</td>\n",
       "      <td>say</td>\n",
       "      <td>state</td>\n",
       "      <td>pizza</td>\n",
       "      <td>share</td>\n",
       "      <td>also</td>\n",
       "      <td>go</td>\n",
       "      <td>also</td>\n",
       "      <td>ad</td>\n",
       "      <td>mom</td>\n",
       "      <td>school</td>\n",
       "      <td>point</td>\n",
       "    </tr>\n",
       "    <tr>\n",
       "      <th>1</th>\n",
       "      <td>work</td>\n",
       "      <td>city</td>\n",
       "      <td>well</td>\n",
       "      <td>team</td>\n",
       "      <td>use</td>\n",
       "      <td>repair</td>\n",
       "      <td>sponsor</td>\n",
       "      <td>state</td>\n",
       "      <td>covid</td>\n",
       "      <td>well</td>\n",
       "      <td>stock</td>\n",
       "      <td>well</td>\n",
       "      <td>say</td>\n",
       "      <td>well</td>\n",
       "      <td>_</td>\n",
       "      <td>dad</td>\n",
       "      <td>student</td>\n",
       "      <td>shoot</td>\n",
       "    </tr>\n",
       "    <tr>\n",
       "      <th>2</th>\n",
       "      <td>program</td>\n",
       "      <td>accord</td>\n",
       "      <td>alcohol</td>\n",
       "      <td>season</td>\n",
       "      <td>need</td>\n",
       "      <td>cookie</td>\n",
       "      <td>prize</td>\n",
       "      <td>accord</td>\n",
       "      <td>accord</td>\n",
       "      <td>also</td>\n",
       "      <td>additional_share</td>\n",
       "      <td>need</td>\n",
       "      <td>get</td>\n",
       "      <td>go</td>\n",
       "      <td>card_carousel</td>\n",
       "      <td>court</td>\n",
       "      <td>say</td>\n",
       "      <td>game</td>\n",
       "    </tr>\n",
       "    <tr>\n",
       "      <th>3</th>\n",
       "      <td>include</td>\n",
       "      <td>year</td>\n",
       "      <td>individual</td>\n",
       "      <td>go</td>\n",
       "      <td>time</td>\n",
       "      <td>set</td>\n",
       "      <td>winner</td>\n",
       "      <td>get</td>\n",
       "      <td>say</td>\n",
       "      <td>top</td>\n",
       "      <td>company</td>\n",
       "      <td>get</td>\n",
       "      <td>see</td>\n",
       "      <td>actually</td>\n",
       "      <td>change</td>\n",
       "      <td>also</td>\n",
       "      <td>district</td>\n",
       "      <td>season</td>\n",
       "    </tr>\n",
       "    <tr>\n",
       "      <th>4</th>\n",
       "      <td>provide</td>\n",
       "      <td>news</td>\n",
       "      <td>use</td>\n",
       "      <td>get</td>\n",
       "      <td>also</td>\n",
       "      <td>door</td>\n",
       "      <td>entrant</td>\n",
       "      <td>take</td>\n",
       "      <td>case</td>\n",
       "      <td>dough</td>\n",
       "      <td>owns_share</td>\n",
       "      <td>work</td>\n",
       "      <td>show</td>\n",
       "      <td>rock</td>\n",
       "      <td>true_trackactive_card_carousel__bind</td>\n",
       "      <td>well</td>\n",
       "      <td>teacher</td>\n",
       "      <td>last_game</td>\n",
       "    </tr>\n",
       "    <tr>\n",
       "      <th>5</th>\n",
       "      <td>business</td>\n",
       "      <td>report</td>\n",
       "      <td>time</td>\n",
       "      <td>play</td>\n",
       "      <td>find</td>\n",
       "      <td>roofing</td>\n",
       "      <td>award</td>\n",
       "      <td>people</td>\n",
       "      <td>people</td>\n",
       "      <td>side</td>\n",
       "      <td>illinois_tool_work</td>\n",
       "      <td>make</td>\n",
       "      <td>make</td>\n",
       "      <td>sale</td>\n",
       "      <td>watch</td>\n",
       "      <td>parent</td>\n",
       "      <td>return</td>\n",
       "      <td>field_opponent</td>\n",
       "    </tr>\n",
       "    <tr>\n",
       "      <th>6</th>\n",
       "      <td>service</td>\n",
       "      <td>area</td>\n",
       "      <td>treatment</td>\n",
       "      <td>bear</td>\n",
       "      <td>lawyer</td>\n",
       "      <td>use</td>\n",
       "      <td>right</td>\n",
       "      <td>charge</td>\n",
       "      <td>hospital</td>\n",
       "      <td>use</td>\n",
       "      <td>value</td>\n",
       "      <td>certainly</td>\n",
       "      <td>know</td>\n",
       "      <td>moon_rock</td>\n",
       "      <td>trackactive</td>\n",
       "      <td>child</td>\n",
       "      <td>union</td>\n",
       "      <td>bull</td>\n",
       "    </tr>\n",
       "    <tr>\n",
       "      <th>7</th>\n",
       "      <td>support</td>\n",
       "      <td>state</td>\n",
       "      <td>person</td>\n",
       "      <td>make</td>\n",
       "      <td>go</td>\n",
       "      <td>contractor</td>\n",
       "      <td>participate</td>\n",
       "      <td>city</td>\n",
       "      <td>virus</td>\n",
       "      <td>make</td>\n",
       "      <td>holding</td>\n",
       "      <td>time</td>\n",
       "      <td>time</td>\n",
       "      <td>make</td>\n",
       "      <td>use</td>\n",
       "      <td>kid</td>\n",
       "      <td>covid</td>\n",
       "      <td>go</td>\n",
       "    </tr>\n",
       "    <tr>\n",
       "      <th>8</th>\n",
       "      <td>team</td>\n",
       "      <td>expect</td>\n",
       "      <td>content</td>\n",
       "      <td>say</td>\n",
       "      <td>company</td>\n",
       "      <td>website</td>\n",
       "      <td>responsible</td>\n",
       "      <td>year</td>\n",
       "      <td>report</td>\n",
       "      <td>crust</td>\n",
       "      <td>position</td>\n",
       "      <td>go</td>\n",
       "      <td>want</td>\n",
       "      <td>know</td>\n",
       "      <td>quote</td>\n",
       "      <td>state</td>\n",
       "      <td>parent</td>\n",
       "      <td>lead</td>\n",
       "    </tr>\n",
       "    <tr>\n",
       "      <th>9</th>\n",
       "      <td>new</td>\n",
       "      <td>also</td>\n",
       "      <td>need</td>\n",
       "      <td>win</td>\n",
       "      <td>work</td>\n",
       "      <td>estimate</td>\n",
       "      <td>time</td>\n",
       "      <td>police</td>\n",
       "      <td>adsbygoogle_window_adsbygoogle_push</td>\n",
       "      <td>chicago_style</td>\n",
       "      <td>stake</td>\n",
       "      <td>home</td>\n",
       "      <td>come</td>\n",
       "      <td>even</td>\n",
       "      <td>previous_week</td>\n",
       "      <td>youngster</td>\n",
       "      <td>child</td>\n",
       "      <td>per_game</td>\n",
       "    </tr>\n",
       "    <tr>\n",
       "      <th>10</th>\n",
       "      <td>year</td>\n",
       "      <td>document_documentelement</td>\n",
       "      <td>get</td>\n",
       "      <td>bull</td>\n",
       "      <td>case</td>\n",
       "      <td>crew</td>\n",
       "      <td>event</td>\n",
       "      <td>go</td>\n",
       "      <td>make</td>\n",
       "      <td>get</td>\n",
       "      <td>industrial_products_company_stock</td>\n",
       "      <td>require</td>\n",
       "      <td>also</td>\n",
       "      <td>certainly</td>\n",
       "      <td>case</td>\n",
       "      <td>order</td>\n",
       "      <td>mask</td>\n",
       "      <td>at</td>\n",
       "    </tr>\n",
       "    <tr>\n",
       "      <th>11</th>\n",
       "      <td>state</td>\n",
       "      <td>see</td>\n",
       "      <td>type</td>\n",
       "      <td>come</td>\n",
       "      <td>make</td>\n",
       "      <td>house</td>\n",
       "      <td>agree</td>\n",
       "      <td>case</td>\n",
       "      <td>vaccine</td>\n",
       "      <td>fact</td>\n",
       "      <td>purchase</td>\n",
       "      <td>dumpster</td>\n",
       "      <td>work</td>\n",
       "      <td>get</td>\n",
       "      <td>penalty_minute</td>\n",
       "      <td>need</td>\n",
       "      <td>remote_learne</td>\n",
       "      <td>datum</td>\n",
       "    </tr>\n",
       "    <tr>\n",
       "      <th>12</th>\n",
       "      <td>community</td>\n",
       "      <td>high</td>\n",
       "      <td>center</td>\n",
       "      <td>point</td>\n",
       "      <td>good</td>\n",
       "      <td>store</td>\n",
       "      <td>use</td>\n",
       "      <td>time</td>\n",
       "      <td>center</td>\n",
       "      <td>cheese</td>\n",
       "      <td>buy</td>\n",
       "      <td>use</td>\n",
       "      <td>take</td>\n",
       "      <td>market</td>\n",
       "      <td>save</td>\n",
       "      <td>time</td>\n",
       "      <td>week</td>\n",
       "      <td>story_using_technology_provide</td>\n",
       "    </tr>\n",
       "    <tr>\n",
       "      <th>13</th>\n",
       "      <td>need</td>\n",
       "      <td>plan</td>\n",
       "      <td>addiction</td>\n",
       "      <td>player</td>\n",
       "      <td>individual</td>\n",
       "      <td>home</td>\n",
       "      <td>rule</td>\n",
       "      <td>call</td>\n",
       "      <td>number</td>\n",
       "      <td>sauce</td>\n",
       "      <td>worth</td>\n",
       "      <td>kind</td>\n",
       "      <td>people</td>\n",
       "      <td>end</td>\n",
       "      <td>facebook_whatsapp_sms_print</td>\n",
       "      <td>get</td>\n",
       "      <td>work</td>\n",
       "      <td>data_skrive</td>\n",
       "    </tr>\n",
       "    <tr>\n",
       "      <th>14</th>\n",
       "      <td>use</td>\n",
       "      <td>ukraine</td>\n",
       "      <td>make</td>\n",
       "      <td>time</td>\n",
       "      <td>well</td>\n",
       "      <td>day</td>\n",
       "      <td>subject</td>\n",
       "      <td>make</td>\n",
       "      <td>interview</td>\n",
       "      <td>know</td>\n",
       "      <td>company_stock</td>\n",
       "      <td>roof</td>\n",
       "      <td>think</td>\n",
       "      <td>create</td>\n",
       "      <td>cases_per_resident</td>\n",
       "      <td>family_law_attorneys_near</td>\n",
       "      <td>go</td>\n",
       "      <td>spread</td>\n",
       "    </tr>\n",
       "    <tr>\n",
       "      <th>15</th>\n",
       "      <td>experience</td>\n",
       "      <td>day</td>\n",
       "      <td>people</td>\n",
       "      <td>year</td>\n",
       "      <td>fact</td>\n",
       "      <td>post</td>\n",
       "      <td>claim</td>\n",
       "      <td>officer</td>\n",
       "      <td>bear</td>\n",
       "      <td>right</td>\n",
       "      <td>report</td>\n",
       "      <td>lot</td>\n",
       "      <td>good</td>\n",
       "      <td>high</td>\n",
       "      <td>resident</td>\n",
       "      <td>divorce</td>\n",
       "      <td>city</td>\n",
       "      <td>averaged_points_per_game</td>\n",
       "    </tr>\n",
       "    <tr>\n",
       "      <th>16</th>\n",
       "      <td>information</td>\n",
       "      <td>move</td>\n",
       "      <td>alcohol_drug</td>\n",
       "      <td>start</td>\n",
       "      <td>know</td>\n",
       "      <td>company</td>\n",
       "      <td>released_partie</td>\n",
       "      <td>shoot</td>\n",
       "      <td>region</td>\n",
       "      <td>area</td>\n",
       "      <td>acquire</td>\n",
       "      <td>fact</td>\n",
       "      <td>find</td>\n",
       "      <td>moon</td>\n",
       "      <td>penalty</td>\n",
       "      <td>announce_minutes_ago_faile</td>\n",
       "      <td>class</td>\n",
       "      <td>bet</td>\n",
       "    </tr>\n",
       "    <tr>\n",
       "      <th>17</th>\n",
       "      <td>well</td>\n",
       "      <td>make</td>\n",
       "      <td>problem</td>\n",
       "      <td>lead</td>\n",
       "      <td>help</td>\n",
       "      <td>shingle</td>\n",
       "      <td>enter</td>\n",
       "      <td>also</td>\n",
       "      <td>county</td>\n",
       "      <td>time</td>\n",
       "      <td>accord</td>\n",
       "      <td>roof_covere</td>\n",
       "      <td>way</td>\n",
       "      <td>roll</td>\n",
       "      <td>feature</td>\n",
       "      <td>divorce_lawyer</td>\n",
       "      <td>state</td>\n",
       "      <td>state</td>\n",
       "    </tr>\n",
       "    <tr>\n",
       "      <th>18</th>\n",
       "      <td>help</td>\n",
       "      <td>new</td>\n",
       "      <td>best_drug_rehab_center</td>\n",
       "      <td>take</td>\n",
       "      <td>service</td>\n",
       "      <td>roofer</td>\n",
       "      <td>win</td>\n",
       "      <td>report</td>\n",
       "      <td>increase</td>\n",
       "      <td>https_www_com_new</td>\n",
       "      <td>rating</td>\n",
       "      <td>know</td>\n",
       "      <td>day</td>\n",
       "      <td>stone</td>\n",
       "      <td>view</td>\n",
       "      <td>attorney</td>\n",
       "      <td>pandemic</td>\n",
       "      <td>look</td>\n",
       "    </tr>\n",
       "    <tr>\n",
       "      <th>19</th>\n",
       "      <td>market</td>\n",
       "      <td>number</td>\n",
       "      <td>therapy</td>\n",
       "      <td>see</td>\n",
       "      <td>provide</td>\n",
       "      <td>make</td>\n",
       "      <td>arbitration</td>\n",
       "      <td>block</td>\n",
       "      <td>day</td>\n",
       "      <td>cover</td>\n",
       "      <td>transaction</td>\n",
       "      <td>set</td>\n",
       "      <td>year</td>\n",
       "      <td>moon_stone</td>\n",
       "      <td>owl</td>\n",
       "      <td>various</td>\n",
       "      <td>continue</td>\n",
       "      <td>illinois_state</td>\n",
       "    </tr>\n",
       "  </tbody>\n",
       "</table>\n",
       "</div>"
      ],
      "text/plain": [
       "             0                         1                       2       3   \\\n",
       "0       company                       say                    also    game   \n",
       "1          work                      city                    well    team   \n",
       "2       program                    accord                 alcohol  season   \n",
       "3       include                      year              individual      go   \n",
       "4       provide                      news                     use     get   \n",
       "5      business                    report                    time    play   \n",
       "6       service                      area               treatment    bear   \n",
       "7       support                     state                  person    make   \n",
       "8          team                    expect                 content     say   \n",
       "9           new                      also                    need     win   \n",
       "10         year  document_documentelement                     get    bull   \n",
       "11        state                       see                    type    come   \n",
       "12    community                      high                  center   point   \n",
       "13         need                      plan               addiction  player   \n",
       "14          use                   ukraine                    make    time   \n",
       "15   experience                       day                  people    year   \n",
       "16  information                      move            alcohol_drug   start   \n",
       "17         well                      make                 problem    lead   \n",
       "18         help                       new  best_drug_rehab_center    take   \n",
       "19       market                    number                 therapy     see   \n",
       "\n",
       "            4           5                6        7   \\\n",
       "0          get        roof       sweepstake      say   \n",
       "1          use      repair          sponsor    state   \n",
       "2         need      cookie            prize   accord   \n",
       "3         time         set           winner      get   \n",
       "4         also        door          entrant     take   \n",
       "5         find     roofing            award   people   \n",
       "6       lawyer         use            right   charge   \n",
       "7           go  contractor      participate     city   \n",
       "8      company     website      responsible     year   \n",
       "9         work    estimate             time   police   \n",
       "10        case        crew            event       go   \n",
       "11        make       house            agree     case   \n",
       "12        good       store              use     time   \n",
       "13  individual        home             rule     call   \n",
       "14        well         day          subject     make   \n",
       "15        fact        post            claim  officer   \n",
       "16        know     company  released_partie    shoot   \n",
       "17        help     shingle            enter     also   \n",
       "18     service      roofer              win   report   \n",
       "19     provide        make      arbitration    block   \n",
       "\n",
       "                                     8                  9   \\\n",
       "0                                 state              pizza   \n",
       "1                                 covid               well   \n",
       "2                                accord               also   \n",
       "3                                   say                top   \n",
       "4                                  case              dough   \n",
       "5                                people               side   \n",
       "6                              hospital                use   \n",
       "7                                 virus               make   \n",
       "8                                report              crust   \n",
       "9   adsbygoogle_window_adsbygoogle_push      chicago_style   \n",
       "10                                 make                get   \n",
       "11                              vaccine               fact   \n",
       "12                               center             cheese   \n",
       "13                               number              sauce   \n",
       "14                            interview               know   \n",
       "15                                 bear              right   \n",
       "16                               region               area   \n",
       "17                               county               time   \n",
       "18                             increase  https_www_com_new   \n",
       "19                                  day              cover   \n",
       "\n",
       "                                   10           11      12          13  \\\n",
       "0                               share         also      go        also   \n",
       "1                               stock         well     say        well   \n",
       "2                    additional_share         need     get          go   \n",
       "3                             company          get     see    actually   \n",
       "4                          owns_share         work    show        rock   \n",
       "5                  illinois_tool_work         make    make        sale   \n",
       "6                               value    certainly    know   moon_rock   \n",
       "7                             holding         time    time        make   \n",
       "8                            position           go    want        know   \n",
       "9                               stake         home    come        even   \n",
       "10  industrial_products_company_stock      require    also   certainly   \n",
       "11                           purchase     dumpster    work         get   \n",
       "12                                buy          use    take      market   \n",
       "13                              worth         kind  people         end   \n",
       "14                      company_stock         roof   think      create   \n",
       "15                             report          lot    good        high   \n",
       "16                            acquire         fact    find        moon   \n",
       "17                             accord  roof_covere     way        roll   \n",
       "18                             rating         know     day       stone   \n",
       "19                        transaction          set    year  moon_stone   \n",
       "\n",
       "                                      14                          15  \\\n",
       "0                                     ad                         mom   \n",
       "1                                      _                         dad   \n",
       "2                          card_carousel                       court   \n",
       "3                                 change                        also   \n",
       "4   true_trackactive_card_carousel__bind                        well   \n",
       "5                                  watch                      parent   \n",
       "6                            trackactive                       child   \n",
       "7                                    use                         kid   \n",
       "8                                  quote                       state   \n",
       "9                          previous_week                   youngster   \n",
       "10                                  case                       order   \n",
       "11                        penalty_minute                        need   \n",
       "12                                  save                        time   \n",
       "13           facebook_whatsapp_sms_print                         get   \n",
       "14                    cases_per_resident   family_law_attorneys_near   \n",
       "15                              resident                     divorce   \n",
       "16                               penalty  announce_minutes_ago_faile   \n",
       "17                               feature              divorce_lawyer   \n",
       "18                                  view                    attorney   \n",
       "19                                   owl                     various   \n",
       "\n",
       "               16                              17  \n",
       "0          school                           point  \n",
       "1         student                           shoot  \n",
       "2             say                            game  \n",
       "3        district                          season  \n",
       "4         teacher                       last_game  \n",
       "5          return                  field_opponent  \n",
       "6           union                            bull  \n",
       "7           covid                              go  \n",
       "8          parent                            lead  \n",
       "9           child                        per_game  \n",
       "10           mask                              at  \n",
       "11  remote_learne                           datum  \n",
       "12           week  story_using_technology_provide  \n",
       "13           work                     data_skrive  \n",
       "14             go                          spread  \n",
       "15           city        averaged_points_per_game  \n",
       "16          class                             bet  \n",
       "17          state                           state  \n",
       "18       pandemic                            look  \n",
       "19       continue                  illinois_state  "
      ]
     },
     "execution_count": 55,
     "metadata": {},
     "output_type": "execute_result"
    }
   ],
   "source": [
    "topic_words"
   ]
  },
  {
   "cell_type": "code",
   "execution_count": 56,
   "metadata": {},
   "outputs": [],
   "source": [
    "topic_words.to_pickle(\"./topic_words.pkl\")"
   ]
  },
  {
   "cell_type": "code",
   "execution_count": null,
   "metadata": {},
   "outputs": [],
   "source": [
    "topic_words = pd.read_pickle('topic_words.pkl')"
   ]
  },
  {
   "cell_type": "code",
   "execution_count": 80,
   "metadata": {},
   "outputs": [
    {
     "name": "stdout",
     "output_type": "stream",
     "text": [
      "Wall time: 6min 19s\n"
     ]
    }
   ],
   "source": [
    "%%time\n",
    "res = []\n",
    "for i in range(len(doc_term_matrix)):\n",
    "    topics = sorted(tuned_lda_model[doc_term_matrix[i]], key = lambda x: x[1], reverse=True)\n",
    "    res.append(topics)"
   ]
  },
  {
   "cell_type": "code",
   "execution_count": 85,
   "metadata": {},
   "outputs": [],
   "source": [
    "result = pd.DataFrame(res)\n",
    "result = result.iloc[:,0:2]\n",
    "result = result.rename(columns={0:\"topic_1\", 1:\"topic_2\"})"
   ]
  },
  {
   "cell_type": "code",
   "execution_count": 86,
   "metadata": {
    "scrolled": false
   },
   "outputs": [
    {
     "data": {
      "text/html": [
       "<div>\n",
       "<style scoped>\n",
       "    .dataframe tbody tr th:only-of-type {\n",
       "        vertical-align: middle;\n",
       "    }\n",
       "\n",
       "    .dataframe tbody tr th {\n",
       "        vertical-align: top;\n",
       "    }\n",
       "\n",
       "    .dataframe thead th {\n",
       "        text-align: right;\n",
       "    }\n",
       "</style>\n",
       "<table border=\"1\" class=\"dataframe\">\n",
       "  <thead>\n",
       "    <tr style=\"text-align: right;\">\n",
       "      <th></th>\n",
       "      <th>topic_1</th>\n",
       "      <th>topic_2</th>\n",
       "    </tr>\n",
       "  </thead>\n",
       "  <tbody>\n",
       "    <tr>\n",
       "      <th>0</th>\n",
       "      <td>(16, 0.99569625)</td>\n",
       "      <td>None</td>\n",
       "    </tr>\n",
       "    <tr>\n",
       "      <th>1</th>\n",
       "      <td>(16, 0.995942)</td>\n",
       "      <td>None</td>\n",
       "    </tr>\n",
       "    <tr>\n",
       "      <th>2</th>\n",
       "      <td>(12, 0.54883254)</td>\n",
       "      <td>(9, 0.19446078)</td>\n",
       "    </tr>\n",
       "    <tr>\n",
       "      <th>3</th>\n",
       "      <td>(7, 0.5060479)</td>\n",
       "      <td>(16, 0.25336125)</td>\n",
       "    </tr>\n",
       "    <tr>\n",
       "      <th>4</th>\n",
       "      <td>(12, 0.6287513)</td>\n",
       "      <td>(7, 0.2772534)</td>\n",
       "    </tr>\n",
       "    <tr>\n",
       "      <th>...</th>\n",
       "      <td>...</td>\n",
       "      <td>...</td>\n",
       "    </tr>\n",
       "    <tr>\n",
       "      <th>183315</th>\n",
       "      <td>(7, 0.68348694)</td>\n",
       "      <td>(0, 0.044752456)</td>\n",
       "    </tr>\n",
       "    <tr>\n",
       "      <th>183316</th>\n",
       "      <td>(17, 0.51943713)</td>\n",
       "      <td>(3, 0.46222404)</td>\n",
       "    </tr>\n",
       "    <tr>\n",
       "      <th>183317</th>\n",
       "      <td>(4, 0.53476334)</td>\n",
       "      <td>(1, 0.4239738)</td>\n",
       "    </tr>\n",
       "    <tr>\n",
       "      <th>183318</th>\n",
       "      <td>(16, 0.96104884)</td>\n",
       "      <td>None</td>\n",
       "    </tr>\n",
       "    <tr>\n",
       "      <th>183319</th>\n",
       "      <td>(1, 0.961606)</td>\n",
       "      <td>(12, 0.036435597)</td>\n",
       "    </tr>\n",
       "  </tbody>\n",
       "</table>\n",
       "<p>183320 rows × 2 columns</p>\n",
       "</div>"
      ],
      "text/plain": [
       "                 topic_1            topic_2\n",
       "0       (16, 0.99569625)               None\n",
       "1         (16, 0.995942)               None\n",
       "2       (12, 0.54883254)    (9, 0.19446078)\n",
       "3         (7, 0.5060479)   (16, 0.25336125)\n",
       "4        (12, 0.6287513)     (7, 0.2772534)\n",
       "...                  ...                ...\n",
       "183315   (7, 0.68348694)   (0, 0.044752456)\n",
       "183316  (17, 0.51943713)    (3, 0.46222404)\n",
       "183317   (4, 0.53476334)     (1, 0.4239738)\n",
       "183318  (16, 0.96104884)               None\n",
       "183319     (1, 0.961606)  (12, 0.036435597)\n",
       "\n",
       "[183320 rows x 2 columns]"
      ]
     },
     "execution_count": 86,
     "metadata": {},
     "output_type": "execute_result"
    }
   ],
   "source": [
    "result"
   ]
  },
  {
   "cell_type": "code",
   "execution_count": 92,
   "metadata": {
    "scrolled": false
   },
   "outputs": [],
   "source": [
    "cleaned_df['topic_1'] = list(result['topic_1'])\n",
    "cleaned_df['topic_2'] = list(result['topic_2'])"
   ]
  },
  {
   "cell_type": "code",
   "execution_count": 93,
   "metadata": {
    "scrolled": false
   },
   "outputs": [
    {
     "data": {
      "text/html": [
       "<div>\n",
       "<style scoped>\n",
       "    .dataframe tbody tr th:only-of-type {\n",
       "        vertical-align: middle;\n",
       "    }\n",
       "\n",
       "    .dataframe tbody tr th {\n",
       "        vertical-align: top;\n",
       "    }\n",
       "\n",
       "    .dataframe thead th {\n",
       "        text-align: right;\n",
       "    }\n",
       "</style>\n",
       "<table border=\"1\" class=\"dataframe\">\n",
       "  <thead>\n",
       "    <tr style=\"text-align: right;\">\n",
       "      <th></th>\n",
       "      <th>date</th>\n",
       "      <th>language</th>\n",
       "      <th>title</th>\n",
       "      <th>text</th>\n",
       "      <th>cleaned_text</th>\n",
       "      <th>topic_1</th>\n",
       "      <th>topic_2</th>\n",
       "    </tr>\n",
       "  </thead>\n",
       "  <tbody>\n",
       "    <tr>\n",
       "      <th>0</th>\n",
       "      <td>2022-01-06</td>\n",
       "      <td>english</td>\n",
       "      <td>No deal, no school: Chicago cancels classes fo...</td>\n",
       "      <td>CHICAGO (AP) — Chicago school leaders canceled...</td>\n",
       "      <td>chicago  ap    chicago school leaders canceled...</td>\n",
       "      <td>(16, 0.99569625)</td>\n",
       "      <td>None</td>\n",
       "    </tr>\n",
       "    <tr>\n",
       "      <th>1</th>\n",
       "      <td>2022-01-06</td>\n",
       "      <td>english</td>\n",
       "      <td>No deal, no school: Chicago cancels classes fo...</td>\n",
       "      <td>CHICAGO (AP) — Chicago school leaders canceled...</td>\n",
       "      <td>chicago  ap    chicago school leaders canceled...</td>\n",
       "      <td>(16, 0.995942)</td>\n",
       "      <td>None</td>\n",
       "    </tr>\n",
       "    <tr>\n",
       "      <th>2</th>\n",
       "      <td>2022-01-06</td>\n",
       "      <td>english</td>\n",
       "      <td>Watch ‘Chicago P.D.’ Preview Wednesday</td>\n",
       "      <td>Chicago PD 9×11 “Lies” Season 9 Episode 11 Pro...</td>\n",
       "      <td>chicago pd       lies  season   episode    pro...</td>\n",
       "      <td>(12, 0.54883254)</td>\n",
       "      <td>(9, 0.19446078)</td>\n",
       "    </tr>\n",
       "    <tr>\n",
       "      <th>3</th>\n",
       "      <td>2022-01-06</td>\n",
       "      <td>english</td>\n",
       "      <td>Trump’s Solution for Chicago Public Schools? K...</td>\n",
       "      <td>Wise of Foolish?\\nThe Chicago Tribune article ...</td>\n",
       "      <td>wise of foolish  the chicago tribune article t...</td>\n",
       "      <td>(7, 0.5060479)</td>\n",
       "      <td>(16, 0.25336125)</td>\n",
       "    </tr>\n",
       "    <tr>\n",
       "      <th>4</th>\n",
       "      <td>2022-01-06</td>\n",
       "      <td>english</td>\n",
       "      <td>Family, friends, colleagues gathering today at...</td>\n",
       "      <td>The neighbors near Mashawn Plummer’s Portage P...</td>\n",
       "      <td>the neighbors near mashawn plummer s portage p...</td>\n",
       "      <td>(12, 0.6287513)</td>\n",
       "      <td>(7, 0.2772534)</td>\n",
       "    </tr>\n",
       "    <tr>\n",
       "      <th>...</th>\n",
       "      <td>...</td>\n",
       "      <td>...</td>\n",
       "      <td>...</td>\n",
       "      <td>...</td>\n",
       "      <td>...</td>\n",
       "      <td>...</td>\n",
       "      <td>...</td>\n",
       "    </tr>\n",
       "    <tr>\n",
       "      <th>200114</th>\n",
       "      <td>2022-03-05</td>\n",
       "      <td>english</td>\n",
       "      <td>Chicago girl shot after celebrating 12th birth...</td>\n",
       "      <td>Authorities say a girl who was shot in the hea...</td>\n",
       "      <td>authorities say a girl who was shot in the hea...</td>\n",
       "      <td>(7, 0.68348694)</td>\n",
       "      <td>(0, 0.044752456)</td>\n",
       "    </tr>\n",
       "    <tr>\n",
       "      <th>200115</th>\n",
       "      <td>2022-03-05</td>\n",
       "      <td>english</td>\n",
       "      <td>Loyola Chicago vs. Northern Iowa – MVC Tournam...</td>\n",
       "      <td>The No. 4 seed Loyola Chicago Ramblers (23-7, ...</td>\n",
       "      <td>the no    seed loyola chicago ramblers        ...</td>\n",
       "      <td>(17, 0.51943713)</td>\n",
       "      <td>(3, 0.46222404)</td>\n",
       "    </tr>\n",
       "    <tr>\n",
       "      <th>200116</th>\n",
       "      <td>2022-03-05</td>\n",
       "      <td>english</td>\n",
       "      <td>DraftKings Illinois Promo Code: $1,050 Bonus a...</td>\n",
       "      <td>Remember to check out the DraftKings Illinois ...</td>\n",
       "      <td>remember to check out the draftkings illinois ...</td>\n",
       "      <td>(4, 0.53476334)</td>\n",
       "      <td>(1, 0.4239738)</td>\n",
       "    </tr>\n",
       "    <tr>\n",
       "      <th>200117</th>\n",
       "      <td>2022-03-05</td>\n",
       "      <td>english</td>\n",
       "      <td>Sidney, Illinois had a median home valuation o...</td>\n",
       "      <td>[BlockShopper.com] .\\n|Buyer||Address||Valuati...</td>\n",
       "      <td>blockshopper com     buyer  address  valuatio...</td>\n",
       "      <td>(16, 0.96104884)</td>\n",
       "      <td>None</td>\n",
       "    </tr>\n",
       "    <tr>\n",
       "      <th>200118</th>\n",
       "      <td>2022-03-06</td>\n",
       "      <td>english</td>\n",
       "      <td>Ukrainian woman weds Chicago fiancé ahead of r...</td>\n",
       "      <td>CHICAGO (AP) — When Russia invaded her home co...</td>\n",
       "      <td>chicago  ap    when russia invaded her home co...</td>\n",
       "      <td>(1, 0.961606)</td>\n",
       "      <td>(12, 0.036435597)</td>\n",
       "    </tr>\n",
       "  </tbody>\n",
       "</table>\n",
       "<p>183320 rows × 7 columns</p>\n",
       "</div>"
      ],
      "text/plain": [
       "             date language                                              title  \\\n",
       "0      2022-01-06  english  No deal, no school: Chicago cancels classes fo...   \n",
       "1      2022-01-06  english  No deal, no school: Chicago cancels classes fo...   \n",
       "2      2022-01-06  english             Watch ‘Chicago P.D.’ Preview Wednesday   \n",
       "3      2022-01-06  english  Trump’s Solution for Chicago Public Schools? K...   \n",
       "4      2022-01-06  english  Family, friends, colleagues gathering today at...   \n",
       "...           ...      ...                                                ...   \n",
       "200114 2022-03-05  english  Chicago girl shot after celebrating 12th birth...   \n",
       "200115 2022-03-05  english  Loyola Chicago vs. Northern Iowa – MVC Tournam...   \n",
       "200116 2022-03-05  english  DraftKings Illinois Promo Code: $1,050 Bonus a...   \n",
       "200117 2022-03-05  english  Sidney, Illinois had a median home valuation o...   \n",
       "200118 2022-03-06  english  Ukrainian woman weds Chicago fiancé ahead of r...   \n",
       "\n",
       "                                                     text  \\\n",
       "0       CHICAGO (AP) — Chicago school leaders canceled...   \n",
       "1       CHICAGO (AP) — Chicago school leaders canceled...   \n",
       "2       Chicago PD 9×11 “Lies” Season 9 Episode 11 Pro...   \n",
       "3       Wise of Foolish?\\nThe Chicago Tribune article ...   \n",
       "4       The neighbors near Mashawn Plummer’s Portage P...   \n",
       "...                                                   ...   \n",
       "200114  Authorities say a girl who was shot in the hea...   \n",
       "200115  The No. 4 seed Loyola Chicago Ramblers (23-7, ...   \n",
       "200116  Remember to check out the DraftKings Illinois ...   \n",
       "200117  [BlockShopper.com] .\\n|Buyer||Address||Valuati...   \n",
       "200118  CHICAGO (AP) — When Russia invaded her home co...   \n",
       "\n",
       "                                             cleaned_text           topic_1  \\\n",
       "0       chicago  ap    chicago school leaders canceled...  (16, 0.99569625)   \n",
       "1       chicago  ap    chicago school leaders canceled...    (16, 0.995942)   \n",
       "2       chicago pd       lies  season   episode    pro...  (12, 0.54883254)   \n",
       "3       wise of foolish  the chicago tribune article t...    (7, 0.5060479)   \n",
       "4       the neighbors near mashawn plummer s portage p...   (12, 0.6287513)   \n",
       "...                                                   ...               ...   \n",
       "200114  authorities say a girl who was shot in the hea...   (7, 0.68348694)   \n",
       "200115  the no    seed loyola chicago ramblers        ...  (17, 0.51943713)   \n",
       "200116  remember to check out the draftkings illinois ...   (4, 0.53476334)   \n",
       "200117   blockshopper com     buyer  address  valuatio...  (16, 0.96104884)   \n",
       "200118  chicago  ap    when russia invaded her home co...     (1, 0.961606)   \n",
       "\n",
       "                  topic_2  \n",
       "0                    None  \n",
       "1                    None  \n",
       "2         (9, 0.19446078)  \n",
       "3        (16, 0.25336125)  \n",
       "4          (7, 0.2772534)  \n",
       "...                   ...  \n",
       "200114   (0, 0.044752456)  \n",
       "200115    (3, 0.46222404)  \n",
       "200116     (1, 0.4239738)  \n",
       "200117               None  \n",
       "200118  (12, 0.036435597)  \n",
       "\n",
       "[183320 rows x 7 columns]"
      ]
     },
     "execution_count": 93,
     "metadata": {},
     "output_type": "execute_result"
    }
   ],
   "source": [
    "cleaned_df"
   ]
  },
  {
   "cell_type": "code",
   "execution_count": 105,
   "metadata": {},
   "outputs": [],
   "source": [
    "cleaned_df = cleaned_df.reset_index(drop=True)"
   ]
  },
  {
   "cell_type": "code",
   "execution_count": 107,
   "metadata": {},
   "outputs": [],
   "source": [
    "cleaned_df[['topic_1', 'w1']] = pd.DataFrame(cleaned_df['topic_1'].tolist(), index=cleaned_df.index)"
   ]
  },
  {
   "cell_type": "code",
   "execution_count": 116,
   "metadata": {},
   "outputs": [],
   "source": [
    "cleaned_df['topic_2'] = cleaned_df['topic_2'].apply(lambda x: (-1, 0) if x is np.nan else x)"
   ]
  },
  {
   "cell_type": "code",
   "execution_count": 117,
   "metadata": {},
   "outputs": [],
   "source": [
    "cleaned_df[['topic_2', 'w2']] = pd.DataFrame(cleaned_df['topic_2'].tolist(), index=cleaned_df.index)"
   ]
  },
  {
   "cell_type": "code",
   "execution_count": 118,
   "metadata": {},
   "outputs": [
    {
     "data": {
      "text/html": [
       "<div>\n",
       "<style scoped>\n",
       "    .dataframe tbody tr th:only-of-type {\n",
       "        vertical-align: middle;\n",
       "    }\n",
       "\n",
       "    .dataframe tbody tr th {\n",
       "        vertical-align: top;\n",
       "    }\n",
       "\n",
       "    .dataframe thead th {\n",
       "        text-align: right;\n",
       "    }\n",
       "</style>\n",
       "<table border=\"1\" class=\"dataframe\">\n",
       "  <thead>\n",
       "    <tr style=\"text-align: right;\">\n",
       "      <th></th>\n",
       "      <th>date</th>\n",
       "      <th>language</th>\n",
       "      <th>title</th>\n",
       "      <th>text</th>\n",
       "      <th>cleaned_text</th>\n",
       "      <th>topic_1</th>\n",
       "      <th>topic_2</th>\n",
       "      <th>w1</th>\n",
       "      <th>w2</th>\n",
       "    </tr>\n",
       "  </thead>\n",
       "  <tbody>\n",
       "    <tr>\n",
       "      <th>0</th>\n",
       "      <td>2022-01-06</td>\n",
       "      <td>english</td>\n",
       "      <td>No deal, no school: Chicago cancels classes fo...</td>\n",
       "      <td>CHICAGO (AP) — Chicago school leaders canceled...</td>\n",
       "      <td>chicago  ap    chicago school leaders canceled...</td>\n",
       "      <td>16</td>\n",
       "      <td>-1</td>\n",
       "      <td>0.995696</td>\n",
       "      <td>0.000000</td>\n",
       "    </tr>\n",
       "    <tr>\n",
       "      <th>1</th>\n",
       "      <td>2022-01-06</td>\n",
       "      <td>english</td>\n",
       "      <td>No deal, no school: Chicago cancels classes fo...</td>\n",
       "      <td>CHICAGO (AP) — Chicago school leaders canceled...</td>\n",
       "      <td>chicago  ap    chicago school leaders canceled...</td>\n",
       "      <td>16</td>\n",
       "      <td>-1</td>\n",
       "      <td>0.995942</td>\n",
       "      <td>0.000000</td>\n",
       "    </tr>\n",
       "    <tr>\n",
       "      <th>2</th>\n",
       "      <td>2022-01-06</td>\n",
       "      <td>english</td>\n",
       "      <td>Watch ‘Chicago P.D.’ Preview Wednesday</td>\n",
       "      <td>Chicago PD 9×11 “Lies” Season 9 Episode 11 Pro...</td>\n",
       "      <td>chicago pd       lies  season   episode    pro...</td>\n",
       "      <td>12</td>\n",
       "      <td>9</td>\n",
       "      <td>0.548833</td>\n",
       "      <td>0.194461</td>\n",
       "    </tr>\n",
       "    <tr>\n",
       "      <th>3</th>\n",
       "      <td>2022-01-06</td>\n",
       "      <td>english</td>\n",
       "      <td>Trump’s Solution for Chicago Public Schools? K...</td>\n",
       "      <td>Wise of Foolish?\\nThe Chicago Tribune article ...</td>\n",
       "      <td>wise of foolish  the chicago tribune article t...</td>\n",
       "      <td>7</td>\n",
       "      <td>16</td>\n",
       "      <td>0.506048</td>\n",
       "      <td>0.253361</td>\n",
       "    </tr>\n",
       "    <tr>\n",
       "      <th>4</th>\n",
       "      <td>2022-01-06</td>\n",
       "      <td>english</td>\n",
       "      <td>Family, friends, colleagues gathering today at...</td>\n",
       "      <td>The neighbors near Mashawn Plummer’s Portage P...</td>\n",
       "      <td>the neighbors near mashawn plummer s portage p...</td>\n",
       "      <td>12</td>\n",
       "      <td>7</td>\n",
       "      <td>0.628751</td>\n",
       "      <td>0.277253</td>\n",
       "    </tr>\n",
       "    <tr>\n",
       "      <th>...</th>\n",
       "      <td>...</td>\n",
       "      <td>...</td>\n",
       "      <td>...</td>\n",
       "      <td>...</td>\n",
       "      <td>...</td>\n",
       "      <td>...</td>\n",
       "      <td>...</td>\n",
       "      <td>...</td>\n",
       "      <td>...</td>\n",
       "    </tr>\n",
       "    <tr>\n",
       "      <th>183315</th>\n",
       "      <td>2022-03-05</td>\n",
       "      <td>english</td>\n",
       "      <td>Chicago girl shot after celebrating 12th birth...</td>\n",
       "      <td>Authorities say a girl who was shot in the hea...</td>\n",
       "      <td>authorities say a girl who was shot in the hea...</td>\n",
       "      <td>7</td>\n",
       "      <td>0</td>\n",
       "      <td>0.683487</td>\n",
       "      <td>0.044752</td>\n",
       "    </tr>\n",
       "    <tr>\n",
       "      <th>183316</th>\n",
       "      <td>2022-03-05</td>\n",
       "      <td>english</td>\n",
       "      <td>Loyola Chicago vs. Northern Iowa – MVC Tournam...</td>\n",
       "      <td>The No. 4 seed Loyola Chicago Ramblers (23-7, ...</td>\n",
       "      <td>the no    seed loyola chicago ramblers        ...</td>\n",
       "      <td>17</td>\n",
       "      <td>3</td>\n",
       "      <td>0.519437</td>\n",
       "      <td>0.462224</td>\n",
       "    </tr>\n",
       "    <tr>\n",
       "      <th>183317</th>\n",
       "      <td>2022-03-05</td>\n",
       "      <td>english</td>\n",
       "      <td>DraftKings Illinois Promo Code: $1,050 Bonus a...</td>\n",
       "      <td>Remember to check out the DraftKings Illinois ...</td>\n",
       "      <td>remember to check out the draftkings illinois ...</td>\n",
       "      <td>4</td>\n",
       "      <td>1</td>\n",
       "      <td>0.534763</td>\n",
       "      <td>0.423974</td>\n",
       "    </tr>\n",
       "    <tr>\n",
       "      <th>183318</th>\n",
       "      <td>2022-03-05</td>\n",
       "      <td>english</td>\n",
       "      <td>Sidney, Illinois had a median home valuation o...</td>\n",
       "      <td>[BlockShopper.com] .\\n|Buyer||Address||Valuati...</td>\n",
       "      <td>blockshopper com     buyer  address  valuatio...</td>\n",
       "      <td>16</td>\n",
       "      <td>-1</td>\n",
       "      <td>0.961049</td>\n",
       "      <td>0.000000</td>\n",
       "    </tr>\n",
       "    <tr>\n",
       "      <th>183319</th>\n",
       "      <td>2022-03-06</td>\n",
       "      <td>english</td>\n",
       "      <td>Ukrainian woman weds Chicago fiancé ahead of r...</td>\n",
       "      <td>CHICAGO (AP) — When Russia invaded her home co...</td>\n",
       "      <td>chicago  ap    when russia invaded her home co...</td>\n",
       "      <td>1</td>\n",
       "      <td>12</td>\n",
       "      <td>0.961606</td>\n",
       "      <td>0.036436</td>\n",
       "    </tr>\n",
       "  </tbody>\n",
       "</table>\n",
       "<p>183320 rows × 9 columns</p>\n",
       "</div>"
      ],
      "text/plain": [
       "             date language                                              title  \\\n",
       "0      2022-01-06  english  No deal, no school: Chicago cancels classes fo...   \n",
       "1      2022-01-06  english  No deal, no school: Chicago cancels classes fo...   \n",
       "2      2022-01-06  english             Watch ‘Chicago P.D.’ Preview Wednesday   \n",
       "3      2022-01-06  english  Trump’s Solution for Chicago Public Schools? K...   \n",
       "4      2022-01-06  english  Family, friends, colleagues gathering today at...   \n",
       "...           ...      ...                                                ...   \n",
       "183315 2022-03-05  english  Chicago girl shot after celebrating 12th birth...   \n",
       "183316 2022-03-05  english  Loyola Chicago vs. Northern Iowa – MVC Tournam...   \n",
       "183317 2022-03-05  english  DraftKings Illinois Promo Code: $1,050 Bonus a...   \n",
       "183318 2022-03-05  english  Sidney, Illinois had a median home valuation o...   \n",
       "183319 2022-03-06  english  Ukrainian woman weds Chicago fiancé ahead of r...   \n",
       "\n",
       "                                                     text  \\\n",
       "0       CHICAGO (AP) — Chicago school leaders canceled...   \n",
       "1       CHICAGO (AP) — Chicago school leaders canceled...   \n",
       "2       Chicago PD 9×11 “Lies” Season 9 Episode 11 Pro...   \n",
       "3       Wise of Foolish?\\nThe Chicago Tribune article ...   \n",
       "4       The neighbors near Mashawn Plummer’s Portage P...   \n",
       "...                                                   ...   \n",
       "183315  Authorities say a girl who was shot in the hea...   \n",
       "183316  The No. 4 seed Loyola Chicago Ramblers (23-7, ...   \n",
       "183317  Remember to check out the DraftKings Illinois ...   \n",
       "183318  [BlockShopper.com] .\\n|Buyer||Address||Valuati...   \n",
       "183319  CHICAGO (AP) — When Russia invaded her home co...   \n",
       "\n",
       "                                             cleaned_text  topic_1  topic_2  \\\n",
       "0       chicago  ap    chicago school leaders canceled...       16       -1   \n",
       "1       chicago  ap    chicago school leaders canceled...       16       -1   \n",
       "2       chicago pd       lies  season   episode    pro...       12        9   \n",
       "3       wise of foolish  the chicago tribune article t...        7       16   \n",
       "4       the neighbors near mashawn plummer s portage p...       12        7   \n",
       "...                                                   ...      ...      ...   \n",
       "183315  authorities say a girl who was shot in the hea...        7        0   \n",
       "183316  the no    seed loyola chicago ramblers        ...       17        3   \n",
       "183317  remember to check out the draftkings illinois ...        4        1   \n",
       "183318   blockshopper com     buyer  address  valuatio...       16       -1   \n",
       "183319  chicago  ap    when russia invaded her home co...        1       12   \n",
       "\n",
       "              w1        w2  \n",
       "0       0.995696  0.000000  \n",
       "1       0.995942  0.000000  \n",
       "2       0.548833  0.194461  \n",
       "3       0.506048  0.253361  \n",
       "4       0.628751  0.277253  \n",
       "...          ...       ...  \n",
       "183315  0.683487  0.044752  \n",
       "183316  0.519437  0.462224  \n",
       "183317  0.534763  0.423974  \n",
       "183318  0.961049  0.000000  \n",
       "183319  0.961606  0.036436  \n",
       "\n",
       "[183320 rows x 9 columns]"
      ]
     },
     "execution_count": 118,
     "metadata": {},
     "output_type": "execute_result"
    }
   ],
   "source": [
    "cleaned_df"
   ]
  },
  {
   "cell_type": "code",
   "execution_count": 119,
   "metadata": {},
   "outputs": [],
   "source": [
    "cleaned_df.to_pickle('cleaned_df_topic.pkl')"
   ]
  },
  {
   "cell_type": "code",
   "execution_count": 11,
   "metadata": {},
   "outputs": [],
   "source": [
    "cleaned_df = pd.read_pickle('cleaned_df_topic.pkl')"
   ]
  },
  {
   "cell_type": "code",
   "execution_count": 95,
   "metadata": {},
   "outputs": [],
   "source": [
    "cleaned_df.to_csv(os.path.join('cleaned_df_topic.csv'), index=False)"
   ]
  },
  {
   "cell_type": "code",
   "execution_count": null,
   "metadata": {},
   "outputs": [],
   "source": []
  }
 ],
 "metadata": {
  "kernelspec": {
   "display_name": "Python 3",
   "language": "python",
   "name": "python3"
  },
  "language_info": {
   "codemirror_mode": {
    "name": "ipython",
    "version": 3
   },
   "file_extension": ".py",
   "mimetype": "text/x-python",
   "name": "python",
   "nbconvert_exporter": "python",
   "pygments_lexer": "ipython3",
   "version": "3.8.5"
  }
 },
 "nbformat": 4,
 "nbformat_minor": 4
}
