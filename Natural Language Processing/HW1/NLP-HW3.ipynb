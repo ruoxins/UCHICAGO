{
 "cells": [
  {
   "cell_type": "markdown",
   "metadata": {},
   "source": [
    "## Importing Libraries"
   ]
  },
  {
   "cell_type": "markdown",
   "metadata": {},
   "source": [
    "In this notebook, we'll examine the impact of choosing n in our n-grams across two libraries of texts. Onelibrary is comprised of several full-length novels, while another consists of articles of varying lenghts. We'llﬁrst deﬁne several helper functions that will be re-used throughout this process (each one is commented).We'll then proceed to evaluate our choice of n, per library, and then ﬁnally, use that n-value to compare ourlibrary of texts and return Jaccard similarity values for the more similiar texts."
   ]
  },
  {
   "cell_type": "markdown",
   "metadata": {},
   "source": [
    "**Final Report**\n",
    "- Which articles / books were similar and which ones were dissimilar?\n",
    "- A brief write-up explaining why and how you chose “n” for you analysis (for n-grams)\n",
    "- Was the “n” identical or different for books vs. articles and why\n",
    "- Visualize the selection of “n”\n",
    "- Include all of your program codes (creating n-grams from text as well as selecting the “n” for analysis)"
   ]
  },
  {
   "cell_type": "code",
   "execution_count": 68,
   "metadata": {
    "scrolled": true
   },
   "outputs": [],
   "source": [
    "from __future__ import division\n",
    "import nltk\n",
    "import string\n",
    "import os\n",
    "from nltk.corpus import stopwords\n",
    "from itertools import combinations\n",
    "import matplotlib.pyplot as plt\n",
    "import numpy as np\n",
    "import pandas as pd"
   ]
  },
  {
   "cell_type": "markdown",
   "metadata": {},
   "source": [
    "## 1.Defining Functions"
   ]
  },
  {
   "cell_type": "code",
   "execution_count": 56,
   "metadata": {},
   "outputs": [],
   "source": [
    "def ngram_compare_files(file1,file2,n):\n",
    "    # Takes two files\n",
    "    # hashes their n-grams into twos lists\n",
    "    # calculates the intersection and union\n",
    "    # of the two lists, and returns\n",
    "    # Jacard similarity value\n",
    " \n",
    "    #stop = stopwords.words('english')\n",
    "    f1 = open(file1)\n",
    "    raw = f1.read()\n",
    "    f1.close()\n",
    "    f1_grams = nltk.ngrams(raw.split(),n)\n",
    "    \n",
    "    array_1 = []\n",
    "    \n",
    "    for gram in f1_grams:\n",
    "        array_1.append(hash(gram))\n",
    "    f2 = open(file2)\n",
    "    raw = f2.read()\n",
    "    f2.close()\n",
    "    f2_grams = nltk.ngrams(raw.split(),n)\n",
    "    \n",
    "    array_2 = []\n",
    "    \n",
    "    for gram in f2_grams:\n",
    "        array_2.append(hash(gram))\n",
    "        \n",
    "    intersection = len(list(set(array_1).intersection(array_2)))    \n",
    "    union = len(set(array_1)) + len(set(array_2)) - intersection\n",
    "    jacard_similarity = intersection / union\n",
    "    return jacard_similarity\n",
    "\n",
    "\n",
    "def pairs_of_files(directory):\n",
    "    # returns combination of two files given\n",
    "    # all files in a directory\n",
    "    \n",
    "    dir = os.listdir(directory)\n",
    "    if '.ipynb_checkpoints' in dir:\n",
    "        dir.remove('.ipynb_checkpoints')\n",
    "    combo = combinations(dir, 2)\n",
    "    return combo\n",
    "\n",
    "def compare_files(directory,ngram_size,threshold):\n",
    "    # compares all pairs of files in a directory\n",
    "    # for similarity.\n",
    "    # RETURNS: Dictionary, with key as\n",
    "    # comma-separated string of two files\n",
    "    # and value of similarity index as decimal\n",
    "    # where similarity index is above threshold\n",
    "    # value.\n",
    "    \n",
    "    compare_dictionary = {}\n",
    "    \n",
    "    ngram = ngram_size\n",
    "    combo = pairs_of_files(directory)\n",
    "    \n",
    "    for i in combo:\n",
    "            \n",
    "        sim = ngram_compare_files(directory+str(i[0]),directory+str(i[1]),ngram)\n",
    "        if sim > threshold:\n",
    "            \n",
    "            key = str(i[0]) + \",\" + str(i[1])\n",
    "            value = sim\n",
    "            compare_dictionary[key]=value\n",
    "            \n",
    "    return compare_dictionary            "
   ]
  },
  {
   "cell_type": "markdown",
   "metadata": {},
   "source": [
    "## 2.Clean file: convert to lower case, remove stopwords, punctuation, numbers, etc"
   ]
  },
  {
   "cell_type": "code",
   "execution_count": 31,
   "metadata": {},
   "outputs": [],
   "source": [
    "# book = '3boat10.txt'\n",
    "dir = ''"
   ]
  },
  {
   "cell_type": "code",
   "execution_count": 28,
   "metadata": {},
   "outputs": [],
   "source": [
    "def clean_file(file, isBook):\n",
    "    # read file\n",
    "    if isBook:\n",
    "        f = open(dir+'books/'+file, encoding=\"utf8\")\n",
    "    else:    \n",
    "        f = open(dir+'articles/'+file, encoding=\"utf8\")\n",
    "        \n",
    "    raw = f.read()\n",
    "    f.close()\n",
    " \n",
    "    # clean the text\n",
    "    tokens = nltk.word_tokenize(raw)\n",
    "    #stopwords = stopwords.words('english')\n",
    "    stopwords = set(nltk.corpus.stopwords.words('english'))\n",
    "    # Filter out words that have punctuation and make everything lower-case\n",
    "    cleaned_words = [w.lower() for w in tokens if w.isalnum()]\n",
    "    # Remove stopwords\n",
    "    cleaned_words = [word for word in cleaned_words if word not in stopwords]\n",
    "\n",
    "    # change back to string\n",
    "    str_result = ' '.join(cleaned_words)\n",
    "    # output as txt file\n",
    "    if isBook:\n",
    "        cleaned_dir = dir+'books_cleaned/'\n",
    "    else:\n",
    "        cleaned_dir = dir+'articles_cleaned/'\n",
    "        \n",
    "    result = open(cleaned_dir+'cleaned_'+file, \"wt\", encoding=\"utf8\")\n",
    "    n = result.write(str_result)\n",
    "    result.close()"
   ]
  },
  {
   "cell_type": "code",
   "execution_count": 19,
   "metadata": {},
   "outputs": [],
   "source": [
    "book_list = os.listdir(dir+'books/')\n",
    "article_list = os.listdir(dir+'articles/')"
   ]
  },
  {
   "cell_type": "code",
   "execution_count": 29,
   "metadata": {},
   "outputs": [],
   "source": [
    "for book in book_list:\n",
    "    clean_file(book, True)"
   ]
  },
  {
   "cell_type": "code",
   "execution_count": 30,
   "metadata": {},
   "outputs": [],
   "source": [
    "for article in article_list:\n",
    "    clean_file(article, False)"
   ]
  },
  {
   "cell_type": "markdown",
   "metadata": {},
   "source": [
    "## 3.Choosing 'N'"
   ]
  },
  {
   "cell_type": "markdown",
   "metadata": {},
   "source": [
    "In order to determine a proper N-value for a n-grams, we evaluate the impact of N over a range of 2 to 20.\n",
    "We do this by repeating our similarity measure (Jaccardian similarity) for each N, and plotting similairity."
   ]
  },
  {
   "cell_type": "markdown",
   "metadata": {},
   "source": [
    "### 3.1 Running for Books"
   ]
  },
  {
   "cell_type": "markdown",
   "metadata": {},
   "source": [
    "#### 3.1.1 Raw file comparison"
   ]
  },
  {
   "cell_type": "code",
   "execution_count": 4,
   "metadata": {},
   "outputs": [],
   "source": [
    "x = []\n",
    "y = []\n",
    "yall = []\n",
    "\n",
    "for n in range(2,20):\n",
    "        \n",
    "    books_comparison = compare_files(dir+'books/',ngram_size=n,threshold=-1)\n",
    "    a = np.zeros(len(books_comparison))\n",
    "    counter = 0\n",
    "    for key, value in books_comparison.items():\n",
    "        a[counter] = value\n",
    "        counter +=1\n",
    "    #print str(n) + \":\" + str(a.mean())\n",
    "    x.append(n)\n",
    "    yall.append(a*100)\n",
    "    y.append(a.mean()*100)"
   ]
  },
  {
   "cell_type": "markdown",
   "metadata": {},
   "source": [
    "**Plot the distributions**"
   ]
  },
  {
   "cell_type": "code",
   "execution_count": 5,
   "metadata": {},
   "outputs": [
    {
     "data": {
      "image/png": "[encoded data removed]",
      "text/plain": [
       "<Figure size 432x288 with 1 Axes>"
      ]
     },
     "metadata": {
      "needs_background": "light"
     },
     "output_type": "display_data"
    }
   ],
   "source": [
    "plt.plot(x,y, linestyle = '-')\n",
    "#plt.plot(x,yall, linestyle = '--')\n",
    "plt.xlabel('n in n-grams')\n",
    "plt.ylabel('Similarity (pct)')\n",
    "plt.title('Similarity Across All Books per N n-gram')\n",
    "plt.grid()\n",
    "plt.show()"
   ]
  },
  {
   "cell_type": "markdown",
   "metadata": {},
   "source": [
    "#### 3.1.2 Cleaned file comparison"
   ]
  },
  {
   "cell_type": "code",
   "execution_count": 42,
   "metadata": {},
   "outputs": [
    {
     "data": {
      "text/plain": [
       "['.ipynb_checkpoints',\n",
       " 'cleaned_3boat10.txt',\n",
       " 'cleaned_Adventures_of_Sherlock_Holmes.txt',\n",
       " 'cleaned_Hound_of_the_Baskervilles.txt',\n",
       " 'cleaned_Return_of_Sherlock_Holmes.txt']"
      ]
     },
     "execution_count": 42,
     "metadata": {},
     "output_type": "execute_result"
    }
   ],
   "source": [
    "os.listdir(dir+'books_cleaned/')"
   ]
  },
  {
   "cell_type": "code",
   "execution_count": 195,
   "metadata": {},
   "outputs": [],
   "source": [
    "x = []\n",
    "y = []\n",
    "yall = []\n",
    "\n",
    "for n in range(2,20):\n",
    "        \n",
    "    books_comparison = compare_files(dir+'books_cleaned/',ngram_size=n,threshold=-1)\n",
    "    a = np.zeros(len(books_comparison))\n",
    "    counter = 0\n",
    "    for key, value in books_comparison.items():\n",
    "        a[counter] = value\n",
    "        counter +=1\n",
    "    #print str(n) + \":\" + str(a.mean())\n",
    "    x.append(n)\n",
    "    yall.append(a*100)\n",
    "    y.append(a.mean()*100)"
   ]
  },
  {
   "cell_type": "code",
   "execution_count": 197,
   "metadata": {},
   "outputs": [],
   "source": [
    "from matplotlib.ticker import MaxNLocator\n",
    "ax.yaxis.set_major_locator(MaxNLocator(integer=True))\n",
    "import matplotlib.ticker as mticker"
   ]
  },
  {
   "cell_type": "code",
   "execution_count": 198,
   "metadata": {
    "scrolled": true
   },
   "outputs": [
    {
     "data": {
      "image/png": "[encoded data removed]",
      "text/plain": [
       "<Figure size 432x288 with 1 Axes>"
      ]
     },
     "metadata": {
      "needs_background": "light"
     },
     "output_type": "display_data"
    }
   ],
   "source": [
    "plt.plot(x,y, linestyle = '-')\n",
    "#plt.plot(x,yall, linestyle = '--')\n",
    "plt.xlabel('n in n-grams')\n",
    "plt.ylabel('Similarity (pct)')\n",
    "plt.title('Similarity Across All Books(Cleaned) per N n-gram')\n",
    "plt.gca().xaxis.set_major_locator(mticker.MultipleLocator(1))\n",
    "plt.grid()\n",
    "plt.show()"
   ]
  },
  {
   "cell_type": "code",
   "execution_count": 200,
   "metadata": {
    "scrolled": false
   },
   "outputs": [
    {
     "data": {
      "image/png": "[encoded data removed]",
      "text/plain": [
       "<Figure size 432x288 with 1 Axes>"
      ]
     },
     "metadata": {
      "needs_background": "light"
     },
     "output_type": "display_data"
    }
   ],
   "source": [
    "labels = list(books_comparison.keys())\n",
    "plt.plot(x, y, linestyle = '-', label='mean')\n",
    "plt.plot(x, yall, linestyle = '--')\n",
    "plt.xlabel('n in n-grams')\n",
    "plt.ylabel('Similarity (pct)')\n",
    "plt.title('Similarity Across All Books(Cleaned) per N n-gram')\n",
    "plt.gca().xaxis.set_major_locator(mticker.MultipleLocator(1))\n",
    "plt.legend(bbox_to_anchor=(1.04,1), loc=\"upper left\")\n",
    "plt.grid()\n",
    "plt.show()"
   ]
  },
  {
   "cell_type": "markdown",
   "metadata": {},
   "source": [
    "**From the above plots for the cleaned books, I would choose n to be 3 for book since the elbow point for all y are around 3.**"
   ]
  },
  {
   "cell_type": "markdown",
   "metadata": {},
   "source": [
    "### 3.2 Running for Articles"
   ]
  },
  {
   "cell_type": "markdown",
   "metadata": {},
   "source": [
    "#### 3.2.1 Raw file comparison"
   ]
  },
  {
   "cell_type": "code",
   "execution_count": 6,
   "metadata": {},
   "outputs": [],
   "source": [
    "x = []\n",
    "y = []\n",
    "yall = []\n",
    "\n",
    "for n in range(2,20):\n",
    "    \n",
    "    art_comparison = compare_files(dir+'articles/',ngram_size=n,threshold=-1)\n",
    "    a = np.zeros(len(art_comparison))\n",
    "    counter = 0\n",
    "    for key, value in art_comparison.items():\n",
    "        a[counter] = value\n",
    "        counter +=1\n",
    "    #print str(n) + \":\" + str(a.mean())\n",
    "    x.append(n)\n",
    "    yall.append(a*100)\n",
    "    y.append(a.mean()*100)"
   ]
  },
  {
   "cell_type": "code",
   "execution_count": 7,
   "metadata": {},
   "outputs": [
    {
     "data": {
      "image/png": "[encoded data removed]",
      "text/plain": [
       "<Figure size 432x288 with 1 Axes>"
      ]
     },
     "metadata": {
      "needs_background": "light"
     },
     "output_type": "display_data"
    }
   ],
   "source": [
    "plt.plot(x,y, linestyle = '-')\n",
    "#plt.plot(x,yall, linestyle = '--')\n",
    "plt.xlabel('n in n-grams')\n",
    "plt.ylabel('Similarity (pct)')\n",
    "plt.title('Mean Similarity Across All Articles per N n-gram')\n",
    "plt.grid()\n",
    "plt.show()"
   ]
  },
  {
   "cell_type": "markdown",
   "metadata": {},
   "source": [
    "#### 3.2.2 Cleaned file comparison"
   ]
  },
  {
   "cell_type": "code",
   "execution_count": 201,
   "metadata": {},
   "outputs": [],
   "source": [
    "x = []\n",
    "y = []\n",
    "yall = []\n",
    "\n",
    "for n in range(2,20):\n",
    "    \n",
    "    art_comparison = compare_files(dir+'articles_cleaned/',ngram_size=n,threshold=-1)\n",
    "    a = np.zeros(len(art_comparison))\n",
    "    counter = 0\n",
    "    for key, value in art_comparison.items():\n",
    "        a[counter] = value\n",
    "        counter +=1\n",
    "    #print str(n) + \":\" + str(a.mean())\n",
    "    x.append(n)\n",
    "    yall.append(a*100)\n",
    "    y.append(a.mean()*100)"
   ]
  },
  {
   "cell_type": "code",
   "execution_count": 202,
   "metadata": {},
   "outputs": [
    {
     "data": {
      "image/png": "[encoded data removed]",
      "text/plain": [
       "<Figure size 432x288 with 1 Axes>"
      ]
     },
     "metadata": {
      "needs_background": "light"
     },
     "output_type": "display_data"
    }
   ],
   "source": [
    "plt.plot(x,y, linestyle = '-')\n",
    "#plt.plot(x,yall, linestyle = '--')\n",
    "plt.xlabel('n in n-grams')\n",
    "plt.ylabel('Similarity (pct)')\n",
    "plt.title('Mean Similarity Across All Articles(Cleaned) per N n-gram')\n",
    "plt.gca().xaxis.set_major_locator(mticker.MultipleLocator(1))\n",
    "plt.grid()\n",
    "plt.show()"
   ]
  },
  {
   "cell_type": "code",
   "execution_count": 203,
   "metadata": {},
   "outputs": [
    {
     "data": {
      "image/png": "[encoded data removed]",
      "text/plain": [
       "<Figure size 432x288 with 1 Axes>"
      ]
     },
     "metadata": {
      "needs_background": "light"
     },
     "output_type": "display_data"
    }
   ],
   "source": [
    "plt.plot(x, y, linestyle = '-', label='mean')\n",
    "plt.plot(x,yall, linestyle = '--')\n",
    "plt.xlabel('n in n-grams')\n",
    "plt.ylabel('Similarity (pct)')\n",
    "plt.title('Mean Similarity Across All Articles(Cleaned) per N n-gram')\n",
    "plt.gca().xaxis.set_major_locator(mticker.MultipleLocator(1))\n",
    "plt.legend(bbox_to_anchor=(1.04,1), loc=\"upper left\")\n",
    "plt.grid()\n",
    "plt.show()"
   ]
  },
  {
   "cell_type": "markdown",
   "metadata": {},
   "source": [
    "**Here, from the above plots, I would choose n = 4 for article, which is also the elbow point for the plot.**"
   ]
  },
  {
   "cell_type": "markdown",
   "metadata": {},
   "source": [
    "## 4.Books measuring similarity"
   ]
  },
  {
   "cell_type": "markdown",
   "metadata": {},
   "source": [
    "### 4.1 Check for most similar"
   ]
  },
  {
   "cell_type": "markdown",
   "metadata": {},
   "source": [
    "After having our n for books chosen as '???', we'll examine the similairty of our set of books, and use a\n",
    "threshold value of ???%. This threshold value will filter our any books with similarities below that value, in order\n",
    "to allow us to focus on the most promininent combinations of books that are similar."
   ]
  },
  {
   "cell_type": "code",
   "execution_count": 123,
   "metadata": {},
   "outputs": [],
   "source": [
    "book_result = pd.DataFrame()\n",
    "book1s = []\n",
    "book2s = []\n",
    "book_similarity = []"
   ]
  },
  {
   "cell_type": "code",
   "execution_count": 124,
   "metadata": {},
   "outputs": [],
   "source": [
    "books_comparison = compare_files(dir+'books/',ngram_size=3,threshold=0.01)\n",
    "\n",
    "\n",
    "for k,v in books_comparison.items():\n",
    "    book1, book2 = k.split(',')\n",
    "    similarity_index = v\n",
    "    book1s.append(str(book1))\n",
    "    book2s.append(str(book2))\n",
    "    book_similarity.append(similarity_index)\n",
    "    \n",
    "#     print (\"1\")\n",
    "#     print (str(book1) + \" is similar to \" + str(book2) + \n",
    "#            \" with a Similarity Index of \" + '{percent:.3%}'.format(percent=similarity_index) +\"\\n\" +\"\\n\")"
   ]
  },
  {
   "cell_type": "code",
   "execution_count": 125,
   "metadata": {
    "scrolled": true
   },
   "outputs": [
    {
     "data": {
      "text/html": [
       "<div>\n",
       "<style scoped>\n",
       "    .dataframe tbody tr th:only-of-type {\n",
       "        vertical-align: middle;\n",
       "    }\n",
       "\n",
       "    .dataframe tbody tr th {\n",
       "        vertical-align: top;\n",
       "    }\n",
       "\n",
       "    .dataframe thead th {\n",
       "        text-align: right;\n",
       "    }\n",
       "</style>\n",
       "<table border=\"1\" class=\"dataframe\">\n",
       "  <thead>\n",
       "    <tr style=\"text-align: right;\">\n",
       "      <th></th>\n",
       "      <th>book1</th>\n",
       "      <th>book2</th>\n",
       "      <th>similarity</th>\n",
       "    </tr>\n",
       "  </thead>\n",
       "  <tbody>\n",
       "    <tr>\n",
       "      <th>0</th>\n",
       "      <td>Adventures_of_Sherlock_Holmes.txt</td>\n",
       "      <td>Return_of_Sherlock_Holmes.txt</td>\n",
       "      <td>0.056684</td>\n",
       "    </tr>\n",
       "    <tr>\n",
       "      <th>1</th>\n",
       "      <td>Hound_of_the_Baskervilles.txt</td>\n",
       "      <td>Return_of_Sherlock_Holmes.txt</td>\n",
       "      <td>0.052957</td>\n",
       "    </tr>\n",
       "    <tr>\n",
       "      <th>2</th>\n",
       "      <td>Adventures_of_Sherlock_Holmes.txt</td>\n",
       "      <td>Hound_of_the_Baskervilles.txt</td>\n",
       "      <td>0.051794</td>\n",
       "    </tr>\n",
       "    <tr>\n",
       "      <th>3</th>\n",
       "      <td>3boat10.txt</td>\n",
       "      <td>Adventures_of_Sherlock_Holmes.txt</td>\n",
       "      <td>0.022727</td>\n",
       "    </tr>\n",
       "    <tr>\n",
       "      <th>4</th>\n",
       "      <td>3boat10.txt</td>\n",
       "      <td>Return_of_Sherlock_Holmes.txt</td>\n",
       "      <td>0.022137</td>\n",
       "    </tr>\n",
       "    <tr>\n",
       "      <th>5</th>\n",
       "      <td>3boat10.txt</td>\n",
       "      <td>Hound_of_the_Baskervilles.txt</td>\n",
       "      <td>0.019884</td>\n",
       "    </tr>\n",
       "  </tbody>\n",
       "</table>\n",
       "</div>"
      ],
      "text/plain": [
       "                               book1                              book2  \\\n",
       "0  Adventures_of_Sherlock_Holmes.txt      Return_of_Sherlock_Holmes.txt   \n",
       "1      Hound_of_the_Baskervilles.txt      Return_of_Sherlock_Holmes.txt   \n",
       "2  Adventures_of_Sherlock_Holmes.txt      Hound_of_the_Baskervilles.txt   \n",
       "3                        3boat10.txt  Adventures_of_Sherlock_Holmes.txt   \n",
       "4                        3boat10.txt      Return_of_Sherlock_Holmes.txt   \n",
       "5                        3boat10.txt      Hound_of_the_Baskervilles.txt   \n",
       "\n",
       "   similarity  \n",
       "0    0.056684  \n",
       "1    0.052957  \n",
       "2    0.051794  \n",
       "3    0.022727  \n",
       "4    0.022137  \n",
       "5    0.019884  "
      ]
     },
     "execution_count": 125,
     "metadata": {},
     "output_type": "execute_result"
    }
   ],
   "source": [
    "book_result['book1'] = book1s\n",
    "book_result['book2'] = book2s\n",
    "book_result['similarity'] = book_similarity\n",
    "book_result = book_result.sort_values(by=['similarity'], ascending=False)\n",
    "book_result = book_result.reset_index(drop=True)\n",
    "book_result"
   ]
  },
  {
   "cell_type": "code",
   "execution_count": 138,
   "metadata": {},
   "outputs": [],
   "source": [
    "import matplotlib.pyplot as plt\n",
    "# function to add value labels\n",
    "def addlabels(x,y):\n",
    "    for i in range(len(x)):\n",
    "        plt.text(i,round(y[i]/2,3),round(y[i],3), ha = 'center', Bbox = dict(facecolor = 'white', alpha = .5))"
   ]
  },
  {
   "cell_type": "code",
   "execution_count": 139,
   "metadata": {},
   "outputs": [
    {
     "name": "stderr",
     "output_type": "stream",
     "text": [
      "<ipython-input-138-ccc7c907616a>:5: MatplotlibDeprecationWarning: Case-insensitive properties were deprecated in 3.3 and support will be removed two minor releases later\n",
      "  plt.text(i,round(y[i]/2,3),round(y[i],3), ha = 'center', Bbox = dict(facecolor = 'white', alpha = .5))\n"
     ]
    },
    {
     "data": {
      "image/png": "[encoded data removed]",
      "text/plain": [
       "<Figure size 720x360 with 1 Axes>"
      ]
     },
     "metadata": {
      "needs_background": "light"
     },
     "output_type": "display_data"
    }
   ],
   "source": [
    "#plt.plot((book_result['book1'], book_result['book2']), book_result[['similarity']])\n",
    "\n",
    "fig = plt.figure(figsize = (10, 5))\n",
    "\n",
    "x = ['ASH_RSH', 'HB_RSH', 'ASH_HB', '3B10_ASH', '3B10_RSH', '3B10_HB']\n",
    "y = book_result['similarity']\n",
    "# creating the bar plot\n",
    "plt.bar(x, y, color =['maroon', 'orange', 'gold', 'lightgreen', 'lightblue', 'thistle'],\n",
    "        width = 0.4)\n",
    "addlabels(x, y)\n",
    "plt.xlabel(\"Book Pairs\")\n",
    "plt.ylabel(\"Similarity\")\n",
    "plt.title(\"Similarity Index for Book Pairs\", fontsize=20)\n",
    "plt.show()"
   ]
  },
  {
   "cell_type": "markdown",
   "metadata": {},
   "source": [
    "**Acronym used as x label for better plot**:\\\n",
    "ASH: Adventures_of_Sherlock_Holmes\\\n",
    "RSH: Return_of_Sherlock_Holmes\\\n",
    "HB: Hound_of_the_Baskervilles\\\n",
    "3B10: 3boat10"
   ]
  },
  {
   "cell_type": "markdown",
   "metadata": {},
   "source": [
    "**From the above plot, we could see that the book 'Adeventures_of_Sherlock_Holmes' and 'Return_of_Sherlock_Holmes' has the highest similarity of about 0.057%.**"
   ]
  },
  {
   "cell_type": "markdown",
   "metadata": {},
   "source": [
    "### 4.2 Check for most dissimilar"
   ]
  },
  {
   "cell_type": "code",
   "execution_count": 169,
   "metadata": {},
   "outputs": [
    {
     "data": {
      "text/html": [
       "<div>\n",
       "<style scoped>\n",
       "    .dataframe tbody tr th:only-of-type {\n",
       "        vertical-align: middle;\n",
       "    }\n",
       "\n",
       "    .dataframe tbody tr th {\n",
       "        vertical-align: top;\n",
       "    }\n",
       "\n",
       "    .dataframe thead th {\n",
       "        text-align: right;\n",
       "    }\n",
       "</style>\n",
       "<table border=\"1\" class=\"dataframe\">\n",
       "  <thead>\n",
       "    <tr style=\"text-align: right;\">\n",
       "      <th></th>\n",
       "      <th>book1</th>\n",
       "      <th>book2</th>\n",
       "      <th>similarity</th>\n",
       "    </tr>\n",
       "  </thead>\n",
       "  <tbody>\n",
       "    <tr>\n",
       "      <th>0</th>\n",
       "      <td>3boat10.txt</td>\n",
       "      <td>Hound_of_the_Baskervilles.txt</td>\n",
       "      <td>0.019884</td>\n",
       "    </tr>\n",
       "    <tr>\n",
       "      <th>1</th>\n",
       "      <td>3boat10.txt</td>\n",
       "      <td>Return_of_Sherlock_Holmes.txt</td>\n",
       "      <td>0.022137</td>\n",
       "    </tr>\n",
       "    <tr>\n",
       "      <th>2</th>\n",
       "      <td>3boat10.txt</td>\n",
       "      <td>Adventures_of_Sherlock_Holmes.txt</td>\n",
       "      <td>0.022727</td>\n",
       "    </tr>\n",
       "    <tr>\n",
       "      <th>3</th>\n",
       "      <td>Adventures_of_Sherlock_Holmes.txt</td>\n",
       "      <td>Hound_of_the_Baskervilles.txt</td>\n",
       "      <td>0.051794</td>\n",
       "    </tr>\n",
       "    <tr>\n",
       "      <th>4</th>\n",
       "      <td>Hound_of_the_Baskervilles.txt</td>\n",
       "      <td>Return_of_Sherlock_Holmes.txt</td>\n",
       "      <td>0.052957</td>\n",
       "    </tr>\n",
       "    <tr>\n",
       "      <th>5</th>\n",
       "      <td>Adventures_of_Sherlock_Holmes.txt</td>\n",
       "      <td>Return_of_Sherlock_Holmes.txt</td>\n",
       "      <td>0.056684</td>\n",
       "    </tr>\n",
       "  </tbody>\n",
       "</table>\n",
       "</div>"
      ],
      "text/plain": [
       "                               book1                              book2  \\\n",
       "0                        3boat10.txt      Hound_of_the_Baskervilles.txt   \n",
       "1                        3boat10.txt      Return_of_Sherlock_Holmes.txt   \n",
       "2                        3boat10.txt  Adventures_of_Sherlock_Holmes.txt   \n",
       "3  Adventures_of_Sherlock_Holmes.txt      Hound_of_the_Baskervilles.txt   \n",
       "4      Hound_of_the_Baskervilles.txt      Return_of_Sherlock_Holmes.txt   \n",
       "5  Adventures_of_Sherlock_Holmes.txt      Return_of_Sherlock_Holmes.txt   \n",
       "\n",
       "   similarity  \n",
       "0    0.019884  \n",
       "1    0.022137  \n",
       "2    0.022727  \n",
       "3    0.051794  \n",
       "4    0.052957  \n",
       "5    0.056684  "
      ]
     },
     "execution_count": 169,
     "metadata": {},
     "output_type": "execute_result"
    }
   ],
   "source": [
    "book_result2 = pd.DataFrame()\n",
    "book1s = []\n",
    "book2s = []\n",
    "book_similarity = []\n",
    "\n",
    "books_comparison = compare_files(dir+'books/',ngram_size=3,threshold=-1)\n",
    "\n",
    "\n",
    "for k,v in books_comparison.items():\n",
    "    book1, book2 = k.split(',')\n",
    "    similarity_index = v\n",
    "    book1s.append(str(book1))\n",
    "    book2s.append(str(book2))\n",
    "    book_similarity.append(similarity_index)\n",
    "    \n",
    "book_result2['book1'] = book1s\n",
    "book_result2['book2'] = book2s\n",
    "book_result2['similarity'] = book_similarity\n",
    "book_result2 = book_result2.sort_values(by=['similarity'], ascending=True)\n",
    "book_result2 = book_result2.reset_index(drop=True)\n",
    "book_result2"
   ]
  },
  {
   "cell_type": "code",
   "execution_count": 171,
   "metadata": {},
   "outputs": [
    {
     "name": "stderr",
     "output_type": "stream",
     "text": [
      "<ipython-input-138-ccc7c907616a>:5: MatplotlibDeprecationWarning: Case-insensitive properties were deprecated in 3.3 and support will be removed two minor releases later\n",
      "  plt.text(i,round(y[i]/2,3),round(y[i],3), ha = 'center', Bbox = dict(facecolor = 'white', alpha = .5))\n"
     ]
    },
    {
     "data": {
      "image/png": "[encoded data removed]",
      "text/plain": [
       "<Figure size 720x360 with 1 Axes>"
      ]
     },
     "metadata": {
      "needs_background": "light"
     },
     "output_type": "display_data"
    }
   ],
   "source": [
    "fig = plt.figure(figsize = (10, 5))\n",
    "\n",
    "x = ['3B10_HB', '3B10_RSH', '3B10_ASH', 'ASH_HB', 'HB_RSH', 'ASH_RSH']\n",
    "y = book_result2['similarity']\n",
    "# creating the bar plot\n",
    "plt.bar(x, y, color =['maroon', 'orange', 'gold', 'lightgreen', 'lightblue', 'thistle'],\n",
    "        width = 0.4)\n",
    "addlabels(x, y)\n",
    "plt.xlabel(\"Book Pairs\")\n",
    "plt.ylabel(\"Similarity\")\n",
    "plt.title(\"Similarity Index for Book Pairs\", fontsize=20)\n",
    "plt.show()"
   ]
  },
  {
   "cell_type": "markdown",
   "metadata": {},
   "source": [
    "**Acronym used as x label for better plot**:\\\n",
    "ASH: Adventures_of_Sherlock_Holmes\\\n",
    "RSH: Return_of_Sherlock_Holmes\\\n",
    "HB: Hound_of_the_Baskervilles\\\n",
    "3B10: 3boat10"
   ]
  },
  {
   "cell_type": "markdown",
   "metadata": {},
   "source": [
    "**Similarly, from the above plot, we could see that the book '3boat10' and 'Hound_of_the_Baskervilles' has the lowest similarity of about 0.02%.**"
   ]
  },
  {
   "cell_type": "markdown",
   "metadata": {},
   "source": [
    "## 5.Articles measuring similarity"
   ]
  },
  {
   "cell_type": "markdown",
   "metadata": {},
   "source": [
    "After having our n for articles chosen as '???', we'll examine the similairty of our set of articles, and use a\n",
    "threshold value of ???%. This threshold value will filter our any articles with similarities below that value, in\n",
    "order to allow us to focus on the most promininent combinations of articles that are similar."
   ]
  },
  {
   "cell_type": "markdown",
   "metadata": {},
   "source": [
    "### 5.1 Check for most similar"
   ]
  },
  {
   "cell_type": "code",
   "execution_count": 118,
   "metadata": {},
   "outputs": [],
   "source": [
    "article_result = pd.DataFrame()\n",
    "article1s = []\n",
    "article2s = []\n",
    "article_similarity = []"
   ]
  },
  {
   "cell_type": "code",
   "execution_count": 119,
   "metadata": {},
   "outputs": [],
   "source": [
    "articles_comparison = compare_files(dir+'articles/',ngram_size=4,threshold=0.01)\n",
    "\n",
    "\n",
    "for k,v in articles_comparison.items():\n",
    "    art1, art2 = k.split(',')\n",
    "    similarity_index = v\n",
    "    article1s.append(str(art1))\n",
    "    article2s.append(str(art2))\n",
    "    article_similarity.append(similarity_index)\n",
    "    \n",
    "#     print (str(art1) + \" is similar to \" + str(art2) + \n",
    "#            \" with a Similarity Index of \" + '{percent:.3%}'.format(percent=similarity_index) +\"\\n\" +\"\\n\")"
   ]
  },
  {
   "cell_type": "code",
   "execution_count": 120,
   "metadata": {
    "scrolled": false
   },
   "outputs": [
    {
     "data": {
      "text/html": [
       "<div>\n",
       "<style scoped>\n",
       "    .dataframe tbody tr th:only-of-type {\n",
       "        vertical-align: middle;\n",
       "    }\n",
       "\n",
       "    .dataframe tbody tr th {\n",
       "        vertical-align: top;\n",
       "    }\n",
       "\n",
       "    .dataframe thead th {\n",
       "        text-align: right;\n",
       "    }\n",
       "</style>\n",
       "<table border=\"1\" class=\"dataframe\">\n",
       "  <thead>\n",
       "    <tr style=\"text-align: right;\">\n",
       "      <th></th>\n",
       "      <th>article1</th>\n",
       "      <th>article2</th>\n",
       "      <th>similarity</th>\n",
       "    </tr>\n",
       "  </thead>\n",
       "  <tbody>\n",
       "    <tr>\n",
       "      <th>0</th>\n",
       "      <td>article16.txt</td>\n",
       "      <td>article17.txt</td>\n",
       "      <td>0.717172</td>\n",
       "    </tr>\n",
       "    <tr>\n",
       "      <th>1</th>\n",
       "      <td>article10.txt</td>\n",
       "      <td>article13.txt</td>\n",
       "      <td>0.196237</td>\n",
       "    </tr>\n",
       "    <tr>\n",
       "      <th>2</th>\n",
       "      <td>article3.txt</td>\n",
       "      <td>article4.txt</td>\n",
       "      <td>0.084112</td>\n",
       "    </tr>\n",
       "    <tr>\n",
       "      <th>3</th>\n",
       "      <td>article26.txt</td>\n",
       "      <td>article28.txt</td>\n",
       "      <td>0.082759</td>\n",
       "    </tr>\n",
       "    <tr>\n",
       "      <th>4</th>\n",
       "      <td>article14.txt</td>\n",
       "      <td>article6.txt</td>\n",
       "      <td>0.068627</td>\n",
       "    </tr>\n",
       "    <tr>\n",
       "      <th>5</th>\n",
       "      <td>article26.txt</td>\n",
       "      <td>article31.txt</td>\n",
       "      <td>0.059211</td>\n",
       "    </tr>\n",
       "    <tr>\n",
       "      <th>6</th>\n",
       "      <td>article28.txt</td>\n",
       "      <td>article31.txt</td>\n",
       "      <td>0.055556</td>\n",
       "    </tr>\n",
       "    <tr>\n",
       "      <th>7</th>\n",
       "      <td>article10.txt</td>\n",
       "      <td>article6.txt</td>\n",
       "      <td>0.053191</td>\n",
       "    </tr>\n",
       "    <tr>\n",
       "      <th>8</th>\n",
       "      <td>article10.txt</td>\n",
       "      <td>article14.txt</td>\n",
       "      <td>0.018648</td>\n",
       "    </tr>\n",
       "    <tr>\n",
       "      <th>9</th>\n",
       "      <td>article1.txt</td>\n",
       "      <td>article18.txt</td>\n",
       "      <td>0.018072</td>\n",
       "    </tr>\n",
       "    <tr>\n",
       "      <th>10</th>\n",
       "      <td>article26.txt</td>\n",
       "      <td>article32.txt</td>\n",
       "      <td>0.012987</td>\n",
       "    </tr>\n",
       "    <tr>\n",
       "      <th>11</th>\n",
       "      <td>article28.txt</td>\n",
       "      <td>article32.txt</td>\n",
       "      <td>0.010929</td>\n",
       "    </tr>\n",
       "  </tbody>\n",
       "</table>\n",
       "</div>"
      ],
      "text/plain": [
       "         article1       article2  similarity\n",
       "0   article16.txt  article17.txt    0.717172\n",
       "1   article10.txt  article13.txt    0.196237\n",
       "2    article3.txt   article4.txt    0.084112\n",
       "3   article26.txt  article28.txt    0.082759\n",
       "4   article14.txt   article6.txt    0.068627\n",
       "5   article26.txt  article31.txt    0.059211\n",
       "6   article28.txt  article31.txt    0.055556\n",
       "7   article10.txt   article6.txt    0.053191\n",
       "8   article10.txt  article14.txt    0.018648\n",
       "9    article1.txt  article18.txt    0.018072\n",
       "10  article26.txt  article32.txt    0.012987\n",
       "11  article28.txt  article32.txt    0.010929"
      ]
     },
     "execution_count": 120,
     "metadata": {},
     "output_type": "execute_result"
    }
   ],
   "source": [
    "article_result['article1'] = article1s\n",
    "article_result['article2'] = article2s\n",
    "article_result['similarity'] = article_similarity\n",
    "article_result = article_result.sort_values(by=['similarity'], ascending=False)\n",
    "article_result = article_result.reset_index(drop=True)\n",
    "article_result"
   ]
  },
  {
   "cell_type": "code",
   "execution_count": 121,
   "metadata": {},
   "outputs": [],
   "source": [
    "import re\n",
    "\n",
    "a1 = article_result['article1'].apply(lambda x: re.sub(\"[^0-9]\", \"\", str(x)))\n",
    "a2 = article_result['article2'].apply(lambda x: re.sub(\"[^0-9]\", \"\", str(x)))\n",
    "x2 = 'a'+ a1 + '_a' + a2"
   ]
  },
  {
   "cell_type": "code",
   "execution_count": 142,
   "metadata": {
    "scrolled": false
   },
   "outputs": [
    {
     "name": "stderr",
     "output_type": "stream",
     "text": [
      "<ipython-input-138-ccc7c907616a>:5: MatplotlibDeprecationWarning: Case-insensitive properties were deprecated in 3.3 and support will be removed two minor releases later\n",
      "  plt.text(i,round(y[i]/2,3),round(y[i],3), ha = 'center', Bbox = dict(facecolor = 'white', alpha = .5))\n"
     ]
    },
    {
     "data": {
      "image/png": "[encoded data removed]",
      "text/plain": [
       "<Figure size 1080x360 with 1 Axes>"
      ]
     },
     "metadata": {
      "needs_background": "light"
     },
     "output_type": "display_data"
    }
   ],
   "source": [
    "fig = plt.figure(figsize = (15, 5))\n",
    " \n",
    "y2 = article_result['similarity']\n",
    "# creating the bar plot\n",
    "plt.bar(x2, y2, color ='lightblue',\n",
    "        width = 0.4)\n",
    "addlabels(x2, y2)\n",
    "plt.xlabel(\"Article Pairs\")\n",
    "plt.ylabel(\"Similarity\")\n",
    "plt.title(\"Similarity Index for Article Pairs\", fontsize=20)\n",
    "plt.show()"
   ]
  },
  {
   "cell_type": "markdown",
   "metadata": {},
   "source": [
    "**From the above plot, obviously, the article 16 and article 17 has the highest similarity of about 0.717%.**"
   ]
  },
  {
   "cell_type": "markdown",
   "metadata": {},
   "source": [
    "### 5.2 Check for most dissimilar"
   ]
  },
  {
   "cell_type": "code",
   "execution_count": 173,
   "metadata": {},
   "outputs": [
    {
     "data": {
      "text/html": [
       "<div>\n",
       "<style scoped>\n",
       "    .dataframe tbody tr th:only-of-type {\n",
       "        vertical-align: middle;\n",
       "    }\n",
       "\n",
       "    .dataframe tbody tr th {\n",
       "        vertical-align: top;\n",
       "    }\n",
       "\n",
       "    .dataframe thead th {\n",
       "        text-align: right;\n",
       "    }\n",
       "</style>\n",
       "<table border=\"1\" class=\"dataframe\">\n",
       "  <thead>\n",
       "    <tr style=\"text-align: right;\">\n",
       "      <th></th>\n",
       "      <th>article1</th>\n",
       "      <th>article2</th>\n",
       "      <th>similarity</th>\n",
       "    </tr>\n",
       "  </thead>\n",
       "  <tbody>\n",
       "    <tr>\n",
       "      <th>0</th>\n",
       "      <td>article2.txt</td>\n",
       "      <td>article34.txt</td>\n",
       "      <td>0.000000</td>\n",
       "    </tr>\n",
       "    <tr>\n",
       "      <th>1</th>\n",
       "      <td>article24.txt</td>\n",
       "      <td>article30.txt</td>\n",
       "      <td>0.000000</td>\n",
       "    </tr>\n",
       "    <tr>\n",
       "      <th>2</th>\n",
       "      <td>article24.txt</td>\n",
       "      <td>article31.txt</td>\n",
       "      <td>0.000000</td>\n",
       "    </tr>\n",
       "    <tr>\n",
       "      <th>3</th>\n",
       "      <td>article24.txt</td>\n",
       "      <td>article32.txt</td>\n",
       "      <td>0.000000</td>\n",
       "    </tr>\n",
       "    <tr>\n",
       "      <th>4</th>\n",
       "      <td>article24.txt</td>\n",
       "      <td>article33.txt</td>\n",
       "      <td>0.000000</td>\n",
       "    </tr>\n",
       "    <tr>\n",
       "      <th>...</th>\n",
       "      <td>...</td>\n",
       "      <td>...</td>\n",
       "      <td>...</td>\n",
       "    </tr>\n",
       "    <tr>\n",
       "      <th>775</th>\n",
       "      <td>article14.txt</td>\n",
       "      <td>article6.txt</td>\n",
       "      <td>0.068627</td>\n",
       "    </tr>\n",
       "    <tr>\n",
       "      <th>776</th>\n",
       "      <td>article26.txt</td>\n",
       "      <td>article28.txt</td>\n",
       "      <td>0.082759</td>\n",
       "    </tr>\n",
       "    <tr>\n",
       "      <th>777</th>\n",
       "      <td>article3.txt</td>\n",
       "      <td>article4.txt</td>\n",
       "      <td>0.084112</td>\n",
       "    </tr>\n",
       "    <tr>\n",
       "      <th>778</th>\n",
       "      <td>article10.txt</td>\n",
       "      <td>article13.txt</td>\n",
       "      <td>0.196237</td>\n",
       "    </tr>\n",
       "    <tr>\n",
       "      <th>779</th>\n",
       "      <td>article16.txt</td>\n",
       "      <td>article17.txt</td>\n",
       "      <td>0.717172</td>\n",
       "    </tr>\n",
       "  </tbody>\n",
       "</table>\n",
       "<p>780 rows × 3 columns</p>\n",
       "</div>"
      ],
      "text/plain": [
       "          article1       article2  similarity\n",
       "0     article2.txt  article34.txt    0.000000\n",
       "1    article24.txt  article30.txt    0.000000\n",
       "2    article24.txt  article31.txt    0.000000\n",
       "3    article24.txt  article32.txt    0.000000\n",
       "4    article24.txt  article33.txt    0.000000\n",
       "..             ...            ...         ...\n",
       "775  article14.txt   article6.txt    0.068627\n",
       "776  article26.txt  article28.txt    0.082759\n",
       "777   article3.txt   article4.txt    0.084112\n",
       "778  article10.txt  article13.txt    0.196237\n",
       "779  article16.txt  article17.txt    0.717172\n",
       "\n",
       "[780 rows x 3 columns]"
      ]
     },
     "execution_count": 173,
     "metadata": {},
     "output_type": "execute_result"
    }
   ],
   "source": [
    "article_result2 = pd.DataFrame()\n",
    "article1s = []\n",
    "article2s = []\n",
    "article_similarity = []\n",
    "\n",
    "articles_comparison = compare_files(dir+'articles/',ngram_size=4,threshold=-1)\n",
    "\n",
    "\n",
    "for k,v in articles_comparison.items():\n",
    "    art1, art2 = k.split(',')\n",
    "    similarity_index = v\n",
    "    article1s.append(str(art1))\n",
    "    article2s.append(str(art2))\n",
    "    article_similarity.append(similarity_index)\n",
    "    \n",
    "article_result2['article1'] = article1s\n",
    "article_result2['article2'] = article2s\n",
    "article_result2['similarity'] = article_similarity\n",
    "article_result2 = article_result2.sort_values(by=['similarity'], ascending=True)\n",
    "article_result2 = article_result2.reset_index(drop=True)\n",
    "article_result2"
   ]
  },
  {
   "cell_type": "code",
   "execution_count": 179,
   "metadata": {},
   "outputs": [],
   "source": [
    "nonzero_result = article_result2[article_result2['similarity'] != 0]"
   ]
  },
  {
   "cell_type": "code",
   "execution_count": 183,
   "metadata": {},
   "outputs": [
    {
     "data": {
      "text/html": [
       "<div>\n",
       "<style scoped>\n",
       "    .dataframe tbody tr th:only-of-type {\n",
       "        vertical-align: middle;\n",
       "    }\n",
       "\n",
       "    .dataframe tbody tr th {\n",
       "        vertical-align: top;\n",
       "    }\n",
       "\n",
       "    .dataframe thead th {\n",
       "        text-align: right;\n",
       "    }\n",
       "</style>\n",
       "<table border=\"1\" class=\"dataframe\">\n",
       "  <thead>\n",
       "    <tr style=\"text-align: right;\">\n",
       "      <th></th>\n",
       "      <th>article1</th>\n",
       "      <th>article2</th>\n",
       "      <th>similarity</th>\n",
       "    </tr>\n",
       "  </thead>\n",
       "  <tbody>\n",
       "    <tr>\n",
       "      <th>750</th>\n",
       "      <td>article10.txt</td>\n",
       "      <td>article2.txt</td>\n",
       "      <td>0.001280</td>\n",
       "    </tr>\n",
       "    <tr>\n",
       "      <th>751</th>\n",
       "      <td>article40.txt</td>\n",
       "      <td>article9.txt</td>\n",
       "      <td>0.002070</td>\n",
       "    </tr>\n",
       "    <tr>\n",
       "      <th>752</th>\n",
       "      <td>article1.txt</td>\n",
       "      <td>article11.txt</td>\n",
       "      <td>0.002208</td>\n",
       "    </tr>\n",
       "    <tr>\n",
       "      <th>753</th>\n",
       "      <td>article1.txt</td>\n",
       "      <td>article10.txt</td>\n",
       "      <td>0.002326</td>\n",
       "    </tr>\n",
       "    <tr>\n",
       "      <th>754</th>\n",
       "      <td>article10.txt</td>\n",
       "      <td>article18.txt</td>\n",
       "      <td>0.002375</td>\n",
       "    </tr>\n",
       "    <tr>\n",
       "      <th>755</th>\n",
       "      <td>article7.txt</td>\n",
       "      <td>article9.txt</td>\n",
       "      <td>0.002740</td>\n",
       "    </tr>\n",
       "    <tr>\n",
       "      <th>756</th>\n",
       "      <td>article6.txt</td>\n",
       "      <td>article8.txt</td>\n",
       "      <td>0.003396</td>\n",
       "    </tr>\n",
       "    <tr>\n",
       "      <th>757</th>\n",
       "      <td>article10.txt</td>\n",
       "      <td>article8.txt</td>\n",
       "      <td>0.004158</td>\n",
       "    </tr>\n",
       "    <tr>\n",
       "      <th>758</th>\n",
       "      <td>article11.txt</td>\n",
       "      <td>article13.txt</td>\n",
       "      <td>0.004292</td>\n",
       "    </tr>\n",
       "    <tr>\n",
       "      <th>759</th>\n",
       "      <td>article22.txt</td>\n",
       "      <td>article5.txt</td>\n",
       "      <td>0.004608</td>\n",
       "    </tr>\n",
       "    <tr>\n",
       "      <th>760</th>\n",
       "      <td>article22.txt</td>\n",
       "      <td>article37.txt</td>\n",
       "      <td>0.004695</td>\n",
       "    </tr>\n",
       "    <tr>\n",
       "      <th>761</th>\n",
       "      <td>article31.txt</td>\n",
       "      <td>article32.txt</td>\n",
       "      <td>0.005319</td>\n",
       "    </tr>\n",
       "    <tr>\n",
       "      <th>762</th>\n",
       "      <td>article21.txt</td>\n",
       "      <td>article37.txt</td>\n",
       "      <td>0.006993</td>\n",
       "    </tr>\n",
       "    <tr>\n",
       "      <th>763</th>\n",
       "      <td>article18.txt</td>\n",
       "      <td>article3.txt</td>\n",
       "      <td>0.007692</td>\n",
       "    </tr>\n",
       "    <tr>\n",
       "      <th>764</th>\n",
       "      <td>article21.txt</td>\n",
       "      <td>article30.txt</td>\n",
       "      <td>0.008547</td>\n",
       "    </tr>\n",
       "    <tr>\n",
       "      <th>765</th>\n",
       "      <td>article14.txt</td>\n",
       "      <td>article8.txt</td>\n",
       "      <td>0.008547</td>\n",
       "    </tr>\n",
       "    <tr>\n",
       "      <th>766</th>\n",
       "      <td>article10.txt</td>\n",
       "      <td>article11.txt</td>\n",
       "      <td>0.008559</td>\n",
       "    </tr>\n",
       "    <tr>\n",
       "      <th>767</th>\n",
       "      <td>article23.txt</td>\n",
       "      <td>article35.txt</td>\n",
       "      <td>0.009901</td>\n",
       "    </tr>\n",
       "    <tr>\n",
       "      <th>768</th>\n",
       "      <td>article28.txt</td>\n",
       "      <td>article32.txt</td>\n",
       "      <td>0.010929</td>\n",
       "    </tr>\n",
       "    <tr>\n",
       "      <th>769</th>\n",
       "      <td>article26.txt</td>\n",
       "      <td>article32.txt</td>\n",
       "      <td>0.012987</td>\n",
       "    </tr>\n",
       "    <tr>\n",
       "      <th>770</th>\n",
       "      <td>article1.txt</td>\n",
       "      <td>article18.txt</td>\n",
       "      <td>0.018072</td>\n",
       "    </tr>\n",
       "    <tr>\n",
       "      <th>771</th>\n",
       "      <td>article10.txt</td>\n",
       "      <td>article14.txt</td>\n",
       "      <td>0.018648</td>\n",
       "    </tr>\n",
       "    <tr>\n",
       "      <th>772</th>\n",
       "      <td>article10.txt</td>\n",
       "      <td>article6.txt</td>\n",
       "      <td>0.053191</td>\n",
       "    </tr>\n",
       "    <tr>\n",
       "      <th>773</th>\n",
       "      <td>article28.txt</td>\n",
       "      <td>article31.txt</td>\n",
       "      <td>0.055556</td>\n",
       "    </tr>\n",
       "    <tr>\n",
       "      <th>774</th>\n",
       "      <td>article26.txt</td>\n",
       "      <td>article31.txt</td>\n",
       "      <td>0.059211</td>\n",
       "    </tr>\n",
       "    <tr>\n",
       "      <th>775</th>\n",
       "      <td>article14.txt</td>\n",
       "      <td>article6.txt</td>\n",
       "      <td>0.068627</td>\n",
       "    </tr>\n",
       "    <tr>\n",
       "      <th>776</th>\n",
       "      <td>article26.txt</td>\n",
       "      <td>article28.txt</td>\n",
       "      <td>0.082759</td>\n",
       "    </tr>\n",
       "    <tr>\n",
       "      <th>777</th>\n",
       "      <td>article3.txt</td>\n",
       "      <td>article4.txt</td>\n",
       "      <td>0.084112</td>\n",
       "    </tr>\n",
       "    <tr>\n",
       "      <th>778</th>\n",
       "      <td>article10.txt</td>\n",
       "      <td>article13.txt</td>\n",
       "      <td>0.196237</td>\n",
       "    </tr>\n",
       "    <tr>\n",
       "      <th>779</th>\n",
       "      <td>article16.txt</td>\n",
       "      <td>article17.txt</td>\n",
       "      <td>0.717172</td>\n",
       "    </tr>\n",
       "  </tbody>\n",
       "</table>\n",
       "</div>"
      ],
      "text/plain": [
       "          article1       article2  similarity\n",
       "750  article10.txt   article2.txt    0.001280\n",
       "751  article40.txt   article9.txt    0.002070\n",
       "752   article1.txt  article11.txt    0.002208\n",
       "753   article1.txt  article10.txt    0.002326\n",
       "754  article10.txt  article18.txt    0.002375\n",
       "755   article7.txt   article9.txt    0.002740\n",
       "756   article6.txt   article8.txt    0.003396\n",
       "757  article10.txt   article8.txt    0.004158\n",
       "758  article11.txt  article13.txt    0.004292\n",
       "759  article22.txt   article5.txt    0.004608\n",
       "760  article22.txt  article37.txt    0.004695\n",
       "761  article31.txt  article32.txt    0.005319\n",
       "762  article21.txt  article37.txt    0.006993\n",
       "763  article18.txt   article3.txt    0.007692\n",
       "764  article21.txt  article30.txt    0.008547\n",
       "765  article14.txt   article8.txt    0.008547\n",
       "766  article10.txt  article11.txt    0.008559\n",
       "767  article23.txt  article35.txt    0.009901\n",
       "768  article28.txt  article32.txt    0.010929\n",
       "769  article26.txt  article32.txt    0.012987\n",
       "770   article1.txt  article18.txt    0.018072\n",
       "771  article10.txt  article14.txt    0.018648\n",
       "772  article10.txt   article6.txt    0.053191\n",
       "773  article28.txt  article31.txt    0.055556\n",
       "774  article26.txt  article31.txt    0.059211\n",
       "775  article14.txt   article6.txt    0.068627\n",
       "776  article26.txt  article28.txt    0.082759\n",
       "777   article3.txt   article4.txt    0.084112\n",
       "778  article10.txt  article13.txt    0.196237\n",
       "779  article16.txt  article17.txt    0.717172"
      ]
     },
     "execution_count": 183,
     "metadata": {},
     "output_type": "execute_result"
    }
   ],
   "source": [
    "nonzero_result"
   ]
  },
  {
   "cell_type": "code",
   "execution_count": 180,
   "metadata": {},
   "outputs": [],
   "source": [
    "a11 = nonzero_result['article1'].apply(lambda x: re.sub(\"[^0-9]\", \"\", str(x)))\n",
    "a22 = nonzero_result['article2'].apply(lambda x: re.sub(\"[^0-9]\", \"\", str(x)))\n",
    "x3 = 'a'+ a11 + '_a' + a22"
   ]
  },
  {
   "cell_type": "code",
   "execution_count": 189,
   "metadata": {
    "scrolled": false
   },
   "outputs": [
    {
     "name": "stderr",
     "output_type": "stream",
     "text": [
      "<ipython-input-138-ccc7c907616a>:5: MatplotlibDeprecationWarning: Case-insensitive properties were deprecated in 3.3 and support will be removed two minor releases later\n",
      "  plt.text(i,round(y[i]/2,3),round(y[i],3), ha = 'center', Bbox = dict(facecolor = 'white', alpha = .5))\n"
     ]
    },
    {
     "data": {
      "image/png": "[encoded data removed]",
      "text/plain": [
       "<Figure size 1080x360 with 1 Axes>"
      ]
     },
     "metadata": {
      "needs_background": "light"
     },
     "output_type": "display_data"
    }
   ],
   "source": [
    "fig = plt.figure(figsize = (15, 5))\n",
    "x3 = x3[0:10] \n",
    "y3 = list(nonzero_result['similarity'][0:10])\n",
    "# creating the bar plot\n",
    "plt.bar(x3, y3, color ='lightblue',\n",
    "        width = 0.4)\n",
    "addlabels(x3, y3)\n",
    "plt.xlabel(\"Article Pairs\")\n",
    "plt.ylabel(\"Similarity\")\n",
    "plt.title(\"Similarity Index for Article Pairs\", fontsize=20)\n",
    "plt.show()"
   ]
  },
  {
   "cell_type": "markdown",
   "metadata": {},
   "source": [
    "## 6. Final Report"
   ]
  },
  {
   "cell_type": "markdown",
   "metadata": {},
   "source": [
    "- **Which articles / books were similar and which ones were dissimilar?**\n",
    "    - For the books:\n",
    "        - The book 'Adeventures_of_Sherlock_Holmes' and 'Return_of_Sherlock_Holmes' has the highest similarity of about 0.057%.\n",
    "        - The book '3boat10' and 'Hound_of_the_Baskervilles' has the lowest similarity of about 0.02%.\n",
    "    - For the articles:\n",
    "        - The article 16 and article 17 has the highest similarity of about 0.717%.\n",
    "        - From the result table, there are 750 pairs of articles that have a similarity of zero. The first non-zero pair is article 10 and article 2, with a similarity of 0.001%.\n",
    "        \n",
    "- **A brief write-up explaining why and how you chose “n” for you analysis (for n-grams)**\n",
    "    - First, I write a function to clean up the files: convert the files to lowercase and then remove punctuation as well as stopwords. Then output the cleaned files to the new folders: \"*books_cleaned*\" and \"*articles_cleaned*\".\n",
    "    - Then, I plot the mean similarity across all the cleaned books and cleaned articles. And I also plot the similarity for each pair of book and article. The method I use to find proper n is to check the elbow of the plot.\n",
    "    - For books, for the overall mean similarity and for the similarity of each pair, the elbow is at around n = 3, thus I choose 3-grams for books.\n",
    "    - For articles, since there are many pairs, it is hard to check the elbow on the similarity curve for each pair. By looking at the overall mean similarity, I found that n = 4 would be a proper choice here.\n",
    "    \n",
    "- **Was the “n” identical or different for books vs. articles and why**\n",
    "    - The n is **3 for books** and **4 for articles**, which are different results.\n",
    "    - The reason for this difference is that the length of the documents are different. The books are longer than the articles.\n",
    "    - Also, the number of files are of great difference as well. There are only 4 books, but 40 articles for comparisons.\n",
    "    \n",
    "- **Visualize the selection of “n”**\n",
    "    - See plots in the section '***3.Choosing 'N'*** '.\n"
   ]
  }
 ],
 "metadata": {
  "kernelspec": {
   "display_name": "Python 3",
   "language": "python",
   "name": "python3"
  },
  "language_info": {
   "codemirror_mode": {
    "name": "ipython",
    "version": 3
   },
   "file_extension": ".py",
   "mimetype": "text/x-python",
   "name": "python",
   "nbconvert_exporter": "python",
   "pygments_lexer": "ipython3",
   "version": "3.8.5"
  }
 },
 "nbformat": 4,
 "nbformat_minor": 1
}
